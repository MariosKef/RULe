{
 "cells": [
  {
   "cell_type": "markdown",
   "metadata": {},
   "source": []
  },
  {
   "cell_type": "markdown",
   "metadata": {},
   "source": [
    "TEMP"
   ]
  },
  {
   "cell_type": "code",
   "execution_count": 2,
   "metadata": {},
   "outputs": [],
   "source": [
    "import pandas as pd\n",
    "import numpy as np"
   ]
  },
  {
   "cell_type": "code",
   "execution_count": 7,
   "metadata": {},
   "outputs": [],
   "source": [
    "A = pd.DataFrame({'a': [3]})"
   ]
  },
  {
   "cell_type": "code",
   "execution_count": 8,
   "metadata": {},
   "outputs": [
    {
     "data": {
      "text/html": [
       "<div>\n",
       "<style scoped>\n",
       "    .dataframe tbody tr th:only-of-type {\n",
       "        vertical-align: middle;\n",
       "    }\n",
       "\n",
       "    .dataframe tbody tr th {\n",
       "        vertical-align: top;\n",
       "    }\n",
       "\n",
       "    .dataframe thead th {\n",
       "        text-align: right;\n",
       "    }\n",
       "</style>\n",
       "<table border=\"1\" class=\"dataframe\">\n",
       "  <thead>\n",
       "    <tr style=\"text-align: right;\">\n",
       "      <th></th>\n",
       "      <th>a</th>\n",
       "    </tr>\n",
       "  </thead>\n",
       "  <tbody>\n",
       "    <tr>\n",
       "      <th>0</th>\n",
       "      <td>3</td>\n",
       "    </tr>\n",
       "  </tbody>\n",
       "</table>\n",
       "</div>"
      ],
      "text/plain": [
       "   a\n",
       "0  3"
      ]
     },
     "execution_count": 8,
     "metadata": {},
     "output_type": "execute_result"
    }
   ],
   "source": [
    "A"
   ]
  },
  {
   "cell_type": "code",
   "execution_count": 16,
   "metadata": {},
   "outputs": [
    {
     "data": {
      "text/plain": [
       "True"
      ]
     },
     "execution_count": 16,
     "metadata": {},
     "output_type": "execute_result"
    }
   ],
   "source": [
    "A['a'].iloc[0] == A['a'].to_numpy()[0]"
   ]
  },
  {
   "cell_type": "code",
   "execution_count": 17,
   "metadata": {},
   "outputs": [
    {
     "data": {
      "text/plain": [
       "array([3])"
      ]
     },
     "execution_count": 17,
     "metadata": {},
     "output_type": "execute_result"
    }
   ],
   "source": [
    "A['a'].to_numpy()"
   ]
  },
  {
   "cell_type": "code",
   "execution_count": 11,
   "metadata": {},
   "outputs": [
    {
     "data": {
      "text/plain": [
       "3.0"
      ]
     },
     "execution_count": 11,
     "metadata": {},
     "output_type": "execute_result"
    }
   ],
   "source": [
    "A['a'].mean()"
   ]
  },
  {
   "cell_type": "code",
   "execution_count": 19,
   "metadata": {},
   "outputs": [
    {
     "ename": "TypeError",
     "evalue": "float() argument must be a string or a number, not 'list'",
     "output_type": "error",
     "traceback": [
      "\u001b[0;31m---------------------------------------------------------------------------\u001b[0m",
      "\u001b[0;31mTypeError\u001b[0m                                 Traceback (most recent call last)",
      "\u001b[0;32m<ipython-input-19-7d70bc6e6b5e>\u001b[0m in \u001b[0;36m<module>\u001b[0;34m\u001b[0m\n\u001b[0;32m----> 1\u001b[0;31m \u001b[0mfloat\u001b[0m\u001b[0;34m(\u001b[0m\u001b[0;34m[\u001b[0m\u001b[0;36m3\u001b[0m\u001b[0;34m]\u001b[0m\u001b[0;34m)\u001b[0m\u001b[0;34m\u001b[0m\u001b[0;34m\u001b[0m\u001b[0m\n\u001b[0m",
      "\u001b[0;31mTypeError\u001b[0m: float() argument must be a string or a number, not 'list'"
     ]
    }
   ],
   "source": [
    "float([3])"
   ]
  },
  {
   "cell_type": "code",
   "execution_count": 33,
   "metadata": {},
   "outputs": [],
   "source": [
    "A = [[1, 0], [0.5, 0.5], [0, 1], [1.5, 0.75]] "
   ]
  },
  {
   "cell_type": "code",
   "execution_count": 37,
   "metadata": {},
   "outputs": [],
   "source": [
    "A = np.array(A)"
   ]
  },
  {
   "cell_type": "code",
   "execution_count": 38,
   "metadata": {},
   "outputs": [
    {
     "data": {
      "text/plain": [
       "array([[1.  , 0.  ],\n",
       "       [0.5 , 0.5 ],\n",
       "       [0.  , 1.  ],\n",
       "       [1.5 , 0.75]])"
      ]
     },
     "execution_count": 38,
     "metadata": {},
     "output_type": "execute_result"
    }
   ],
   "source": [
    "A"
   ]
  },
  {
   "cell_type": "code",
   "execution_count": 39,
   "metadata": {},
   "outputs": [
    {
     "data": {
      "text/plain": [
       "<matplotlib.collections.PathCollection at 0x7f44865374c0>"
      ]
     },
     "execution_count": 39,
     "metadata": {},
     "output_type": "execute_result"
    },
    {
     "data": {
      "image/png": "[encoded data removed]",
      "text/plain": [
       "<Figure size 432x288 with 1 Axes>"
      ]
     },
     "metadata": {},
     "output_type": "display_data"
    }
   ],
   "source": [
    "plt.scatter(A[:,0], A[:,1])"
   ]
  },
  {
   "cell_type": "code",
   "execution_count": 41,
   "metadata": {},
   "outputs": [
    {
     "data": {
      "text/plain": [
       "3.25"
      ]
     },
     "execution_count": 41,
     "metadata": {},
     "output_type": "execute_result"
    }
   ],
   "source": [
    "hv = pg.hypervolume(A)\n",
    "ref_point = [2,2]\n",
    "hv.compute(ref_point)"
   ]
  },
  {
   "cell_type": "code",
   "execution_count": 42,
   "metadata": {},
   "outputs": [],
   "source": [
    "pareto_index = pg.non_dominated_front_2d(A)"
   ]
  },
  {
   "cell_type": "code",
   "execution_count": 45,
   "metadata": {},
   "outputs": [
    {
     "data": {
      "text/plain": [
       "array([2, 1, 0], dtype=uint64)"
      ]
     },
     "execution_count": 45,
     "metadata": {},
     "output_type": "execute_result"
    }
   ],
   "source": [
    "pareto_index"
   ]
  },
  {
   "cell_type": "code",
   "execution_count": 50,
   "metadata": {},
   "outputs": [
    {
     "data": {
      "text/plain": [
       "array([[0. , 1. ],\n",
       "       [0.5, 0.5],\n",
       "       [1. , 0. ]])"
      ]
     },
     "execution_count": 50,
     "metadata": {},
     "output_type": "execute_result"
    }
   ],
   "source": [
    "A2 = A[pareto_index]\n",
    "A2"
   ]
  },
  {
   "cell_type": "code",
   "execution_count": 49,
   "metadata": {},
   "outputs": [
    {
     "data": {
      "text/plain": [
       "3.25"
      ]
     },
     "execution_count": 49,
     "metadata": {},
     "output_type": "execute_result"
    }
   ],
   "source": [
    "hv = pg.hypervolume(A2)\n",
    "ref_point = [2,2]\n",
    "hv.compute(ref_point)"
   ]
  },
  {
   "cell_type": "markdown",
   "metadata": {},
   "source": [
    "# Checking Results"
   ]
  },
  {
   "cell_type": "code",
   "execution_count": 72,
   "metadata": {},
   "outputs": [],
   "source": [
    "import pandas as pd\n",
    "import pygmo as pg\n",
    "import matplotlib.pyplot as plt\n",
    "import seaborn as sns\n",
    "sns.set_theme()\n",
    "import numpy as np\n",
    "from sklearn.preprocessing import MinMaxScaler\n"
   ]
  },
  {
   "cell_type": "code",
   "execution_count": 73,
   "metadata": {},
   "outputs": [],
   "source": [
    "configs = pd.read_csv('./Harmonic_Mean_Results/dataset_1/results_harmonic_mean_dataset_1_3_2')"
   ]
  },
  {
   "cell_type": "code",
   "execution_count": 74,
   "metadata": {},
   "outputs": [
    {
     "data": {
      "text/html": [
       "<div>\n",
       "<style scoped>\n",
       "    .dataframe tbody tr th:only-of-type {\n",
       "        vertical-align: middle;\n",
       "    }\n",
       "\n",
       "    .dataframe tbody tr th {\n",
       "        vertical-align: top;\n",
       "    }\n",
       "\n",
       "    .dataframe thead th {\n",
       "        text-align: right;\n",
       "    }\n",
       "</style>\n",
       "<table border=\"1\" class=\"dataframe\">\n",
       "  <thead>\n",
       "    <tr style=\"text-align: right;\">\n",
       "      <th></th>\n",
       "      <th>rmse_train</th>\n",
       "      <th>mae_train</th>\n",
       "      <th>r2_train</th>\n",
       "      <th>uncertainty_train</th>\n",
       "      <th>rmse_test</th>\n",
       "      <th>mae_test</th>\n",
       "      <th>r2_test</th>\n",
       "      <th>uncertainty_test</th>\n",
       "      <th>net_cfg</th>\n",
       "    </tr>\n",
       "  </thead>\n",
       "  <tbody>\n",
       "    <tr>\n",
       "      <th>0</th>\n",
       "      <td>4.451697e+01</td>\n",
       "      <td>3.376603e+01</td>\n",
       "      <td>0.452692</td>\n",
       "      <td>31.417395</td>\n",
       "      <td>4.498260e+01</td>\n",
       "      <td>3.582575e+01</td>\n",
       "      <td>0.220194</td>\n",
       "      <td>35.027546</td>\n",
       "      <td>{\"num_rec\": 1, \"max_time\": 21, \"neuron_0\": 52,...</td>\n",
       "    </tr>\n",
       "    <tr>\n",
       "      <th>1</th>\n",
       "      <td>5.027609e+18</td>\n",
       "      <td>5.129358e+16</td>\n",
       "      <td>-0.000104</td>\n",
       "      <td>0.478234</td>\n",
       "      <td>8.911778e+12</td>\n",
       "      <td>9.587084e+11</td>\n",
       "      <td>-0.011708</td>\n",
       "      <td>0.477456</td>\n",
       "      <td>{\"num_rec\": 1, \"max_time\": 31, \"neuron_0\": 24,...</td>\n",
       "    </tr>\n",
       "    <tr>\n",
       "      <th>2</th>\n",
       "      <td>6.339256e+01</td>\n",
       "      <td>5.502479e+01</td>\n",
       "      <td>-24.935559</td>\n",
       "      <td>17.698952</td>\n",
       "      <td>5.865065e+01</td>\n",
       "      <td>5.049803e+01</td>\n",
       "      <td>-34.636255</td>\n",
       "      <td>17.572720</td>\n",
       "      <td>{\"num_rec\": 2, \"max_time\": 49, \"neuron_0\": 45,...</td>\n",
       "    </tr>\n",
       "    <tr>\n",
       "      <th>3</th>\n",
       "      <td>7.057441e+13</td>\n",
       "      <td>9.082226e+11</td>\n",
       "      <td>-0.000166</td>\n",
       "      <td>0.345371</td>\n",
       "      <td>5.739125e+08</td>\n",
       "      <td>7.059962e+07</td>\n",
       "      <td>-0.015365</td>\n",
       "      <td>0.336246</td>\n",
       "      <td>{\"num_rec\": 1, \"max_time\": 42, \"neuron_0\": 75,...</td>\n",
       "    </tr>\n",
       "    <tr>\n",
       "      <th>4</th>\n",
       "      <td>1.933318e+01</td>\n",
       "      <td>1.696654e+01</td>\n",
       "      <td>0.409240</td>\n",
       "      <td>12.142982</td>\n",
       "      <td>1.678654e+01</td>\n",
       "      <td>1.524582e+01</td>\n",
       "      <td>0.359147</td>\n",
       "      <td>12.132472</td>\n",
       "      <td>{\"num_rec\": 1, \"max_time\": 27, \"neuron_0\": 95,...</td>\n",
       "    </tr>\n",
       "  </tbody>\n",
       "</table>\n",
       "</div>"
      ],
      "text/plain": [
       "     rmse_train     mae_train   r2_train  uncertainty_train     rmse_test  \\\n",
       "0  4.451697e+01  3.376603e+01   0.452692          31.417395  4.498260e+01   \n",
       "1  5.027609e+18  5.129358e+16  -0.000104           0.478234  8.911778e+12   \n",
       "2  6.339256e+01  5.502479e+01 -24.935559          17.698952  5.865065e+01   \n",
       "3  7.057441e+13  9.082226e+11  -0.000166           0.345371  5.739125e+08   \n",
       "4  1.933318e+01  1.696654e+01   0.409240          12.142982  1.678654e+01   \n",
       "\n",
       "       mae_test    r2_test  uncertainty_test  \\\n",
       "0  3.582575e+01   0.220194         35.027546   \n",
       "1  9.587084e+11  -0.011708          0.477456   \n",
       "2  5.049803e+01 -34.636255         17.572720   \n",
       "3  7.059962e+07  -0.015365          0.336246   \n",
       "4  1.524582e+01   0.359147         12.132472   \n",
       "\n",
       "                                             net_cfg  \n",
       "0  {\"num_rec\": 1, \"max_time\": 21, \"neuron_0\": 52,...  \n",
       "1  {\"num_rec\": 1, \"max_time\": 31, \"neuron_0\": 24,...  \n",
       "2  {\"num_rec\": 2, \"max_time\": 49, \"neuron_0\": 45,...  \n",
       "3  {\"num_rec\": 1, \"max_time\": 42, \"neuron_0\": 75,...  \n",
       "4  {\"num_rec\": 1, \"max_time\": 27, \"neuron_0\": 95,...  "
      ]
     },
     "execution_count": 74,
     "metadata": {},
     "output_type": "execute_result"
    }
   ],
   "source": [
    "configs.head()"
   ]
  },
  {
   "cell_type": "code",
   "execution_count": 75,
   "metadata": {},
   "outputs": [
    {
     "data": {
      "text/plain": [
       "(158, 9)"
      ]
     },
     "execution_count": 75,
     "metadata": {},
     "output_type": "execute_result"
    }
   ],
   "source": [
    "configs.shape"
   ]
  },
  {
   "cell_type": "code",
   "execution_count": 76,
   "metadata": {},
   "outputs": [],
   "source": [
    "scaler = MinMaxScaler()\n",
    "norm_cfgs = scaler.fit_transform(configs[['rmse_test', 'uncertainty_test']])"
   ]
  },
  {
   "cell_type": "code",
   "execution_count": 77,
   "metadata": {},
   "outputs": [],
   "source": [
    "hyper_volume =[]\n",
    "for i in range(norm_cfgs.shape[0]):\n",
    "    hv = pg.hypervolume(norm_cfgs[:i+1])\n",
    "    hyper_volume.append(hv.compute(ref_point=[1.1,1.1]))\n",
    "\n",
    "hyper_volume = np.array(hyper_volume)"
   ]
  },
  {
   "cell_type": "code",
   "execution_count": 78,
   "metadata": {},
   "outputs": [],
   "source": [
    "configs_bi = pd.read_csv('./GRU/Final_experiments/dataset_1/results_no_cv_HO_14_12_MO').iloc[:300]"
   ]
  },
  {
   "cell_type": "code",
   "execution_count": 79,
   "metadata": {},
   "outputs": [
    {
     "data": {
      "text/html": [
       "<div>\n",
       "<style scoped>\n",
       "    .dataframe tbody tr th:only-of-type {\n",
       "        vertical-align: middle;\n",
       "    }\n",
       "\n",
       "    .dataframe tbody tr th {\n",
       "        vertical-align: top;\n",
       "    }\n",
       "\n",
       "    .dataframe thead th {\n",
       "        text-align: right;\n",
       "    }\n",
       "</style>\n",
       "<table border=\"1\" class=\"dataframe\">\n",
       "  <thead>\n",
       "    <tr style=\"text-align: right;\">\n",
       "      <th></th>\n",
       "      <th>rmse_train</th>\n",
       "      <th>mae_train</th>\n",
       "      <th>r2_train</th>\n",
       "      <th>uncertainty_train</th>\n",
       "      <th>rmse_test</th>\n",
       "      <th>mae_test</th>\n",
       "      <th>r2_test</th>\n",
       "      <th>uncertainty_test</th>\n",
       "      <th>net_cfg</th>\n",
       "    </tr>\n",
       "  </thead>\n",
       "  <tbody>\n",
       "    <tr>\n",
       "      <th>0</th>\n",
       "      <td>1.181496e+02</td>\n",
       "      <td>9.547102e+01</td>\n",
       "      <td>-8.401320</td>\n",
       "      <td>0.539599</td>\n",
       "      <td>1.145878e+02</td>\n",
       "      <td>1.008391e+02</td>\n",
       "      <td>-14.996822</td>\n",
       "      <td>0.552505</td>\n",
       "      <td>{\"num_rec\": 1, \"max_time\": 23, \"neuron_0\": 22,...</td>\n",
       "    </tr>\n",
       "    <tr>\n",
       "      <th>1</th>\n",
       "      <td>3.871338e+01</td>\n",
       "      <td>2.933810e+01</td>\n",
       "      <td>0.356078</td>\n",
       "      <td>15.063834</td>\n",
       "      <td>3.744115e+01</td>\n",
       "      <td>3.006062e+01</td>\n",
       "      <td>0.127134</td>\n",
       "      <td>15.859310</td>\n",
       "      <td>{\"num_rec\": 1, \"max_time\": 31, \"neuron_0\": 24,...</td>\n",
       "    </tr>\n",
       "    <tr>\n",
       "      <th>2</th>\n",
       "      <td>4.784384e+01</td>\n",
       "      <td>3.659232e+01</td>\n",
       "      <td>0.118531</td>\n",
       "      <td>5.907845</td>\n",
       "      <td>4.567716e+01</td>\n",
       "      <td>3.656544e+01</td>\n",
       "      <td>-0.127551</td>\n",
       "      <td>5.832887</td>\n",
       "      <td>{\"num_rec\": 1, \"max_time\": 35, \"neuron_0\": 80,...</td>\n",
       "    </tr>\n",
       "    <tr>\n",
       "      <th>3</th>\n",
       "      <td>4.544020e+01</td>\n",
       "      <td>3.409842e+01</td>\n",
       "      <td>0.070034</td>\n",
       "      <td>8.355793</td>\n",
       "      <td>4.167088e+01</td>\n",
       "      <td>3.360285e+01</td>\n",
       "      <td>-0.126457</td>\n",
       "      <td>8.494248</td>\n",
       "      <td>{\"num_rec\": 1, \"max_time\": 27, \"neuron_0\": 95,...</td>\n",
       "    </tr>\n",
       "    <tr>\n",
       "      <th>4</th>\n",
       "      <td>8.396453e+10</td>\n",
       "      <td>1.083317e+09</td>\n",
       "      <td>-0.000166</td>\n",
       "      <td>0.407556</td>\n",
       "      <td>1.066565e+09</td>\n",
       "      <td>1.068397e+08</td>\n",
       "      <td>-0.010136</td>\n",
       "      <td>0.411235</td>\n",
       "      <td>{\"num_rec\": 1, \"max_time\": 21, \"neuron_0\": 52,...</td>\n",
       "    </tr>\n",
       "  </tbody>\n",
       "</table>\n",
       "</div>"
      ],
      "text/plain": [
       "     rmse_train     mae_train  r2_train  uncertainty_train     rmse_test  \\\n",
       "0  1.181496e+02  9.547102e+01 -8.401320           0.539599  1.145878e+02   \n",
       "1  3.871338e+01  2.933810e+01  0.356078          15.063834  3.744115e+01   \n",
       "2  4.784384e+01  3.659232e+01  0.118531           5.907845  4.567716e+01   \n",
       "3  4.544020e+01  3.409842e+01  0.070034           8.355793  4.167088e+01   \n",
       "4  8.396453e+10  1.083317e+09 -0.000166           0.407556  1.066565e+09   \n",
       "\n",
       "       mae_test    r2_test  uncertainty_test  \\\n",
       "0  1.008391e+02 -14.996822          0.552505   \n",
       "1  3.006062e+01   0.127134         15.859310   \n",
       "2  3.656544e+01  -0.127551          5.832887   \n",
       "3  3.360285e+01  -0.126457          8.494248   \n",
       "4  1.068397e+08  -0.010136          0.411235   \n",
       "\n",
       "                                             net_cfg  \n",
       "0  {\"num_rec\": 1, \"max_time\": 23, \"neuron_0\": 22,...  \n",
       "1  {\"num_rec\": 1, \"max_time\": 31, \"neuron_0\": 24,...  \n",
       "2  {\"num_rec\": 1, \"max_time\": 35, \"neuron_0\": 80,...  \n",
       "3  {\"num_rec\": 1, \"max_time\": 27, \"neuron_0\": 95,...  \n",
       "4  {\"num_rec\": 1, \"max_time\": 21, \"neuron_0\": 52,...  "
      ]
     },
     "execution_count": 79,
     "metadata": {},
     "output_type": "execute_result"
    }
   ],
   "source": [
    "configs_bi.head()"
   ]
  },
  {
   "cell_type": "code",
   "execution_count": 80,
   "metadata": {},
   "outputs": [
    {
     "data": {
      "text/plain": [
       "(300, 9)"
      ]
     },
     "execution_count": 80,
     "metadata": {},
     "output_type": "execute_result"
    }
   ],
   "source": [
    "configs_bi.shape"
   ]
  },
  {
   "cell_type": "code",
   "execution_count": 81,
   "metadata": {},
   "outputs": [],
   "source": [
    "scaler_bi = MinMaxScaler()\n",
    "norm_cfgs_bi = scaler_bi.fit_transform(configs_bi[['rmse_test', 'uncertainty_test']])"
   ]
  },
  {
   "cell_type": "code",
   "execution_count": 82,
   "metadata": {},
   "outputs": [],
   "source": [
    "hyper_volume_bi =[]\n",
    "for i in range(norm_cfgs_bi.shape[0]):\n",
    "    hv_bi = pg.hypervolume(norm_cfgs_bi[:i+1])\n",
    "    hyper_volume_bi.append(hv_bi.compute(ref_point=[1.1,1.1]))\n",
    "\n",
    "hyper_volume_bi = np.array(hyper_volume_bi)"
   ]
  },
  {
   "cell_type": "code",
   "execution_count": 83,
   "metadata": {},
   "outputs": [
    {
     "data": {
      "text/plain": [
       "<matplotlib.legend.Legend at 0x7f447f6c0b20>"
      ]
     },
     "execution_count": 83,
     "metadata": {},
     "output_type": "execute_result"
    },
    {
     "data": {
      "image/png": "[encoded data removed]",
      "text/plain": [
       "<Figure size 2160x1440 with 1 Axes>"
      ]
     },
     "metadata": {},
     "output_type": "display_data"
    }
   ],
   "source": [
    "plt.figure(figsize=(30,20))\n",
    "plt.plot(np.arange(hyper_volume.shape[0]), hyper_volume, label='Harmonic Mean', linewidth=6) \n",
    "plt.plot(np.arange(hyper_volume_bi.shape[0]), hyper_volume_bi, label='Bi-objective', linewidth=6)\n",
    "plt.xlabel('Function Evaluations', fontsize=60)\n",
    "plt.ylabel('Hypervolume Indicator', fontsize=60)\n",
    "plt.title('Evolution of the Hypervolume Indicator', fontsize=60)\n",
    "plt.xticks(fontsize=50)\n",
    "plt.yticks(fontsize=50)\n",
    "plt.legend(prop={'size': 50}) \n",
    "\n",
    "# plt.savefig('./paper_figures/cmapss_1_HM_vs_BI_HVI.pdf', format='pdf')\n",
    " \n",
    "\n"
   ]
  },
  {
   "cell_type": "code",
   "execution_count": 15,
   "metadata": {},
   "outputs": [
    {
     "data": {
      "text/plain": [
       "1.2099999999999995"
      ]
     },
     "execution_count": 15,
     "metadata": {},
     "output_type": "execute_result"
    }
   ],
   "source": [
    "hyper_volume_bi[-1]"
   ]
  },
  {
   "cell_type": "code",
   "execution_count": 84,
   "metadata": {},
   "outputs": [],
   "source": [
    "pareto_index = pg.non_dominated_front_2d(configs[['rmse_test', 'uncertainty_test']]) "
   ]
  },
  {
   "cell_type": "code",
   "execution_count": 85,
   "metadata": {},
   "outputs": [],
   "source": [
    "pareto_configs = configs.iloc[pareto_index] "
   ]
  },
  {
   "cell_type": "code",
   "execution_count": 86,
   "metadata": {},
   "outputs": [
    {
     "data": {
      "text/html": [
       "<div>\n",
       "<style scoped>\n",
       "    .dataframe tbody tr th:only-of-type {\n",
       "        vertical-align: middle;\n",
       "    }\n",
       "\n",
       "    .dataframe tbody tr th {\n",
       "        vertical-align: top;\n",
       "    }\n",
       "\n",
       "    .dataframe thead th {\n",
       "        text-align: right;\n",
       "    }\n",
       "</style>\n",
       "<table border=\"1\" class=\"dataframe\">\n",
       "  <thead>\n",
       "    <tr style=\"text-align: right;\">\n",
       "      <th></th>\n",
       "      <th>rmse_train</th>\n",
       "      <th>mae_train</th>\n",
       "      <th>r2_train</th>\n",
       "      <th>uncertainty_train</th>\n",
       "      <th>rmse_test</th>\n",
       "      <th>mae_test</th>\n",
       "      <th>r2_test</th>\n",
       "      <th>uncertainty_test</th>\n",
       "      <th>net_cfg</th>\n",
       "    </tr>\n",
       "  </thead>\n",
       "  <tbody>\n",
       "    <tr>\n",
       "      <th>74</th>\n",
       "      <td>10.132338</td>\n",
       "      <td>4.493613</td>\n",
       "      <td>8.859653e-01</td>\n",
       "      <td>21.648808</td>\n",
       "      <td>7.147626</td>\n",
       "      <td>3.005642</td>\n",
       "      <td>8.955063e-01</td>\n",
       "      <td>22.436848</td>\n",
       "      <td>{\"num_rec\": 2, \"max_time\": 34, \"neuron_0\": 99,...</td>\n",
       "    </tr>\n",
       "    <tr>\n",
       "      <th>9</th>\n",
       "      <td>11.638779</td>\n",
       "      <td>6.135546</td>\n",
       "      <td>8.747255e-01</td>\n",
       "      <td>13.744919</td>\n",
       "      <td>9.675685</td>\n",
       "      <td>5.200673</td>\n",
       "      <td>8.619642e-01</td>\n",
       "      <td>14.114239</td>\n",
       "      <td>{\"num_rec\": 1, \"max_time\": 33, \"neuron_0\": 37,...</td>\n",
       "    </tr>\n",
       "    <tr>\n",
       "      <th>7</th>\n",
       "      <td>14.750334</td>\n",
       "      <td>7.978250</td>\n",
       "      <td>4.696588e-01</td>\n",
       "      <td>5.606514</td>\n",
       "      <td>9.685168</td>\n",
       "      <td>5.307231</td>\n",
       "      <td>6.898526e-01</td>\n",
       "      <td>5.519232</td>\n",
       "      <td>{\"num_rec\": 1, \"max_time\": 49, \"neuron_0\": 71,...</td>\n",
       "    </tr>\n",
       "    <tr>\n",
       "      <th>117</th>\n",
       "      <td>33.098315</td>\n",
       "      <td>27.371759</td>\n",
       "      <td>-5.868046e+01</td>\n",
       "      <td>3.613033</td>\n",
       "      <td>28.559950</td>\n",
       "      <td>23.851663</td>\n",
       "      <td>-9.553102e+01</td>\n",
       "      <td>3.085927</td>\n",
       "      <td>{\"num_rec\": 3, \"max_time\": 46, \"neuron_0\": 78,...</td>\n",
       "    </tr>\n",
       "    <tr>\n",
       "      <th>136</th>\n",
       "      <td>35.513706</td>\n",
       "      <td>29.735137</td>\n",
       "      <td>-1.156902e+11</td>\n",
       "      <td>0.000050</td>\n",
       "      <td>30.604070</td>\n",
       "      <td>26.287727</td>\n",
       "      <td>-5.153182e+29</td>\n",
       "      <td>0.000013</td>\n",
       "      <td>{\"num_rec\": 3, \"max_time\": 37, \"neuron_0\": 92,...</td>\n",
       "    </tr>\n",
       "  </tbody>\n",
       "</table>\n",
       "</div>"
      ],
      "text/plain": [
       "     rmse_train  mae_train      r2_train  uncertainty_train  rmse_test  \\\n",
       "74    10.132338   4.493613  8.859653e-01          21.648808   7.147626   \n",
       "9     11.638779   6.135546  8.747255e-01          13.744919   9.675685   \n",
       "7     14.750334   7.978250  4.696588e-01           5.606514   9.685168   \n",
       "117   33.098315  27.371759 -5.868046e+01           3.613033  28.559950   \n",
       "136   35.513706  29.735137 -1.156902e+11           0.000050  30.604070   \n",
       "\n",
       "      mae_test       r2_test  uncertainty_test  \\\n",
       "74    3.005642  8.955063e-01         22.436848   \n",
       "9     5.200673  8.619642e-01         14.114239   \n",
       "7     5.307231  6.898526e-01          5.519232   \n",
       "117  23.851663 -9.553102e+01          3.085927   \n",
       "136  26.287727 -5.153182e+29          0.000013   \n",
       "\n",
       "                                               net_cfg  \n",
       "74   {\"num_rec\": 2, \"max_time\": 34, \"neuron_0\": 99,...  \n",
       "9    {\"num_rec\": 1, \"max_time\": 33, \"neuron_0\": 37,...  \n",
       "7    {\"num_rec\": 1, \"max_time\": 49, \"neuron_0\": 71,...  \n",
       "117  {\"num_rec\": 3, \"max_time\": 46, \"neuron_0\": 78,...  \n",
       "136  {\"num_rec\": 3, \"max_time\": 37, \"neuron_0\": 92,...  "
      ]
     },
     "execution_count": 86,
     "metadata": {},
     "output_type": "execute_result"
    }
   ],
   "source": [
    "pareto_configs"
   ]
  },
  {
   "cell_type": "code",
   "execution_count": 87,
   "metadata": {},
   "outputs": [
    {
     "data": {
      "text/plain": [
       "(array([-5.,  0.,  5., 10., 15., 20., 25.]),\n",
       " [Text(0, 0, ''),\n",
       "  Text(0, 0, ''),\n",
       "  Text(0, 0, ''),\n",
       "  Text(0, 0, ''),\n",
       "  Text(0, 0, ''),\n",
       "  Text(0, 0, ''),\n",
       "  Text(0, 0, '')])"
      ]
     },
     "execution_count": 87,
     "metadata": {},
     "output_type": "execute_result"
    },
    {
     "data": {
      "image/png": "[encoded data removed]",
      "text/plain": [
       "<Figure size 1080x720 with 1 Axes>"
      ]
     },
     "metadata": {},
     "output_type": "display_data"
    }
   ],
   "source": [
    "x = pareto_configs['rmse_test'].values\n",
    "y = pareto_configs['uncertainty_test'].values\n",
    "plt.figure(figsize=(15,10))\n",
    "plt.scatter(x, y, s=180)\n",
    "plt.xlabel('RMSE', fontsize=30)\n",
    "plt.ylabel('Uncertainty', fontsize=30)\n",
    "plt.title('Hyperparameter Configuration Pareto Front', fontsize=30)\n",
    "plt.xticks(fontsize=20)\n",
    "plt.yticks(fontsize=20)"
   ]
  },
  {
   "cell_type": "code",
   "execution_count": 88,
   "metadata": {},
   "outputs": [
    {
     "data": {
      "text/plain": [
       "'{\"num_rec\": 2, \"max_time\": 34, \"neuron_0\": 99, \"neuron_1\": 72, \"neuron_2\": 70, \"activation_rec_0\": \"tanh\", \"activation_rec_1\": \"sigmoid\", \"activation_rec_2\": \"sigmoid\", \"rec_dropout_norm_0\": 0.07650915, \"rec_dropout_norm_1\": 0.39150565000000004, \"rec_dropout_norm_2\": 0.00450995, \"recurrent_dropout_0\": 0.70650215, \"recurrent_dropout_1\": 0.3645059500000001, \"recurrent_dropout_2\": 0.8235008500000001, \"final_activation_0\": \"exp\", \"final_activation_1\": \"exp\", \"percentage\": 73, \"rul\": 117, \"rul_style\": \"nonlinear\", \"lr\": \"1e-3\", \"batch\": \"128\", \"num_den\": 1, \"neuron_den_0\": 18, \"neuron_den_1\": 91, \"neuron_den_2\": 66, \"activation_den_0\": \"sigmoid\", \"activation_den_1\": \"sigmoid\", \"activation_den_2\": \"sigmoid\", \"dropout_0\": 0.58050355, \"dropout_1\": 0.76050155, \"dropout_2\": 0.66150265}'"
      ]
     },
     "execution_count": 88,
     "metadata": {},
     "output_type": "execute_result"
    }
   ],
   "source": [
    "pareto_configs.loc[74].net_cfg"
   ]
  },
  {
   "cell_type": "code",
   "execution_count": 12,
   "metadata": {},
   "outputs": [],
   "source": [
    "HA_pareto = 2 / ( (1 / pareto_configs[\"rmse_test\"]) + (1 / pareto_configs[\"uncertainty_test\"]))"
   ]
  },
  {
   "cell_type": "code",
   "execution_count": 13,
   "metadata": {},
   "outputs": [
    {
     "data": {
      "text/plain": [
       "[<matplotlib.lines.Line2D at 0x7f4748656e80>]"
      ]
     },
     "execution_count": 13,
     "metadata": {},
     "output_type": "execute_result"
    },
    {
     "data": {
      "image/png": "[encoded data removed]",
      "text/plain": [
       "<Figure size 432x288 with 1 Axes>"
      ]
     },
     "metadata": {
      "needs_background": "light"
     },
     "output_type": "display_data"
    }
   ],
   "source": [
    "plt.plot(np.arange(HA_pareto.shape[0]), HA_pareto.to_numpy())"
   ]
  },
  {
   "cell_type": "code",
   "execution_count": 37,
   "metadata": {},
   "outputs": [],
   "source": [
    "HA = 2 / ( (1 / configs[\"rmse_test\"]) + (1 / configs[\"uncertainty_test\"]))"
   ]
  },
  {
   "cell_type": "code",
   "execution_count": 38,
   "metadata": {},
   "outputs": [
    {
     "data": {
      "text/plain": [
       "[<matplotlib.lines.Line2D at 0x7f0d0c7a54c0>]"
      ]
     },
     "execution_count": 38,
     "metadata": {},
     "output_type": "execute_result"
    },
    {
     "data": {
      "image/png": "[encoded data removed]",
      "text/plain": [
       "<Figure size 432x288 with 1 Axes>"
      ]
     },
     "metadata": {
      "needs_background": "light"
     },
     "output_type": "display_data"
    }
   ],
   "source": [
    "plt.plot(np.arange(HA.shape[0]), HA.to_numpy())"
   ]
  },
  {
   "cell_type": "code",
   "execution_count": null,
   "metadata": {},
   "outputs": [],
   "source": [
    "plt.plot"
   ]
  },
  {
   "cell_type": "code",
   "execution_count": 17,
   "metadata": {},
   "outputs": [
    {
     "data": {
      "text/plain": [
       "rmse_train                                                   10.132338\n",
       "mae_train                                                     4.493613\n",
       "r2_train                                                      0.885965\n",
       "uncertainty_train                                            21.648808\n",
       "rmse_test                                                     7.147626\n",
       "mae_test                                                      3.005642\n",
       "r2_test                                                       0.895506\n",
       "uncertainty_test                                             22.436848\n",
       "net_cfg              {\"num_rec\": 2, \"max_time\": 34, \"neuron_0\": 99,...\n",
       "Name: 74, dtype: object"
      ]
     },
     "execution_count": 17,
     "metadata": {},
     "output_type": "execute_result"
    }
   ],
   "source": [
    "id_min = configs.rmse_test.idxmin()\n",
    "configs.iloc[id_min]"
   ]
  },
  {
   "cell_type": "code",
   "execution_count": 21,
   "metadata": {},
   "outputs": [
    {
     "data": {
      "text/plain": [
       "1.2100000000000002"
      ]
     },
     "execution_count": 21,
     "metadata": {},
     "output_type": "execute_result"
    }
   ],
   "source": [
    "hyper_volume[-1]"
   ]
  },
  {
   "cell_type": "code",
   "execution_count": 6,
   "metadata": {},
   "outputs": [
    {
     "data": {
      "text/html": [
       "<div>\n",
       "<style scoped>\n",
       "    .dataframe tbody tr th:only-of-type {\n",
       "        vertical-align: middle;\n",
       "    }\n",
       "\n",
       "    .dataframe tbody tr th {\n",
       "        vertical-align: top;\n",
       "    }\n",
       "\n",
       "    .dataframe thead th {\n",
       "        text-align: right;\n",
       "    }\n",
       "</style>\n",
       "<table border=\"1\" class=\"dataframe\">\n",
       "  <thead>\n",
       "    <tr style=\"text-align: right;\">\n",
       "      <th></th>\n",
       "      <th>rmse_train</th>\n",
       "      <th>mae_train</th>\n",
       "      <th>r2_train</th>\n",
       "      <th>uncertainty_train</th>\n",
       "      <th>rmse_test</th>\n",
       "      <th>mae_test</th>\n",
       "      <th>r2_test</th>\n",
       "      <th>uncertainty_test</th>\n",
       "      <th>net_cfg</th>\n",
       "    </tr>\n",
       "  </thead>\n",
       "  <tbody>\n",
       "    <tr>\n",
       "      <th>78</th>\n",
       "      <td>5.009311e+00</td>\n",
       "      <td>2.454884e+00</td>\n",
       "      <td>0.972050</td>\n",
       "      <td>22.094923</td>\n",
       "      <td>5.661908</td>\n",
       "      <td>2.394769</td>\n",
       "      <td>0.942034</td>\n",
       "      <td>24.676069</td>\n",
       "      <td>{\"num_rec\": 2, \"max_time\": 42, \"neuron_0\": 99,...</td>\n",
       "    </tr>\n",
       "    <tr>\n",
       "      <th>81</th>\n",
       "      <td>6.998396e+00</td>\n",
       "      <td>4.518869e+00</td>\n",
       "      <td>0.955660</td>\n",
       "      <td>4.995081</td>\n",
       "      <td>6.330394</td>\n",
       "      <td>4.715301</td>\n",
       "      <td>0.939043</td>\n",
       "      <td>4.973808</td>\n",
       "      <td>{\"num_rec\": 2, \"max_time\": 45, \"neuron_0\": 76,...</td>\n",
       "    </tr>\n",
       "    <tr>\n",
       "      <th>27</th>\n",
       "      <td>7.861868e+00</td>\n",
       "      <td>3.709804e+00</td>\n",
       "      <td>0.946831</td>\n",
       "      <td>28.610714</td>\n",
       "      <td>6.496275</td>\n",
       "      <td>2.611791</td>\n",
       "      <td>0.940652</td>\n",
       "      <td>28.519232</td>\n",
       "      <td>{\"num_rec\": 2, \"max_time\": 43, \"neuron_0\": 71,...</td>\n",
       "    </tr>\n",
       "    <tr>\n",
       "      <th>241</th>\n",
       "      <td>6.201861e+00</td>\n",
       "      <td>4.008648e+00</td>\n",
       "      <td>0.959708</td>\n",
       "      <td>6.080430</td>\n",
       "      <td>7.059589</td>\n",
       "      <td>3.897983</td>\n",
       "      <td>0.904048</td>\n",
       "      <td>5.822139</td>\n",
       "      <td>{\"num_rec\": 2, \"max_time\": 33, \"neuron_0\": 99,...</td>\n",
       "    </tr>\n",
       "    <tr>\n",
       "      <th>102</th>\n",
       "      <td>7.496025e+00</td>\n",
       "      <td>5.642598e+00</td>\n",
       "      <td>0.927124</td>\n",
       "      <td>9.089071</td>\n",
       "      <td>7.223661</td>\n",
       "      <td>5.532975</td>\n",
       "      <td>0.877539</td>\n",
       "      <td>8.831891</td>\n",
       "      <td>{\"num_rec\": 1, \"max_time\": 39, \"neuron_0\": 95,...</td>\n",
       "    </tr>\n",
       "    <tr>\n",
       "      <th>103</th>\n",
       "      <td>6.011104e+00</td>\n",
       "      <td>3.128324e+00</td>\n",
       "      <td>0.969252</td>\n",
       "      <td>8.114623</td>\n",
       "      <td>7.500658</td>\n",
       "      <td>3.778154</td>\n",
       "      <td>0.926158</td>\n",
       "      <td>8.071624</td>\n",
       "      <td>{\"num_rec\": 2, \"max_time\": 29, \"neuron_0\": 48,...</td>\n",
       "    </tr>\n",
       "    <tr>\n",
       "      <th>67</th>\n",
       "      <td>1.298597e+01</td>\n",
       "      <td>6.759508e+00</td>\n",
       "      <td>0.832422</td>\n",
       "      <td>20.451260</td>\n",
       "      <td>7.666909</td>\n",
       "      <td>3.964125</td>\n",
       "      <td>0.902125</td>\n",
       "      <td>21.993313</td>\n",
       "      <td>{\"num_rec\": 2, \"max_time\": 45, \"neuron_0\": 79,...</td>\n",
       "    </tr>\n",
       "    <tr>\n",
       "      <th>164</th>\n",
       "      <td>8.577445e+00</td>\n",
       "      <td>7.397717e+00</td>\n",
       "      <td>0.887490</td>\n",
       "      <td>7.068459</td>\n",
       "      <td>7.743465</td>\n",
       "      <td>6.886144</td>\n",
       "      <td>0.845653</td>\n",
       "      <td>6.688490</td>\n",
       "      <td>{\"num_rec\": 2, \"max_time\": 38, \"neuron_0\": 81,...</td>\n",
       "    </tr>\n",
       "    <tr>\n",
       "      <th>184</th>\n",
       "      <td>9.782560e+00</td>\n",
       "      <td>6.847101e+00</td>\n",
       "      <td>0.874806</td>\n",
       "      <td>3.600089</td>\n",
       "      <td>8.143084</td>\n",
       "      <td>5.786937</td>\n",
       "      <td>0.858706</td>\n",
       "      <td>3.064928</td>\n",
       "      <td>{\"num_rec\": 1, \"max_time\": 48, \"neuron_0\": 35,...</td>\n",
       "    </tr>\n",
       "    <tr>\n",
       "      <th>169</th>\n",
       "      <td>1.759463e+03</td>\n",
       "      <td>9.204455e+01</td>\n",
       "      <td>-0.001240</td>\n",
       "      <td>10.293474</td>\n",
       "      <td>8.741982</td>\n",
       "      <td>4.260427</td>\n",
       "      <td>0.846518</td>\n",
       "      <td>9.723568</td>\n",
       "      <td>{\"num_rec\": 2, \"max_time\": 31, \"neuron_0\": 11,...</td>\n",
       "    </tr>\n",
       "    <tr>\n",
       "      <th>64</th>\n",
       "      <td>9.095644e+00</td>\n",
       "      <td>5.371315e+00</td>\n",
       "      <td>0.937346</td>\n",
       "      <td>7.877424</td>\n",
       "      <td>9.278099</td>\n",
       "      <td>5.880774</td>\n",
       "      <td>0.904077</td>\n",
       "      <td>8.177108</td>\n",
       "      <td>{\"num_rec\": 2, \"max_time\": 24, \"neuron_0\": 79,...</td>\n",
       "    </tr>\n",
       "    <tr>\n",
       "      <th>200</th>\n",
       "      <td>1.166304e+01</td>\n",
       "      <td>8.920249e+00</td>\n",
       "      <td>0.831059</td>\n",
       "      <td>12.967724</td>\n",
       "      <td>10.111116</td>\n",
       "      <td>7.589377</td>\n",
       "      <td>0.785627</td>\n",
       "      <td>12.594604</td>\n",
       "      <td>{\"num_rec\": 2, \"max_time\": 29, \"neuron_0\": 87,...</td>\n",
       "    </tr>\n",
       "    <tr>\n",
       "      <th>202</th>\n",
       "      <td>1.512092e+01</td>\n",
       "      <td>1.049263e+01</td>\n",
       "      <td>0.785908</td>\n",
       "      <td>12.784511</td>\n",
       "      <td>10.514988</td>\n",
       "      <td>7.894427</td>\n",
       "      <td>0.836440</td>\n",
       "      <td>12.921349</td>\n",
       "      <td>{\"num_rec\": 1, \"max_time\": 31, \"neuron_0\": 45,...</td>\n",
       "    </tr>\n",
       "    <tr>\n",
       "      <th>141</th>\n",
       "      <td>1.345845e+01</td>\n",
       "      <td>1.104520e+01</td>\n",
       "      <td>0.712511</td>\n",
       "      <td>10.587386</td>\n",
       "      <td>11.566145</td>\n",
       "      <td>9.567215</td>\n",
       "      <td>0.626874</td>\n",
       "      <td>10.065730</td>\n",
       "      <td>{\"num_rec\": 2, \"max_time\": 38, \"neuron_0\": 44,...</td>\n",
       "    </tr>\n",
       "    <tr>\n",
       "      <th>158</th>\n",
       "      <td>1.038068e+01</td>\n",
       "      <td>6.366940e+00</td>\n",
       "      <td>0.922240</td>\n",
       "      <td>8.915737</td>\n",
       "      <td>11.607587</td>\n",
       "      <td>6.897665</td>\n",
       "      <td>0.847884</td>\n",
       "      <td>9.010021</td>\n",
       "      <td>{\"num_rec\": 2, \"max_time\": 41, \"neuron_0\": 68,...</td>\n",
       "    </tr>\n",
       "    <tr>\n",
       "      <th>198</th>\n",
       "      <td>1.140794e+12</td>\n",
       "      <td>8.924586e+09</td>\n",
       "      <td>-0.000061</td>\n",
       "      <td>11.840514</td>\n",
       "      <td>11.837032</td>\n",
       "      <td>8.775191</td>\n",
       "      <td>0.745921</td>\n",
       "      <td>12.570160</td>\n",
       "      <td>{\"num_rec\": 2, \"max_time\": 30, \"neuron_0\": 30,...</td>\n",
       "    </tr>\n",
       "    <tr>\n",
       "      <th>70</th>\n",
       "      <td>1.489881e+01</td>\n",
       "      <td>1.030600e+01</td>\n",
       "      <td>0.587515</td>\n",
       "      <td>12.308298</td>\n",
       "      <td>13.034690</td>\n",
       "      <td>8.633835</td>\n",
       "      <td>0.427421</td>\n",
       "      <td>12.096513</td>\n",
       "      <td>{\"num_rec\": 2, \"max_time\": 34, \"neuron_0\": 28,...</td>\n",
       "    </tr>\n",
       "    <tr>\n",
       "      <th>119</th>\n",
       "      <td>1.528396e+01</td>\n",
       "      <td>1.114983e+01</td>\n",
       "      <td>0.761220</td>\n",
       "      <td>2.524521</td>\n",
       "      <td>13.243000</td>\n",
       "      <td>10.174714</td>\n",
       "      <td>0.727095</td>\n",
       "      <td>2.636784</td>\n",
       "      <td>{\"num_rec\": 1, \"max_time\": 34, \"neuron_0\": 36,...</td>\n",
       "    </tr>\n",
       "    <tr>\n",
       "      <th>10</th>\n",
       "      <td>1.154395e+01</td>\n",
       "      <td>7.582717e+00</td>\n",
       "      <td>0.891605</td>\n",
       "      <td>5.546328</td>\n",
       "      <td>13.263783</td>\n",
       "      <td>9.092444</td>\n",
       "      <td>0.799204</td>\n",
       "      <td>5.749987</td>\n",
       "      <td>{\"num_rec\": 2, \"max_time\": 27, \"neuron_0\": 66,...</td>\n",
       "    </tr>\n",
       "    <tr>\n",
       "      <th>46</th>\n",
       "      <td>1.509160e+01</td>\n",
       "      <td>1.299368e+01</td>\n",
       "      <td>0.662932</td>\n",
       "      <td>10.648479</td>\n",
       "      <td>13.985168</td>\n",
       "      <td>11.974297</td>\n",
       "      <td>0.623252</td>\n",
       "      <td>10.786559</td>\n",
       "      <td>{\"num_rec\": 2, \"max_time\": 28, \"neuron_0\": 68,...</td>\n",
       "    </tr>\n",
       "  </tbody>\n",
       "</table>\n",
       "</div>"
      ],
      "text/plain": [
       "       rmse_train     mae_train  r2_train  uncertainty_train  rmse_test  \\\n",
       "78   5.009311e+00  2.454884e+00  0.972050          22.094923   5.661908   \n",
       "81   6.998396e+00  4.518869e+00  0.955660           4.995081   6.330394   \n",
       "27   7.861868e+00  3.709804e+00  0.946831          28.610714   6.496275   \n",
       "241  6.201861e+00  4.008648e+00  0.959708           6.080430   7.059589   \n",
       "102  7.496025e+00  5.642598e+00  0.927124           9.089071   7.223661   \n",
       "103  6.011104e+00  3.128324e+00  0.969252           8.114623   7.500658   \n",
       "67   1.298597e+01  6.759508e+00  0.832422          20.451260   7.666909   \n",
       "164  8.577445e+00  7.397717e+00  0.887490           7.068459   7.743465   \n",
       "184  9.782560e+00  6.847101e+00  0.874806           3.600089   8.143084   \n",
       "169  1.759463e+03  9.204455e+01 -0.001240          10.293474   8.741982   \n",
       "64   9.095644e+00  5.371315e+00  0.937346           7.877424   9.278099   \n",
       "200  1.166304e+01  8.920249e+00  0.831059          12.967724  10.111116   \n",
       "202  1.512092e+01  1.049263e+01  0.785908          12.784511  10.514988   \n",
       "141  1.345845e+01  1.104520e+01  0.712511          10.587386  11.566145   \n",
       "158  1.038068e+01  6.366940e+00  0.922240           8.915737  11.607587   \n",
       "198  1.140794e+12  8.924586e+09 -0.000061          11.840514  11.837032   \n",
       "70   1.489881e+01  1.030600e+01  0.587515          12.308298  13.034690   \n",
       "119  1.528396e+01  1.114983e+01  0.761220           2.524521  13.243000   \n",
       "10   1.154395e+01  7.582717e+00  0.891605           5.546328  13.263783   \n",
       "46   1.509160e+01  1.299368e+01  0.662932          10.648479  13.985168   \n",
       "\n",
       "      mae_test   r2_test  uncertainty_test  \\\n",
       "78    2.394769  0.942034         24.676069   \n",
       "81    4.715301  0.939043          4.973808   \n",
       "27    2.611791  0.940652         28.519232   \n",
       "241   3.897983  0.904048          5.822139   \n",
       "102   5.532975  0.877539          8.831891   \n",
       "103   3.778154  0.926158          8.071624   \n",
       "67    3.964125  0.902125         21.993313   \n",
       "164   6.886144  0.845653          6.688490   \n",
       "184   5.786937  0.858706          3.064928   \n",
       "169   4.260427  0.846518          9.723568   \n",
       "64    5.880774  0.904077          8.177108   \n",
       "200   7.589377  0.785627         12.594604   \n",
       "202   7.894427  0.836440         12.921349   \n",
       "141   9.567215  0.626874         10.065730   \n",
       "158   6.897665  0.847884          9.010021   \n",
       "198   8.775191  0.745921         12.570160   \n",
       "70    8.633835  0.427421         12.096513   \n",
       "119  10.174714  0.727095          2.636784   \n",
       "10    9.092444  0.799204          5.749987   \n",
       "46   11.974297  0.623252         10.786559   \n",
       "\n",
       "                                               net_cfg  \n",
       "78   {\"num_rec\": 2, \"max_time\": 42, \"neuron_0\": 99,...  \n",
       "81   {\"num_rec\": 2, \"max_time\": 45, \"neuron_0\": 76,...  \n",
       "27   {\"num_rec\": 2, \"max_time\": 43, \"neuron_0\": 71,...  \n",
       "241  {\"num_rec\": 2, \"max_time\": 33, \"neuron_0\": 99,...  \n",
       "102  {\"num_rec\": 1, \"max_time\": 39, \"neuron_0\": 95,...  \n",
       "103  {\"num_rec\": 2, \"max_time\": 29, \"neuron_0\": 48,...  \n",
       "67   {\"num_rec\": 2, \"max_time\": 45, \"neuron_0\": 79,...  \n",
       "164  {\"num_rec\": 2, \"max_time\": 38, \"neuron_0\": 81,...  \n",
       "184  {\"num_rec\": 1, \"max_time\": 48, \"neuron_0\": 35,...  \n",
       "169  {\"num_rec\": 2, \"max_time\": 31, \"neuron_0\": 11,...  \n",
       "64   {\"num_rec\": 2, \"max_time\": 24, \"neuron_0\": 79,...  \n",
       "200  {\"num_rec\": 2, \"max_time\": 29, \"neuron_0\": 87,...  \n",
       "202  {\"num_rec\": 1, \"max_time\": 31, \"neuron_0\": 45,...  \n",
       "141  {\"num_rec\": 2, \"max_time\": 38, \"neuron_0\": 44,...  \n",
       "158  {\"num_rec\": 2, \"max_time\": 41, \"neuron_0\": 68,...  \n",
       "198  {\"num_rec\": 2, \"max_time\": 30, \"neuron_0\": 30,...  \n",
       "70   {\"num_rec\": 2, \"max_time\": 34, \"neuron_0\": 28,...  \n",
       "119  {\"num_rec\": 1, \"max_time\": 34, \"neuron_0\": 36,...  \n",
       "10   {\"num_rec\": 2, \"max_time\": 27, \"neuron_0\": 66,...  \n",
       "46   {\"num_rec\": 2, \"max_time\": 28, \"neuron_0\": 68,...  "
      ]
     },
     "execution_count": 6,
     "metadata": {},
     "output_type": "execute_result"
    }
   ],
   "source": [
    "configs.sort_values(['rmse_test']).iloc[:20]"
   ]
  },
  {
   "cell_type": "code",
   "execution_count": 8,
   "metadata": {},
   "outputs": [
    {
     "data": {
      "text/plain": [
       "'{\"num_rec\": 2, \"max_time\": 42, \"neuron_0\": 99, \"neuron_1\": 17, \"neuron_2\": 49, \"activation_rec_0\": \"sigmoid\", \"activation_rec_1\": \"tanh\", \"activation_rec_2\": \"tanh\", \"rec_dropout_norm_0\": 0.22050755000000002, \"rec_dropout_norm_1\": 0.27450695, \"rec_dropout_norm_2\": 0.42750525, \"recurrent_dropout_0\": 0.34650615000000007, \"recurrent_dropout_1\": 0.68850235, \"recurrent_dropout_2\": 0.78750125, \"final_activation_0\": \"softplus\", \"final_activation_1\": \"softplus\", \"percentage\": 67, \"rul\": 111, \"rul_style\": \"nonlinear\", \"lr\": \"1e-2\", \"batch\": \"32\", \"num_den\": 1, \"neuron_den_0\": 76, \"neuron_den_1\": 48, \"neuron_den_2\": 47, \"activation_den_0\": \"sigmoid\", \"activation_den_1\": \"tanh\", \"activation_den_2\": \"sigmoid\", \"dropout_0\": 0.17550805000000003, \"dropout_1\": 0.50850435, \"dropout_2\": 0.38250575000000003}'"
      ]
     },
     "execution_count": 8,
     "metadata": {},
     "output_type": "execute_result"
    }
   ],
   "source": [
    "configs.iloc[id_min].net_cfg"
   ]
  },
  {
   "cell_type": "markdown",
   "metadata": {},
   "source": [
    "# Training full model on the best HP"
   ]
  },
  {
   "cell_type": "code",
   "execution_count": 14,
   "metadata": {},
   "outputs": [],
   "source": [
    "import os\n",
    "os.environ[\"CUDA_DEVICE_ORDER\"]=\"PCI_BUS_ID\"\n",
    "os.environ[\"CUDA_VISIBLE_DEVICES\"]=\"-1\"  # uncomment in case running ONLY on CPU is required\n",
    "\n",
    "import tensorflow as tf\n",
    "tf.random.set_seed(42)\n",
    "from tensorflow.keras import backend as k\n",
    "from tensorflow.keras import callbacks\n",
    "from tensorflow.keras.callbacks import History\n",
    "from tensorflow import keras\n",
    "from tensorflow.keras.optimizers import Adam\n",
    "\n",
    "from activations import Activate\n",
    "from losses import CustomLoss\n",
    "from preprocessing import build_data\n",
    "\n",
    "import numpy as np\n",
    "import pandas as pd\n",
    "import math\n",
    "from datetime import datetime\n",
    "\n",
    "from sklearn import pipeline\n",
    "from sklearn.feature_selection import VarianceThreshold\n",
    "from sklearn.metrics import mean_squared_error, mean_absolute_error, r2_score\n",
    "from sklearn.model_selection import KFold\n",
    "from sklearn.preprocessing import MinMaxScaler\n",
    "\n",
    "import matplotlib.pyplot as plt\n",
    "import json"
   ]
  },
  {
   "cell_type": "code",
   "execution_count": 15,
   "metadata": {},
   "outputs": [],
   "source": [
    "net_cfg = {\"num_rec\": 2, \"max_time\": 42, \"neuron_0\": 99, \"neuron_1\": 17, \"neuron_2\": 49, \"activation_rec_0\": \"sigmoid\", \"activation_rec_1\": \"tanh\", \"activation_rec_2\": \"tanh\",\n",
    " \"rec_dropout_norm_0\": 0.22050755000000002, \"rec_dropout_norm_1\": 0.27450695, \"rec_dropout_norm_2\": 0.42750525, \"recurrent_dropout_0\": 0.34650615000000007, \n",
    " \"recurrent_dropout_1\": 0.68850235, \"recurrent_dropout_2\": 0.78750125, \"final_activation_0\": \"softplus\", \"final_activation_1\": \"softplus\", \"percentage\": 67, \"rul\": 111,\n",
    "  \"rul_style\": \"nonlinear\", \"lr\": \"1e-2\", \"batch\": \"32\", \"num_den\": 1, \"neuron_den_0\": 76, \"neuron_den_1\": 48, \"neuron_den_2\": 47, \"activation_den_0\": \"sigmoid\",\n",
    "   \"activation_den_1\": \"tanh\", \"activation_den_2\": \"sigmoid\", \"dropout_0\": 0.17550805000000003, \"dropout_1\": 0.50850435, \"dropout_2\": 0.38250575000000003}"
   ]
  },
  {
   "cell_type": "code",
   "execution_count": 16,
   "metadata": {},
   "outputs": [],
   "source": [
    "cfg = {'cv': 10, 'shuffle': True,\n",
    "'random_state': 21,\n",
    "'mask_value': -99,\n",
    "'reps': 30,\n",
    "'epochs': 20,\n",
    "'batches': 64}"
   ]
  },
  {
   "cell_type": "code",
   "execution_count": 17,
   "metadata": {},
   "outputs": [],
   "source": [
    "def weibull_mean(alpha, beta):\n",
    "    return alpha * math.gamma(1 + 1/beta)"
   ]
  },
  {
   "cell_type": "code",
   "execution_count": 18,
   "metadata": {},
   "outputs": [],
   "source": [
    "def network(train_X, train_y, net_cfg, cfg):\n",
    "    k.set_epsilon(1e-10)\n",
    "    strategy = tf.distribute.MirroredStrategy()\n",
    "\n",
    "    history = History()\n",
    "    nan_terminator = callbacks.TerminateOnNaN()\n",
    "    reduce_lr = callbacks.ReduceLROnPlateau(monitor='loss')\n",
    "    early_stopping = callbacks.EarlyStopping(monitor='loss', patience=5)\n",
    "    # checkpoint_filepath = './saved_models/cp-{epoch:04d}.ckpt'\n",
    "    # checkpoint = callbacks.ModelCheckpoint(filepath=checkpoint_filepath, monitor='loss', verbose=1)\n",
    "    # logdir=\"logs/test1\" #+ datetime.now().strftime(\"%Y%m%d-%H%M%S\")\n",
    "    # tensorboard = callbacks.TensorBoard(log_dir=logdir)\n",
    "\n",
    "    window = train_X.shape[1]\n",
    "    n_features = train_X.shape[2]\n",
    "\n",
    "    with strategy.scope():  # Create a MirroredStrategy.\n",
    "\n",
    "        inputs = keras.Input(shape=(window, n_features))\n",
    "        masking_layer = keras.layers.Masking(mask_value=cfg['mask_value'])(inputs)\n",
    "\n",
    "        # recurrent layers\n",
    "        last = 0\n",
    "        if net_cfg[\"num_rec\"] > 1:\n",
    "            for i in np.arange(net_cfg[\"num_rec\"] - 1):\n",
    "                masking_layer = keras.layers.GRU(\n",
    "                    net_cfg[\"neuron_\" + str(i)],\n",
    "                    activation=net_cfg[\"activation_rec_\" + str(i)],\n",
    "                    dropout=net_cfg[\"rec_dropout_norm_\" + str(i)],\n",
    "                    recurrent_dropout=net_cfg[\"recurrent_dropout_\" + str(i)],\n",
    "                    return_sequences=True,\n",
    "                )(masking_layer)\n",
    "            last = i + 1\n",
    "            \n",
    "        gru_last = keras.layers.GRU(\n",
    "        net_cfg[\"neuron_\" + str(last)],\n",
    "        activation=net_cfg[\"activation_rec_\" + str(last)],\n",
    "        dropout=net_cfg[\"rec_dropout_norm_\" + str(last)],\n",
    "        recurrent_dropout=net_cfg[\"recurrent_dropout_\" + str(last)],\n",
    "        return_sequences=False,\n",
    "        )(masking_layer)\n",
    "\n",
    "        # dense layers\n",
    "        last = 0\n",
    "        if net_cfg[\"num_den\"] > 1:\n",
    "            for i in np.arange(net_cfg[\"num_den\"] - 1):\n",
    "                gru_last = keras.layers.Dense(\n",
    "                net_cfg[\"neuron_den_\" + str(i)],\n",
    "                activation=net_cfg[\"activation_den_\" + str(i)],\n",
    "                )(gru_last)\n",
    "                gru_last = keras.layers.Dropout(\n",
    "                    rate=net_cfg[\"dropout_\" + str(i)],\n",
    "                )(gru_last)\n",
    "            last = i + 1\n",
    "     \n",
    "        dense_ = keras.layers.Dense(2)(gru_last)\n",
    "        custom_activation = Activate(net_cfg=net_cfg)\n",
    "        outputs = keras.layers.Activation(custom_activation)(dense_)\n",
    "\n",
    "        model = keras.Model(inputs=inputs, outputs=outputs, name=\"weibull_params\")\n",
    "\n",
    "        # rmse = tf.keras.metrics.RootMeanSquaredError()\n",
    "        model.compile(loss=CustomLoss(kind='continuous', reduce_loss=True), optimizer=Adam(lr=eval(net_cfg['lr']),\n",
    "                                                                                        clipvalue=0.5))\n",
    "    model.summary()  # uncomment for debugging\n",
    "\n",
    "    batch_size=eval(net_cfg['batch'])\n",
    "    model.fit(train_X, train_y,\n",
    "              epochs=cfg['epochs'],\n",
    "              batch_size=eval(net_cfg['batch']),\n",
    "              verbose=1,\n",
    "              callbacks=[nan_terminator, history, reduce_lr, early_stopping],  #, checkpoint, tensorboard], \n",
    "              workers=32)\n",
    "\n",
    "    return model, history\n",
    "\n"
   ]
  },
  {
   "cell_type": "code",
   "execution_count": 19,
   "metadata": {},
   "outputs": [],
   "source": [
    "def load_data():\n",
    "\n",
    "    np.random.seed(42)\n",
    "\n",
    "    id_col = 'unit_number'\n",
    "    time_col = 'time'\n",
    "    feature_cols = ['op_setting_1', 'op_setting_2', 'op_setting_3'] + ['sensor_measurement_{}'.format(x) for x in\n",
    "                                                                       range(1, 22)]\n",
    "    column_names = [id_col, time_col] + feature_cols\n",
    "\n",
    "    train_x_orig = pd.read_csv('./DataSets/CMAPSS/train_FD001.csv', header=None, sep='\\s+', decimal=\".\")\n",
    "    train_x_orig.columns = column_names\n",
    "\n",
    "    test_x_orig = pd.read_csv('./DataSets/CMAPSS/test_FD001.csv', header=None, sep='\\s+', decimal=\".\")\n",
    "    test_x_orig.columns = column_names\n",
    "\n",
    "    test_y_orig = pd.read_csv('./DataSets/CMAPSS/RUL_FD001.csv', header=None, names=['T'])\n",
    "\n",
    "    # Make engine numbers and days zero-indexed\n",
    "    train_x_orig.iloc[:, 0:2] -= 1\n",
    "    test_x_orig.iloc[:, 0:2] -= 1\n",
    "\n",
    "    # Pre-processing data\n",
    "    scaler = pipeline.Pipeline(steps=[\n",
    "        ('minmax', MinMaxScaler(feature_range=(-1, 1))),\n",
    "        ('remove_constant', VarianceThreshold())])\n",
    "\n",
    "    train = train_x_orig.copy()\n",
    "    train = np.concatenate([train[['unit_number', 'time']], scaler.fit_transform(train[feature_cols])], axis=1)\n",
    "\n",
    "    train_x, train_y = build_data(units=train[:, 0], time=train[:, 1], x=train[:, 2:], max_time=net_cfg['max_time'],\n",
    "                                    is_test=False, mask_value=cfg['mask_value'],\n",
    "                                    original_data=None, net_cfg = net_cfg, label=net_cfg['rul_style'])\n",
    "\n",
    "    test_or = test_x_orig.copy()\n",
    "    test_or = np.concatenate([test_or[['unit_number', 'time']], scaler.transform(test_or[feature_cols])], axis=1)\n",
    "\n",
    "\n",
    "    # Preparing data for the RNN (numpy arrays)\n",
    "    test_or, _ = build_data(units=test_or[:, 0], time=test_or[:, 1], x=test_or[:, 2:], max_time=net_cfg['max_time'],\n",
    "                                    is_test=True, mask_value=-99,\n",
    "                                    original_data=np.repeat(200, test_or.shape[0]), net_cfg = net_cfg, label=net_cfg['rul_style'])\n",
    "\n",
    "    \n",
    "\n",
    "    return train_x, train_y, test_or, test_y_orig, train_x_orig\n"
   ]
  },
  {
   "cell_type": "code",
   "execution_count": 20,
   "metadata": {},
   "outputs": [
    {
     "name": "stderr",
     "output_type": "stream",
     "text": [
      "100%|██████████| 100/100 [00:01<00:00, 68.20it/s]\n",
      "100%|██████████| 100/100 [00:00<00:00, 13111.30it/s]\n"
     ]
    }
   ],
   "source": [
    "train_x, train_y, test_x, test_y, train_x_orig = load_data()\n"
   ]
  },
  {
   "cell_type": "code",
   "execution_count": 21,
   "metadata": {},
   "outputs": [
    {
     "name": "stdout",
     "output_type": "stream",
     "text": [
      "train_x (20631, 42, 17) train_y (20631, 1) test_x (100, 42, 17) test_y (100, 1)\n"
     ]
    }
   ],
   "source": [
    "print('train_x', train_x.shape, 'train_y', train_y.shape, 'test_x', test_x.shape, 'test_y', test_y.shape)\n"
   ]
  },
  {
   "cell_type": "code",
   "execution_count": 32,
   "metadata": {},
   "outputs": [],
   "source": [
    "model = tf.keras.models.load_model('./Final_experiments/dataset_1/SO/saved_models_14_1/cp-0041.ckpt/', custom_objects={\"CustomLoss\": CustomLoss, \"Activate\": Activate})"
   ]
  },
  {
   "cell_type": "code",
   "execution_count": 33,
   "metadata": {},
   "outputs": [
    {
     "name": "stdout",
     "output_type": "stream",
     "text": [
      "Model: \"weibull_params\"\n",
      "_________________________________________________________________\n",
      "Layer (type)                 Output Shape              Param #   \n",
      "=================================================================\n",
      "input_1 (InputLayer)         [(None, 42, 17)]          0         \n",
      "_________________________________________________________________\n",
      "masking (Masking)            (None, 42, 17)            0         \n",
      "_________________________________________________________________\n",
      "gru (GRU)                    (None, 42, 99)            35046     \n",
      "_________________________________________________________________\n",
      "gru_1 (GRU)                  (None, 17)                6018      \n",
      "_________________________________________________________________\n",
      "dense (Dense)                (None, 2)                 36        \n",
      "_________________________________________________________________\n",
      "activation (Activation)      (None, 2)                 0         \n",
      "=================================================================\n",
      "Total params: 41,100\n",
      "Trainable params: 41,100\n",
      "Non-trainable params: 0\n",
      "_________________________________________________________________\n"
     ]
    }
   ],
   "source": [
    "model.summary()"
   ]
  },
  {
   "cell_type": "code",
   "execution_count": 34,
   "metadata": {},
   "outputs": [],
   "source": [
    "reps = 30\n",
    "test_predict_1 = []\n",
    "test_predict_2 = []\n",
    "for i in range(cfg[\"reps\"]):\n",
    "    tf.random.set_seed(i)\n",
    "    test_predict = model(test_x, training=True).numpy()\n",
    "    test_predict_1.append(\n",
    "        test_predict[:, 0].reshape(test_predict[:, 0].shape[0], 1)\n",
    "    )\n",
    "    test_predict_2.append(\n",
    "        test_predict[:, 1].reshape(test_predict[:, 1].shape[0], 1)\n",
    "    )\n",
    "\n",
    "test_predict_1_median = np.median(np.hstack(test_predict_1), axis=1)\n",
    "test_predict_2_median = np.median(np.hstack(test_predict_2), axis=1)\n",
    "test_predict_1_median = test_predict_1_median.reshape(\n",
    "    test_predict_1_median.shape[0], 1\n",
    ")\n",
    "test_predict_2_median = test_predict_2_median.reshape(\n",
    "    test_predict_2_median.shape[0], 1\n",
    ")\n",
    "test_predict_1_std = np.std(np.hstack(test_predict_1), axis=1)\n",
    "test_predict_2_std = np.std(np.hstack(test_predict_2), axis=1)\n",
    "test_predict_1_std = test_predict_1_std.reshape(test_predict_1_std.shape[0], 1)\n",
    "test_predict_2_std = test_predict_2_std.reshape(test_predict_2_std.shape[0], 1)\n",
    "\n",
    "test_predict = np.hstack(\n",
    "    [\n",
    "        test_predict_1_median,\n",
    "        test_predict_2_median,\n",
    "        test_predict_1_std,\n",
    "        test_predict_2_std,\n",
    "    ]\n",
    ")\n",
    "\n",
    "test_predict = np.resize(\n",
    "    test_predict, (test_x.shape[0], 4)\n",
    ")  # changed from 2 to 4\n",
    "test_result = np.concatenate((test_y, test_predict), axis=1)\n",
    "test_results_df = pd.DataFrame(\n",
    "    test_result,\n",
    "    columns=[\"T\", \"median_alpha\", \"median_beta\", \"std_alpha\", \"std_beta\"],\n",
    ")\n",
    "\n",
    "test_results_df[\"predicted_mu\"] = test_results_df[\n",
    "    [\"median_alpha\", \"median_beta\"]\n",
    "].apply(lambda row: weibull_mean(row[0], row[1]), axis=1)\n",
    "test_results_df[\"uncertainty\"] = np.mean(test_predict[:, 2:], axis=1)"
   ]
  },
  {
   "cell_type": "code",
   "execution_count": 35,
   "metadata": {},
   "outputs": [],
   "source": [
    "train_predict_1 = []\n",
    "train_predict_2 = []\n",
    "\n",
    "success = True\n",
    "\n",
    "for i in range(cfg[\"reps\"]):\n",
    "    tf.random.set_seed(i)\n",
    "    train_predict = model(train_x, training=True).numpy()\n",
    "    train_predict_1.append(\n",
    "        train_predict[:, 0].reshape(train_predict[:, 0].shape[0], 1)\n",
    "    )\n",
    "    train_predict_2.append(\n",
    "        train_predict[:, 1].reshape(train_predict[:, 1].shape[0], 1)\n",
    "    )\n",
    "\n",
    "train_predict_1_median = np.median(np.hstack(train_predict_1), axis=1)\n",
    "train_predict_2_median = np.median(np.hstack(train_predict_2), axis=1)\n",
    "train_predict_1_median = train_predict_1_median.reshape(\n",
    "    train_predict_1_median.shape[0], 1\n",
    ")\n",
    "train_predict_2_median = train_predict_2_median.reshape(\n",
    "    train_predict_2_median.shape[0], 1\n",
    ")\n",
    "train_predict_1_std = np.std(np.hstack(train_predict_1), axis=1)\n",
    "train_predict_2_std = np.std(np.hstack(train_predict_2), axis=1)\n",
    "train_predict_1_std = train_predict_1_std.reshape(\n",
    "    train_predict_1_std.shape[0], 1\n",
    ")\n",
    "train_predict_2_std = train_predict_2_std.reshape(\n",
    "    train_predict_2_std.shape[0], 1\n",
    ")\n",
    "\n",
    "train_predict = np.hstack(\n",
    "    [\n",
    "        train_predict_1_median,\n",
    "        train_predict_2_median,\n",
    "        train_predict_1_std,\n",
    "        train_predict_2_std,\n",
    "    ]\n",
    ")\n",
    "\n",
    "train_predict = np.resize(train_predict, (train_x.shape[0], 4))\n",
    "train_result = np.concatenate((train_y, train_predict), axis=1)\n",
    "train_results_df = pd.DataFrame(\n",
    "    train_result,\n",
    "    columns=[\"T\", \"median_alpha\", \"median_beta\", \"std_alpha\", \"std_beta\"],\n",
    ")\n",
    "train_results_df[\"unit_number\"] = train_x_orig[\"unit_number\"].to_numpy()\n",
    "train_results_df[\"time\"] = train_x_orig[\"time\"].to_numpy()\n",
    "\n",
    "train_results_df[\"predicted_mu\"] = train_results_df[\n",
    "    [\"median_alpha\", \"median_beta\"]\n",
    "].apply(lambda row: weibull_mean(row[0], row[1]), axis=1)\n",
    "train_results_df[\"uncertainty\"] = np.mean(train_predict[:, 2:], axis=1)"
   ]
  },
  {
   "cell_type": "code",
   "execution_count": 36,
   "metadata": {},
   "outputs": [],
   "source": [
    "columns = [\n",
    "        \"rmse_train\",\n",
    "        \"mae_train\",\n",
    "        \"r2_train\",\n",
    "        \"uncertainty_train\",\n",
    "        \"rmse_test\",\n",
    "        \"mae_test\",\n",
    "        \"r2_test\",\n",
    "        \"uncertainty_test\",\n",
    "        \"net_cfg\",\n",
    "    ]\n",
    "results = pd.DataFrame(columns=columns)\n",
    "\n",
    "rmse_train = []\n",
    "r2_train = []\n",
    "mae_train = []\n",
    "std_train = []\n",
    "\n",
    "rmse_test = []\n",
    "r2_test = []\n",
    "mae_test = []\n",
    "std_test = []"
   ]
  },
  {
   "cell_type": "code",
   "execution_count": 37,
   "metadata": {},
   "outputs": [],
   "source": [
    "# Performance evaluation\n",
    "# train:\n",
    "rmse_train.append(\n",
    "    np.sqrt(\n",
    "        mean_squared_error(\n",
    "            train_results_df[\"predicted_mu\"], train_results_df[\"T\"]\n",
    "        )\n",
    "    )\n",
    ")\n",
    "mae_train.append(\n",
    "    (\n",
    "        mean_absolute_error(\n",
    "            train_results_df[\"predicted_mu\"], train_results_df[\"T\"]\n",
    "        )\n",
    "    )\n",
    ")\n",
    "r2_train.append(\n",
    "    r2_score(train_results_df[\"predicted_mu\"], train_results_df[\"T\"])\n",
    ")\n",
    "std_train.append(train_results_df[\"uncertainty\"].mean())\n",
    "\n",
    "# test:\n",
    "rmse_test.append(\n",
    "    np.sqrt(\n",
    "        mean_squared_error(\n",
    "            test_results_df[\"predicted_mu\"], test_results_df[\"T\"]\n",
    "        )\n",
    "    )\n",
    ")\n",
    "mae_test.append(\n",
    "    (mean_absolute_error(test_results_df[\"predicted_mu\"], test_results_df[\"T\"]))\n",
    ")\n",
    "r2_test.append(r2_score(test_results_df[\"predicted_mu\"], test_results_df[\"T\"]))\n",
    "std_test.append(test_results_df[\"uncertainty\"].mean())\n",
    "\n",
    "# registering results\n",
    "results[\"rmse_train\"] = rmse_train\n",
    "results[\"mae_train\"] = mae_train\n",
    "results[\"r2_train\"] = r2_train\n",
    "results[\"uncertainty_train\"] = std_train\n",
    "results[\"rmse_test\"] = rmse_test\n",
    "results[\"mae_test\"] = mae_test\n",
    "results[\"r2_test\"] = r2_test\n",
    "results[\"uncertainty_test\"] = std_test\n",
    "results[\"net_cfg\"] = json.dumps(net_cfg)"
   ]
  },
  {
   "cell_type": "code",
   "execution_count": 38,
   "metadata": {},
   "outputs": [],
   "source": [
    "# Results=pd.concat([results187,results263, results101,results290,results267,results165])\n",
    "# Results.to_csv('Final_experiments/dataset_1/Results', index=False)"
   ]
  },
  {
   "cell_type": "code",
   "execution_count": 39,
   "metadata": {},
   "outputs": [],
   "source": [
    "Results = pd.read_csv('./Final_experiments/dataset_1/Results')"
   ]
  },
  {
   "cell_type": "code",
   "execution_count": 40,
   "metadata": {},
   "outputs": [
    {
     "data": {
      "text/html": [
       "<div>\n",
       "<style scoped>\n",
       "    .dataframe tbody tr th:only-of-type {\n",
       "        vertical-align: middle;\n",
       "    }\n",
       "\n",
       "    .dataframe tbody tr th {\n",
       "        vertical-align: top;\n",
       "    }\n",
       "\n",
       "    .dataframe thead th {\n",
       "        text-align: right;\n",
       "    }\n",
       "</style>\n",
       "<table border=\"1\" class=\"dataframe\">\n",
       "  <thead>\n",
       "    <tr style=\"text-align: right;\">\n",
       "      <th></th>\n",
       "      <th>rmse_train</th>\n",
       "      <th>mae_train</th>\n",
       "      <th>r2_train</th>\n",
       "      <th>uncertainty_train</th>\n",
       "      <th>rmse_test</th>\n",
       "      <th>mae_test</th>\n",
       "      <th>r2_test</th>\n",
       "      <th>uncertainty_test</th>\n",
       "      <th>net_cfg</th>\n",
       "    </tr>\n",
       "  </thead>\n",
       "  <tbody>\n",
       "    <tr>\n",
       "      <th>0</th>\n",
       "      <td>7.089823</td>\n",
       "      <td>4.827719</td>\n",
       "      <td>0.951141</td>\n",
       "      <td>6.086137</td>\n",
       "      <td>20.734014</td>\n",
       "      <td>16.911902</td>\n",
       "      <td>0.635591</td>\n",
       "      <td>6.347113</td>\n",
       "      <td>{\"num_rec\": 2, \"max_time\": 30, \"neuron_0\": 84,...</td>\n",
       "    </tr>\n",
       "    <tr>\n",
       "      <th>1</th>\n",
       "      <td>7.625503</td>\n",
       "      <td>4.684950</td>\n",
       "      <td>0.949609</td>\n",
       "      <td>6.977883</td>\n",
       "      <td>24.847671</td>\n",
       "      <td>20.523445</td>\n",
       "      <td>0.543277</td>\n",
       "      <td>8.512672</td>\n",
       "      <td>{\"num_rec\": 2, \"max_time\": 38, \"neuron_0\": 77,...</td>\n",
       "    </tr>\n",
       "    <tr>\n",
       "      <th>2</th>\n",
       "      <td>12.279424</td>\n",
       "      <td>7.842011</td>\n",
       "      <td>0.841450</td>\n",
       "      <td>4.916361</td>\n",
       "      <td>26.824422</td>\n",
       "      <td>21.366423</td>\n",
       "      <td>0.314110</td>\n",
       "      <td>5.687934</td>\n",
       "      <td>{\"num_rec\": 1, \"max_time\": 24, \"neuron_0\": 72,...</td>\n",
       "    </tr>\n",
       "    <tr>\n",
       "      <th>3</th>\n",
       "      <td>12.530787</td>\n",
       "      <td>7.848395</td>\n",
       "      <td>0.845866</td>\n",
       "      <td>4.207865</td>\n",
       "      <td>29.815131</td>\n",
       "      <td>23.915410</td>\n",
       "      <td>0.174613</td>\n",
       "      <td>4.906784</td>\n",
       "      <td>{\"num_rec\": 1, \"max_time\": 30, \"neuron_0\": 68,...</td>\n",
       "    </tr>\n",
       "    <tr>\n",
       "      <th>4</th>\n",
       "      <td>18.283595</td>\n",
       "      <td>13.910402</td>\n",
       "      <td>0.711747</td>\n",
       "      <td>4.371925</td>\n",
       "      <td>20.790263</td>\n",
       "      <td>15.474533</td>\n",
       "      <td>0.636539</td>\n",
       "      <td>4.883142</td>\n",
       "      <td>{\"num_rec\": 1, \"max_time\": 38, \"neuron_0\": 49,...</td>\n",
       "    </tr>\n",
       "    <tr>\n",
       "      <th>5</th>\n",
       "      <td>14.850582</td>\n",
       "      <td>10.765737</td>\n",
       "      <td>0.804497</td>\n",
       "      <td>6.377253</td>\n",
       "      <td>23.777367</td>\n",
       "      <td>18.717816</td>\n",
       "      <td>0.526813</td>\n",
       "      <td>7.591391</td>\n",
       "      <td>{\"num_rec\": 2, \"max_time\": 38, \"neuron_0\": 37,...</td>\n",
       "    </tr>\n",
       "    <tr>\n",
       "      <th>6</th>\n",
       "      <td>25.633999</td>\n",
       "      <td>20.809390</td>\n",
       "      <td>0.415993</td>\n",
       "      <td>7.046897</td>\n",
       "      <td>23.775796</td>\n",
       "      <td>18.297404</td>\n",
       "      <td>0.524526</td>\n",
       "      <td>7.838632</td>\n",
       "      <td>{\"num_rec\": 2, \"max_time\": 24, \"neuron_0\": 79,...</td>\n",
       "    </tr>\n",
       "  </tbody>\n",
       "</table>\n",
       "</div>"
      ],
      "text/plain": [
       "   rmse_train  mae_train  r2_train  uncertainty_train  rmse_test   mae_test  \\\n",
       "0    7.089823   4.827719  0.951141           6.086137  20.734014  16.911902   \n",
       "1    7.625503   4.684950  0.949609           6.977883  24.847671  20.523445   \n",
       "2   12.279424   7.842011  0.841450           4.916361  26.824422  21.366423   \n",
       "3   12.530787   7.848395  0.845866           4.207865  29.815131  23.915410   \n",
       "4   18.283595  13.910402  0.711747           4.371925  20.790263  15.474533   \n",
       "5   14.850582  10.765737  0.804497           6.377253  23.777367  18.717816   \n",
       "6   25.633999  20.809390  0.415993           7.046897  23.775796  18.297404   \n",
       "\n",
       "    r2_test  uncertainty_test  \\\n",
       "0  0.635591          6.347113   \n",
       "1  0.543277          8.512672   \n",
       "2  0.314110          5.687934   \n",
       "3  0.174613          4.906784   \n",
       "4  0.636539          4.883142   \n",
       "5  0.526813          7.591391   \n",
       "6  0.524526          7.838632   \n",
       "\n",
       "                                             net_cfg  \n",
       "0  {\"num_rec\": 2, \"max_time\": 30, \"neuron_0\": 84,...  \n",
       "1  {\"num_rec\": 2, \"max_time\": 38, \"neuron_0\": 77,...  \n",
       "2  {\"num_rec\": 1, \"max_time\": 24, \"neuron_0\": 72,...  \n",
       "3  {\"num_rec\": 1, \"max_time\": 30, \"neuron_0\": 68,...  \n",
       "4  {\"num_rec\": 1, \"max_time\": 38, \"neuron_0\": 49,...  \n",
       "5  {\"num_rec\": 2, \"max_time\": 38, \"neuron_0\": 37,...  \n",
       "6  {\"num_rec\": 2, \"max_time\": 24, \"neuron_0\": 79,...  "
      ]
     },
     "execution_count": 40,
     "metadata": {},
     "output_type": "execute_result"
    }
   ],
   "source": [
    "Results"
   ]
  },
  {
   "cell_type": "code",
   "execution_count": 41,
   "metadata": {},
   "outputs": [
    {
     "data": {
      "text/html": [
       "<div>\n",
       "<style scoped>\n",
       "    .dataframe tbody tr th:only-of-type {\n",
       "        vertical-align: middle;\n",
       "    }\n",
       "\n",
       "    .dataframe tbody tr th {\n",
       "        vertical-align: top;\n",
       "    }\n",
       "\n",
       "    .dataframe thead th {\n",
       "        text-align: right;\n",
       "    }\n",
       "</style>\n",
       "<table border=\"1\" class=\"dataframe\">\n",
       "  <thead>\n",
       "    <tr style=\"text-align: right;\">\n",
       "      <th></th>\n",
       "      <th>rmse_train</th>\n",
       "      <th>mae_train</th>\n",
       "      <th>r2_train</th>\n",
       "      <th>uncertainty_train</th>\n",
       "      <th>rmse_test</th>\n",
       "      <th>mae_test</th>\n",
       "      <th>r2_test</th>\n",
       "      <th>uncertainty_test</th>\n",
       "      <th>net_cfg</th>\n",
       "    </tr>\n",
       "  </thead>\n",
       "  <tbody>\n",
       "    <tr>\n",
       "      <th>0</th>\n",
       "      <td>4.812325</td>\n",
       "      <td>2.510569</td>\n",
       "      <td>0.972241</td>\n",
       "      <td>22.818911</td>\n",
       "      <td>24.431929</td>\n",
       "      <td>21.076623</td>\n",
       "      <td>0.356192</td>\n",
       "      <td>25.995838</td>\n",
       "      <td>{\"num_rec\": 2, \"max_time\": 42, \"neuron_0\": 99,...</td>\n",
       "    </tr>\n",
       "  </tbody>\n",
       "</table>\n",
       "</div>"
      ],
      "text/plain": [
       "   rmse_train  mae_train  r2_train  uncertainty_train  rmse_test   mae_test  \\\n",
       "0    4.812325   2.510569  0.972241          22.818911  24.431929  21.076623   \n",
       "\n",
       "    r2_test  uncertainty_test  \\\n",
       "0  0.356192         25.995838   \n",
       "\n",
       "                                             net_cfg  \n",
       "0  {\"num_rec\": 2, \"max_time\": 42, \"neuron_0\": 99,...  "
      ]
     },
     "execution_count": 41,
     "metadata": {},
     "output_type": "execute_result"
    }
   ],
   "source": [
    "results"
   ]
  },
  {
   "cell_type": "code",
   "execution_count": null,
   "metadata": {},
   "outputs": [],
   "source": []
  }
 ],
 "metadata": {
  "interpreter": {
   "hash": "4000a7a6ee44f5e9ad604830731b987d83f87e046c93fb1fca3b0779acf4e02a"
  },
  "kernelspec": {
   "display_name": "Python 3.8.8 64-bit ('rul_nn': virtualenv)",
   "name": "python3"
  },
  "language_info": {
   "codemirror_mode": {
    "name": "ipython",
    "version": 3
   },
   "file_extension": ".py",
   "mimetype": "text/x-python",
   "name": "python",
   "nbconvert_exporter": "python",
   "pygments_lexer": "ipython3",
   "version": "3.8.8"
  },
  "orig_nbformat": 4
 },
 "nbformat": 4,
 "nbformat_minor": 2
}
