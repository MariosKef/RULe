{
 "cells": [
  {
   "cell_type": "markdown",
   "metadata": {},
   "source": []
  },
  {
   "cell_type": "markdown",
   "metadata": {},
   "source": [
    "TEMP"
   ]
  },
  {
   "cell_type": "code",
   "execution_count": 2,
   "metadata": {},
   "outputs": [],
   "source": [
    "import pandas as pd\n",
    "import numpy as np"
   ]
  },
  {
   "cell_type": "code",
   "execution_count": 7,
   "metadata": {},
   "outputs": [],
   "source": [
    "A = pd.DataFrame({'a': [3]})"
   ]
  },
  {
   "cell_type": "code",
   "execution_count": 8,
   "metadata": {},
   "outputs": [
    {
     "data": {
      "text/html": [
       "<div>\n",
       "<style scoped>\n",
       "    .dataframe tbody tr th:only-of-type {\n",
       "        vertical-align: middle;\n",
       "    }\n",
       "\n",
       "    .dataframe tbody tr th {\n",
       "        vertical-align: top;\n",
       "    }\n",
       "\n",
       "    .dataframe thead th {\n",
       "        text-align: right;\n",
       "    }\n",
       "</style>\n",
       "<table border=\"1\" class=\"dataframe\">\n",
       "  <thead>\n",
       "    <tr style=\"text-align: right;\">\n",
       "      <th></th>\n",
       "      <th>a</th>\n",
       "    </tr>\n",
       "  </thead>\n",
       "  <tbody>\n",
       "    <tr>\n",
       "      <th>0</th>\n",
       "      <td>3</td>\n",
       "    </tr>\n",
       "  </tbody>\n",
       "</table>\n",
       "</div>"
      ],
      "text/plain": [
       "   a\n",
       "0  3"
      ]
     },
     "execution_count": 8,
     "metadata": {},
     "output_type": "execute_result"
    }
   ],
   "source": [
    "A"
   ]
  },
  {
   "cell_type": "code",
   "execution_count": 16,
   "metadata": {},
   "outputs": [
    {
     "data": {
      "text/plain": [
       "True"
      ]
     },
     "execution_count": 16,
     "metadata": {},
     "output_type": "execute_result"
    }
   ],
   "source": [
    "A['a'].iloc[0] == A['a'].to_numpy()[0]"
   ]
  },
  {
   "cell_type": "code",
   "execution_count": 17,
   "metadata": {},
   "outputs": [
    {
     "data": {
      "text/plain": [
       "array([3])"
      ]
     },
     "execution_count": 17,
     "metadata": {},
     "output_type": "execute_result"
    }
   ],
   "source": [
    "A['a'].to_numpy()"
   ]
  },
  {
   "cell_type": "code",
   "execution_count": 11,
   "metadata": {},
   "outputs": [
    {
     "data": {
      "text/plain": [
       "3.0"
      ]
     },
     "execution_count": 11,
     "metadata": {},
     "output_type": "execute_result"
    }
   ],
   "source": [
    "A['a'].mean()"
   ]
  },
  {
   "cell_type": "code",
   "execution_count": 19,
   "metadata": {},
   "outputs": [
    {
     "ename": "TypeError",
     "evalue": "float() argument must be a string or a number, not 'list'",
     "output_type": "error",
     "traceback": [
      "\u001b[0;31m---------------------------------------------------------------------------\u001b[0m",
      "\u001b[0;31mTypeError\u001b[0m                                 Traceback (most recent call last)",
      "\u001b[0;32m<ipython-input-19-7d70bc6e6b5e>\u001b[0m in \u001b[0;36m<module>\u001b[0;34m\u001b[0m\n\u001b[0;32m----> 1\u001b[0;31m \u001b[0mfloat\u001b[0m\u001b[0;34m(\u001b[0m\u001b[0;34m[\u001b[0m\u001b[0;36m3\u001b[0m\u001b[0;34m]\u001b[0m\u001b[0;34m)\u001b[0m\u001b[0;34m\u001b[0m\u001b[0;34m\u001b[0m\u001b[0m\n\u001b[0m",
      "\u001b[0;31mTypeError\u001b[0m: float() argument must be a string or a number, not 'list'"
     ]
    }
   ],
   "source": [
    "float([3])"
   ]
  },
  {
   "cell_type": "code",
   "execution_count": 33,
   "metadata": {},
   "outputs": [],
   "source": [
    "A = [[1, 0], [0.5, 0.5], [0, 1], [1.5, 0.75]] "
   ]
  },
  {
   "cell_type": "code",
   "execution_count": 37,
   "metadata": {},
   "outputs": [],
   "source": [
    "A = np.array(A)"
   ]
  },
  {
   "cell_type": "code",
   "execution_count": 38,
   "metadata": {},
   "outputs": [
    {
     "data": {
      "text/plain": [
       "array([[1.  , 0.  ],\n",
       "       [0.5 , 0.5 ],\n",
       "       [0.  , 1.  ],\n",
       "       [1.5 , 0.75]])"
      ]
     },
     "execution_count": 38,
     "metadata": {},
     "output_type": "execute_result"
    }
   ],
   "source": [
    "A"
   ]
  },
  {
   "cell_type": "code",
   "execution_count": 39,
   "metadata": {},
   "outputs": [
    {
     "data": {
      "text/plain": [
       "<matplotlib.collections.PathCollection at 0x7f44865374c0>"
      ]
     },
     "execution_count": 39,
     "metadata": {},
     "output_type": "execute_result"
    },
    {
     "data": {
      "image/png": "[encoded data removed]",
      "text/plain": [
       "<Figure size 432x288 with 1 Axes>"
      ]
     },
     "metadata": {},
     "output_type": "display_data"
    }
   ],
   "source": [
    "plt.scatter(A[:,0], A[:,1])"
   ]
  },
  {
   "cell_type": "code",
   "execution_count": 41,
   "metadata": {},
   "outputs": [
    {
     "data": {
      "text/plain": [
       "3.25"
      ]
     },
     "execution_count": 41,
     "metadata": {},
     "output_type": "execute_result"
    }
   ],
   "source": [
    "hv = pg.hypervolume(A)\n",
    "ref_point = [2,2]\n",
    "hv.compute(ref_point)"
   ]
  },
  {
   "cell_type": "code",
   "execution_count": 42,
   "metadata": {},
   "outputs": [],
   "source": [
    "pareto_index = pg.non_dominated_front_2d(A)"
   ]
  },
  {
   "cell_type": "code",
   "execution_count": 45,
   "metadata": {},
   "outputs": [
    {
     "data": {
      "text/plain": [
       "array([2, 1, 0], dtype=uint64)"
      ]
     },
     "execution_count": 45,
     "metadata": {},
     "output_type": "execute_result"
    }
   ],
   "source": [
    "pareto_index"
   ]
  },
  {
   "cell_type": "code",
   "execution_count": 50,
   "metadata": {},
   "outputs": [
    {
     "data": {
      "text/plain": [
       "array([[0. , 1. ],\n",
       "       [0.5, 0.5],\n",
       "       [1. , 0. ]])"
      ]
     },
     "execution_count": 50,
     "metadata": {},
     "output_type": "execute_result"
    }
   ],
   "source": [
    "A2 = A[pareto_index]\n",
    "A2"
   ]
  },
  {
   "cell_type": "code",
   "execution_count": 49,
   "metadata": {},
   "outputs": [
    {
     "data": {
      "text/plain": [
       "3.25"
      ]
     },
     "execution_count": 49,
     "metadata": {},
     "output_type": "execute_result"
    }
   ],
   "source": [
    "hv = pg.hypervolume(A2)\n",
    "ref_point = [2,2]\n",
    "hv.compute(ref_point)"
   ]
  },
  {
   "cell_type": "markdown",
   "metadata": {},
   "source": [
    "# Checking Results"
   ]
  },
  {
   "cell_type": "code",
   "execution_count": 2,
   "metadata": {},
   "outputs": [],
   "source": [
    "import pandas as pd\n",
    "import pygmo as pg\n",
    "import matplotlib.pyplot as plt\n",
    "import seaborn as sns\n",
    "sns.set_theme()\n",
    "import numpy as np\n",
    "from sklearn.preprocessing import MinMaxScaler\n"
   ]
  },
  {
   "cell_type": "code",
   "execution_count": 3,
   "metadata": {},
   "outputs": [],
   "source": [
    "configs = pd.read_csv('./Harmonic_Mean_Results/dataset_1/test/new_results_single_obj_dataset_1_2_3_retake')"
   ]
  },
  {
   "cell_type": "code",
   "execution_count": 4,
   "metadata": {},
   "outputs": [
    {
     "data": {
      "text/html": [
       "<div>\n",
       "<style scoped>\n",
       "    .dataframe tbody tr th:only-of-type {\n",
       "        vertical-align: middle;\n",
       "    }\n",
       "\n",
       "    .dataframe tbody tr th {\n",
       "        vertical-align: top;\n",
       "    }\n",
       "\n",
       "    .dataframe thead th {\n",
       "        text-align: right;\n",
       "    }\n",
       "</style>\n",
       "<table border=\"1\" class=\"dataframe\">\n",
       "  <thead>\n",
       "    <tr style=\"text-align: right;\">\n",
       "      <th></th>\n",
       "      <th>rmse_train</th>\n",
       "      <th>mae_train</th>\n",
       "      <th>r2_train</th>\n",
       "      <th>uncertainty_train</th>\n",
       "      <th>rmse_test</th>\n",
       "      <th>mae_test</th>\n",
       "      <th>r2_test</th>\n",
       "      <th>uncertainty_test</th>\n",
       "      <th>net_cfg</th>\n",
       "    </tr>\n",
       "  </thead>\n",
       "  <tbody>\n",
       "    <tr>\n",
       "      <th>0</th>\n",
       "      <td>879.161938</td>\n",
       "      <td>13.442956</td>\n",
       "      <td>0.001681</td>\n",
       "      <td>5.422470</td>\n",
       "      <td>7.948337</td>\n",
       "      <td>5.023463</td>\n",
       "      <td>0.916018</td>\n",
       "      <td>4.690724</td>\n",
       "      <td>{\"num_rec\": 1, \"max_time\": 35, \"neuron_0\": 80,...</td>\n",
       "    </tr>\n",
       "    <tr>\n",
       "      <th>1</th>\n",
       "      <td>42.074076</td>\n",
       "      <td>31.107173</td>\n",
       "      <td>0.492120</td>\n",
       "      <td>19.037790</td>\n",
       "      <td>41.146119</td>\n",
       "      <td>33.112050</td>\n",
       "      <td>0.355375</td>\n",
       "      <td>21.738432</td>\n",
       "      <td>{\"num_rec\": 1, \"max_time\": 29, \"neuron_0\": 38,...</td>\n",
       "    </tr>\n",
       "    <tr>\n",
       "      <th>2</th>\n",
       "      <td>68.201320</td>\n",
       "      <td>56.273127</td>\n",
       "      <td>-288.507299</td>\n",
       "      <td>9.504915</td>\n",
       "      <td>57.959525</td>\n",
       "      <td>47.907047</td>\n",
       "      <td>-228.412907</td>\n",
       "      <td>9.529593</td>\n",
       "      <td>{\"num_rec\": 1, \"max_time\": 42, \"neuron_0\": 75,...</td>\n",
       "    </tr>\n",
       "    <tr>\n",
       "      <th>3</th>\n",
       "      <td>11.682171</td>\n",
       "      <td>6.476700</td>\n",
       "      <td>0.825046</td>\n",
       "      <td>3.973408</td>\n",
       "      <td>9.586537</td>\n",
       "      <td>4.831271</td>\n",
       "      <td>0.814487</td>\n",
       "      <td>3.263510</td>\n",
       "      <td>{\"num_rec\": 1, \"max_time\": 33, \"neuron_0\": 41,...</td>\n",
       "    </tr>\n",
       "    <tr>\n",
       "      <th>4</th>\n",
       "      <td>44.851458</td>\n",
       "      <td>33.098419</td>\n",
       "      <td>-72.243914</td>\n",
       "      <td>6.609819</td>\n",
       "      <td>36.071873</td>\n",
       "      <td>25.327510</td>\n",
       "      <td>-59.447482</td>\n",
       "      <td>6.328387</td>\n",
       "      <td>{\"num_rec\": 1, \"max_time\": 23, \"neuron_0\": 22,...</td>\n",
       "    </tr>\n",
       "  </tbody>\n",
       "</table>\n",
       "</div>"
      ],
      "text/plain": [
       "   rmse_train  mae_train    r2_train  uncertainty_train  rmse_test   mae_test  \\\n",
       "0  879.161938  13.442956    0.001681           5.422470   7.948337   5.023463   \n",
       "1   42.074076  31.107173    0.492120          19.037790  41.146119  33.112050   \n",
       "2   68.201320  56.273127 -288.507299           9.504915  57.959525  47.907047   \n",
       "3   11.682171   6.476700    0.825046           3.973408   9.586537   4.831271   \n",
       "4   44.851458  33.098419  -72.243914           6.609819  36.071873  25.327510   \n",
       "\n",
       "      r2_test  uncertainty_test  \\\n",
       "0    0.916018          4.690724   \n",
       "1    0.355375         21.738432   \n",
       "2 -228.412907          9.529593   \n",
       "3    0.814487          3.263510   \n",
       "4  -59.447482          6.328387   \n",
       "\n",
       "                                             net_cfg  \n",
       "0  {\"num_rec\": 1, \"max_time\": 35, \"neuron_0\": 80,...  \n",
       "1  {\"num_rec\": 1, \"max_time\": 29, \"neuron_0\": 38,...  \n",
       "2  {\"num_rec\": 1, \"max_time\": 42, \"neuron_0\": 75,...  \n",
       "3  {\"num_rec\": 1, \"max_time\": 33, \"neuron_0\": 41,...  \n",
       "4  {\"num_rec\": 1, \"max_time\": 23, \"neuron_0\": 22,...  "
      ]
     },
     "execution_count": 4,
     "metadata": {},
     "output_type": "execute_result"
    }
   ],
   "source": [
    "configs.head()"
   ]
  },
  {
   "cell_type": "code",
   "execution_count": 5,
   "metadata": {},
   "outputs": [
    {
     "data": {
      "text/plain": [
       "(281, 9)"
      ]
     },
     "execution_count": 5,
     "metadata": {},
     "output_type": "execute_result"
    }
   ],
   "source": [
    "configs.shape"
   ]
  },
  {
   "cell_type": "code",
   "execution_count": 6,
   "metadata": {},
   "outputs": [],
   "source": [
    "scaler = MinMaxScaler()\n",
    "norm_cfgs = scaler.fit_transform(configs[['rmse_test', 'uncertainty_test']])"
   ]
  },
  {
   "cell_type": "code",
   "execution_count": 7,
   "metadata": {},
   "outputs": [],
   "source": [
    "hyper_volume =[]\n",
    "for i in range(norm_cfgs.shape[0]):\n",
    "    hv = pg.hypervolume(norm_cfgs[:i+1])\n",
    "    hyper_volume.append(hv.compute(ref_point=[1.1,1.1]))\n",
    "\n",
    "hyper_volume = np.array(hyper_volume)"
   ]
  },
  {
   "cell_type": "code",
   "execution_count": 8,
   "metadata": {},
   "outputs": [],
   "source": [
    "configs_bi = pd.read_csv('./GRU/Final_experiments/dataset_1/results_no_cv_HO_14_12_MO').iloc[:300]"
   ]
  },
  {
   "cell_type": "code",
   "execution_count": 9,
   "metadata": {},
   "outputs": [
    {
     "data": {
      "text/html": [
       "<div>\n",
       "<style scoped>\n",
       "    .dataframe tbody tr th:only-of-type {\n",
       "        vertical-align: middle;\n",
       "    }\n",
       "\n",
       "    .dataframe tbody tr th {\n",
       "        vertical-align: top;\n",
       "    }\n",
       "\n",
       "    .dataframe thead th {\n",
       "        text-align: right;\n",
       "    }\n",
       "</style>\n",
       "<table border=\"1\" class=\"dataframe\">\n",
       "  <thead>\n",
       "    <tr style=\"text-align: right;\">\n",
       "      <th></th>\n",
       "      <th>rmse_train</th>\n",
       "      <th>mae_train</th>\n",
       "      <th>r2_train</th>\n",
       "      <th>uncertainty_train</th>\n",
       "      <th>rmse_test</th>\n",
       "      <th>mae_test</th>\n",
       "      <th>r2_test</th>\n",
       "      <th>uncertainty_test</th>\n",
       "      <th>net_cfg</th>\n",
       "    </tr>\n",
       "  </thead>\n",
       "  <tbody>\n",
       "    <tr>\n",
       "      <th>0</th>\n",
       "      <td>1.181496e+02</td>\n",
       "      <td>9.547102e+01</td>\n",
       "      <td>-8.401320</td>\n",
       "      <td>0.539599</td>\n",
       "      <td>1.145878e+02</td>\n",
       "      <td>1.008391e+02</td>\n",
       "      <td>-14.996822</td>\n",
       "      <td>0.552505</td>\n",
       "      <td>{\"num_rec\": 1, \"max_time\": 23, \"neuron_0\": 22,...</td>\n",
       "    </tr>\n",
       "    <tr>\n",
       "      <th>1</th>\n",
       "      <td>3.871338e+01</td>\n",
       "      <td>2.933810e+01</td>\n",
       "      <td>0.356078</td>\n",
       "      <td>15.063834</td>\n",
       "      <td>3.744115e+01</td>\n",
       "      <td>3.006062e+01</td>\n",
       "      <td>0.127134</td>\n",
       "      <td>15.859310</td>\n",
       "      <td>{\"num_rec\": 1, \"max_time\": 31, \"neuron_0\": 24,...</td>\n",
       "    </tr>\n",
       "    <tr>\n",
       "      <th>2</th>\n",
       "      <td>4.784384e+01</td>\n",
       "      <td>3.659232e+01</td>\n",
       "      <td>0.118531</td>\n",
       "      <td>5.907845</td>\n",
       "      <td>4.567716e+01</td>\n",
       "      <td>3.656544e+01</td>\n",
       "      <td>-0.127551</td>\n",
       "      <td>5.832887</td>\n",
       "      <td>{\"num_rec\": 1, \"max_time\": 35, \"neuron_0\": 80,...</td>\n",
       "    </tr>\n",
       "    <tr>\n",
       "      <th>3</th>\n",
       "      <td>4.544020e+01</td>\n",
       "      <td>3.409842e+01</td>\n",
       "      <td>0.070034</td>\n",
       "      <td>8.355793</td>\n",
       "      <td>4.167088e+01</td>\n",
       "      <td>3.360285e+01</td>\n",
       "      <td>-0.126457</td>\n",
       "      <td>8.494248</td>\n",
       "      <td>{\"num_rec\": 1, \"max_time\": 27, \"neuron_0\": 95,...</td>\n",
       "    </tr>\n",
       "    <tr>\n",
       "      <th>4</th>\n",
       "      <td>8.396453e+10</td>\n",
       "      <td>1.083317e+09</td>\n",
       "      <td>-0.000166</td>\n",
       "      <td>0.407556</td>\n",
       "      <td>1.066565e+09</td>\n",
       "      <td>1.068397e+08</td>\n",
       "      <td>-0.010136</td>\n",
       "      <td>0.411235</td>\n",
       "      <td>{\"num_rec\": 1, \"max_time\": 21, \"neuron_0\": 52,...</td>\n",
       "    </tr>\n",
       "  </tbody>\n",
       "</table>\n",
       "</div>"
      ],
      "text/plain": [
       "     rmse_train     mae_train  r2_train  uncertainty_train     rmse_test  \\\n",
       "0  1.181496e+02  9.547102e+01 -8.401320           0.539599  1.145878e+02   \n",
       "1  3.871338e+01  2.933810e+01  0.356078          15.063834  3.744115e+01   \n",
       "2  4.784384e+01  3.659232e+01  0.118531           5.907845  4.567716e+01   \n",
       "3  4.544020e+01  3.409842e+01  0.070034           8.355793  4.167088e+01   \n",
       "4  8.396453e+10  1.083317e+09 -0.000166           0.407556  1.066565e+09   \n",
       "\n",
       "       mae_test    r2_test  uncertainty_test  \\\n",
       "0  1.008391e+02 -14.996822          0.552505   \n",
       "1  3.006062e+01   0.127134         15.859310   \n",
       "2  3.656544e+01  -0.127551          5.832887   \n",
       "3  3.360285e+01  -0.126457          8.494248   \n",
       "4  1.068397e+08  -0.010136          0.411235   \n",
       "\n",
       "                                             net_cfg  \n",
       "0  {\"num_rec\": 1, \"max_time\": 23, \"neuron_0\": 22,...  \n",
       "1  {\"num_rec\": 1, \"max_time\": 31, \"neuron_0\": 24,...  \n",
       "2  {\"num_rec\": 1, \"max_time\": 35, \"neuron_0\": 80,...  \n",
       "3  {\"num_rec\": 1, \"max_time\": 27, \"neuron_0\": 95,...  \n",
       "4  {\"num_rec\": 1, \"max_time\": 21, \"neuron_0\": 52,...  "
      ]
     },
     "execution_count": 9,
     "metadata": {},
     "output_type": "execute_result"
    }
   ],
   "source": [
    "configs_bi.head()"
   ]
  },
  {
   "cell_type": "code",
   "execution_count": 10,
   "metadata": {},
   "outputs": [
    {
     "data": {
      "text/plain": [
       "(300, 9)"
      ]
     },
     "execution_count": 10,
     "metadata": {},
     "output_type": "execute_result"
    }
   ],
   "source": [
    "configs_bi.shape"
   ]
  },
  {
   "cell_type": "code",
   "execution_count": 11,
   "metadata": {},
   "outputs": [],
   "source": [
    "scaler_bi = MinMaxScaler()\n",
    "norm_cfgs_bi = scaler_bi.fit_transform(configs_bi[['rmse_test', 'uncertainty_test']])"
   ]
  },
  {
   "cell_type": "code",
   "execution_count": 12,
   "metadata": {},
   "outputs": [],
   "source": [
    "hyper_volume_bi =[]\n",
    "for i in range(norm_cfgs_bi.shape[0]):\n",
    "    hv_bi = pg.hypervolume(norm_cfgs_bi[:i+1])\n",
    "    hyper_volume_bi.append(hv_bi.compute(ref_point=[1.1,1.1]))\n",
    "\n",
    "hyper_volume_bi = np.array(hyper_volume_bi)"
   ]
  },
  {
   "cell_type": "code",
   "execution_count": 13,
   "metadata": {},
   "outputs": [
    {
     "data": {
      "image/png": "[encoded data removed]",
      "text/plain": [
       "<Figure size 2160x1440 with 1 Axes>"
      ]
     },
     "metadata": {},
     "output_type": "display_data"
    }
   ],
   "source": [
    "plt.figure(figsize=(30,20))\n",
    "plt.plot(np.arange(hyper_volume.shape[0]), hyper_volume, label='Harmonic Mean', linewidth=6) \n",
    "plt.plot(np.arange(hyper_volume_bi.shape[0]), hyper_volume_bi, label='Bi-objective', linewidth=6)\n",
    "plt.xlabel('Function Evaluations', fontsize=60)\n",
    "plt.ylabel('Hypervolume Indicator', fontsize=60)\n",
    "plt.title('Evolution of the Hypervolume Indicator', fontsize=60)\n",
    "plt.xticks(fontsize=50)\n",
    "plt.yticks(fontsize=50)\n",
    "plt.legend(prop={'size': 50}) \n",
    "\n",
    "plt.savefig('./paper_figures/cmapss_1_HM_vs_BI_HVI_RETAKE.pdf', format='pdf')\n",
    " \n",
    "\n"
   ]
  },
  {
   "cell_type": "code",
   "execution_count": 14,
   "metadata": {},
   "outputs": [],
   "source": [
    "pareto_index = pg.non_dominated_front_2d(configs[['rmse_test', 'uncertainty_test']]) "
   ]
  },
  {
   "cell_type": "code",
   "execution_count": 15,
   "metadata": {},
   "outputs": [],
   "source": [
    "pareto_configs = configs.iloc[pareto_index] "
   ]
  },
  {
   "cell_type": "code",
   "execution_count": 16,
   "metadata": {},
   "outputs": [
    {
     "data": {
      "text/html": [
       "<div>\n",
       "<style scoped>\n",
       "    .dataframe tbody tr th:only-of-type {\n",
       "        vertical-align: middle;\n",
       "    }\n",
       "\n",
       "    .dataframe tbody tr th {\n",
       "        vertical-align: top;\n",
       "    }\n",
       "\n",
       "    .dataframe thead th {\n",
       "        text-align: right;\n",
       "    }\n",
       "</style>\n",
       "<table border=\"1\" class=\"dataframe\">\n",
       "  <thead>\n",
       "    <tr style=\"text-align: right;\">\n",
       "      <th></th>\n",
       "      <th>rmse_train</th>\n",
       "      <th>mae_train</th>\n",
       "      <th>r2_train</th>\n",
       "      <th>uncertainty_train</th>\n",
       "      <th>rmse_test</th>\n",
       "      <th>mae_test</th>\n",
       "      <th>r2_test</th>\n",
       "      <th>uncertainty_test</th>\n",
       "      <th>net_cfg</th>\n",
       "    </tr>\n",
       "  </thead>\n",
       "  <tbody>\n",
       "    <tr>\n",
       "      <th>154</th>\n",
       "      <td>4.254174</td>\n",
       "      <td>1.981173</td>\n",
       "      <td>0.982561</td>\n",
       "      <td>7.334978</td>\n",
       "      <td>4.211031</td>\n",
       "      <td>1.648317</td>\n",
       "      <td>0.970479</td>\n",
       "      <td>6.210769</td>\n",
       "      <td>{\"num_rec\": 1, \"max_time\": 41, \"neuron_0\": 52,...</td>\n",
       "    </tr>\n",
       "    <tr>\n",
       "      <th>29</th>\n",
       "      <td>8.556123</td>\n",
       "      <td>4.251152</td>\n",
       "      <td>0.924224</td>\n",
       "      <td>2.241270</td>\n",
       "      <td>6.091472</td>\n",
       "      <td>2.825808</td>\n",
       "      <td>0.935180</td>\n",
       "      <td>2.006770</td>\n",
       "      <td>{\"num_rec\": 1, \"max_time\": 20, \"neuron_0\": 53,...</td>\n",
       "    </tr>\n",
       "    <tr>\n",
       "      <th>272</th>\n",
       "      <td>9.928486</td>\n",
       "      <td>5.045118</td>\n",
       "      <td>0.933662</td>\n",
       "      <td>1.425256</td>\n",
       "      <td>12.848347</td>\n",
       "      <td>6.020891</td>\n",
       "      <td>0.830865</td>\n",
       "      <td>0.879652</td>\n",
       "      <td>{\"num_rec\": 3, \"max_time\": 20, \"neuron_0\": 26,...</td>\n",
       "    </tr>\n",
       "    <tr>\n",
       "      <th>266</th>\n",
       "      <td>33.385258</td>\n",
       "      <td>28.991886</td>\n",
       "      <td>-0.220581</td>\n",
       "      <td>0.241554</td>\n",
       "      <td>32.293761</td>\n",
       "      <td>29.244426</td>\n",
       "      <td>-0.579269</td>\n",
       "      <td>0.222816</td>\n",
       "      <td>{\"num_rec\": 2, \"max_time\": 29, \"neuron_0\": 40,...</td>\n",
       "    </tr>\n",
       "    <tr>\n",
       "      <th>180</th>\n",
       "      <td>36.902199</td>\n",
       "      <td>27.180999</td>\n",
       "      <td>0.541241</td>\n",
       "      <td>0.055319</td>\n",
       "      <td>32.544138</td>\n",
       "      <td>25.766195</td>\n",
       "      <td>0.488838</td>\n",
       "      <td>0.035376</td>\n",
       "      <td>{\"num_rec\": 2, \"max_time\": 47, \"neuron_0\": 48,...</td>\n",
       "    </tr>\n",
       "    <tr>\n",
       "      <th>169</th>\n",
       "      <td>38.311240</td>\n",
       "      <td>34.769412</td>\n",
       "      <td>-11.243588</td>\n",
       "      <td>0.002713</td>\n",
       "      <td>40.199357</td>\n",
       "      <td>37.356577</td>\n",
       "      <td>-20.197057</td>\n",
       "      <td>0.000005</td>\n",
       "      <td>{\"num_rec\": 1, \"max_time\": 48, \"neuron_0\": 35,...</td>\n",
       "    </tr>\n",
       "  </tbody>\n",
       "</table>\n",
       "</div>"
      ],
      "text/plain": [
       "     rmse_train  mae_train   r2_train  uncertainty_train  rmse_test  \\\n",
       "154    4.254174   1.981173   0.982561           7.334978   4.211031   \n",
       "29     8.556123   4.251152   0.924224           2.241270   6.091472   \n",
       "272    9.928486   5.045118   0.933662           1.425256  12.848347   \n",
       "266   33.385258  28.991886  -0.220581           0.241554  32.293761   \n",
       "180   36.902199  27.180999   0.541241           0.055319  32.544138   \n",
       "169   38.311240  34.769412 -11.243588           0.002713  40.199357   \n",
       "\n",
       "      mae_test    r2_test  uncertainty_test  \\\n",
       "154   1.648317   0.970479          6.210769   \n",
       "29    2.825808   0.935180          2.006770   \n",
       "272   6.020891   0.830865          0.879652   \n",
       "266  29.244426  -0.579269          0.222816   \n",
       "180  25.766195   0.488838          0.035376   \n",
       "169  37.356577 -20.197057          0.000005   \n",
       "\n",
       "                                               net_cfg  \n",
       "154  {\"num_rec\": 1, \"max_time\": 41, \"neuron_0\": 52,...  \n",
       "29   {\"num_rec\": 1, \"max_time\": 20, \"neuron_0\": 53,...  \n",
       "272  {\"num_rec\": 3, \"max_time\": 20, \"neuron_0\": 26,...  \n",
       "266  {\"num_rec\": 2, \"max_time\": 29, \"neuron_0\": 40,...  \n",
       "180  {\"num_rec\": 2, \"max_time\": 47, \"neuron_0\": 48,...  \n",
       "169  {\"num_rec\": 1, \"max_time\": 48, \"neuron_0\": 35,...  "
      ]
     },
     "execution_count": 16,
     "metadata": {},
     "output_type": "execute_result"
    }
   ],
   "source": [
    "pareto_configs"
   ]
  },
  {
   "cell_type": "code",
   "execution_count": 17,
   "metadata": {},
   "outputs": [
    {
     "data": {
      "text/plain": [
       "(array([-1.,  0.,  1.,  2.,  3.,  4.,  5.,  6.,  7.]),\n",
       " [Text(0, 0, ''),\n",
       "  Text(0, 0, ''),\n",
       "  Text(0, 0, ''),\n",
       "  Text(0, 0, ''),\n",
       "  Text(0, 0, ''),\n",
       "  Text(0, 0, ''),\n",
       "  Text(0, 0, ''),\n",
       "  Text(0, 0, ''),\n",
       "  Text(0, 0, '')])"
      ]
     },
     "execution_count": 17,
     "metadata": {},
     "output_type": "execute_result"
    },
    {
     "data": {
      "image/png": "[encoded data removed]",
      "text/plain": [
       "<Figure size 1080x720 with 1 Axes>"
      ]
     },
     "metadata": {},
     "output_type": "display_data"
    }
   ],
   "source": [
    "x = pareto_configs['rmse_test'].values\n",
    "y = pareto_configs['uncertainty_test'].values\n",
    "plt.figure(figsize=(15,10))\n",
    "plt.scatter(x, y, s=180)\n",
    "plt.xlabel('RMSE', fontsize=30)\n",
    "plt.ylabel('Uncertainty', fontsize=30)\n",
    "plt.title('Hyperparameter Configuration Pareto Front', fontsize=30)\n",
    "plt.xticks(fontsize=20)\n",
    "plt.yticks(fontsize=20)"
   ]
  },
  {
   "cell_type": "code",
   "execution_count": 18,
   "metadata": {},
   "outputs": [
    {
     "data": {
      "text/plain": [
       "'{\"num_rec\": 1, \"max_time\": 48, \"neuron_0\": 35, \"neuron_1\": 10, \"neuron_2\": 21, \"activation_rec_0\": \"sigmoid\", \"activation_rec_1\": \"sigmoid\", \"activation_rec_2\": \"sigmoid\", \"rec_dropout_norm_0\": 1e-05, \"rec_dropout_norm_1\": 0.0286427995300293, \"rec_dropout_norm_2\": 1e-05, \"recurrent_dropout_0\": 1e-05, \"recurrent_dropout_1\": 0.2166030523681641, \"recurrent_dropout_2\": 1e-05, \"final_activation_0\": \"softplus\", \"final_activation_1\": \"softplus\", \"percentage\": 58, \"rul\": 112, \"rul_style\": \"nonlinear\", \"lr\": \"2e-5\", \"batch\": \"32\", \"num_den\": 2, \"neuron_den_0\": 79, \"neuron_den_1\": 56, \"neuron_den_2\": 74, \"activation_den_0\": \"sigmoid\", \"activation_den_1\": \"sigmoid\", \"activation_den_2\": \"tanh\", \"dropout_0\": 1e-05, \"dropout_1\": 1e-05, \"dropout_2\": 1e-05}'"
      ]
     },
     "execution_count": 18,
     "metadata": {},
     "output_type": "execute_result"
    }
   ],
   "source": [
    "pareto_configs.loc[169].net_cfg"
   ]
  },
  {
   "cell_type": "markdown",
   "metadata": {},
   "source": [
    "# Training full model on the best HP"
   ]
  },
  {
   "cell_type": "code",
   "execution_count": 25,
   "metadata": {},
   "outputs": [],
   "source": [
    "import os\n",
    "os.environ[\"CUDA_DEVICE_ORDER\"]=\"PCI_BUS_ID\"\n",
    "os.environ[\"CUDA_VISIBLE_DEVICES\"]=\"-1\"  # uncomment in case running ONLY on CPU is required\n",
    "\n",
    "import tensorflow as tf\n",
    "tf.random.set_seed(42)\n",
    "from tensorflow.keras import backend as k\n",
    "from tensorflow.keras import callbacks\n",
    "from tensorflow.keras.callbacks import History\n",
    "from tensorflow import keras\n",
    "from tensorflow.keras.optimizers import Adam\n",
    "\n",
    "from activations import Activate\n",
    "from losses import CustomLoss\n",
    "from preprocessing import build_data\n",
    "\n",
    "import numpy as np\n",
    "import pandas as pd\n",
    "import math\n",
    "from datetime import datetime\n",
    "\n",
    "from sklearn import pipeline\n",
    "from sklearn.feature_selection import VarianceThreshold\n",
    "from sklearn.metrics import mean_squared_error, mean_absolute_error, r2_score\n",
    "from sklearn.model_selection import KFold\n",
    "from sklearn.preprocessing import MinMaxScaler\n",
    "\n",
    "import matplotlib.pyplot as plt\n",
    "import json"
   ]
  },
  {
   "cell_type": "code",
   "execution_count": 114,
   "metadata": {},
   "outputs": [],
   "source": [
    "net_cfg = {\"num_rec\": 1, \"max_time\": 41, \"neuron_0\": 52, \"neuron_1\": 27, \"neuron_2\": 29, \"activation_rec_0\": \"tanh\", \"activation_rec_1\": \"sigmoid\", \"activation_rec_2\": \"sigmoid\", \n",
    "\"rec_dropout_norm_0\": 0.260163359375, \"rec_dropout_norm_1\": 0.1704197886657715, \"rec_dropout_norm_2\": 0.5103088643848896, \"recurrent_dropout_0\": 0.34778238580640874, \"recurrent_dropout_1\": 0.5119542298076659, \n",
    "\"recurrent_dropout_2\": 0.3339851733695705, \"final_activation_0\": \"softplus\", \"final_activation_1\": \"softplus\", \"percentage\": 73, \"rul\": 122, \"rul_style\": \"nonlinear\", \"lr\": \"1e-3\", \"batch\": \"32\", \n",
    "\"num_den\": 2, \"neuron_den_0\": 58, \"neuron_den_1\": 81, \"neuron_den_2\": 57, \"activation_den_0\": \"sigmoid\", \"activation_den_1\": \"sigmoid\", \"activation_den_2\": \"sigmoid\", \"dropout_0\": 0.006354533996582031, \n",
    "\"dropout_1\": 0.8976313809482753, \"dropout_2\": 0.5626136120605468}\n",
    "\n",
    "net_cfg = {\"num_rec\": 1, \"max_time\": 20, \"neuron_0\": 53, \"neuron_1\": 63, \"neuron_2\": 72, \"activation_rec_0\": \"sigmoid\", \"activation_rec_1\": \"sigmoid\", \"activation_rec_2\": \"sigmoid\", \n",
    "\"rec_dropout_norm_0\": 0.08550905, \"rec_dropout_norm_1\": 0.8235008500000001, \"rec_dropout_norm_2\": 0.15750825000000002, \"recurrent_dropout_0\": 0.17550805000000003, \"recurrent_dropout_1\": 0.6345029500000001, \n",
    "\"recurrent_dropout_2\": 0.09450895000000001, \"final_activation_0\": \"exp\", \"final_activation_1\": \"softplus\", \"percentage\": 72, \"rul\": 121, \"rul_style\": \"nonlinear\", \"lr\": \"1e-3\", \"batch\": \"128\", \n",
    "\"num_den\": 1, \"neuron_den_0\": 35, \"neuron_den_1\": 94, \"neuron_den_2\": 17, \"activation_den_0\": \"tanh\", \"activation_den_1\": \"sigmoid\", \"activation_den_2\": \"sigmoid\", \"dropout_0\": 0.19350785, \n",
    "\"dropout_1\": 0.8595004500000001, \"dropout_2\": 0.10350885}\n",
    "\n",
    "net_cfg = {\"num_rec\": 3, \"max_time\": 20, \"neuron_0\": 26, \"neuron_1\": 10, \"neuron_2\": 93, \"activation_rec_0\": \"tanh\", \"activation_rec_1\": \"sigmoid\", \"activation_rec_2\": \"tanh\", \"rec_dropout_norm_0\": 1e-05, \n",
    "\"rec_dropout_norm_1\": 0.19534474365234378, \"rec_dropout_norm_2\": 1e-05, \"recurrent_dropout_0\": 0.11250875, \"recurrent_dropout_1\": 0.3548644555664063, \"recurrent_dropout_2\": 1e-05, \n",
    "\"final_activation_0\": \"exp\", \"final_activation_1\": \"softplus\", \"percentage\": 60, \"rul\": 128, \"rul_style\": \"nonlinear\", \"lr\": \"1e-2\", \"batch\": \"32\", \"num_den\": 1, \"neuron_den_0\": 91, \n",
    "\"neuron_den_1\": 88, \"neuron_den_2\": 79, \"activation_den_0\": \"sigmoid\", \"activation_den_1\": \"sigmoid\", \"activation_den_2\": \"sigmoid\", \"dropout_0\": 0.45000500000000004, \"dropout_1\": 1e-05, \n",
    "\"dropout_2\": 1e-05}\n",
    "\n",
    "net_cfg = {\"num_rec\": 2, \"max_time\": 29, \"neuron_0\": 40, \"neuron_1\": 39, \"neuron_2\": 37, \"activation_rec_0\": \"tanh\", \"activation_rec_1\": \"tanh\", \"activation_rec_2\": \"tanh\", \n",
    "\"rec_dropout_norm_0\": 0.0024331473835008184, \"rec_dropout_norm_1\": 0.4057974831491709, \"rec_dropout_norm_2\": 0.2893042709350586, \"recurrent_dropout_0\": 0.18100129806493234, \n",
    "\"recurrent_dropout_1\": 0.3172282643754781, \"recurrent_dropout_2\": 0.1315644531464577, \"final_activation_0\": \"softplus\", \"final_activation_1\": \"softplus\", \"percentage\": 58, \n",
    "\"rul\": 122, \"rul_style\": \"nonlinear\", \"lr\": \"1e-5\", \"batch\": \"64\", \"num_den\": 2, \"neuron_den_0\": 28, \"neuron_den_1\": 49, \"neuron_den_2\": 48, \"activation_den_0\": \"sigmoid\", \n",
    "\"activation_den_1\": \"sigmoid\", \"activation_den_2\": \"tanh\", \"dropout_0\": 0.03780496969049449, \"dropout_1\": 0.11423907745361328, \"dropout_2\": 0.2354716299291328}\n",
    "\n",
    "net_cfg = {\"num_rec\": 2, \"max_time\": 47, \"neuron_0\": 48, \"neuron_1\": 10, \"neuron_2\": 19, \"activation_rec_0\": \"tanh\", \"activation_rec_1\": \"sigmoid\", \"activation_rec_2\": \"sigmoid\", \n",
    "\"rec_dropout_norm_0\": 0.26678346977928397, \"rec_dropout_norm_1\": 0.31896830901269185, \"rec_dropout_norm_2\": 0.30260630511053377, \"recurrent_dropout_0\": 0.5758534649896873, \n",
    "\"recurrent_dropout_1\": 0.35485323774062405, \"recurrent_dropout_2\": 0.5511541758773184, \"final_activation_0\": \"softplus\", \"final_activation_1\": \"softplus\", \"percentage\": 66, \"rul\": 118, \n",
    "\"rul_style\": \"nonlinear\", \"lr\": \"1e-5\", \"batch\": \"64\", \"num_den\": 1, \"neuron_den_0\": 50, \"neuron_den_1\": 28, \"neuron_den_2\": 96, \"activation_den_0\": \"sigmoid\", \"activation_den_1\": \"sigmoid\", \n",
    "\"activation_den_2\": \"tanh\", \"dropout_0\": 0.22282277710259968, \"dropout_1\": 0.012892175368373246, \"dropout_2\": 0.04597623447055092}\n",
    "\n",
    "net_cfg = {\"num_rec\": 1, \"max_time\": 48, \"neuron_0\": 35, \"neuron_1\": 10, \"neuron_2\": 21, \"activation_rec_0\": \"sigmoid\", \"activation_rec_1\": \"sigmoid\", \"activation_rec_2\": \"sigmoid\", \n",
    "\"rec_dropout_norm_0\": 1e-05, \"rec_dropout_norm_1\": 0.0286427995300293, \"rec_dropout_norm_2\": 1e-05, \"recurrent_dropout_0\": 1e-05, \"recurrent_dropout_1\": 0.2166030523681641, \n",
    "\"recurrent_dropout_2\": 1e-05, \"final_activation_0\": \"softplus\", \"final_activation_1\": \"softplus\", \"percentage\": 58, \"rul\": 112, \"rul_style\": \"nonlinear\", \"lr\": \"2e-5\", \"batch\": \"32\", \n",
    "\"num_den\": 2, \"neuron_den_0\": 79, \"neuron_den_1\": 56, \"neuron_den_2\": 74, \"activation_den_0\": \"sigmoid\", \"activation_den_1\": \"sigmoid\", \"activation_den_2\": \"tanh\", \"dropout_0\": 1e-05, \n",
    "\"dropout_1\": 1e-05, \"dropout_2\": 1e-05}\n"
   ]
  },
  {
   "cell_type": "code",
   "execution_count": 115,
   "metadata": {},
   "outputs": [],
   "source": [
    "cfg = {'cv': 10, 'shuffle': True,\n",
    "'random_state': 21,\n",
    "'mask_value': -99,\n",
    "'reps': 30,\n",
    "'epochs': 20,\n",
    "'batches': 64}"
   ]
  },
  {
   "cell_type": "code",
   "execution_count": 116,
   "metadata": {},
   "outputs": [],
   "source": [
    "def weibull_mean(alpha, beta):\n",
    "    return alpha * math.gamma(1 + 1/beta)"
   ]
  },
  {
   "cell_type": "code",
   "execution_count": 117,
   "metadata": {},
   "outputs": [],
   "source": [
    "def network(train_X, train_y, net_cfg, cfg):\n",
    "    k.set_epsilon(1e-10)\n",
    "    strategy = tf.distribute.MirroredStrategy()\n",
    "\n",
    "    history = History()\n",
    "    nan_terminator = callbacks.TerminateOnNaN()\n",
    "    reduce_lr = callbacks.ReduceLROnPlateau(monitor='loss')\n",
    "    early_stopping = callbacks.EarlyStopping(monitor='loss', patience=5)\n",
    "    # checkpoint_filepath = './saved_models/cp-{epoch:04d}.ckpt'\n",
    "    # checkpoint = callbacks.ModelCheckpoint(filepath=checkpoint_filepath, monitor='loss', verbose=1)\n",
    "    # logdir=\"logs/test1\" #+ datetime.now().strftime(\"%Y%m%d-%H%M%S\")\n",
    "    # tensorboard = callbacks.TensorBoard(log_dir=logdir)\n",
    "\n",
    "    window = train_X.shape[1]\n",
    "    n_features = train_X.shape[2]\n",
    "\n",
    "    with strategy.scope():  # Create a MirroredStrategy.\n",
    "\n",
    "        inputs = keras.Input(shape=(window, n_features))\n",
    "        masking_layer = keras.layers.Masking(mask_value=cfg['mask_value'])(inputs)\n",
    "\n",
    "        # recurrent layers\n",
    "        last = 0\n",
    "        if net_cfg[\"num_rec\"] > 1:\n",
    "            for i in np.arange(net_cfg[\"num_rec\"] - 1):\n",
    "                masking_layer = keras.layers.GRU(\n",
    "                    net_cfg[\"neuron_\" + str(i)],\n",
    "                    activation=net_cfg[\"activation_rec_\" + str(i)],\n",
    "                    dropout=net_cfg[\"rec_dropout_norm_\" + str(i)],\n",
    "                    recurrent_dropout=net_cfg[\"recurrent_dropout_\" + str(i)],\n",
    "                    return_sequences=True,\n",
    "                )(masking_layer)\n",
    "            last = i + 1\n",
    "            \n",
    "        gru_last = keras.layers.GRU(\n",
    "        net_cfg[\"neuron_\" + str(last)],\n",
    "        activation=net_cfg[\"activation_rec_\" + str(last)],\n",
    "        dropout=net_cfg[\"rec_dropout_norm_\" + str(last)],\n",
    "        recurrent_dropout=net_cfg[\"recurrent_dropout_\" + str(last)],\n",
    "        return_sequences=False,\n",
    "        )(masking_layer)\n",
    "\n",
    "        # dense layers\n",
    "        last = 0\n",
    "        if net_cfg[\"num_den\"] > 1:\n",
    "            for i in np.arange(net_cfg[\"num_den\"] - 1):\n",
    "                gru_last = keras.layers.Dense(\n",
    "                net_cfg[\"neuron_den_\" + str(i)],\n",
    "                activation=net_cfg[\"activation_den_\" + str(i)],\n",
    "                )(gru_last)\n",
    "                gru_last = keras.layers.Dropout(\n",
    "                    rate=net_cfg[\"dropout_\" + str(i)],\n",
    "                )(gru_last)\n",
    "            last = i + 1\n",
    "     \n",
    "        dense_ = keras.layers.Dense(2)(gru_last)\n",
    "        custom_activation = Activate(net_cfg=net_cfg)\n",
    "        outputs = keras.layers.Activation(custom_activation)(dense_)\n",
    "\n",
    "        model = keras.Model(inputs=inputs, outputs=outputs, name=\"weibull_params\")\n",
    "\n",
    "        # rmse = tf.keras.metrics.RootMeanSquaredError()\n",
    "        model.compile(loss=CustomLoss(kind='continuous', reduce_loss=True), optimizer=Adam(lr=eval(net_cfg['lr']),\n",
    "                                                                                        clipvalue=0.5))\n",
    "    model.summary()  # uncomment for debugging\n",
    "\n",
    "    batch_size=eval(net_cfg['batch'])\n",
    "    model.fit(train_X, train_y,\n",
    "              epochs=cfg['epochs'],\n",
    "              batch_size=eval(net_cfg['batch']),\n",
    "              verbose=1,\n",
    "              callbacks=[nan_terminator, history, reduce_lr, early_stopping],  #, checkpoint, tensorboard], \n",
    "              workers=32)\n",
    "\n",
    "    return model, history\n",
    "\n"
   ]
  },
  {
   "cell_type": "code",
   "execution_count": 118,
   "metadata": {},
   "outputs": [],
   "source": [
    "def load_data():\n",
    "\n",
    "    np.random.seed(42)\n",
    "\n",
    "    id_col = 'unit_number'\n",
    "    time_col = 'time'\n",
    "    feature_cols = ['op_setting_1', 'op_setting_2', 'op_setting_3'] + ['sensor_measurement_{}'.format(x) for x in\n",
    "                                                                       range(1, 22)]\n",
    "    column_names = [id_col, time_col] + feature_cols\n",
    "\n",
    "    train_x_orig = pd.read_csv('./DataSets/CMAPSS/train_FD001.csv', header=None, sep='\\s+', decimal=\".\")\n",
    "    train_x_orig.columns = column_names\n",
    "\n",
    "    test_x_orig = pd.read_csv('./DataSets/CMAPSS/test_FD001.csv', header=None, sep='\\s+', decimal=\".\")\n",
    "    test_x_orig.columns = column_names\n",
    "\n",
    "    test_y_orig = pd.read_csv('./DataSets/CMAPSS/RUL_FD001.csv', header=None, names=['T'])\n",
    "\n",
    "    # Make engine numbers and days zero-indexed\n",
    "    train_x_orig.iloc[:, 0:2] -= 1\n",
    "    test_x_orig.iloc[:, 0:2] -= 1\n",
    "\n",
    "    # Pre-processing data\n",
    "    scaler = pipeline.Pipeline(steps=[\n",
    "        ('minmax', MinMaxScaler(feature_range=(-1, 1))),\n",
    "        ('remove_constant', VarianceThreshold())])\n",
    "\n",
    "    train = train_x_orig.copy()\n",
    "    train = np.concatenate([train[['unit_number', 'time']], scaler.fit_transform(train[feature_cols])], axis=1)\n",
    "\n",
    "    train_x, train_y = build_data(units=train[:, 0], time=train[:, 1], x=train[:, 2:], max_time=net_cfg['max_time'],\n",
    "                                    is_test=False, mask_value=cfg['mask_value'],\n",
    "                                    original_data=None, net_cfg = net_cfg, label=net_cfg['rul_style'])\n",
    "\n",
    "    test_or = test_x_orig.copy()\n",
    "    test_or = np.concatenate([test_or[['unit_number', 'time']], scaler.transform(test_or[feature_cols])], axis=1)\n",
    "\n",
    "\n",
    "    # Preparing data for the RNN (numpy arrays)\n",
    "    test_or, _ = build_data(units=test_or[:, 0], time=test_or[:, 1], x=test_or[:, 2:], max_time=net_cfg['max_time'],\n",
    "                                    is_test=True, mask_value=-99,\n",
    "                                    original_data=np.repeat(200, test_or.shape[0]), net_cfg = net_cfg, label=net_cfg['rul_style'])\n",
    "\n",
    "    \n",
    "\n",
    "    return train_x, train_y, test_or, test_y_orig, train_x_orig\n"
   ]
  },
  {
   "cell_type": "code",
   "execution_count": 119,
   "metadata": {},
   "outputs": [
    {
     "name": "stderr",
     "output_type": "stream",
     "text": [
      "100%|██████████| 100/100 [00:01<00:00, 91.22it/s]\n",
      "100%|██████████| 100/100 [00:00<00:00, 15955.81it/s]\n"
     ]
    }
   ],
   "source": [
    "train_x, train_y, test_x, test_y, train_x_orig = load_data()\n"
   ]
  },
  {
   "cell_type": "code",
   "execution_count": 120,
   "metadata": {},
   "outputs": [
    {
     "name": "stdout",
     "output_type": "stream",
     "text": [
      "train_x (20631, 48, 17) train_y (20631, 1) test_x (100, 48, 17) test_y (100, 1)\n"
     ]
    }
   ],
   "source": [
    "print('train_x', train_x.shape, 'train_y', train_y.shape, 'test_x', test_x.shape, 'test_y', test_y.shape)\n"
   ]
  },
  {
   "cell_type": "code",
   "execution_count": 121,
   "metadata": {},
   "outputs": [],
   "source": [
    "model = tf.keras.models.load_model('Harmonic_Mean_Results/dataset_1/test/169/saved_models_2_3/cp-0100.ckpt', custom_objects={\"CustomLoss\": CustomLoss, \"Activate\": Activate})"
   ]
  },
  {
   "cell_type": "code",
   "execution_count": 122,
   "metadata": {},
   "outputs": [
    {
     "name": "stdout",
     "output_type": "stream",
     "text": [
      "Model: \"weibull_params\"\n",
      "_________________________________________________________________\n",
      "Layer (type)                 Output Shape              Param #   \n",
      "=================================================================\n",
      "input_1 (InputLayer)         [(None, 48, 17)]          0         \n",
      "_________________________________________________________________\n",
      "masking (Masking)            (None, 48, 17)            0         \n",
      "_________________________________________________________________\n",
      "gru (GRU)                    (None, 35)                5670      \n",
      "_________________________________________________________________\n",
      "dense (Dense)                (None, 79)                2844      \n",
      "_________________________________________________________________\n",
      "dropout (Dropout)            (None, 79)                0         \n",
      "_________________________________________________________________\n",
      "dense_1 (Dense)              (None, 2)                 160       \n",
      "_________________________________________________________________\n",
      "activation (Activation)      (None, 2)                 0         \n",
      "=================================================================\n",
      "Total params: 8,674\n",
      "Trainable params: 8,674\n",
      "Non-trainable params: 0\n",
      "_________________________________________________________________\n"
     ]
    }
   ],
   "source": [
    "model.summary()"
   ]
  },
  {
   "cell_type": "code",
   "execution_count": 123,
   "metadata": {},
   "outputs": [],
   "source": [
    "reps = 30\n",
    "test_predict_1 = []\n",
    "test_predict_2 = []\n",
    "for i in range(cfg[\"reps\"]):\n",
    "    tf.random.set_seed(i)\n",
    "    test_predict = model(test_x, training=True).numpy()\n",
    "    test_predict_1.append(\n",
    "        test_predict[:, 0].reshape(test_predict[:, 0].shape[0], 1)\n",
    "    )\n",
    "    test_predict_2.append(\n",
    "        test_predict[:, 1].reshape(test_predict[:, 1].shape[0], 1)\n",
    "    )\n",
    "\n",
    "test_predict_1_median = np.median(np.hstack(test_predict_1), axis=1)\n",
    "test_predict_2_median = np.median(np.hstack(test_predict_2), axis=1)\n",
    "test_predict_1_median = test_predict_1_median.reshape(\n",
    "    test_predict_1_median.shape[0], 1\n",
    ")\n",
    "test_predict_2_median = test_predict_2_median.reshape(\n",
    "    test_predict_2_median.shape[0], 1\n",
    ")\n",
    "test_predict_1_std = np.std(np.hstack(test_predict_1), axis=1)\n",
    "test_predict_2_std = np.std(np.hstack(test_predict_2), axis=1)\n",
    "test_predict_1_std = test_predict_1_std.reshape(test_predict_1_std.shape[0], 1)\n",
    "test_predict_2_std = test_predict_2_std.reshape(test_predict_2_std.shape[0], 1)\n",
    "\n",
    "test_predict = np.hstack(\n",
    "    [\n",
    "        test_predict_1_median,\n",
    "        test_predict_2_median,\n",
    "        test_predict_1_std,\n",
    "        test_predict_2_std,\n",
    "    ]\n",
    ")\n",
    "\n",
    "test_predict = np.resize(\n",
    "    test_predict, (test_x.shape[0], 4)\n",
    ")  # changed from 2 to 4\n",
    "test_result = np.concatenate((test_y, test_predict), axis=1)\n",
    "test_results_df = pd.DataFrame(\n",
    "    test_result,\n",
    "    columns=[\"T\", \"median_alpha\", \"median_beta\", \"std_alpha\", \"std_beta\"],\n",
    ")\n",
    "\n",
    "test_results_df[\"predicted_mu\"] = test_results_df[\n",
    "    [\"median_alpha\", \"median_beta\"]\n",
    "].apply(lambda row: weibull_mean(row[0], row[1]), axis=1)\n",
    "test_results_df[\"uncertainty\"] = np.mean(test_predict[:, 2:], axis=1)"
   ]
  },
  {
   "cell_type": "code",
   "execution_count": 124,
   "metadata": {},
   "outputs": [],
   "source": [
    "train_predict_1 = []\n",
    "train_predict_2 = []\n",
    "\n",
    "success = True\n",
    "\n",
    "for i in range(cfg[\"reps\"]):\n",
    "    tf.random.set_seed(i)\n",
    "    train_predict = model(train_x, training=True).numpy()\n",
    "    train_predict_1.append(\n",
    "        train_predict[:, 0].reshape(train_predict[:, 0].shape[0], 1)\n",
    "    )\n",
    "    train_predict_2.append(\n",
    "        train_predict[:, 1].reshape(train_predict[:, 1].shape[0], 1)\n",
    "    )\n",
    "\n",
    "train_predict_1_median = np.median(np.hstack(train_predict_1), axis=1)\n",
    "train_predict_2_median = np.median(np.hstack(train_predict_2), axis=1)\n",
    "train_predict_1_median = train_predict_1_median.reshape(\n",
    "    train_predict_1_median.shape[0], 1\n",
    ")\n",
    "train_predict_2_median = train_predict_2_median.reshape(\n",
    "    train_predict_2_median.shape[0], 1\n",
    ")\n",
    "train_predict_1_std = np.std(np.hstack(train_predict_1), axis=1)\n",
    "train_predict_2_std = np.std(np.hstack(train_predict_2), axis=1)\n",
    "train_predict_1_std = train_predict_1_std.reshape(\n",
    "    train_predict_1_std.shape[0], 1\n",
    ")\n",
    "train_predict_2_std = train_predict_2_std.reshape(\n",
    "    train_predict_2_std.shape[0], 1\n",
    ")\n",
    "\n",
    "train_predict = np.hstack(\n",
    "    [\n",
    "        train_predict_1_median,\n",
    "        train_predict_2_median,\n",
    "        train_predict_1_std,\n",
    "        train_predict_2_std,\n",
    "    ]\n",
    ")\n",
    "\n",
    "train_predict = np.resize(train_predict, (train_x.shape[0], 4))\n",
    "train_result = np.concatenate((train_y, train_predict), axis=1)\n",
    "train_results_df = pd.DataFrame(\n",
    "    train_result,\n",
    "    columns=[\"T\", \"median_alpha\", \"median_beta\", \"std_alpha\", \"std_beta\"],\n",
    ")\n",
    "train_results_df[\"unit_number\"] = train_x_orig[\"unit_number\"].to_numpy()\n",
    "train_results_df[\"time\"] = train_x_orig[\"time\"].to_numpy()\n",
    "\n",
    "train_results_df[\"predicted_mu\"] = train_results_df[\n",
    "    [\"median_alpha\", \"median_beta\"]\n",
    "].apply(lambda row: weibull_mean(row[0], row[1]), axis=1)\n",
    "train_results_df[\"uncertainty\"] = np.mean(train_predict[:, 2:], axis=1)"
   ]
  },
  {
   "cell_type": "code",
   "execution_count": 125,
   "metadata": {},
   "outputs": [],
   "source": [
    "columns = [\n",
    "        \"rmse_train\",\n",
    "        \"mae_train\",\n",
    "        \"r2_train\",\n",
    "        \"uncertainty_train\",\n",
    "        \"rmse_test\",\n",
    "        \"mae_test\",\n",
    "        \"r2_test\",\n",
    "        \"uncertainty_test\",\n",
    "        \"net_cfg\",\n",
    "    ]\n",
    "results = pd.DataFrame(columns=columns)\n",
    "\n",
    "rmse_train = []\n",
    "r2_train = []\n",
    "mae_train = []\n",
    "std_train = []\n",
    "\n",
    "rmse_test = []\n",
    "r2_test = []\n",
    "mae_test = []\n",
    "std_test = []"
   ]
  },
  {
   "cell_type": "code",
   "execution_count": 126,
   "metadata": {},
   "outputs": [],
   "source": [
    "# Performance evaluation\n",
    "# train:\n",
    "rmse_train.append(\n",
    "    np.sqrt(\n",
    "        mean_squared_error(\n",
    "            train_results_df[\"predicted_mu\"], train_results_df[\"T\"]\n",
    "        )\n",
    "    )\n",
    ")\n",
    "mae_train.append(\n",
    "    (\n",
    "        mean_absolute_error(\n",
    "            train_results_df[\"predicted_mu\"], train_results_df[\"T\"]\n",
    "        )\n",
    "    )\n",
    ")\n",
    "r2_train.append(\n",
    "    r2_score(train_results_df[\"predicted_mu\"], train_results_df[\"T\"])\n",
    ")\n",
    "std_train.append(train_results_df[\"uncertainty\"].mean())\n",
    "\n",
    "# test:\n",
    "rmse_test.append(\n",
    "    np.sqrt(\n",
    "        mean_squared_error(\n",
    "            test_results_df[\"predicted_mu\"], test_results_df[\"T\"]\n",
    "        )\n",
    "    )\n",
    ")\n",
    "mae_test.append(\n",
    "    (mean_absolute_error(test_results_df[\"predicted_mu\"], test_results_df[\"T\"]))\n",
    ")\n",
    "r2_test.append(r2_score(test_results_df[\"predicted_mu\"], test_results_df[\"T\"]))\n",
    "std_test.append(test_results_df[\"uncertainty\"].mean())\n",
    "\n",
    "# registering results\n",
    "results[\"rmse_train\"] = rmse_train\n",
    "results[\"mae_train\"] = mae_train\n",
    "results[\"r2_train\"] = r2_train\n",
    "results[\"uncertainty_train\"] = std_train\n",
    "results[\"rmse_test\"] = rmse_test\n",
    "results[\"mae_test\"] = mae_test\n",
    "results[\"r2_test\"] = r2_test\n",
    "results[\"uncertainty_test\"] = std_test\n",
    "results[\"net_cfg\"] = json.dumps(net_cfg)"
   ]
  },
  {
   "cell_type": "code",
   "execution_count": 40,
   "metadata": {},
   "outputs": [],
   "source": [
    "results154 = results"
   ]
  },
  {
   "cell_type": "code",
   "execution_count": 57,
   "metadata": {},
   "outputs": [],
   "source": [
    "results29 = results"
   ]
  },
  {
   "cell_type": "code",
   "execution_count": 76,
   "metadata": {},
   "outputs": [],
   "source": [
    "results272 = results"
   ]
  },
  {
   "cell_type": "code",
   "execution_count": 93,
   "metadata": {},
   "outputs": [],
   "source": [
    "results266 = results"
   ]
  },
  {
   "cell_type": "code",
   "execution_count": 110,
   "metadata": {},
   "outputs": [],
   "source": [
    "results180 = results"
   ]
  },
  {
   "cell_type": "code",
   "execution_count": 127,
   "metadata": {},
   "outputs": [],
   "source": [
    "results169 = results"
   ]
  },
  {
   "cell_type": "code",
   "execution_count": 130,
   "metadata": {},
   "outputs": [],
   "source": [
    "Results=pd.concat([results154, results29, results272, results266, results180, results169])\n",
    "Results.to_csv('./Harmonic_Mean_Results/dataset_1/test/Results_retake', index=False)"
   ]
  },
  {
   "cell_type": "code",
   "execution_count": 129,
   "metadata": {},
   "outputs": [
    {
     "data": {
      "text/html": [
       "<div>\n",
       "<style scoped>\n",
       "    .dataframe tbody tr th:only-of-type {\n",
       "        vertical-align: middle;\n",
       "    }\n",
       "\n",
       "    .dataframe tbody tr th {\n",
       "        vertical-align: top;\n",
       "    }\n",
       "\n",
       "    .dataframe thead th {\n",
       "        text-align: right;\n",
       "    }\n",
       "</style>\n",
       "<table border=\"1\" class=\"dataframe\">\n",
       "  <thead>\n",
       "    <tr style=\"text-align: right;\">\n",
       "      <th></th>\n",
       "      <th>rmse_train</th>\n",
       "      <th>mae_train</th>\n",
       "      <th>r2_train</th>\n",
       "      <th>uncertainty_train</th>\n",
       "      <th>rmse_test</th>\n",
       "      <th>mae_test</th>\n",
       "      <th>r2_test</th>\n",
       "      <th>uncertainty_test</th>\n",
       "      <th>net_cfg</th>\n",
       "    </tr>\n",
       "  </thead>\n",
       "  <tbody>\n",
       "    <tr>\n",
       "      <th>0</th>\n",
       "      <td>3.708381</td>\n",
       "      <td>1.811908</td>\n",
       "      <td>0.986157</td>\n",
       "      <td>6.658229</td>\n",
       "      <td>33.214873</td>\n",
       "      <td>27.880193</td>\n",
       "      <td>0.022839</td>\n",
       "      <td>7.926165</td>\n",
       "      <td>{\"num_rec\": 1, \"max_time\": 41, \"neuron_0\": 52,...</td>\n",
       "    </tr>\n",
       "    <tr>\n",
       "      <th>0</th>\n",
       "      <td>8.275389</td>\n",
       "      <td>3.842460</td>\n",
       "      <td>0.930123</td>\n",
       "      <td>4.152230</td>\n",
       "      <td>35.189743</td>\n",
       "      <td>28.078110</td>\n",
       "      <td>-0.118644</td>\n",
       "      <td>4.635087</td>\n",
       "      <td>{\"num_rec\": 1, \"max_time\": 20, \"neuron_0\": 53,...</td>\n",
       "    </tr>\n",
       "    <tr>\n",
       "      <th>0</th>\n",
       "      <td>12.936794</td>\n",
       "      <td>11.349018</td>\n",
       "      <td>0.901211</td>\n",
       "      <td>1.672812</td>\n",
       "      <td>37.505346</td>\n",
       "      <td>31.499391</td>\n",
       "      <td>0.255562</td>\n",
       "      <td>2.590184</td>\n",
       "      <td>{\"num_rec\": 3, \"max_time\": 20, \"neuron_0\": 26,...</td>\n",
       "    </tr>\n",
       "    <tr>\n",
       "      <th>0</th>\n",
       "      <td>42.129176</td>\n",
       "      <td>37.958344</td>\n",
       "      <td>-1.854213</td>\n",
       "      <td>0.279227</td>\n",
       "      <td>32.198861</td>\n",
       "      <td>25.184896</td>\n",
       "      <td>-0.629157</td>\n",
       "      <td>0.263888</td>\n",
       "      <td>{\"num_rec\": 2, \"max_time\": 29, \"neuron_0\": 40,...</td>\n",
       "    </tr>\n",
       "    <tr>\n",
       "      <th>0</th>\n",
       "      <td>34.354936</td>\n",
       "      <td>24.437656</td>\n",
       "      <td>0.536372</td>\n",
       "      <td>0.063458</td>\n",
       "      <td>25.972998</td>\n",
       "      <td>19.401963</td>\n",
       "      <td>0.596993</td>\n",
       "      <td>0.064536</td>\n",
       "      <td>{\"num_rec\": 2, \"max_time\": 47, \"neuron_0\": 48,...</td>\n",
       "    </tr>\n",
       "    <tr>\n",
       "      <th>0</th>\n",
       "      <td>21.563993</td>\n",
       "      <td>19.909705</td>\n",
       "      <td>0.009812</td>\n",
       "      <td>0.003338</td>\n",
       "      <td>27.343713</td>\n",
       "      <td>22.607368</td>\n",
       "      <td>-0.348258</td>\n",
       "      <td>0.000038</td>\n",
       "      <td>{\"num_rec\": 1, \"max_time\": 48, \"neuron_0\": 35,...</td>\n",
       "    </tr>\n",
       "  </tbody>\n",
       "</table>\n",
       "</div>"
      ],
      "text/plain": [
       "   rmse_train  mae_train  r2_train  uncertainty_train  rmse_test   mae_test  \\\n",
       "0    3.708381   1.811908  0.986157           6.658229  33.214873  27.880193   \n",
       "0    8.275389   3.842460  0.930123           4.152230  35.189743  28.078110   \n",
       "0   12.936794  11.349018  0.901211           1.672812  37.505346  31.499391   \n",
       "0   42.129176  37.958344 -1.854213           0.279227  32.198861  25.184896   \n",
       "0   34.354936  24.437656  0.536372           0.063458  25.972998  19.401963   \n",
       "0   21.563993  19.909705  0.009812           0.003338  27.343713  22.607368   \n",
       "\n",
       "    r2_test  uncertainty_test  \\\n",
       "0  0.022839          7.926165   \n",
       "0 -0.118644          4.635087   \n",
       "0  0.255562          2.590184   \n",
       "0 -0.629157          0.263888   \n",
       "0  0.596993          0.064536   \n",
       "0 -0.348258          0.000038   \n",
       "\n",
       "                                             net_cfg  \n",
       "0  {\"num_rec\": 1, \"max_time\": 41, \"neuron_0\": 52,...  \n",
       "0  {\"num_rec\": 1, \"max_time\": 20, \"neuron_0\": 53,...  \n",
       "0  {\"num_rec\": 3, \"max_time\": 20, \"neuron_0\": 26,...  \n",
       "0  {\"num_rec\": 2, \"max_time\": 29, \"neuron_0\": 40,...  \n",
       "0  {\"num_rec\": 2, \"max_time\": 47, \"neuron_0\": 48,...  \n",
       "0  {\"num_rec\": 1, \"max_time\": 48, \"neuron_0\": 35,...  "
      ]
     },
     "execution_count": 129,
     "metadata": {},
     "output_type": "execute_result"
    }
   ],
   "source": [
    "Results"
   ]
  },
  {
   "cell_type": "code",
   "execution_count": 34,
   "metadata": {},
   "outputs": [],
   "source": [
    "# Results = pd.read_csv('./Final_experiments/dataset_1/Results')"
   ]
  },
  {
   "cell_type": "code",
   "execution_count": 109,
   "metadata": {},
   "outputs": [
    {
     "data": {
      "text/html": [
       "<div>\n",
       "<style scoped>\n",
       "    .dataframe tbody tr th:only-of-type {\n",
       "        vertical-align: middle;\n",
       "    }\n",
       "\n",
       "    .dataframe tbody tr th {\n",
       "        vertical-align: top;\n",
       "    }\n",
       "\n",
       "    .dataframe thead th {\n",
       "        text-align: right;\n",
       "    }\n",
       "</style>\n",
       "<table border=\"1\" class=\"dataframe\">\n",
       "  <thead>\n",
       "    <tr style=\"text-align: right;\">\n",
       "      <th></th>\n",
       "      <th>rmse_train</th>\n",
       "      <th>mae_train</th>\n",
       "      <th>r2_train</th>\n",
       "      <th>uncertainty_train</th>\n",
       "      <th>rmse_test</th>\n",
       "      <th>mae_test</th>\n",
       "      <th>r2_test</th>\n",
       "      <th>uncertainty_test</th>\n",
       "      <th>net_cfg</th>\n",
       "    </tr>\n",
       "  </thead>\n",
       "  <tbody>\n",
       "    <tr>\n",
       "      <th>74</th>\n",
       "      <td>10.132338</td>\n",
       "      <td>4.493613</td>\n",
       "      <td>8.859653e-01</td>\n",
       "      <td>21.648808</td>\n",
       "      <td>7.147626</td>\n",
       "      <td>3.005642</td>\n",
       "      <td>8.955063e-01</td>\n",
       "      <td>22.436848</td>\n",
       "      <td>{\"num_rec\": 2, \"max_time\": 34, \"neuron_0\": 99,...</td>\n",
       "    </tr>\n",
       "    <tr>\n",
       "      <th>9</th>\n",
       "      <td>11.638779</td>\n",
       "      <td>6.135546</td>\n",
       "      <td>8.747255e-01</td>\n",
       "      <td>13.744919</td>\n",
       "      <td>9.675685</td>\n",
       "      <td>5.200673</td>\n",
       "      <td>8.619642e-01</td>\n",
       "      <td>14.114239</td>\n",
       "      <td>{\"num_rec\": 1, \"max_time\": 33, \"neuron_0\": 37,...</td>\n",
       "    </tr>\n",
       "    <tr>\n",
       "      <th>7</th>\n",
       "      <td>14.750334</td>\n",
       "      <td>7.978250</td>\n",
       "      <td>4.696588e-01</td>\n",
       "      <td>5.606514</td>\n",
       "      <td>9.685168</td>\n",
       "      <td>5.307231</td>\n",
       "      <td>6.898526e-01</td>\n",
       "      <td>5.519232</td>\n",
       "      <td>{\"num_rec\": 1, \"max_time\": 49, \"neuron_0\": 71,...</td>\n",
       "    </tr>\n",
       "    <tr>\n",
       "      <th>117</th>\n",
       "      <td>33.098315</td>\n",
       "      <td>27.371759</td>\n",
       "      <td>-5.868046e+01</td>\n",
       "      <td>3.613033</td>\n",
       "      <td>28.559950</td>\n",
       "      <td>23.851663</td>\n",
       "      <td>-9.553102e+01</td>\n",
       "      <td>3.085927</td>\n",
       "      <td>{\"num_rec\": 3, \"max_time\": 46, \"neuron_0\": 78,...</td>\n",
       "    </tr>\n",
       "    <tr>\n",
       "      <th>136</th>\n",
       "      <td>35.513706</td>\n",
       "      <td>29.735137</td>\n",
       "      <td>-1.156902e+11</td>\n",
       "      <td>0.000050</td>\n",
       "      <td>30.604070</td>\n",
       "      <td>26.287727</td>\n",
       "      <td>-5.153182e+29</td>\n",
       "      <td>0.000013</td>\n",
       "      <td>{\"num_rec\": 3, \"max_time\": 37, \"neuron_0\": 92,...</td>\n",
       "    </tr>\n",
       "  </tbody>\n",
       "</table>\n",
       "</div>"
      ],
      "text/plain": [
       "     rmse_train  mae_train      r2_train  uncertainty_train  rmse_test  \\\n",
       "74    10.132338   4.493613  8.859653e-01          21.648808   7.147626   \n",
       "9     11.638779   6.135546  8.747255e-01          13.744919   9.675685   \n",
       "7     14.750334   7.978250  4.696588e-01           5.606514   9.685168   \n",
       "117   33.098315  27.371759 -5.868046e+01           3.613033  28.559950   \n",
       "136   35.513706  29.735137 -1.156902e+11           0.000050  30.604070   \n",
       "\n",
       "      mae_test       r2_test  uncertainty_test  \\\n",
       "74    3.005642  8.955063e-01         22.436848   \n",
       "9     5.200673  8.619642e-01         14.114239   \n",
       "7     5.307231  6.898526e-01          5.519232   \n",
       "117  23.851663 -9.553102e+01          3.085927   \n",
       "136  26.287727 -5.153182e+29          0.000013   \n",
       "\n",
       "                                               net_cfg  \n",
       "74   {\"num_rec\": 2, \"max_time\": 34, \"neuron_0\": 99,...  \n",
       "9    {\"num_rec\": 1, \"max_time\": 33, \"neuron_0\": 37,...  \n",
       "7    {\"num_rec\": 1, \"max_time\": 49, \"neuron_0\": 71,...  \n",
       "117  {\"num_rec\": 3, \"max_time\": 46, \"neuron_0\": 78,...  \n",
       "136  {\"num_rec\": 3, \"max_time\": 37, \"neuron_0\": 92,...  "
      ]
     },
     "execution_count": 109,
     "metadata": {},
     "output_type": "execute_result"
    }
   ],
   "source": [
    "pareto_configs"
   ]
  },
  {
   "cell_type": "code",
   "execution_count": 111,
   "metadata": {},
   "outputs": [],
   "source": [
    "pareto_configs.reset_index(drop=True, inplace=True) "
   ]
  },
  {
   "cell_type": "code",
   "execution_count": 113,
   "metadata": {},
   "outputs": [
    {
     "data": {
      "text/plain": [
       "(array([-5.,  0.,  5., 10., 15., 20., 25.]),\n",
       " [Text(0, 0, ''),\n",
       "  Text(0, 0, ''),\n",
       "  Text(0, 0, ''),\n",
       "  Text(0, 0, ''),\n",
       "  Text(0, 0, ''),\n",
       "  Text(0, 0, ''),\n",
       "  Text(0, 0, '')])"
      ]
     },
     "execution_count": 113,
     "metadata": {},
     "output_type": "execute_result"
    },
    {
     "data": {
      "image/png": "[encoded data removed]",
      "text/plain": [
       "<Figure size 1080x720 with 1 Axes>"
      ]
     },
     "metadata": {},
     "output_type": "display_data"
    }
   ],
   "source": [
    "x = pareto_configs['rmse_test'].values\n",
    "y = pareto_configs['uncertainty_test'].values\n",
    "plt.figure(figsize=(15,10))\n",
    "# plt.scatter(x[0], y[0], s=400, facecolors='red')\n",
    "plt.scatter(x, y, s=180)\n",
    "plt.xlabel('RMSE', fontsize=30)\n",
    "plt.ylabel('Uncertainty', fontsize=30)\n",
    "plt.title('Hyperparameter Configurations', fontsize=30)\n",
    "plt.xticks(fontsize=20)\n",
    "plt.yticks(fontsize=20)"
   ]
  },
  {
   "cell_type": "code",
   "execution_count": 114,
   "metadata": {},
   "outputs": [],
   "source": [
    "Results['rank'] = pareto_configs.index "
   ]
  },
  {
   "cell_type": "code",
   "execution_count": 115,
   "metadata": {},
   "outputs": [
    {
     "data": {
      "text/html": [
       "<div>\n",
       "<style scoped>\n",
       "    .dataframe tbody tr th:only-of-type {\n",
       "        vertical-align: middle;\n",
       "    }\n",
       "\n",
       "    .dataframe tbody tr th {\n",
       "        vertical-align: top;\n",
       "    }\n",
       "\n",
       "    .dataframe thead th {\n",
       "        text-align: right;\n",
       "    }\n",
       "</style>\n",
       "<table border=\"1\" class=\"dataframe\">\n",
       "  <thead>\n",
       "    <tr style=\"text-align: right;\">\n",
       "      <th></th>\n",
       "      <th>rmse_train</th>\n",
       "      <th>mae_train</th>\n",
       "      <th>r2_train</th>\n",
       "      <th>uncertainty_train</th>\n",
       "      <th>rmse_test</th>\n",
       "      <th>mae_test</th>\n",
       "      <th>r2_test</th>\n",
       "      <th>uncertainty_test</th>\n",
       "      <th>net_cfg</th>\n",
       "      <th>rank</th>\n",
       "    </tr>\n",
       "  </thead>\n",
       "  <tbody>\n",
       "    <tr>\n",
       "      <th>0</th>\n",
       "      <td>4.890490</td>\n",
       "      <td>2.109661</td>\n",
       "      <td>9.743462e-01</td>\n",
       "      <td>38.138649</td>\n",
       "      <td>31.098612</td>\n",
       "      <td>25.421649</td>\n",
       "      <td>9.219674e-02</td>\n",
       "      <td>40.720497</td>\n",
       "      <td>{\"num_rec\": 2, \"max_time\": 34, \"neuron_0\": 99,...</td>\n",
       "      <td>0</td>\n",
       "    </tr>\n",
       "    <tr>\n",
       "      <th>0</th>\n",
       "      <td>11.463305</td>\n",
       "      <td>6.237360</td>\n",
       "      <td>8.767144e-01</td>\n",
       "      <td>14.471132</td>\n",
       "      <td>25.027276</td>\n",
       "      <td>20.021155</td>\n",
       "      <td>4.643335e-01</td>\n",
       "      <td>15.835980</td>\n",
       "      <td>{\"num_rec\": 1, \"max_time\": 33, \"neuron_0\": 37,...</td>\n",
       "      <td>1</td>\n",
       "    </tr>\n",
       "    <tr>\n",
       "      <th>0</th>\n",
       "      <td>31.241483</td>\n",
       "      <td>18.511853</td>\n",
       "      <td>-3.189539e+01</td>\n",
       "      <td>5.116333</td>\n",
       "      <td>51.441251</td>\n",
       "      <td>40.101697</td>\n",
       "      <td>-1.149472e+02</td>\n",
       "      <td>4.961284</td>\n",
       "      <td>{\"num_rec\": 1, \"max_time\": 49, \"neuron_0\": 71,...</td>\n",
       "      <td>2</td>\n",
       "    </tr>\n",
       "    <tr>\n",
       "      <th>0</th>\n",
       "      <td>24.613627</td>\n",
       "      <td>17.540363</td>\n",
       "      <td>-9.885075e-01</td>\n",
       "      <td>5.650276</td>\n",
       "      <td>33.722696</td>\n",
       "      <td>28.098555</td>\n",
       "      <td>-2.379999e+00</td>\n",
       "      <td>6.233999</td>\n",
       "      <td>{\"num_rec\": 3, \"max_time\": 46, \"neuron_0\": 78,...</td>\n",
       "      <td>3</td>\n",
       "    </tr>\n",
       "    <tr>\n",
       "      <th>0</th>\n",
       "      <td>35.883885</td>\n",
       "      <td>31.690566</td>\n",
       "      <td>-2.148148e+12</td>\n",
       "      <td>0.000013</td>\n",
       "      <td>43.580064</td>\n",
       "      <td>35.932966</td>\n",
       "      <td>-2.351123e+30</td>\n",
       "      <td>0.000010</td>\n",
       "      <td>{\"num_rec\": 3, \"max_time\": 37, \"neuron_0\": 92,...</td>\n",
       "      <td>4</td>\n",
       "    </tr>\n",
       "  </tbody>\n",
       "</table>\n",
       "</div>"
      ],
      "text/plain": [
       "   rmse_train  mae_train      r2_train  uncertainty_train  rmse_test  \\\n",
       "0    4.890490   2.109661  9.743462e-01          38.138649  31.098612   \n",
       "0   11.463305   6.237360  8.767144e-01          14.471132  25.027276   \n",
       "0   31.241483  18.511853 -3.189539e+01           5.116333  51.441251   \n",
       "0   24.613627  17.540363 -9.885075e-01           5.650276  33.722696   \n",
       "0   35.883885  31.690566 -2.148148e+12           0.000013  43.580064   \n",
       "\n",
       "    mae_test       r2_test  uncertainty_test  \\\n",
       "0  25.421649  9.219674e-02         40.720497   \n",
       "0  20.021155  4.643335e-01         15.835980   \n",
       "0  40.101697 -1.149472e+02          4.961284   \n",
       "0  28.098555 -2.379999e+00          6.233999   \n",
       "0  35.932966 -2.351123e+30          0.000010   \n",
       "\n",
       "                                             net_cfg  rank  \n",
       "0  {\"num_rec\": 2, \"max_time\": 34, \"neuron_0\": 99,...     0  \n",
       "0  {\"num_rec\": 1, \"max_time\": 33, \"neuron_0\": 37,...     1  \n",
       "0  {\"num_rec\": 1, \"max_time\": 49, \"neuron_0\": 71,...     2  \n",
       "0  {\"num_rec\": 3, \"max_time\": 46, \"neuron_0\": 78,...     3  \n",
       "0  {\"num_rec\": 3, \"max_time\": 37, \"neuron_0\": 92,...     4  "
      ]
     },
     "execution_count": 115,
     "metadata": {},
     "output_type": "execute_result"
    }
   ],
   "source": [
    "Results "
   ]
  },
  {
   "cell_type": "code",
   "execution_count": 41,
   "metadata": {},
   "outputs": [
    {
     "data": {
      "text/html": [
       "<div>\n",
       "<style scoped>\n",
       "    .dataframe tbody tr th:only-of-type {\n",
       "        vertical-align: middle;\n",
       "    }\n",
       "\n",
       "    .dataframe tbody tr th {\n",
       "        vertical-align: top;\n",
       "    }\n",
       "\n",
       "    .dataframe thead th {\n",
       "        text-align: right;\n",
       "    }\n",
       "</style>\n",
       "<table border=\"1\" class=\"dataframe\">\n",
       "  <thead>\n",
       "    <tr style=\"text-align: right;\">\n",
       "      <th></th>\n",
       "      <th>rmse_train</th>\n",
       "      <th>mae_train</th>\n",
       "      <th>r2_train</th>\n",
       "      <th>uncertainty_train</th>\n",
       "      <th>rmse_test</th>\n",
       "      <th>mae_test</th>\n",
       "      <th>r2_test</th>\n",
       "      <th>uncertainty_test</th>\n",
       "      <th>net_cfg</th>\n",
       "    </tr>\n",
       "  </thead>\n",
       "  <tbody>\n",
       "    <tr>\n",
       "      <th>0</th>\n",
       "      <td>4.812325</td>\n",
       "      <td>2.510569</td>\n",
       "      <td>0.972241</td>\n",
       "      <td>22.818911</td>\n",
       "      <td>24.431929</td>\n",
       "      <td>21.076623</td>\n",
       "      <td>0.356192</td>\n",
       "      <td>25.995838</td>\n",
       "      <td>{\"num_rec\": 2, \"max_time\": 42, \"neuron_0\": 99,...</td>\n",
       "    </tr>\n",
       "  </tbody>\n",
       "</table>\n",
       "</div>"
      ],
      "text/plain": [
       "   rmse_train  mae_train  r2_train  uncertainty_train  rmse_test   mae_test  \\\n",
       "0    4.812325   2.510569  0.972241          22.818911  24.431929  21.076623   \n",
       "\n",
       "    r2_test  uncertainty_test  \\\n",
       "0  0.356192         25.995838   \n",
       "\n",
       "                                             net_cfg  \n",
       "0  {\"num_rec\": 2, \"max_time\": 42, \"neuron_0\": 99,...  "
      ]
     },
     "execution_count": 41,
     "metadata": {},
     "output_type": "execute_result"
    }
   ],
   "source": [
    "results"
   ]
  },
  {
   "cell_type": "code",
   "execution_count": 119,
   "metadata": {},
   "outputs": [
    {
     "data": {
      "image/png": "[encoded data removed]",
      "text/plain": [
       "<Figure size 1080x720 with 1 Axes>"
      ]
     },
     "metadata": {},
     "output_type": "display_data"
    }
   ],
   "source": [
    "x = Results['rmse_test'].values\n",
    "y = Results['uncertainty_test'].values\n",
    "x_prime = pareto_configs['rmse_test'].values\n",
    "y_prime = pareto_configs['uncertainty_test'].values\n",
    "plt.figure(figsize=(15,10))\n",
    "# plt.scatter(x[0], y[0], s=400, facecolors='red')\n",
    "plt.scatter(x, y, marker='^',s=180, c='r')\n",
    "plt.scatter(x_prime, y_prime,s=180)\n",
    "plt.xlabel('RMSE', fontsize=30)\n",
    "plt.ylabel('Uncertainty', fontsize=30)\n",
    "plt.title('Hyperparameter Configurations', fontsize=30)\n",
    "plt.xticks(fontsize=20)\n",
    "plt.yticks(fontsize=20)\n",
    "plt.xlim(5,60)\n",
    "plt.ylim(-1,50)\n",
    "\n",
    "for i, txt in enumerate(Results['rank']):\n",
    "    plt.annotate(txt+1, (x[i], y[i]), fontsize=15)\n",
    "\n",
    "for i, txt in enumerate(pareto_configs.index):\n",
    "    plt.annotate(txt+1, (x_prime[i], y_prime[i]+0.2), fontsize=15)\n",
    "\n",
    "plt.savefig('./paper_figures/cmapss_1_obj_space_harmonic_mean.pdf', format='pdf')\n",
    " "
   ]
  },
  {
   "cell_type": "markdown",
   "metadata": {},
   "source": [
    "Retake"
   ]
  },
  {
   "cell_type": "code",
   "execution_count": 19,
   "metadata": {},
   "outputs": [],
   "source": [
    "Results_retake = pd.read_csv('./Harmonic_Mean_Results/dataset_1/test/Results_retake')"
   ]
  },
  {
   "cell_type": "code",
   "execution_count": 20,
   "metadata": {},
   "outputs": [
    {
     "data": {
      "text/html": [
       "<div>\n",
       "<style scoped>\n",
       "    .dataframe tbody tr th:only-of-type {\n",
       "        vertical-align: middle;\n",
       "    }\n",
       "\n",
       "    .dataframe tbody tr th {\n",
       "        vertical-align: top;\n",
       "    }\n",
       "\n",
       "    .dataframe thead th {\n",
       "        text-align: right;\n",
       "    }\n",
       "</style>\n",
       "<table border=\"1\" class=\"dataframe\">\n",
       "  <thead>\n",
       "    <tr style=\"text-align: right;\">\n",
       "      <th></th>\n",
       "      <th>rmse_train</th>\n",
       "      <th>mae_train</th>\n",
       "      <th>r2_train</th>\n",
       "      <th>uncertainty_train</th>\n",
       "      <th>rmse_test</th>\n",
       "      <th>mae_test</th>\n",
       "      <th>r2_test</th>\n",
       "      <th>uncertainty_test</th>\n",
       "      <th>net_cfg</th>\n",
       "    </tr>\n",
       "  </thead>\n",
       "  <tbody>\n",
       "    <tr>\n",
       "      <th>154</th>\n",
       "      <td>4.254174</td>\n",
       "      <td>1.981173</td>\n",
       "      <td>0.982561</td>\n",
       "      <td>7.334978</td>\n",
       "      <td>4.211031</td>\n",
       "      <td>1.648317</td>\n",
       "      <td>0.970479</td>\n",
       "      <td>6.210769</td>\n",
       "      <td>{\"num_rec\": 1, \"max_time\": 41, \"neuron_0\": 52,...</td>\n",
       "    </tr>\n",
       "    <tr>\n",
       "      <th>29</th>\n",
       "      <td>8.556123</td>\n",
       "      <td>4.251152</td>\n",
       "      <td>0.924224</td>\n",
       "      <td>2.241270</td>\n",
       "      <td>6.091472</td>\n",
       "      <td>2.825808</td>\n",
       "      <td>0.935180</td>\n",
       "      <td>2.006770</td>\n",
       "      <td>{\"num_rec\": 1, \"max_time\": 20, \"neuron_0\": 53,...</td>\n",
       "    </tr>\n",
       "    <tr>\n",
       "      <th>272</th>\n",
       "      <td>9.928486</td>\n",
       "      <td>5.045118</td>\n",
       "      <td>0.933662</td>\n",
       "      <td>1.425256</td>\n",
       "      <td>12.848347</td>\n",
       "      <td>6.020891</td>\n",
       "      <td>0.830865</td>\n",
       "      <td>0.879652</td>\n",
       "      <td>{\"num_rec\": 3, \"max_time\": 20, \"neuron_0\": 26,...</td>\n",
       "    </tr>\n",
       "    <tr>\n",
       "      <th>266</th>\n",
       "      <td>33.385258</td>\n",
       "      <td>28.991886</td>\n",
       "      <td>-0.220581</td>\n",
       "      <td>0.241554</td>\n",
       "      <td>32.293761</td>\n",
       "      <td>29.244426</td>\n",
       "      <td>-0.579269</td>\n",
       "      <td>0.222816</td>\n",
       "      <td>{\"num_rec\": 2, \"max_time\": 29, \"neuron_0\": 40,...</td>\n",
       "    </tr>\n",
       "    <tr>\n",
       "      <th>180</th>\n",
       "      <td>36.902199</td>\n",
       "      <td>27.180999</td>\n",
       "      <td>0.541241</td>\n",
       "      <td>0.055319</td>\n",
       "      <td>32.544138</td>\n",
       "      <td>25.766195</td>\n",
       "      <td>0.488838</td>\n",
       "      <td>0.035376</td>\n",
       "      <td>{\"num_rec\": 2, \"max_time\": 47, \"neuron_0\": 48,...</td>\n",
       "    </tr>\n",
       "    <tr>\n",
       "      <th>169</th>\n",
       "      <td>38.311240</td>\n",
       "      <td>34.769412</td>\n",
       "      <td>-11.243588</td>\n",
       "      <td>0.002713</td>\n",
       "      <td>40.199357</td>\n",
       "      <td>37.356577</td>\n",
       "      <td>-20.197057</td>\n",
       "      <td>0.000005</td>\n",
       "      <td>{\"num_rec\": 1, \"max_time\": 48, \"neuron_0\": 35,...</td>\n",
       "    </tr>\n",
       "  </tbody>\n",
       "</table>\n",
       "</div>"
      ],
      "text/plain": [
       "     rmse_train  mae_train   r2_train  uncertainty_train  rmse_test  \\\n",
       "154    4.254174   1.981173   0.982561           7.334978   4.211031   \n",
       "29     8.556123   4.251152   0.924224           2.241270   6.091472   \n",
       "272    9.928486   5.045118   0.933662           1.425256  12.848347   \n",
       "266   33.385258  28.991886  -0.220581           0.241554  32.293761   \n",
       "180   36.902199  27.180999   0.541241           0.055319  32.544138   \n",
       "169   38.311240  34.769412 -11.243588           0.002713  40.199357   \n",
       "\n",
       "      mae_test    r2_test  uncertainty_test  \\\n",
       "154   1.648317   0.970479          6.210769   \n",
       "29    2.825808   0.935180          2.006770   \n",
       "272   6.020891   0.830865          0.879652   \n",
       "266  29.244426  -0.579269          0.222816   \n",
       "180  25.766195   0.488838          0.035376   \n",
       "169  37.356577 -20.197057          0.000005   \n",
       "\n",
       "                                               net_cfg  \n",
       "154  {\"num_rec\": 1, \"max_time\": 41, \"neuron_0\": 52,...  \n",
       "29   {\"num_rec\": 1, \"max_time\": 20, \"neuron_0\": 53,...  \n",
       "272  {\"num_rec\": 3, \"max_time\": 20, \"neuron_0\": 26,...  \n",
       "266  {\"num_rec\": 2, \"max_time\": 29, \"neuron_0\": 40,...  \n",
       "180  {\"num_rec\": 2, \"max_time\": 47, \"neuron_0\": 48,...  \n",
       "169  {\"num_rec\": 1, \"max_time\": 48, \"neuron_0\": 35,...  "
      ]
     },
     "execution_count": 20,
     "metadata": {},
     "output_type": "execute_result"
    }
   ],
   "source": [
    "pareto_configs"
   ]
  },
  {
   "cell_type": "code",
   "execution_count": 21,
   "metadata": {},
   "outputs": [],
   "source": [
    "pareto_configs.reset_index(drop=True, inplace=True) "
   ]
  },
  {
   "cell_type": "code",
   "execution_count": 22,
   "metadata": {},
   "outputs": [
    {
     "data": {
      "text/plain": [
       "(array([-1.,  0.,  1.,  2.,  3.,  4.,  5.,  6.,  7.]),\n",
       " [Text(0, 0, ''),\n",
       "  Text(0, 0, ''),\n",
       "  Text(0, 0, ''),\n",
       "  Text(0, 0, ''),\n",
       "  Text(0, 0, ''),\n",
       "  Text(0, 0, ''),\n",
       "  Text(0, 0, ''),\n",
       "  Text(0, 0, ''),\n",
       "  Text(0, 0, '')])"
      ]
     },
     "execution_count": 22,
     "metadata": {},
     "output_type": "execute_result"
    },
    {
     "data": {
      "image/png": "[encoded data removed]",
      "text/plain": [
       "<Figure size 1080x720 with 1 Axes>"
      ]
     },
     "metadata": {},
     "output_type": "display_data"
    }
   ],
   "source": [
    "x = pareto_configs['rmse_test'].values\n",
    "y = pareto_configs['uncertainty_test'].values\n",
    "plt.figure(figsize=(15,10))\n",
    "# plt.scatter(x[0], y[0], s=400, facecolors='red')\n",
    "plt.scatter(x, y, s=180)\n",
    "plt.xlabel('RMSE', fontsize=30)\n",
    "plt.ylabel('Uncertainty', fontsize=30)\n",
    "plt.title('Hyperparameter Configurations', fontsize=30)\n",
    "plt.xticks(fontsize=20)\n",
    "plt.yticks(fontsize=20)"
   ]
  },
  {
   "cell_type": "code",
   "execution_count": 23,
   "metadata": {},
   "outputs": [],
   "source": [
    "Results_retake['rank'] = pareto_configs.index "
   ]
  },
  {
   "cell_type": "code",
   "execution_count": 24,
   "metadata": {},
   "outputs": [
    {
     "data": {
      "text/html": [
       "<div>\n",
       "<style scoped>\n",
       "    .dataframe tbody tr th:only-of-type {\n",
       "        vertical-align: middle;\n",
       "    }\n",
       "\n",
       "    .dataframe tbody tr th {\n",
       "        vertical-align: top;\n",
       "    }\n",
       "\n",
       "    .dataframe thead th {\n",
       "        text-align: right;\n",
       "    }\n",
       "</style>\n",
       "<table border=\"1\" class=\"dataframe\">\n",
       "  <thead>\n",
       "    <tr style=\"text-align: right;\">\n",
       "      <th></th>\n",
       "      <th>rmse_train</th>\n",
       "      <th>mae_train</th>\n",
       "      <th>r2_train</th>\n",
       "      <th>uncertainty_train</th>\n",
       "      <th>rmse_test</th>\n",
       "      <th>mae_test</th>\n",
       "      <th>r2_test</th>\n",
       "      <th>uncertainty_test</th>\n",
       "      <th>net_cfg</th>\n",
       "      <th>rank</th>\n",
       "    </tr>\n",
       "  </thead>\n",
       "  <tbody>\n",
       "    <tr>\n",
       "      <th>0</th>\n",
       "      <td>3.708381</td>\n",
       "      <td>1.811908</td>\n",
       "      <td>0.986157</td>\n",
       "      <td>6.658229</td>\n",
       "      <td>33.214873</td>\n",
       "      <td>27.880193</td>\n",
       "      <td>0.022839</td>\n",
       "      <td>7.926165</td>\n",
       "      <td>{\"num_rec\": 1, \"max_time\": 41, \"neuron_0\": 52,...</td>\n",
       "      <td>0</td>\n",
       "    </tr>\n",
       "    <tr>\n",
       "      <th>1</th>\n",
       "      <td>8.275389</td>\n",
       "      <td>3.842460</td>\n",
       "      <td>0.930123</td>\n",
       "      <td>4.152230</td>\n",
       "      <td>35.189743</td>\n",
       "      <td>28.078110</td>\n",
       "      <td>-0.118644</td>\n",
       "      <td>4.635087</td>\n",
       "      <td>{\"num_rec\": 1, \"max_time\": 20, \"neuron_0\": 53,...</td>\n",
       "      <td>1</td>\n",
       "    </tr>\n",
       "    <tr>\n",
       "      <th>2</th>\n",
       "      <td>12.936794</td>\n",
       "      <td>11.349018</td>\n",
       "      <td>0.901211</td>\n",
       "      <td>1.672812</td>\n",
       "      <td>37.505346</td>\n",
       "      <td>31.499391</td>\n",
       "      <td>0.255562</td>\n",
       "      <td>2.590184</td>\n",
       "      <td>{\"num_rec\": 3, \"max_time\": 20, \"neuron_0\": 26,...</td>\n",
       "      <td>2</td>\n",
       "    </tr>\n",
       "    <tr>\n",
       "      <th>3</th>\n",
       "      <td>42.129176</td>\n",
       "      <td>37.958344</td>\n",
       "      <td>-1.854213</td>\n",
       "      <td>0.279227</td>\n",
       "      <td>32.198861</td>\n",
       "      <td>25.184896</td>\n",
       "      <td>-0.629157</td>\n",
       "      <td>0.263888</td>\n",
       "      <td>{\"num_rec\": 2, \"max_time\": 29, \"neuron_0\": 40,...</td>\n",
       "      <td>3</td>\n",
       "    </tr>\n",
       "    <tr>\n",
       "      <th>4</th>\n",
       "      <td>34.354936</td>\n",
       "      <td>24.437656</td>\n",
       "      <td>0.536372</td>\n",
       "      <td>0.063458</td>\n",
       "      <td>25.972998</td>\n",
       "      <td>19.401963</td>\n",
       "      <td>0.596993</td>\n",
       "      <td>0.064536</td>\n",
       "      <td>{\"num_rec\": 2, \"max_time\": 47, \"neuron_0\": 48,...</td>\n",
       "      <td>4</td>\n",
       "    </tr>\n",
       "    <tr>\n",
       "      <th>5</th>\n",
       "      <td>21.563993</td>\n",
       "      <td>19.909705</td>\n",
       "      <td>0.009812</td>\n",
       "      <td>0.003338</td>\n",
       "      <td>27.343713</td>\n",
       "      <td>22.607368</td>\n",
       "      <td>-0.348258</td>\n",
       "      <td>0.000038</td>\n",
       "      <td>{\"num_rec\": 1, \"max_time\": 48, \"neuron_0\": 35,...</td>\n",
       "      <td>5</td>\n",
       "    </tr>\n",
       "  </tbody>\n",
       "</table>\n",
       "</div>"
      ],
      "text/plain": [
       "   rmse_train  mae_train  r2_train  uncertainty_train  rmse_test   mae_test  \\\n",
       "0    3.708381   1.811908  0.986157           6.658229  33.214873  27.880193   \n",
       "1    8.275389   3.842460  0.930123           4.152230  35.189743  28.078110   \n",
       "2   12.936794  11.349018  0.901211           1.672812  37.505346  31.499391   \n",
       "3   42.129176  37.958344 -1.854213           0.279227  32.198861  25.184896   \n",
       "4   34.354936  24.437656  0.536372           0.063458  25.972998  19.401963   \n",
       "5   21.563993  19.909705  0.009812           0.003338  27.343713  22.607368   \n",
       "\n",
       "    r2_test  uncertainty_test  \\\n",
       "0  0.022839          7.926165   \n",
       "1 -0.118644          4.635087   \n",
       "2  0.255562          2.590184   \n",
       "3 -0.629157          0.263888   \n",
       "4  0.596993          0.064536   \n",
       "5 -0.348258          0.000038   \n",
       "\n",
       "                                             net_cfg  rank  \n",
       "0  {\"num_rec\": 1, \"max_time\": 41, \"neuron_0\": 52,...     0  \n",
       "1  {\"num_rec\": 1, \"max_time\": 20, \"neuron_0\": 53,...     1  \n",
       "2  {\"num_rec\": 3, \"max_time\": 20, \"neuron_0\": 26,...     2  \n",
       "3  {\"num_rec\": 2, \"max_time\": 29, \"neuron_0\": 40,...     3  \n",
       "4  {\"num_rec\": 2, \"max_time\": 47, \"neuron_0\": 48,...     4  \n",
       "5  {\"num_rec\": 1, \"max_time\": 48, \"neuron_0\": 35,...     5  "
      ]
     },
     "execution_count": 24,
     "metadata": {},
     "output_type": "execute_result"
    }
   ],
   "source": [
    "Results_retake"
   ]
  },
  {
   "cell_type": "code",
   "execution_count": 25,
   "metadata": {},
   "outputs": [
    {
     "data": {
      "text/html": [
       "<div>\n",
       "<style scoped>\n",
       "    .dataframe tbody tr th:only-of-type {\n",
       "        vertical-align: middle;\n",
       "    }\n",
       "\n",
       "    .dataframe tbody tr th {\n",
       "        vertical-align: top;\n",
       "    }\n",
       "\n",
       "    .dataframe thead th {\n",
       "        text-align: right;\n",
       "    }\n",
       "</style>\n",
       "<table border=\"1\" class=\"dataframe\">\n",
       "  <thead>\n",
       "    <tr style=\"text-align: right;\">\n",
       "      <th></th>\n",
       "      <th>rmse_train</th>\n",
       "      <th>mae_train</th>\n",
       "      <th>r2_train</th>\n",
       "      <th>uncertainty_train</th>\n",
       "      <th>rmse_test</th>\n",
       "      <th>mae_test</th>\n",
       "      <th>r2_test</th>\n",
       "      <th>uncertainty_test</th>\n",
       "      <th>net_cfg</th>\n",
       "    </tr>\n",
       "  </thead>\n",
       "  <tbody>\n",
       "    <tr>\n",
       "      <th>0</th>\n",
       "      <td>4.254174</td>\n",
       "      <td>1.981173</td>\n",
       "      <td>0.982561</td>\n",
       "      <td>7.334978</td>\n",
       "      <td>4.211031</td>\n",
       "      <td>1.648317</td>\n",
       "      <td>0.970479</td>\n",
       "      <td>6.210769</td>\n",
       "      <td>{\"num_rec\": 1, \"max_time\": 41, \"neuron_0\": 52,...</td>\n",
       "    </tr>\n",
       "    <tr>\n",
       "      <th>1</th>\n",
       "      <td>8.556123</td>\n",
       "      <td>4.251152</td>\n",
       "      <td>0.924224</td>\n",
       "      <td>2.241270</td>\n",
       "      <td>6.091472</td>\n",
       "      <td>2.825808</td>\n",
       "      <td>0.935180</td>\n",
       "      <td>2.006770</td>\n",
       "      <td>{\"num_rec\": 1, \"max_time\": 20, \"neuron_0\": 53,...</td>\n",
       "    </tr>\n",
       "    <tr>\n",
       "      <th>2</th>\n",
       "      <td>9.928486</td>\n",
       "      <td>5.045118</td>\n",
       "      <td>0.933662</td>\n",
       "      <td>1.425256</td>\n",
       "      <td>12.848347</td>\n",
       "      <td>6.020891</td>\n",
       "      <td>0.830865</td>\n",
       "      <td>0.879652</td>\n",
       "      <td>{\"num_rec\": 3, \"max_time\": 20, \"neuron_0\": 26,...</td>\n",
       "    </tr>\n",
       "    <tr>\n",
       "      <th>3</th>\n",
       "      <td>33.385258</td>\n",
       "      <td>28.991886</td>\n",
       "      <td>-0.220581</td>\n",
       "      <td>0.241554</td>\n",
       "      <td>32.293761</td>\n",
       "      <td>29.244426</td>\n",
       "      <td>-0.579269</td>\n",
       "      <td>0.222816</td>\n",
       "      <td>{\"num_rec\": 2, \"max_time\": 29, \"neuron_0\": 40,...</td>\n",
       "    </tr>\n",
       "    <tr>\n",
       "      <th>4</th>\n",
       "      <td>36.902199</td>\n",
       "      <td>27.180999</td>\n",
       "      <td>0.541241</td>\n",
       "      <td>0.055319</td>\n",
       "      <td>32.544138</td>\n",
       "      <td>25.766195</td>\n",
       "      <td>0.488838</td>\n",
       "      <td>0.035376</td>\n",
       "      <td>{\"num_rec\": 2, \"max_time\": 47, \"neuron_0\": 48,...</td>\n",
       "    </tr>\n",
       "    <tr>\n",
       "      <th>5</th>\n",
       "      <td>38.311240</td>\n",
       "      <td>34.769412</td>\n",
       "      <td>-11.243588</td>\n",
       "      <td>0.002713</td>\n",
       "      <td>40.199357</td>\n",
       "      <td>37.356577</td>\n",
       "      <td>-20.197057</td>\n",
       "      <td>0.000005</td>\n",
       "      <td>{\"num_rec\": 1, \"max_time\": 48, \"neuron_0\": 35,...</td>\n",
       "    </tr>\n",
       "  </tbody>\n",
       "</table>\n",
       "</div>"
      ],
      "text/plain": [
       "   rmse_train  mae_train   r2_train  uncertainty_train  rmse_test   mae_test  \\\n",
       "0    4.254174   1.981173   0.982561           7.334978   4.211031   1.648317   \n",
       "1    8.556123   4.251152   0.924224           2.241270   6.091472   2.825808   \n",
       "2    9.928486   5.045118   0.933662           1.425256  12.848347   6.020891   \n",
       "3   33.385258  28.991886  -0.220581           0.241554  32.293761  29.244426   \n",
       "4   36.902199  27.180999   0.541241           0.055319  32.544138  25.766195   \n",
       "5   38.311240  34.769412 -11.243588           0.002713  40.199357  37.356577   \n",
       "\n",
       "     r2_test  uncertainty_test  \\\n",
       "0   0.970479          6.210769   \n",
       "1   0.935180          2.006770   \n",
       "2   0.830865          0.879652   \n",
       "3  -0.579269          0.222816   \n",
       "4   0.488838          0.035376   \n",
       "5 -20.197057          0.000005   \n",
       "\n",
       "                                             net_cfg  \n",
       "0  {\"num_rec\": 1, \"max_time\": 41, \"neuron_0\": 52,...  \n",
       "1  {\"num_rec\": 1, \"max_time\": 20, \"neuron_0\": 53,...  \n",
       "2  {\"num_rec\": 3, \"max_time\": 20, \"neuron_0\": 26,...  \n",
       "3  {\"num_rec\": 2, \"max_time\": 29, \"neuron_0\": 40,...  \n",
       "4  {\"num_rec\": 2, \"max_time\": 47, \"neuron_0\": 48,...  \n",
       "5  {\"num_rec\": 1, \"max_time\": 48, \"neuron_0\": 35,...  "
      ]
     },
     "execution_count": 25,
     "metadata": {},
     "output_type": "execute_result"
    }
   ],
   "source": [
    "pareto_configs"
   ]
  },
  {
   "cell_type": "code",
   "execution_count": 27,
   "metadata": {},
   "outputs": [
    {
     "data": {
      "image/png": "[encoded data removed]",
      "text/plain": [
       "<Figure size 1080x720 with 1 Axes>"
      ]
     },
     "metadata": {},
     "output_type": "display_data"
    }
   ],
   "source": [
    "x = Results_retake['rmse_test'].values\n",
    "y = Results_retake['uncertainty_test'].values\n",
    "x_prime = pareto_configs['rmse_test'].values\n",
    "y_prime = pareto_configs['uncertainty_test'].values\n",
    "plt.figure(figsize=(15,10))\n",
    "# plt.scatter(x[0], y[0], s=400, facecolors='red')\n",
    "plt.scatter(x, y, marker='^',s=180, c='r')\n",
    "plt.scatter(x_prime, y_prime,s=180)\n",
    "plt.xlabel('RMSE', fontsize=30)\n",
    "plt.ylabel('Uncertainty', fontsize=30)\n",
    "plt.title('Hyperparameter Configurations', fontsize=30)\n",
    "plt.xticks(fontsize=20)\n",
    "plt.yticks(fontsize=20)\n",
    "# plt.xlim(0,60)\n",
    "# plt.ylim(-1,50)\n",
    "\n",
    "for i, txt in enumerate(Results_retake['rank']):\n",
    "    plt.annotate(txt+1, (x[i], y[i]), fontsize=15)\n",
    "\n",
    "for i, txt in enumerate(pareto_configs.index):\n",
    "    plt.annotate(txt+1, (x_prime[i], y_prime[i]+0.2), fontsize=15)\n",
    "\n",
    "plt.savefig('./paper_figures/cmapss_1_obj_space_harmonic_mean_RETAKE.pdf', format='pdf')\n"
   ]
  },
  {
   "cell_type": "markdown",
   "metadata": {},
   "source": []
  }
 ],
 "metadata": {
  "interpreter": {
   "hash": "4000a7a6ee44f5e9ad604830731b987d83f87e046c93fb1fca3b0779acf4e02a"
  },
  "kernelspec": {
   "display_name": "Python 3.8.8 64-bit ('rul_nn': virtualenv)",
   "name": "python3"
  },
  "language_info": {
   "codemirror_mode": {
    "name": "ipython",
    "version": 3
   },
   "file_extension": ".py",
   "mimetype": "text/x-python",
   "name": "python",
   "nbconvert_exporter": "python",
   "pygments_lexer": "ipython3",
   "version": "3.8.8"
  },
  "orig_nbformat": 4
 },
 "nbformat": 4,
 "nbformat_minor": 2
}
