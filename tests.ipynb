{
 "cells": [
  {
   "cell_type": "markdown",
   "source": [],
   "metadata": {}
  },
  {
   "cell_type": "code",
   "execution_count": 256,
   "source": [
    "import numpy as np\n",
    "import pandas as pd\n",
    "from tslearn.utils import to_time_series, to_time_series_dataset\n",
    "from tslearn.neighbors import KNeighborsTimeSeries"
   ],
   "outputs": [],
   "metadata": {}
  },
  {
   "cell_type": "code",
   "execution_count": 269,
   "source": [
    "nN = 3\n",
    "init = 100\n",
    "test_points = 10\n",
    "out_dim = 2\n",
    "\n",
    "data = [np.random.rand(10,21) for _ in range(init)]\n",
    "labels = np.array([list((np.random.randn(1,out_dim)+2)[0]) for _ in range(init)])"
   ],
   "outputs": [],
   "metadata": {}
  },
  {
   "cell_type": "markdown",
   "source": [
    "Transforming data to tslearn format"
   ],
   "metadata": {}
  },
  {
   "cell_type": "code",
   "execution_count": 270,
   "source": [
    "time_series = to_time_series_dataset(data)\n",
    "time_series.shape"
   ],
   "outputs": [
    {
     "output_type": "execute_result",
     "data": {
      "text/plain": [
       "(100, 10, 21)"
      ]
     },
     "metadata": {},
     "execution_count": 270
    }
   ],
   "metadata": {}
  },
  {
   "cell_type": "markdown",
   "source": [
    "Unknown points"
   ],
   "metadata": {}
  },
  {
   "cell_type": "code",
   "execution_count": 271,
   "source": [
    "# test = data[0] # same as first known point\n",
    "\n",
    "test = [np.random.rand(10,21) for _ in range(test_points)]\n",
    "labels_test = np.array([list((np.random.randn(1,out_dim)+4)[0]) for _ in range(test_points)])\n",
    "\n",
    "test_time_series = to_time_series_dataset(test)\n",
    "\n",
    "print(test_time_series.shape)\n",
    "# print(pred)"
   ],
   "outputs": [
    {
     "output_type": "stream",
     "name": "stdout",
     "text": [
      "(10, 10, 21)\n"
     ]
    }
   ],
   "metadata": {}
  },
  {
   "cell_type": "code",
   "execution_count": 272,
   "source": [
    "knn = KNeighborsTimeSeries(n_neighbors=nN).fit(time_series)"
   ],
   "outputs": [],
   "metadata": {}
  },
  {
   "cell_type": "code",
   "execution_count": 273,
   "source": [
    "def knnUncertainty(nN,pred, test_time_series,labels,knn):\n",
    "\n",
    "    pred = labels\n",
    "    sigma = []\n",
    "    distances, indices = knn.kneighbors(test_time_series,nN, return_distance=True)\n",
    "    \n",
    "    for i in range(len(test_time_series)):\n",
    "        # print(i)\n",
    "        dist = distances[i]\n",
    "        print(dist)\n",
    "        ind = (indices[i])\n",
    "        print(ind)\n",
    "        #calculate the nearest point error\n",
    "        pred_near = pred[i]\n",
    "        # print(pred_near)\n",
    "        # print(ind)\n",
    "\n",
    "        abs_err = np.abs(pred_near - labels[ind])\n",
    "        print(abs_err)\n",
    "        weights = 1 - (dist / dist.sum())\n",
    "        print(weights)\n",
    "        print(weights.shape)\n",
    "        weights = np.broadcast_to(weights.reshape(len(ind), 1), (len(ind), out_dim))\n",
    "        print(weights)\n",
    "        weighted_err = np.mean(np.average(abs_err, weights=weights**nN) )\n",
    "\n",
    "        nbrs_y = list(labels[ind])\n",
    "        nbrs_y.append(pred[i])\n",
    "        nbrs_var = np.std(nbrs_y)\n",
    "\n",
    "        min_dist = np.min(dist)\n",
    "        pred_var = weighted_err + min_dist * nbrs_var\n",
    "        sigma.append(pred_var)\n",
    "    sigma = np.array(sigma)\n",
    "    return sigma"
   ],
   "outputs": [],
   "metadata": {}
  },
  {
   "cell_type": "code",
   "execution_count": 274,
   "source": [
    "knnUncertainty(nN, labels_test, test_time_series,labels,knn)"
   ],
   "outputs": [
    {
     "output_type": "stream",
     "name": "stdout",
     "text": [
      "[5.2643433  5.41558662 5.54684449]\n",
      "[46 34 42]\n",
      "[[0.64592201 1.05109316]\n",
      " [1.43836852 0.81812986]\n",
      " [0.86905284 0.14826472]]\n",
      "[0.67557672 0.66625612 0.65816715]\n",
      "(3,)\n",
      "[[0.67557672 0.67557672]\n",
      " [0.66625612 0.66625612]\n",
      " [0.65816715 0.65816715]]\n",
      "[5.44560712 5.56663624 5.59348647]\n",
      "[58 11 29]\n",
      "[[3.07817542 1.93968735]\n",
      " [0.63568681 1.59110127]\n",
      " [0.04326981 2.54575376]]\n",
      "[0.67206457 0.66477618 0.66315925]\n",
      "(3,)\n",
      "[[0.67206457 0.67206457]\n",
      " [0.66477618 0.66477618]\n",
      " [0.66315925 0.66315925]]\n",
      "[5.02317208 5.33090485 5.35243949]\n",
      "[48 34 49]\n",
      "[[3.11419217 0.72120271]\n",
      " [1.30429846 0.51836893]\n",
      " [0.48447942 0.64837089]]\n",
      "[0.68018548 0.66059279 0.65922173]\n",
      "(3,)\n",
      "[[0.68018548 0.68018548]\n",
      " [0.66059279 0.66059279]\n",
      " [0.65922173 0.65922173]]\n",
      "[5.48248623 5.61529483 5.6346348 ]\n",
      "[45 48 51]\n",
      "[[0.64189294 0.35909883]\n",
      " [2.72662592 1.06899011]\n",
      " [0.83701687 0.65930276]]\n",
      "[0.67234342 0.66440621 0.66325037]\n",
      "(3,)\n",
      "[[0.67234342 0.67234342]\n",
      " [0.66440621 0.66440621]\n",
      " [0.66325037 0.66325037]]\n",
      "[5.23867517 5.35932812 5.36932838]\n",
      "[65 70 86]\n",
      "[[0.1290494  0.0571064 ]\n",
      " [0.08735396 0.92123005]\n",
      " [0.82593329 1.2031982 ]]\n",
      "[0.67191292 0.66435669 0.66373039]\n",
      "(3,)\n",
      "[[0.67191292 0.67191292]\n",
      " [0.66435669 0.66435669]\n",
      " [0.66373039 0.66373039]]\n",
      "[5.36256034 5.39432711 5.42302267]\n",
      "[47 43 96]\n",
      "[[2.32291542 0.77429849]\n",
      " [1.1403427  1.51183053]\n",
      " [1.69076837 0.53547737]]\n",
      "[0.66856674 0.66660339 0.66482986]\n",
      "(3,)\n",
      "[[0.66856674 0.66856674]\n",
      " [0.66660339 0.66660339]\n",
      " [0.66482986 0.66482986]]\n",
      "[5.13749474 5.26509159 5.41227781]\n",
      "[55 17 77]\n",
      "[[0.99248842 0.68425223]\n",
      " [0.84895759 2.35068248]\n",
      " [0.14437556 0.57061222]]\n",
      "[0.67514772 0.66707956 0.65777273]\n",
      "(3,)\n",
      "[[0.67514772 0.67514772]\n",
      " [0.66707956 0.66707956]\n",
      " [0.65777273 0.65777273]]\n",
      "[5.31385979 5.33798413 5.46055817]\n",
      "[17 69 83]\n",
      "[[0.40517529 1.12153811]\n",
      " [0.30190838 1.47171662]\n",
      " [1.78492936 0.58716867]]\n",
      "[0.67020065 0.66870339 0.66109596]\n",
      "(3,)\n",
      "[[0.67020065 0.67020065]\n",
      " [0.66870339 0.66870339]\n",
      " [0.66109596 0.66109596]]\n",
      "[5.31637188 5.33496943 5.36413244]\n",
      "[33 86 55]\n",
      "[[1.60734064 0.20590292]\n",
      " [0.78851536 0.58694623]\n",
      " [0.7525744  0.91484338]]\n",
      "[0.66804779 0.66688657 0.66506564]\n",
      "(3,)\n",
      "[[0.66804779 0.66804779]\n",
      " [0.66688657 0.66688657]\n",
      " [0.66506564 0.66506564]]\n",
      "[5.31579941 5.32860826 5.37312747]\n",
      "[20 79 66]\n",
      "[[1.37112629 0.24169215]\n",
      " [0.81304567 1.9862911 ]\n",
      " [1.32979164 2.0639501 ]]\n",
      "[0.66812625 0.66732658 0.66454717]\n",
      "(3,)\n",
      "[[0.66812625 0.66812625]\n",
      " [0.66732658 0.66732658]\n",
      " [0.66454717 0.66454717]]\n"
     ]
    },
    {
     "output_type": "execute_result",
     "data": {
      "text/plain": [
       "array([3.84825754, 7.70857041, 5.77587514, 6.38531108, 3.09688956,\n",
       "       6.09853551, 5.07023043, 7.57313867, 4.59558623, 5.58583906])"
      ]
     },
     "metadata": {},
     "execution_count": 274
    }
   ],
   "metadata": {}
  },
  {
   "cell_type": "code",
   "execution_count": null,
   "source": [
    "array([4.1884983 , 1.53541475, 1.5085826 , 2.83379748, 2.94832207,\n",
    "       1.98689609, 1.92418307, 2.25995833, 2.40071495, 2.42274423])"
   ],
   "outputs": [],
   "metadata": {}
  },
  {
   "cell_type": "code",
   "execution_count": 234,
   "source": [
    "a = np.array([[0,         0],\n",
    " [0.05709389, 0.24707099],\n",
    " [0.48952425, 0.23022069]])"
   ],
   "outputs": [],
   "metadata": {}
  },
  {
   "cell_type": "code",
   "execution_count": 134,
   "source": [
    "a"
   ],
   "outputs": [
    {
     "output_type": "execute_result",
     "data": {
      "text/plain": [
       "array([[0.        , 0.        ],\n",
       "       [0.05709389, 0.24707099],\n",
       "       [0.48952425, 0.23022069]])"
      ]
     },
     "metadata": {},
     "execution_count": 134
    }
   ],
   "metadata": {}
  },
  {
   "cell_type": "code",
   "execution_count": 137,
   "source": [
    "weights = np.array([1, 0.51519018, 0.48480982])\n",
    "weights"
   ],
   "outputs": [
    {
     "output_type": "execute_result",
     "data": {
      "text/plain": [
       "array([1.        , 0.51519018, 0.48480982])"
      ]
     },
     "metadata": {},
     "execution_count": 137
    }
   ],
   "metadata": {}
  },
  {
   "cell_type": "code",
   "execution_count": 215,
   "source": [
    "weights.transpose().shape"
   ],
   "outputs": [
    {
     "output_type": "execute_result",
     "data": {
      "text/plain": [
       "(3,)"
      ]
     },
     "metadata": {},
     "execution_count": 215
    }
   ],
   "metadata": {}
  },
  {
   "cell_type": "code",
   "execution_count": 213,
   "source": [
    "weights.shape"
   ],
   "outputs": [
    {
     "output_type": "execute_result",
     "data": {
      "text/plain": [
       "(3,)"
      ]
     },
     "metadata": {},
     "execution_count": 213
    }
   ],
   "metadata": {}
  },
  {
   "cell_type": "code",
   "execution_count": 208,
   "source": [
    "weights2 = np.concatenate([[weights, weights]]).transpose()\n",
    "weights2"
   ],
   "outputs": [
    {
     "output_type": "execute_result",
     "data": {
      "text/plain": [
       "array([[1.        , 1.        ],\n",
       "       [0.51519018, 0.51519018],\n",
       "       [0.48480982, 0.48480982]])"
      ]
     },
     "metadata": {},
     "execution_count": 208
    }
   ],
   "metadata": {}
  },
  {
   "cell_type": "code",
   "execution_count": 210,
   "source": [
    "weights"
   ],
   "outputs": [
    {
     "output_type": "execute_result",
     "data": {
      "text/plain": [
       "array([1.        , 0.51519018, 0.48480982])"
      ]
     },
     "metadata": {},
     "execution_count": 210
    }
   ],
   "metadata": {}
  },
  {
   "cell_type": "code",
   "execution_count": 221,
   "source": [
    "weights.reshape(3,1)"
   ],
   "outputs": [
    {
     "output_type": "execute_result",
     "data": {
      "text/plain": [
       "array([[1.        ],\n",
       "       [0.51519018],\n",
       "       [0.48480982]])"
      ]
     },
     "metadata": {},
     "execution_count": 221
    }
   ],
   "metadata": {}
  },
  {
   "cell_type": "code",
   "execution_count": 237,
   "source": [
    "weights2 = np.broadcast_to(weights.reshape(3,1), (3,2))"
   ],
   "outputs": [],
   "metadata": {}
  },
  {
   "cell_type": "code",
   "execution_count": 136,
   "source": [
    "np.mean(np.average(a, axis=0, weights=weights))"
   ],
   "outputs": [
    {
     "output_type": "execute_result",
     "data": {
      "text/plain": [
       "0.1264105435210473"
      ]
     },
     "metadata": {},
     "execution_count": 136
    }
   ],
   "metadata": {}
  },
  {
   "cell_type": "code",
   "execution_count": 238,
   "source": [
    "np.average(a, weights=weights2)"
   ],
   "outputs": [
    {
     "output_type": "execute_result",
     "data": {
      "text/plain": [
       "0.12641054352104727"
      ]
     },
     "metadata": {},
     "execution_count": 238
    }
   ],
   "metadata": {}
  },
  {
   "cell_type": "markdown",
   "source": [
    "# Other"
   ],
   "metadata": {}
  },
  {
   "cell_type": "code",
   "execution_count": 1,
   "source": [
    "from data import load_data\n",
    "import numpy as np"
   ],
   "outputs": [],
   "metadata": {}
  },
  {
   "cell_type": "code",
   "execution_count": 2,
   "source": [
    "A,_,vld, train, train_idx, vld_idx = load_data()"
   ],
   "outputs": [],
   "metadata": {}
  },
  {
   "cell_type": "code",
   "execution_count": 3,
   "source": [
    "train_idx.shape"
   ],
   "outputs": [
    {
     "output_type": "execute_result",
     "data": {
      "text/plain": [
       "(80,)"
      ]
     },
     "metadata": {},
     "execution_count": 3
    }
   ],
   "metadata": {}
  },
  {
   "cell_type": "code",
   "execution_count": 4,
   "source": [
    "train_idx"
   ],
   "outputs": [
    {
     "output_type": "execute_result",
     "data": {
      "text/plain": [
       "array([ 0,  3,  4,  5,  6,  7,  8,  9, 10, 11, 12, 13, 15, 16, 17, 18, 19,\n",
       "       22, 24, 25, 26, 27, 28, 30, 31, 32, 33, 34, 35, 36, 38, 39, 40, 41,\n",
       "       42, 43, 44, 45, 46, 47, 48, 49, 50, 53, 54, 55, 56, 57, 58, 59, 61,\n",
       "       62, 64, 65, 66, 67, 68, 69, 70, 72, 73, 75, 76, 77, 78, 79, 80, 81,\n",
       "       83, 85, 88, 89, 90, 93, 94, 95, 96, 97, 98, 99])"
      ]
     },
     "metadata": {},
     "execution_count": 4
    }
   ],
   "metadata": {}
  },
  {
   "cell_type": "code",
   "execution_count": 5,
   "source": [
    "vld_idx.shape"
   ],
   "outputs": [
    {
     "output_type": "execute_result",
     "data": {
      "text/plain": [
       "(20,)"
      ]
     },
     "metadata": {},
     "execution_count": 5
    }
   ],
   "metadata": {}
  },
  {
   "cell_type": "code",
   "execution_count": 6,
   "source": [
    "vld_idx"
   ],
   "outputs": [
    {
     "output_type": "execute_result",
     "data": {
      "text/plain": [
       "array([ 1,  2, 14, 20, 21, 23, 29, 37, 51, 52, 60, 63, 71, 74, 82, 84, 86,\n",
       "       87, 91, 92])"
      ]
     },
     "metadata": {},
     "execution_count": 6
    }
   ],
   "metadata": {}
  },
  {
   "cell_type": "code",
   "execution_count": 7,
   "source": [
    "A.shape"
   ],
   "outputs": [
    {
     "output_type": "execute_result",
     "data": {
      "text/plain": [
       "(20631, 26)"
      ]
     },
     "metadata": {},
     "execution_count": 7
    }
   ],
   "metadata": {}
  },
  {
   "cell_type": "code",
   "execution_count": 8,
   "source": [
    "vld.shape"
   ],
   "outputs": [
    {
     "output_type": "execute_result",
     "data": {
      "text/plain": [
       "(1838, 26)"
      ]
     },
     "metadata": {},
     "execution_count": 8
    }
   ],
   "metadata": {}
  },
  {
   "cell_type": "code",
   "execution_count": 9,
   "source": [
    "train.shape"
   ],
   "outputs": [
    {
     "output_type": "execute_result",
     "data": {
      "text/plain": [
       "(16340, 26)"
      ]
     },
     "metadata": {},
     "execution_count": 9
    }
   ],
   "metadata": {}
  },
  {
   "cell_type": "code",
   "execution_count": 10,
   "source": [
    "train.shape[0] + vld.shape[0] == A.shape[0]"
   ],
   "outputs": [
    {
     "output_type": "execute_result",
     "data": {
      "text/plain": [
       "False"
      ]
     },
     "metadata": {},
     "execution_count": 10
    }
   ],
   "metadata": {}
  },
  {
   "cell_type": "code",
   "execution_count": 4,
   "source": [
    "np.array([X[X.unit_number==i].time.max() for i in X.unit_number.unique()]).min()"
   ],
   "outputs": [
    {
     "output_type": "execute_result",
     "data": {
      "text/plain": [
       "31"
      ]
     },
     "metadata": {},
     "execution_count": 4
    }
   ],
   "metadata": {}
  },
  {
   "cell_type": "markdown",
   "source": [
    "# Other 2"
   ],
   "metadata": {}
  },
  {
   "cell_type": "code",
   "execution_count": 19,
   "source": [
    "from preprocessing import build_data\n",
    "from sklearn.preprocessing import MinMaxScaler\n",
    "from sklearn import pipeline\n",
    "from sklearn.feature_selection import VarianceThreshold\n",
    "\n",
    "\n"
   ],
   "outputs": [],
   "metadata": {}
  },
  {
   "cell_type": "code",
   "execution_count": 20,
   "source": [
    " net_cfg={'max_time': 100, 'lr': 0.01, 'num_rec': 3, 'neuron_0': 100, 'activation_0': 'tanh', 'dropout_0': 0.25, 'recurrent_dropout_0': 0.25, \n",
    "    'neuron_1': 50, 'activation_1': 'tanh', 'dropout_1': 0.25, 'recurrent_dropout_1': 0.25, \n",
    "    'neuron_2': 20, 'activation_2': 'tanh', 'dropout_2': 0.25, 'recurrent_dropout_2': 0.25, \n",
    "    'final_activation_0': 'exp', 'final_activation_1': 'softplus', 'percentage': 70, 'rul': 115, 'rul_style': 'nonlinear'}\n",
    "\n",
    "cfg = {'cv': 10, 'shuffle': True,\n",
    "        'random_state': 21,\n",
    "        'mask_value': -99,\n",
    "        'reps': 30,\n",
    "        'epochs': 20,\n",
    "        'batches': 64}\n",
    "    "
   ],
   "outputs": [],
   "metadata": {}
  },
  {
   "cell_type": "code",
   "execution_count": 21,
   "source": [
    "train_x_orig, feature_cols, vld_x_orig = load_data()"
   ],
   "outputs": [],
   "metadata": {}
  },
  {
   "cell_type": "code",
   "execution_count": 22,
   "source": [
    "# Pre-processing data\n",
    "scaler = pipeline.Pipeline(steps=[\n",
    "    ('minmax', MinMaxScaler(feature_range=(-1, 1))),\n",
    "    ('remove_constant', VarianceThreshold())])"
   ],
   "outputs": [],
   "metadata": {}
  },
  {
   "cell_type": "code",
   "execution_count": 23,
   "source": [
    "train = train_x_orig.copy()\n",
    "train = np.concatenate([train[['unit_number', 'time']], scaler.fit_transform(train[feature_cols])], axis=1)\n",
    "\n",
    "vld = vld_x_orig.copy()\n",
    "vld = np.concatenate([vld[['unit_number', 'time']], scaler.transform(vld[feature_cols])], axis=1)"
   ],
   "outputs": [],
   "metadata": {}
  },
  {
   "cell_type": "code",
   "execution_count": 24,
   "source": [
    "train_x, train_y = build_data(units=train[:, 0], time=train[:, 1], x=train[:, 2:], max_time=net_cfg['max_time'],\n",
    "                                    is_test=False, mask_value=cfg['mask_value'],\n",
    "                                    original_data=None, net_cfg = net_cfg, label=net_cfg['rul_style'])"
   ],
   "outputs": [
    {
     "output_type": "stream",
     "name": "stderr",
     "text": [
      "100%|██████████| 80/80 [00:01<00:00, 70.99it/s]\n"
     ]
    }
   ],
   "metadata": {}
  },
  {
   "cell_type": "code",
   "execution_count": 25,
   "source": [
    "test_x, test_y = build_data(units=vld[:, 0], time=vld[:, 1], x=vld[:, 2:], max_time=net_cfg['max_time'],\n",
    "                                is_test=True, mask_value=cfg['mask_value'],\n",
    "                                original_data=vld_x_orig, net_cfg = net_cfg, label=net_cfg['rul_style'])\n"
   ],
   "outputs": [
    {
     "output_type": "stream",
     "name": "stderr",
     "text": [
      "100%|██████████| 20/20 [00:00<00:00, 828.77it/s]\n"
     ]
    }
   ],
   "metadata": {}
  },
  {
   "cell_type": "markdown",
   "source": [
    "# Checking results"
   ],
   "metadata": {}
  },
  {
   "cell_type": "code",
   "execution_count": 5,
   "source": [
    "import pandas as pd\n",
    "import matplotlib.pyplot as plt"
   ],
   "outputs": [],
   "metadata": {}
  },
  {
   "cell_type": "code",
   "execution_count": 3,
   "source": [
    "results = pd.read_csv('./results_no_cv_HO')"
   ],
   "outputs": [],
   "metadata": {}
  },
  {
   "cell_type": "code",
   "execution_count": 4,
   "source": [
    "results"
   ],
   "outputs": [
    {
     "output_type": "execute_result",
     "data": {
      "text/html": [
       "<div>\n",
       "<style scoped>\n",
       "    .dataframe tbody tr th:only-of-type {\n",
       "        vertical-align: middle;\n",
       "    }\n",
       "\n",
       "    .dataframe tbody tr th {\n",
       "        vertical-align: top;\n",
       "    }\n",
       "\n",
       "    .dataframe thead th {\n",
       "        text-align: right;\n",
       "    }\n",
       "</style>\n",
       "<table border=\"1\" class=\"dataframe\">\n",
       "  <thead>\n",
       "    <tr style=\"text-align: right;\">\n",
       "      <th></th>\n",
       "      <th>fold</th>\n",
       "      <th>rmse_train</th>\n",
       "      <th>mae_train</th>\n",
       "      <th>r2_train</th>\n",
       "      <th>std_train</th>\n",
       "      <th>rmse_test</th>\n",
       "      <th>mae_test</th>\n",
       "      <th>r2_test</th>\n",
       "      <th>std_test</th>\n",
       "      <th>net_cfg</th>\n",
       "    </tr>\n",
       "  </thead>\n",
       "  <tbody>\n",
       "    <tr>\n",
       "      <th>0</th>\n",
       "      <td>NaN</td>\n",
       "      <td>42.202866</td>\n",
       "      <td>36.435107</td>\n",
       "      <td>-27.466119</td>\n",
       "      <td>14.118401</td>\n",
       "      <td>43.845651</td>\n",
       "      <td>38.126250</td>\n",
       "      <td>-53.790583</td>\n",
       "      <td>14.277045</td>\n",
       "      <td>{\"num_rec\": 2, \"max_time\": 15, \"neuron_0\": 56,...</td>\n",
       "    </tr>\n",
       "    <tr>\n",
       "      <th>1</th>\n",
       "      <td>NaN</td>\n",
       "      <td>72.417777</td>\n",
       "      <td>57.954437</td>\n",
       "      <td>-344.628218</td>\n",
       "      <td>12.621413</td>\n",
       "      <td>66.253240</td>\n",
       "      <td>51.226734</td>\n",
       "      <td>-284.823586</td>\n",
       "      <td>12.796667</td>\n",
       "      <td>{\"num_rec\": 3, \"max_time\": 22, \"neuron_0\": 56,...</td>\n",
       "    </tr>\n",
       "    <tr>\n",
       "      <th>2</th>\n",
       "      <td>NaN</td>\n",
       "      <td>38.192010</td>\n",
       "      <td>26.351371</td>\n",
       "      <td>-6.681403</td>\n",
       "      <td>13.402648</td>\n",
       "      <td>23.475921</td>\n",
       "      <td>14.239514</td>\n",
       "      <td>-14.031767</td>\n",
       "      <td>11.297789</td>\n",
       "      <td>{\"num_rec\": 3, \"max_time\": 21, \"neuron_0\": 63,...</td>\n",
       "    </tr>\n",
       "    <tr>\n",
       "      <th>3</th>\n",
       "      <td>NaN</td>\n",
       "      <td>36.173817</td>\n",
       "      <td>23.635571</td>\n",
       "      <td>-303.231498</td>\n",
       "      <td>3.379708</td>\n",
       "      <td>14.918328</td>\n",
       "      <td>10.848296</td>\n",
       "      <td>-197.455496</td>\n",
       "      <td>3.139416</td>\n",
       "      <td>{\"num_rec\": 3, \"max_time\": 26, \"neuron_0\": 81,...</td>\n",
       "    </tr>\n",
       "    <tr>\n",
       "      <th>4</th>\n",
       "      <td>NaN</td>\n",
       "      <td>35.844815</td>\n",
       "      <td>27.606012</td>\n",
       "      <td>-19.304364</td>\n",
       "      <td>5.900217</td>\n",
       "      <td>18.770762</td>\n",
       "      <td>16.478312</td>\n",
       "      <td>-6.391346</td>\n",
       "      <td>6.598509</td>\n",
       "      <td>{\"num_rec\": 3, \"max_time\": 33, \"neuron_0\": 74,...</td>\n",
       "    </tr>\n",
       "    <tr>\n",
       "      <th>5</th>\n",
       "      <td>NaN</td>\n",
       "      <td>37.642555</td>\n",
       "      <td>25.848663</td>\n",
       "      <td>-13.519016</td>\n",
       "      <td>7.560143</td>\n",
       "      <td>20.359301</td>\n",
       "      <td>13.870752</td>\n",
       "      <td>-31.868837</td>\n",
       "      <td>6.248027</td>\n",
       "      <td>{\"num_rec\": 3, \"max_time\": 36, \"neuron_0\": 69,...</td>\n",
       "    </tr>\n",
       "    <tr>\n",
       "      <th>6</th>\n",
       "      <td>NaN</td>\n",
       "      <td>55.147214</td>\n",
       "      <td>46.550768</td>\n",
       "      <td>-1.240077</td>\n",
       "      <td>7.645345</td>\n",
       "      <td>54.716844</td>\n",
       "      <td>46.055594</td>\n",
       "      <td>-23.218774</td>\n",
       "      <td>6.125483</td>\n",
       "      <td>{\"num_rec\": 2, \"max_time\": 26, \"neuron_0\": 88,...</td>\n",
       "    </tr>\n",
       "    <tr>\n",
       "      <th>7</th>\n",
       "      <td>NaN</td>\n",
       "      <td>21.930715</td>\n",
       "      <td>14.549721</td>\n",
       "      <td>-0.339728</td>\n",
       "      <td>11.969555</td>\n",
       "      <td>12.642588</td>\n",
       "      <td>7.638561</td>\n",
       "      <td>-2.650647</td>\n",
       "      <td>12.472796</td>\n",
       "      <td>{\"num_rec\": 2, \"max_time\": 21, \"neuron_0\": 62,...</td>\n",
       "    </tr>\n",
       "    <tr>\n",
       "      <th>8</th>\n",
       "      <td>NaN</td>\n",
       "      <td>2114.228369</td>\n",
       "      <td>156.152675</td>\n",
       "      <td>-0.000217</td>\n",
       "      <td>100.208021</td>\n",
       "      <td>56.462788</td>\n",
       "      <td>53.757092</td>\n",
       "      <td>-5872.060861</td>\n",
       "      <td>2.085399</td>\n",
       "      <td>{\"num_rec\": 3, \"max_time\": 23, \"neuron_0\": 77,...</td>\n",
       "    </tr>\n",
       "    <tr>\n",
       "      <th>9</th>\n",
       "      <td>NaN</td>\n",
       "      <td>23.455651</td>\n",
       "      <td>19.686773</td>\n",
       "      <td>0.081637</td>\n",
       "      <td>4.773383</td>\n",
       "      <td>23.222712</td>\n",
       "      <td>20.095152</td>\n",
       "      <td>-5.096465</td>\n",
       "      <td>4.186386</td>\n",
       "      <td>{\"num_rec\": 3, \"max_time\": 14, \"neuron_0\": 68,...</td>\n",
       "    </tr>\n",
       "    <tr>\n",
       "      <th>10</th>\n",
       "      <td>NaN</td>\n",
       "      <td>69.542413</td>\n",
       "      <td>54.457334</td>\n",
       "      <td>-30.510750</td>\n",
       "      <td>22.929947</td>\n",
       "      <td>67.498400</td>\n",
       "      <td>51.341674</td>\n",
       "      <td>-71.205817</td>\n",
       "      <td>22.518286</td>\n",
       "      <td>{\"num_rec\": 2, \"max_time\": 33, \"neuron_0\": 62,...</td>\n",
       "    </tr>\n",
       "    <tr>\n",
       "      <th>11</th>\n",
       "      <td>NaN</td>\n",
       "      <td>17.147072</td>\n",
       "      <td>13.043164</td>\n",
       "      <td>0.760335</td>\n",
       "      <td>8.831466</td>\n",
       "      <td>21.408088</td>\n",
       "      <td>16.078804</td>\n",
       "      <td>-0.517720</td>\n",
       "      <td>9.239047</td>\n",
       "      <td>{\"num_rec\": 3, \"max_time\": 20, \"neuron_0\": 72,...</td>\n",
       "    </tr>\n",
       "    <tr>\n",
       "      <th>12</th>\n",
       "      <td>NaN</td>\n",
       "      <td>24.210430</td>\n",
       "      <td>20.148338</td>\n",
       "      <td>0.235836</td>\n",
       "      <td>6.282020</td>\n",
       "      <td>24.930524</td>\n",
       "      <td>19.641766</td>\n",
       "      <td>-6.248967</td>\n",
       "      <td>4.617355</td>\n",
       "      <td>{\"num_rec\": 4, \"max_time\": 18, \"neuron_0\": 68,...</td>\n",
       "    </tr>\n",
       "    <tr>\n",
       "      <th>13</th>\n",
       "      <td>NaN</td>\n",
       "      <td>834.528941</td>\n",
       "      <td>113.888197</td>\n",
       "      <td>-0.016082</td>\n",
       "      <td>33.122199</td>\n",
       "      <td>55.561960</td>\n",
       "      <td>52.732301</td>\n",
       "      <td>-24.434883</td>\n",
       "      <td>10.665646</td>\n",
       "      <td>{\"num_rec\": 2, \"max_time\": 22, \"neuron_0\": 77,...</td>\n",
       "    </tr>\n",
       "    <tr>\n",
       "      <th>14</th>\n",
       "      <td>NaN</td>\n",
       "      <td>32.330508</td>\n",
       "      <td>27.709851</td>\n",
       "      <td>-2.053433</td>\n",
       "      <td>6.168728</td>\n",
       "      <td>27.283737</td>\n",
       "      <td>22.618586</td>\n",
       "      <td>-33.557535</td>\n",
       "      <td>3.898768</td>\n",
       "      <td>{\"num_rec\": 3, \"max_time\": 19, \"neuron_0\": 92,...</td>\n",
       "    </tr>\n",
       "  </tbody>\n",
       "</table>\n",
       "</div>"
      ],
      "text/plain": [
       "    fold   rmse_train   mae_train    r2_train   std_train  rmse_test  \\\n",
       "0    NaN    42.202866   36.435107  -27.466119   14.118401  43.845651   \n",
       "1    NaN    72.417777   57.954437 -344.628218   12.621413  66.253240   \n",
       "2    NaN    38.192010   26.351371   -6.681403   13.402648  23.475921   \n",
       "3    NaN    36.173817   23.635571 -303.231498    3.379708  14.918328   \n",
       "4    NaN    35.844815   27.606012  -19.304364    5.900217  18.770762   \n",
       "5    NaN    37.642555   25.848663  -13.519016    7.560143  20.359301   \n",
       "6    NaN    55.147214   46.550768   -1.240077    7.645345  54.716844   \n",
       "7    NaN    21.930715   14.549721   -0.339728   11.969555  12.642588   \n",
       "8    NaN  2114.228369  156.152675   -0.000217  100.208021  56.462788   \n",
       "9    NaN    23.455651   19.686773    0.081637    4.773383  23.222712   \n",
       "10   NaN    69.542413   54.457334  -30.510750   22.929947  67.498400   \n",
       "11   NaN    17.147072   13.043164    0.760335    8.831466  21.408088   \n",
       "12   NaN    24.210430   20.148338    0.235836    6.282020  24.930524   \n",
       "13   NaN   834.528941  113.888197   -0.016082   33.122199  55.561960   \n",
       "14   NaN    32.330508   27.709851   -2.053433    6.168728  27.283737   \n",
       "\n",
       "     mae_test      r2_test   std_test  \\\n",
       "0   38.126250   -53.790583  14.277045   \n",
       "1   51.226734  -284.823586  12.796667   \n",
       "2   14.239514   -14.031767  11.297789   \n",
       "3   10.848296  -197.455496   3.139416   \n",
       "4   16.478312    -6.391346   6.598509   \n",
       "5   13.870752   -31.868837   6.248027   \n",
       "6   46.055594   -23.218774   6.125483   \n",
       "7    7.638561    -2.650647  12.472796   \n",
       "8   53.757092 -5872.060861   2.085399   \n",
       "9   20.095152    -5.096465   4.186386   \n",
       "10  51.341674   -71.205817  22.518286   \n",
       "11  16.078804    -0.517720   9.239047   \n",
       "12  19.641766    -6.248967   4.617355   \n",
       "13  52.732301   -24.434883  10.665646   \n",
       "14  22.618586   -33.557535   3.898768   \n",
       "\n",
       "                                              net_cfg  \n",
       "0   {\"num_rec\": 2, \"max_time\": 15, \"neuron_0\": 56,...  \n",
       "1   {\"num_rec\": 3, \"max_time\": 22, \"neuron_0\": 56,...  \n",
       "2   {\"num_rec\": 3, \"max_time\": 21, \"neuron_0\": 63,...  \n",
       "3   {\"num_rec\": 3, \"max_time\": 26, \"neuron_0\": 81,...  \n",
       "4   {\"num_rec\": 3, \"max_time\": 33, \"neuron_0\": 74,...  \n",
       "5   {\"num_rec\": 3, \"max_time\": 36, \"neuron_0\": 69,...  \n",
       "6   {\"num_rec\": 2, \"max_time\": 26, \"neuron_0\": 88,...  \n",
       "7   {\"num_rec\": 2, \"max_time\": 21, \"neuron_0\": 62,...  \n",
       "8   {\"num_rec\": 3, \"max_time\": 23, \"neuron_0\": 77,...  \n",
       "9   {\"num_rec\": 3, \"max_time\": 14, \"neuron_0\": 68,...  \n",
       "10  {\"num_rec\": 2, \"max_time\": 33, \"neuron_0\": 62,...  \n",
       "11  {\"num_rec\": 3, \"max_time\": 20, \"neuron_0\": 72,...  \n",
       "12  {\"num_rec\": 4, \"max_time\": 18, \"neuron_0\": 68,...  \n",
       "13  {\"num_rec\": 2, \"max_time\": 22, \"neuron_0\": 77,...  \n",
       "14  {\"num_rec\": 3, \"max_time\": 19, \"neuron_0\": 92,...  "
      ]
     },
     "metadata": {},
     "execution_count": 4
    }
   ],
   "metadata": {}
  },
  {
   "cell_type": "code",
   "execution_count": 13,
   "source": [
    "results.iloc[6:].plot.scatter(x='rmse_test', y='std_test')"
   ],
   "outputs": [
    {
     "output_type": "execute_result",
     "data": {
      "text/plain": [
       "<AxesSubplot:xlabel='rmse_test', ylabel='std_test'>"
      ]
     },
     "metadata": {},
     "execution_count": 13
    },
    {
     "output_type": "display_data",
     "data": {
      "image/png": "[encoded data removed]",
      "text/plain": [
       "<Figure size 432x288 with 1 Axes>"
      ]
     },
     "metadata": {
      "needs_background": "light"
     }
    }
   ],
   "metadata": {}
  },
  {
   "cell_type": "code",
   "execution_count": 1,
   "source": [
    "from subprocess import STDOUT, check_output\n",
    "import testing, subprocess\n",
    "import re"
   ],
   "outputs": [
    {
     "output_type": "stream",
     "name": "stdout",
     "text": [
      "Time\n",
      "Marios\n",
      "(1, 2, True)\n"
     ]
    }
   ],
   "metadata": {}
  },
  {
   "cell_type": "code",
   "execution_count": 2,
   "source": [
    "a = testing.func()"
   ],
   "outputs": [
    {
     "output_type": "stream",
     "name": "stdout",
     "text": [
      "Marios\n"
     ]
    }
   ],
   "metadata": {}
  },
  {
   "cell_type": "code",
   "execution_count": 3,
   "source": [
    "a"
   ],
   "outputs": [
    {
     "output_type": "execute_result",
     "data": {
      "text/plain": [
       "(1, 2, True)"
      ]
     },
     "metadata": {},
     "execution_count": 3
    }
   ],
   "metadata": {}
  },
  {
   "cell_type": "code",
   "execution_count": 4,
   "source": [
    "cmd = ['python3', 'testing.py']"
   ],
   "outputs": [],
   "metadata": {}
  },
  {
   "cell_type": "code",
   "execution_count": 5,
   "source": [
    "outs = \" \""
   ],
   "outputs": [],
   "metadata": {}
  },
  {
   "cell_type": "code",
   "execution_count": 19,
   "source": [
    "outs = str(check_output(cmd,stderr=STDOUT, timeout=40000, encoding=\"utf8\"))"
   ],
   "outputs": [],
   "metadata": {}
  },
  {
   "cell_type": "code",
   "execution_count": 20,
   "source": [
    "outs"
   ],
   "outputs": [
    {
     "output_type": "execute_result",
     "data": {
      "text/plain": [
       "'Time\\nMarios\\n(1, 2, True)\\n'"
      ]
     },
     "metadata": {},
     "execution_count": 20
    }
   ],
   "metadata": {}
  },
  {
   "cell_type": "code",
   "execution_count": 17,
   "source": [
    "outs = outs.split('\\n')"
   ],
   "outputs": [],
   "metadata": {}
  },
  {
   "cell_type": "code",
   "execution_count": 18,
   "source": [
    "outs"
   ],
   "outputs": [
    {
     "output_type": "execute_result",
     "data": {
      "text/plain": [
       "['Time', 'Marios', '(1, 2, True)', '']"
      ]
     },
     "metadata": {},
     "execution_count": 18
    }
   ],
   "metadata": {}
  },
  {
   "cell_type": "code",
   "execution_count": 13,
   "source": [
    "a = outs[-2]"
   ],
   "outputs": [],
   "metadata": {}
  },
  {
   "cell_type": "code",
   "execution_count": 14,
   "source": [
    "a"
   ],
   "outputs": [
    {
     "output_type": "execute_result",
     "data": {
      "text/plain": [
       "'(1, 2, True)'"
      ]
     },
     "metadata": {},
     "execution_count": 14
    }
   ],
   "metadata": {}
  },
  {
   "cell_type": "code",
   "execution_count": 15,
   "source": [
    "eval(a)"
   ],
   "outputs": [
    {
     "output_type": "execute_result",
     "data": {
      "text/plain": [
       "(1, 2, True)"
      ]
     },
     "metadata": {},
     "execution_count": 15
    }
   ],
   "metadata": {}
  },
  {
   "cell_type": "code",
   "execution_count": 32,
   "source": [
    "[-1 * float(a[0]), -1 * float(a[1]), bool(a[2])]"
   ],
   "outputs": [
    {
     "output_type": "error",
     "ename": "ValueError",
     "evalue": "could not convert string to float: '('",
     "traceback": [
      "\u001b[0;31m---------------------------------------------------------------------------\u001b[0m",
      "\u001b[0;31mValueError\u001b[0m                                Traceback (most recent call last)",
      "\u001b[0;32m<ipython-input-32-31e6e39377db>\u001b[0m in \u001b[0;36m<module>\u001b[0;34m\u001b[0m\n\u001b[0;32m----> 1\u001b[0;31m \u001b[0;34m[\u001b[0m\u001b[0;34m-\u001b[0m\u001b[0;36m1\u001b[0m \u001b[0;34m*\u001b[0m \u001b[0mfloat\u001b[0m\u001b[0;34m(\u001b[0m\u001b[0ma\u001b[0m\u001b[0;34m[\u001b[0m\u001b[0;36m0\u001b[0m\u001b[0;34m]\u001b[0m\u001b[0;34m)\u001b[0m\u001b[0;34m,\u001b[0m \u001b[0;34m-\u001b[0m\u001b[0;36m1\u001b[0m \u001b[0;34m*\u001b[0m \u001b[0mfloat\u001b[0m\u001b[0;34m(\u001b[0m\u001b[0ma\u001b[0m\u001b[0;34m[\u001b[0m\u001b[0;36m1\u001b[0m\u001b[0;34m]\u001b[0m\u001b[0;34m)\u001b[0m\u001b[0;34m,\u001b[0m \u001b[0mbool\u001b[0m\u001b[0;34m(\u001b[0m\u001b[0ma\u001b[0m\u001b[0;34m[\u001b[0m\u001b[0;36m2\u001b[0m\u001b[0;34m]\u001b[0m\u001b[0;34m)\u001b[0m\u001b[0;34m]\u001b[0m\u001b[0;34m\u001b[0m\u001b[0;34m\u001b[0m\u001b[0m\n\u001b[0m",
      "\u001b[0;31mValueError\u001b[0m: could not convert string to float: '('"
     ]
    }
   ],
   "metadata": {}
  },
  {
   "cell_type": "code",
   "execution_count": 28,
   "source": [
    "outs = outs.split('\\n')"
   ],
   "outputs": [
    {
     "output_type": "error",
     "ename": "AttributeError",
     "evalue": "'list' object has no attribute 'split'",
     "traceback": [
      "\u001b[0;31m---------------------------------------------------------------------------\u001b[0m",
      "\u001b[0;31mAttributeError\u001b[0m                            Traceback (most recent call last)",
      "\u001b[0;32m<ipython-input-28-55dc2f14289b>\u001b[0m in \u001b[0;36m<module>\u001b[0;34m\u001b[0m\n\u001b[0;32m----> 1\u001b[0;31m \u001b[0mouts\u001b[0m \u001b[0;34m=\u001b[0m \u001b[0mouts\u001b[0m\u001b[0;34m.\u001b[0m\u001b[0msplit\u001b[0m\u001b[0;34m(\u001b[0m\u001b[0;34m'\\n'\u001b[0m\u001b[0;34m)\u001b[0m\u001b[0;34m\u001b[0m\u001b[0;34m\u001b[0m\u001b[0m\n\u001b[0m",
      "\u001b[0;31mAttributeError\u001b[0m: 'list' object has no attribute 'split'"
     ]
    }
   ],
   "metadata": {}
  },
  {
   "cell_type": "code",
   "execution_count": 24,
   "source": [
    "for i in range(len(outs)):\n",
    "                if re.match(r'\\(.*?,.*?\\)', outs[i]) is not None:\n",
    "                    print(outs[i])"
   ],
   "outputs": [
    {
     "output_type": "stream",
     "name": "stdout",
     "text": [
      "(1, 2, True)\n"
     ]
    }
   ],
   "metadata": {}
  },
  {
   "cell_type": "code",
   "execution_count": 13,
   "source": [
    "outs[0]\n",
    "tuple(float(s) for s in outs[0].strip(\"()\").split(\",\"))"
   ],
   "outputs": [
    {
     "output_type": "error",
     "ename": "ValueError",
     "evalue": "could not convert string to float: ' True'",
     "traceback": [
      "\u001b[0;31m---------------------------------------------------------------------------\u001b[0m",
      "\u001b[0;31mValueError\u001b[0m                                Traceback (most recent call last)",
      "\u001b[0;32m<ipython-input-13-6a66e14e4a29>\u001b[0m in \u001b[0;36m<module>\u001b[0;34m\u001b[0m\n\u001b[1;32m      1\u001b[0m \u001b[0mouts\u001b[0m\u001b[0;34m[\u001b[0m\u001b[0;36m0\u001b[0m\u001b[0;34m]\u001b[0m\u001b[0;34m\u001b[0m\u001b[0;34m\u001b[0m\u001b[0m\n\u001b[0;32m----> 2\u001b[0;31m \u001b[0mtuple\u001b[0m\u001b[0;34m(\u001b[0m\u001b[0mfloat\u001b[0m\u001b[0;34m(\u001b[0m\u001b[0ms\u001b[0m\u001b[0;34m)\u001b[0m \u001b[0;32mfor\u001b[0m \u001b[0ms\u001b[0m \u001b[0;32min\u001b[0m \u001b[0mouts\u001b[0m\u001b[0;34m[\u001b[0m\u001b[0;36m0\u001b[0m\u001b[0;34m]\u001b[0m\u001b[0;34m.\u001b[0m\u001b[0mstrip\u001b[0m\u001b[0;34m(\u001b[0m\u001b[0;34m\"()\"\u001b[0m\u001b[0;34m)\u001b[0m\u001b[0;34m.\u001b[0m\u001b[0msplit\u001b[0m\u001b[0;34m(\u001b[0m\u001b[0;34m\",\"\u001b[0m\u001b[0;34m)\u001b[0m\u001b[0;34m)\u001b[0m\u001b[0;34m\u001b[0m\u001b[0;34m\u001b[0m\u001b[0m\n\u001b[0m",
      "\u001b[0;32m<ipython-input-13-6a66e14e4a29>\u001b[0m in \u001b[0;36m<genexpr>\u001b[0;34m(.0)\u001b[0m\n\u001b[1;32m      1\u001b[0m \u001b[0mouts\u001b[0m\u001b[0;34m[\u001b[0m\u001b[0;36m0\u001b[0m\u001b[0;34m]\u001b[0m\u001b[0;34m\u001b[0m\u001b[0;34m\u001b[0m\u001b[0m\n\u001b[0;32m----> 2\u001b[0;31m \u001b[0mtuple\u001b[0m\u001b[0;34m(\u001b[0m\u001b[0mfloat\u001b[0m\u001b[0;34m(\u001b[0m\u001b[0ms\u001b[0m\u001b[0;34m)\u001b[0m \u001b[0;32mfor\u001b[0m \u001b[0ms\u001b[0m \u001b[0;32min\u001b[0m \u001b[0mouts\u001b[0m\u001b[0;34m[\u001b[0m\u001b[0;36m0\u001b[0m\u001b[0;34m]\u001b[0m\u001b[0;34m.\u001b[0m\u001b[0mstrip\u001b[0m\u001b[0;34m(\u001b[0m\u001b[0;34m\"()\"\u001b[0m\u001b[0;34m)\u001b[0m\u001b[0;34m.\u001b[0m\u001b[0msplit\u001b[0m\u001b[0;34m(\u001b[0m\u001b[0;34m\",\"\u001b[0m\u001b[0;34m)\u001b[0m\u001b[0;34m)\u001b[0m\u001b[0;34m\u001b[0m\u001b[0;34m\u001b[0m\u001b[0m\n\u001b[0m",
      "\u001b[0;31mValueError\u001b[0m: could not convert string to float: ' True'"
     ]
    }
   ],
   "metadata": {}
  },
  {
   "cell_type": "code",
   "execution_count": 8,
   "source": [
    "outs = outs.split(\"\\n\")"
   ],
   "outputs": [],
   "metadata": {}
  },
  {
   "cell_type": "code",
   "execution_count": 9,
   "source": [
    "float(outs[0])"
   ],
   "outputs": [
    {
     "output_type": "error",
     "ename": "ValueError",
     "evalue": "could not convert string to float: '(1, 2, 3)'",
     "traceback": [
      "\u001b[0;31m---------------------------------------------------------------------------\u001b[0m",
      "\u001b[0;31mValueError\u001b[0m                                Traceback (most recent call last)",
      "\u001b[0;32m<ipython-input-9-e854c6975d3b>\u001b[0m in \u001b[0;36m<module>\u001b[0;34m\u001b[0m\n\u001b[0;32m----> 1\u001b[0;31m \u001b[0mfloat\u001b[0m\u001b[0;34m(\u001b[0m\u001b[0mouts\u001b[0m\u001b[0;34m[\u001b[0m\u001b[0;36m0\u001b[0m\u001b[0;34m]\u001b[0m\u001b[0;34m)\u001b[0m\u001b[0;34m\u001b[0m\u001b[0;34m\u001b[0m\u001b[0m\n\u001b[0m",
      "\u001b[0;31mValueError\u001b[0m: could not convert string to float: '(1, 2, 3)'"
     ]
    }
   ],
   "metadata": {}
  },
  {
   "cell_type": "code",
   "execution_count": 20,
   "source": [
    "print(subprocess.check_output([\"echo\", \"abc\"]).decode(\"UTF-8\"))\n"
   ],
   "outputs": [
    {
     "output_type": "stream",
     "name": "stdout",
     "text": [
      "abc\n",
      "\n"
     ]
    }
   ],
   "metadata": {}
  },
  {
   "cell_type": "code",
   "execution_count": 21,
   "source": [
    "print(float(outs[0]))"
   ],
   "outputs": [
    {
     "output_type": "error",
     "ename": "ValueError",
     "evalue": "could not convert string to float: \"b'3\"",
     "traceback": [
      "\u001b[0;31m---------------------------------------------------------------------------\u001b[0m",
      "\u001b[0;31mValueError\u001b[0m                                Traceback (most recent call last)",
      "\u001b[0;32m<ipython-input-21-f6a7f2553399>\u001b[0m in \u001b[0;36m<module>\u001b[0;34m\u001b[0m\n\u001b[0;32m----> 1\u001b[0;31m \u001b[0mprint\u001b[0m\u001b[0;34m(\u001b[0m\u001b[0mfloat\u001b[0m\u001b[0;34m(\u001b[0m\u001b[0mouts\u001b[0m\u001b[0;34m[\u001b[0m\u001b[0;36m0\u001b[0m\u001b[0;34m]\u001b[0m\u001b[0;34m)\u001b[0m\u001b[0;34m)\u001b[0m\u001b[0;34m\u001b[0m\u001b[0;34m\u001b[0m\u001b[0m\n\u001b[0m",
      "\u001b[0;31mValueError\u001b[0m: could not convert string to float: \"b'3\""
     ]
    }
   ],
   "metadata": {}
  },
  {
   "cell_type": "code",
   "execution_count": null,
   "source": [],
   "outputs": [],
   "metadata": {}
  }
 ],
 "metadata": {
  "orig_nbformat": 4,
  "language_info": {
   "name": "python",
   "version": "3.8.8",
   "mimetype": "text/x-python",
   "codemirror_mode": {
    "name": "ipython",
    "version": 3
   },
   "pygments_lexer": "ipython3",
   "nbconvert_exporter": "python",
   "file_extension": ".py"
  },
  "kernelspec": {
   "name": "python3",
   "display_name": "Python 3.8.8 64-bit ('rul_nn': virtualenv)"
  },
  "interpreter": {
   "hash": "4000a7a6ee44f5e9ad604830731b987d83f87e046c93fb1fca3b0779acf4e02a"
  }
 },
 "nbformat": 4,
 "nbformat_minor": 2
}