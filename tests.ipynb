{
 "cells": [
  {
   "cell_type": "markdown",
   "metadata": {},
   "source": []
  },
  {
   "cell_type": "markdown",
   "metadata": {},
   "source": [
    "# Checking Results"
   ]
  },
  {
   "cell_type": "code",
   "execution_count": null,
   "metadata": {},
   "outputs": [],
   "source": [
    "import pandas as pd\n",
    "import pygmo as pg\n",
    "import matplotlib.pyplot as plt\n",
    "import seaborn as sns"
   ]
  },
  {
   "cell_type": "code",
   "execution_count": null,
   "metadata": {},
   "outputs": [],
   "source": [
    "configs = pd.read_csv('./results_no_cv_HO_29_10')"
   ]
  },
  {
   "cell_type": "code",
   "execution_count": null,
   "metadata": {},
   "outputs": [],
   "source": [
    "configs"
   ]
  },
  {
   "cell_type": "code",
   "execution_count": null,
   "metadata": {},
   "outputs": [],
   "source": [
    "pareto_index = pg.non_dominated_front_2d(configs[['rmse_test', 'std_test']])"
   ]
  },
  {
   "cell_type": "code",
   "execution_count": null,
   "metadata": {},
   "outputs": [],
   "source": [
    "pareto_configs = configs.iloc[pareto_index]"
   ]
  },
  {
   "cell_type": "code",
   "execution_count": null,
   "metadata": {},
   "outputs": [],
   "source": [
    "pareto_configs"
   ]
  },
  {
   "cell_type": "code",
   "execution_count": null,
   "metadata": {},
   "outputs": [],
   "source": [
    "pareto_configs.iloc[1].net_cfg"
   ]
  },
  {
   "cell_type": "code",
   "execution_count": null,
   "metadata": {},
   "outputs": [],
   "source": [
    "x = pareto_configs['rmse_test'].values\n",
    "y = pareto_configs['std_test'].values\n",
    "plt.fig\n",
    "plt.scatter(x, y)\n",
    "plt.xlabel('rmse_test')\n",
    "plt.ylabel('std_test')\n",
    "\n",
    "# for i, txt in enumerate(pareto_configs.index):\n",
    "#     plt.annotate(txt, (x[i], y[i]))"
   ]
  },
  {
   "cell_type": "code",
   "execution_count": null,
   "metadata": {},
   "outputs": [],
   "source": [
    "pareto_configs"
   ]
  },
  {
   "cell_type": "code",
   "execution_count": null,
   "metadata": {},
   "outputs": [],
   "source": [
    "sns.set_theme()\n",
    "\n",
    "plt.figure(figsize=(15,10))\n",
    "sns.scatterplot(data=pareto_configs, x='rmse_test', y='std_test')\n",
    "plt.title('Pareto Front')"
   ]
  },
  {
   "cell_type": "code",
   "execution_count": null,
   "metadata": {},
   "outputs": [],
   "source": [
    "pareto_configs.loc[186].net_cfg"
   ]
  },
  {
   "cell_type": "code",
   "execution_count": null,
   "metadata": {},
   "outputs": [],
   "source": []
  },
  {
   "cell_type": "markdown",
   "metadata": {},
   "source": [
    "# Checking if changes work"
   ]
  },
  {
   "cell_type": "code",
   "execution_count": 1,
   "metadata": {},
   "outputs": [],
   "source": [
    "import os\n",
    "os.environ[\"CUDA_VISIBLE_DEVICES\"]=\"-1\"\n",
    "\n",
    "import tensorflow as tf\n",
    "from preprocessing import build_data\n",
    "import pandas as pd\n",
    "import math\n",
    "from sklearn.metrics import mean_squared_error, mean_absolute_error, r2_score\n",
    "\n",
    "import matplotlib.pyplot as plt\n",
    "import seaborn as sns\n",
    "import numpy as np\n",
    "\n",
    "\n",
    "from activations import Activate\n",
    "from losses import CustomLoss\n",
    "from preprocessing import build_data\n",
    "\n",
    "\n",
    "import main\n",
    "\n"
   ]
  },
  {
   "cell_type": "code",
   "execution_count": 2,
   "metadata": {},
   "outputs": [],
   "source": [
    "def weibull_mean(alpha, beta):\n",
    "    return alpha * math.gamma(1 + 1/beta)"
   ]
  },
  {
   "cell_type": "code",
   "execution_count": 3,
   "metadata": {},
   "outputs": [
    {
     "name": "stderr",
     "output_type": "stream",
     "text": [
      "/home/kefalasm/Projects/rul_sa/mipego/mipego.py:215: VisibleDeprecationWarning: Creating an ndarray from ragged nested sequences (which is a list-or-tuple of lists-or-tuples-or ndarrays with different lengths or shapes) is deprecated. If you meant to do this, you must specify 'dtype=object' when creating the ndarray\n",
      "  self._levels = np.array([self._space.bounds[i] for i in self._space.id_N]) # levels for discrete variable\n"
     ]
    },
    {
     "name": "stdout",
     "output_type": "stream",
     "text": [
      "{'num_rec': 4, 'max_time': 24, 'neuron_0': 76, 'neuron_1': 75, 'neuron_2': 74, 'neuron_3': 66, 'activation_0': 'tanh', 'activation_1': 'tanh', 'activation_2': 'sigmoid', 'activation_3': 'sigmoid', 'dropout_0': 0.018692516794622607, 'dropout_1': 0.8002018342665917, 'dropout_2': 0.615094589188039, 'dropout_3': 0.08230738757019833, 'recurrent_dropout_0': 0.6421264747391056, 'recurrent_dropout_1': 0.8933998465284962, 'recurrent_dropout_2': 0.6402495109098905, 'recurrent_dropout_3': 0.6693624215836003, 'final_activation_0': 'softplus', 'final_activation_1': 'softplus', 'percentage': 62, 'rul': 124, 'rul_style': 'nonlinear', 'lr': '0.0008896860421074306', 'batch': '128'}\n"
     ]
    },
    {
     "name": "stderr",
     "output_type": "stream",
     "text": [
      " 15%|█▌        | 12/80 [00:00<00:00, 118.11it/s]"
     ]
    },
    {
     "name": "stdout",
     "output_type": "stream",
     "text": [
      "(16340, 26)\n",
      "(10312, 26)\n",
      "(100,)\n"
     ]
    },
    {
     "name": "stderr",
     "output_type": "stream",
     "text": [
      "100%|██████████| 80/80 [00:00<00:00, 113.38it/s]\n",
      "100%|██████████| 100/100 [00:00<00:00, 19219.65it/s]\n"
     ]
    },
    {
     "name": "stdout",
     "output_type": "stream",
     "text": [
      "train_x (16340, 24, 17) train_y (16340, 1) test_x (100, 24, 17) test_y (100, 1)\n",
      "WARNING:tensorflow:Layer gru will not use cuDNN kernels since it doesn't meet the criteria. It will use a generic GPU kernel as fallback when running on GPU.\n",
      "WARNING:tensorflow:Layer gru_1 will not use cuDNN kernels since it doesn't meet the criteria. It will use a generic GPU kernel as fallback when running on GPU.\n",
      "WARNING:tensorflow:Layer gru_2 will not use cuDNN kernels since it doesn't meet the criteria. It will use a generic GPU kernel as fallback when running on GPU.\n",
      "WARNING:tensorflow:Layer gru_3 will not use cuDNN kernels since it doesn't meet the criteria. It will use a generic GPU kernel as fallback when running on GPU.\n",
      "Model: \"weibull_params\"\n",
      "_________________________________________________________________\n",
      "Layer (type)                 Output Shape              Param #   \n",
      "=================================================================\n",
      "input_1 (InputLayer)         [(None, 24, 17)]          0         \n",
      "_________________________________________________________________\n",
      "masking (Masking)            (None, 24, 17)            0         \n",
      "_________________________________________________________________\n",
      "gru (GRU)                    (None, 24, 76)            21660     \n",
      "_________________________________________________________________\n",
      "gru_1 (GRU)                  (None, 24, 75)            34425     \n",
      "_________________________________________________________________\n",
      "gru_2 (GRU)                  (None, 24, 74)            33522     \n",
      "_________________________________________________________________\n",
      "gru_3 (GRU)                  (None, 66)                28116     \n",
      "_________________________________________________________________\n",
      "dense (Dense)                (None, 2)                 134       \n",
      "_________________________________________________________________\n",
      "activation (Activation)      (None, 2)                 0         \n",
      "=================================================================\n",
      "Total params: 117,857\n",
      "Trainable params: 117,857\n",
      "Non-trainable params: 0\n",
      "_________________________________________________________________\n"
     ]
    },
    {
     "name": "stderr",
     "output_type": "stream",
     "text": [
      "/home/kefalasm/rul_nn/lib/python3.8/site-packages/tensorflow/python/keras/optimizer_v2/optimizer_v2.py:374: UserWarning: The `lr` argument is deprecated, use `learning_rate` instead.\n",
      "  warnings.warn(\n"
     ]
    },
    {
     "name": "stdout",
     "output_type": "stream",
     "text": [
      "Epoch 1/2\n",
      "128/128 [==============================] - 51s 342ms/step - loss: 3.6174 - val_loss: 2.9449\n",
      "Epoch 2/2\n",
      "128/128 [==============================] - 42s 332ms/step - loss: 2.7976 - val_loss: 2.7330\n",
      "  fold  rmse_train  mae_train  r2_train  std_train  rmse_test   mae_test  \\\n",
      "0  NaN    50.32755  34.793847  0.054343   0.073488  35.369259  31.398813   \n",
      "\n",
      "    r2_test  std_test                                            net_cfg  \n",
      "0 -1.149833  0.069511  {\"num_rec\": 4, \"max_time\": 24, \"neuron_0\": 76,...  \n"
     ]
    }
   ],
   "source": [
    "model, train_results_df, test_results_df, test_x_orig, test_y_orig, scaler, train_x, test_x = main.main()\n",
    "# model = main.main()"
   ]
  },
  {
   "cell_type": "markdown",
   "metadata": {},
   "source": []
  },
  {
   "cell_type": "code",
   "execution_count": 4,
   "metadata": {},
   "outputs": [
    {
     "data": {
      "text/plain": [
       "<tensorflow.python.keras.engine.functional.Functional at 0x7fb91006e340>"
      ]
     },
     "execution_count": 4,
     "metadata": {},
     "output_type": "execute_result"
    }
   ],
   "source": [
    "model"
   ]
  },
  {
   "cell_type": "code",
   "execution_count": 10,
   "metadata": {},
   "outputs": [],
   "source": [
    "# model.save('./toy_model')"
   ]
  },
  {
   "cell_type": "code",
   "execution_count": 9,
   "metadata": {},
   "outputs": [],
   "source": [
    "# new_model = tf.keras.models.load_model('./toy_model', custom_objects={\"CustomLoss\": CustomLoss, \"Activate\": Activate})"
   ]
  },
  {
   "cell_type": "code",
   "execution_count": 54,
   "metadata": {},
   "outputs": [],
   "source": [
    "import os\n",
    "os.environ[\"CUDA_DEVICE_ORDER\"]=\"PCI_BUS_ID\"\n",
    "os.environ[\"CUDA_VISIBLE_DEVICES\"]=\"-1\"  #\"1,2,3,4,5\"  # uncomment in case running ONLY on CPU is required\n",
    "\n",
    "import tensorflow as tf\n",
    "tf.random.set_seed(42)\n",
    "from tensorflow.keras import backend as k\n",
    "from tensorflow.keras import callbacks\n",
    "from tensorflow.keras.callbacks import History\n",
    "from tensorflow import keras\n",
    "from tensorflow.keras.optimizers import Adam\n",
    "\n",
    "from activations import Activate\n",
    "from losses import CustomLoss\n",
    "from preprocessing import build_data\n",
    "\n",
    "import numpy as np\n",
    "import pandas as pd\n",
    "import math\n",
    "from datetime import datetime\n",
    "import matplotlib.pyplot as plt\n",
    "import seaborn as sns\n",
    "\n",
    "from sklearn import pipeline\n",
    "from sklearn.feature_selection import VarianceThreshold\n",
    "from sklearn.metrics import mean_squared_error, mean_absolute_error, r2_score\n",
    "from sklearn.model_selection import KFold\n",
    "from sklearn.preprocessing import MinMaxScaler"
   ]
  },
  {
   "cell_type": "code",
   "execution_count": 2,
   "metadata": {},
   "outputs": [],
   "source": [
    "net_cfg = {\n",
    "     \"max_time\": 100,\n",
    "     \"lr\": \"0.001\",\n",
    "     \"num_rec\": 3,\n",
    "     \"neuron_0\": 100,\n",
    "     \"activation_0\": \"tanh\",\n",
    "     \"dropout_0\": 0.25,\n",
    "     \"recurrent_dropout_0\": 0.25,\n",
    "     \"neuron_1\": 50,\n",
    "     \"activation_1\": \"tanh\",\n",
    "     \"dropout_1\": 0.25,\n",
    "     \"recurrent_dropout_1\": 0.25,\n",
    "     \"neuron_2\": 20,\n",
    "     \"activation_2\": \"tanh\",\n",
    "     \"dropout_2\": 0.25,\n",
    "     \"recurrent_dropout_2\": 0.25,\n",
    "     \"final_activation_0\": \"exp\",\n",
    "     \"final_activation_1\": \"softplus\",\n",
    "     \"percentage\": 50,\n",
    "     \"rul\": 115,\n",
    "     \"rul_style\": \"nonlinear\",\n",
    "     \"batch\": \"128\",\n",
    "}"
   ]
  },
  {
   "cell_type": "code",
   "execution_count": 3,
   "metadata": {},
   "outputs": [],
   "source": [
    "cfg = {\n",
    "        \"cv\": 10,\n",
    "        \"shuffle\": True,\n",
    "        \"random_state\": 21,\n",
    "        \"mask_value\": -99,\n",
    "        \"reps\": 30,\n",
    "        \"epochs\": 20,\n",
    "        \"batches\": 64,\n",
    "        \"in_reps\": 10,\n",
    "    }"
   ]
  },
  {
   "cell_type": "code",
   "execution_count": 4,
   "metadata": {},
   "outputs": [],
   "source": [
    "def weibull_mean(alpha, beta):\n",
    "    return alpha * math.gamma(1 + 1/beta)"
   ]
  },
  {
   "cell_type": "code",
   "execution_count": 43,
   "metadata": {},
   "outputs": [],
   "source": [
    "def weibull_pdf(alpha, beta, t):\n",
    "    return (beta/alpha) * (t/alpha)**(beta-1)*np.exp(- (t/alpha)**beta)"
   ]
  },
  {
   "cell_type": "code",
   "execution_count": 44,
   "metadata": {},
   "outputs": [],
   "source": [
    "def weibull_median(alpha, beta):\n",
    "    return alpha*(-np.log(.5))**(1/beta)"
   ]
  },
  {
   "cell_type": "code",
   "execution_count": 45,
   "metadata": {},
   "outputs": [],
   "source": [
    "def weibull_mode(alpha, beta):\n",
    "    assert np.all(beta > 1)\n",
    "    return alpha * ((beta-1)/beta)**(1/beta)"
   ]
  },
  {
   "cell_type": "code",
   "execution_count": 87,
   "metadata": {},
   "outputs": [],
   "source": [
    "def weibull_variance(alpha, beta):\n",
    "    var = alpha**2*(math.gamma(1+2/beta)-math.gamma(1+1/beta)**2)\n",
    "    return var"
   ]
  },
  {
   "cell_type": "code",
   "execution_count": 5,
   "metadata": {},
   "outputs": [],
   "source": [
    "def network(train_X, train_y, test_x, test_y, net_cfg, cfg):\n",
    "\n",
    "    strategy = tf.distribute.MirroredStrategy()\n",
    "    print(\"Number of devices: {}\".format(strategy.num_replicas_in_sync))\n",
    "    k.set_epsilon(1e-10)\n",
    "    history = History()\n",
    "    nan_terminator = callbacks.TerminateOnNaN()\n",
    "    reduce_lr = callbacks.ReduceLROnPlateau(monitor='loss')\n",
    "    early_stopping = callbacks.EarlyStopping(monitor='loss', patience=5)\n",
    "    # checkpoint_filepath = './saved_models/cp-{epoch:04d}.ckpt'\n",
    "    # checkpoint = callbacks.ModelCheckpoint(filepath=checkpoint_filepath, monitor='loss', verbose=1)\n",
    "    # logdir=\"logs/test1\" #+ datetime.now().strftime(\"%Y%m%d-%H%M%S\")\n",
    "    # tensorboard = callbacks.TensorBoard(log_dir=logdir)\n",
    "\n",
    "    window = train_X.shape[1]\n",
    "    n_features = train_X.shape[2]\n",
    "\n",
    "    # with strategy.scope():  # Create a MirroredStrategy.\n",
    "\n",
    "    inputs = keras.Input(shape=(window, n_features))\n",
    "    masking_layer = keras.layers.Masking(mask_value=cfg['mask_value'])(inputs)\n",
    "\n",
    "    # recurrent layers\n",
    "    if net_cfg['num_rec'] > 1:\n",
    "        for i in np.arange(net_cfg['num_rec']-1):\n",
    "            masking_layer = keras.layers.GRU(net_cfg['neuron_'+str(i)], activation=net_cfg['activation_'+str(i)],\n",
    "                                    dropout=net_cfg['dropout_'+str(i)],\n",
    "                                    recurrent_dropout=net_cfg['recurrent_dropout_'+str(i)],\n",
    "                                    return_sequences=True)(masking_layer)\n",
    "    last = i + 1\n",
    "    gru_last = keras.layers.GRU(net_cfg['neuron_'+str(last)], activation=net_cfg['activation_'+str(last)],\n",
    "                                dropout=net_cfg['dropout_'+str(last)],\n",
    "                                recurrent_dropout=net_cfg['recurrent_dropout_'+str(last)],\n",
    "                                return_sequences=False)(masking_layer)\n",
    "\n",
    "    dense_1 = keras.layers.Dense(2)(gru_last)\n",
    "    custom_activation = Activate(net_cfg=net_cfg)\n",
    "    outputs = keras.layers.Activation(custom_activation)(dense_1)\n",
    "\n",
    "    model = keras.Model(inputs=inputs, outputs=outputs, name=\"weibull_params\")\n",
    "\n",
    "    # rmse = tf.keras.metrics.RootMeanSquaredError()\n",
    "    model.compile(loss=CustomLoss(kind='continuous', reduce_loss=True), optimizer=Adam(lr=eval(net_cfg['lr']),\n",
    "                                                                                    clipvalue=0.5))\n",
    "    model.summary()  # uncomment for debugging\n",
    "\n",
    "    batch_size=eval(net_cfg['batch'])\n",
    "    model.fit(train_X, train_y,\n",
    "              epochs=cfg['epochs'],\n",
    "              batch_size=batch_size,\n",
    "              validation_data=(test_x, test_y),\n",
    "              verbose=1,\n",
    "              callbacks=[nan_terminator, history, reduce_lr, early_stopping],#, checkpoint, tensorboard],  # , tensorboard\n",
    "              workers=32)\n",
    "\n",
    "    return model, history\n",
    "\n"
   ]
  },
  {
   "cell_type": "code",
   "execution_count": 6,
   "metadata": {},
   "outputs": [],
   "source": [
    "def load_data():\n",
    "\n",
    "    np.random.seed(42)\n",
    "\n",
    "    id_col = 'unit_number'\n",
    "    time_col = 'time'\n",
    "    feature_cols = ['op_setting_1', 'op_setting_2', 'op_setting_3'] + ['sensor_measurement_{}'.format(x) for x in\n",
    "                                                                       range(1, 22)]\n",
    "    column_names = [id_col, time_col] + feature_cols\n",
    "\n",
    "    train_x_orig = pd.read_csv('./DataSets/CMAPSS/train_FD001.csv', header=None, sep='\\s+', decimal=\".\")\n",
    "    train_x_orig.columns = column_names\n",
    "\n",
    "    test_x_orig = pd.read_csv('./DataSets/CMAPSS/test_FD001.csv', header=None, sep='\\s+', decimal=\".\")\n",
    "    test_x_orig.columns = column_names\n",
    "\n",
    "    test_y_orig = pd.read_csv('./DataSets/CMAPSS/RUL_FD001.csv', header=None, names=['T'])\n",
    "\n",
    "    # Make engine numbers and days zero-indexed\n",
    "    train_x_orig.iloc[:, 0:2] -= 1\n",
    "    test_x_orig.iloc[:, 0:2] -= 1\n",
    "\n",
    "    train_idx = np.random.choice(range(train_x_orig.unit_number.unique().max()+1), replace=False, size=80)  # selecting 80 units for training\n",
    "    train_idx.sort()\n",
    "\n",
    "    vld_idx = np.array([x for x in range(train_x_orig.unit_number.unique().max()+1) if x not in train_idx])  # remaining are validation indices\n",
    "\n",
    "    train_or = train_x_orig[train_x_orig.unit_number.isin(train_idx)]  # training data\n",
    "    train_or.reset_index(drop=True, inplace=True)\n",
    "    vld = train_x_orig[train_x_orig.unit_number.isin(vld_idx)]  # validation data\n",
    "    vld.reset_index(drop=True, inplace=True)\n",
    "\n",
    "\n",
    "    # Truncating the validation data randomly 5 times each\n",
    "    vld_trunc = []\n",
    "    test_y = []\n",
    "    max_cycle = []\n",
    "    test_index = []  # for debugging purposes\n",
    "    temp_or_test_cycles = []\n",
    "    counter = -1\n",
    "\n",
    "    for i in set(vld.unit_number.unique()):\n",
    "        # print(f'unit number is {i}')\n",
    "        for j in range(1,6):  # 5 truncations per instance\n",
    "            counter += 1\n",
    "            np.random.seed(i*j)\n",
    "            temp_df = vld[vld.unit_number == i]\n",
    "            temp_df.reset_index(drop=True, inplace=True)  # important\n",
    "            length = temp_df.shape[0]\n",
    "            # print(length)\n",
    "            temp_or_test_cycles.append(length)\n",
    "            level = np.random.choice(np.arange(5, 96), 1)[0]\n",
    "            r = np.int(length * (1 - level / 100))\n",
    "            # test_index.append(X_test_or[X_test_or.unit_number == i].index.tolist()[\n",
    "            #                     :r + 1])  # check this with train_x_orig instead of X_test_or (probably it's the same)\n",
    "            temp_df = temp_df.truncate(after=r)\n",
    "            # print(temp_df.shape[0])\n",
    "            # print('\\n')\n",
    "            temp_df['unit_number'] = np.repeat(counter, temp_df.shape[0])\n",
    "            vld_trunc.append(temp_df)\n",
    "            max_cycle.append(length)\n",
    "\n",
    "\n",
    "    # test_index = [item for sublist in test_index for item in sublist]\n",
    "\n",
    "    vld_trunc = pd.concat(vld_trunc)\n",
    "    vld_trunc.reset_index(drop=True, inplace=True)\n",
    "    # print(f'max len per unit is {max_cycle}')\n",
    "\n",
    "\n",
    "    # Pre-processing data\n",
    "    scaler = pipeline.Pipeline(steps=[\n",
    "        ('minmax', MinMaxScaler(feature_range=(-1, 1))),\n",
    "        ('remove_constant', VarianceThreshold())])\n",
    "\n",
    "    train = train_or.copy()\n",
    "    train = np.concatenate([train[['unit_number', 'time']], scaler.fit_transform(train[feature_cols])], axis=1)\n",
    "\n",
    "    train_x, train_y = build_data(units=train[:, 0], time=train[:, 1], x=train[:, 2:], max_time=net_cfg['max_time'],\n",
    "                                    is_test=False, mask_value=cfg['mask_value'],\n",
    "                                    original_data=None, net_cfg = net_cfg, label=net_cfg['rul_style'])\n",
    "\n",
    "    vld = vld_trunc.copy()\n",
    "    vld = np.concatenate([vld[['unit_number', 'time']], scaler.transform(vld[feature_cols])], axis=1)\n",
    "    test_x, test_y = build_data(units=vld[:, 0],\n",
    "        time=vld[:, 1],\n",
    "        x=vld[:, 2:],\n",
    "        max_time=net_cfg[\"max_time\"],\n",
    "        is_test=True,\n",
    "        mask_value=cfg[\"mask_value\"],\n",
    "        original_data=np.array(max_cycle),\n",
    "        net_cfg=net_cfg,\n",
    "        label=net_cfg[\"rul_style\"],\n",
    "    )\n",
    "\n",
    "    return train_x, train_y, test_x, test_y, train_or, vld_trunc"
   ]
  },
  {
   "cell_type": "code",
   "execution_count": 7,
   "metadata": {},
   "outputs": [
    {
     "name": "stderr",
     "output_type": "stream",
     "text": [
      "100%|██████████| 80/80 [00:01<00:00, 71.61it/s]\n",
      "100%|██████████| 100/100 [00:00<00:00, 13470.91it/s]"
     ]
    },
    {
     "name": "stdout",
     "output_type": "stream",
     "text": [
      "train_x (16340, 100, 17) train_y (16340, 1) test_x (100, 100, 17) test_y (100, 1) train (16340, 26) test (10312, 26)\n"
     ]
    },
    {
     "name": "stderr",
     "output_type": "stream",
     "text": [
      "\n"
     ]
    }
   ],
   "source": [
    "train_x, train_y, test_x, test_y, train, test = load_data()\n",
    "print('train_x', train_x.shape, 'train_y', train_y.shape, 'test_x', test_x.shape, 'test_y', test_y.shape, 'train', train.shape, 'test', test.shape)\n",
    "\n"
   ]
  },
  {
   "cell_type": "code",
   "execution_count": 10,
   "metadata": {},
   "outputs": [],
   "source": [
    "k.clear_session()\n",
    "try:\n",
    "    del model\n",
    "except:\n",
    "    pass\n",
    "\n",
    "model, history = network(train_x, train_y, test_x, test_y, net_cfg, cfg)"
   ]
  },
  {
   "cell_type": "code",
   "execution_count": 109,
   "metadata": {},
   "outputs": [
    {
     "name": "stderr",
     "output_type": "stream",
     "text": [
      "WARNING:absl:Found untraced functions such as activate_layer_call_fn, activate_layer_call_and_return_conditional_losses, activate_layer_call_fn, activate_layer_call_and_return_conditional_losses, activate_layer_call_and_return_conditional_losses while saving (showing 5 of 5). These functions will not be directly callable after loading.\n"
     ]
    },
    {
     "name": "stdout",
     "output_type": "stream",
     "text": [
      "INFO:tensorflow:Assets written to: ./toy_model/assets\n"
     ]
    },
    {
     "name": "stderr",
     "output_type": "stream",
     "text": [
      "INFO:tensorflow:Assets written to: ./toy_model/assets\n"
     ]
    }
   ],
   "source": [
    "# model.save('./toy_model')"
   ]
  },
  {
   "cell_type": "code",
   "execution_count": 8,
   "metadata": {},
   "outputs": [],
   "source": [
    "model = tf.keras.models.load_model('./toy_model', custom_objects={\"CustomLoss\": CustomLoss, \"Activate\": Activate})"
   ]
  },
  {
   "cell_type": "code",
   "execution_count": 13,
   "metadata": {},
   "outputs": [
    {
     "data": {
      "text/plain": [
       "<tensorflow.python.keras.engine.functional.Functional at 0x7f5c28264a60>"
      ]
     },
     "execution_count": 13,
     "metadata": {},
     "output_type": "execute_result"
    }
   ],
   "source": [
    "model"
   ]
  },
  {
   "cell_type": "code",
   "execution_count": 15,
   "metadata": {},
   "outputs": [
    {
     "data": {
      "text/plain": [
       "[['activation', 0, 0]]"
      ]
     },
     "execution_count": 15,
     "metadata": {},
     "output_type": "execute_result"
    }
   ],
   "source": [
    "model.get_config()['output_layers']"
   ]
  },
  {
   "cell_type": "code",
   "execution_count": 9,
   "metadata": {},
   "outputs": [],
   "source": [
    "total_res_train = []\n",
    "alphas = []\n",
    "betas = []\n",
    "\n",
    "for i in range(cfg[\"reps\"]):\n",
    "    tf.random.set_seed(i)\n",
    "    train_predict = model(train_x, training=True).numpy()\n",
    "    a, b = train_predict[:, 0], train_predict[:, 1]\n",
    "    alphas.append(a)\n",
    "    betas.append(b)\n",
    "\n",
    "    res = []\n",
    "    for j in range(a.shape[0]):\n",
    "        for k in range(cfg[\"in_reps\"]):\n",
    "            sample = a[j] * np.random.weibull(b[j])\n",
    "            while np.isinf(sample):\n",
    "                sample = a[j] * np.random.weibull(b[j])\n",
    "            res.append(sample)\n",
    "    total_res_train.append(np.array(res))\n",
    "\n",
    "total_res_train = np.array(total_res_train)\n",
    "total_res_train = np.reshape(total_res_train, (cfg['reps'], a.shape[0], cfg['in_reps']))\n",
    "\n",
    "train_predict = np.mean(total_res_train, axis=(0, 2))\n",
    "train_predict = np.reshape(train_predict, (train_x.shape[0], 1))\n",
    "train_result = np.concatenate((train_y, train_predict), axis=1)\n",
    "train_results_df = pd.DataFrame(train_result, columns=[\"T\", \"predicted_mu\"])\n",
    "train_results_df[\"unit_number\"] = train[\"unit_number\"].to_numpy()\n",
    "train_results_df[\"time\"] = train[\"time\"].to_numpy()\n",
    "alphas = np.array(alphas)\n",
    "betas = np.array(betas)\n"
   ]
  },
  {
   "cell_type": "code",
   "execution_count": 109,
   "metadata": {},
   "outputs": [],
   "source": [
    "total_res_train = np.reshape(total_res_train, (30, 16340, 10))"
   ]
  },
  {
   "cell_type": "code",
   "execution_count": 116,
   "metadata": {},
   "outputs": [
    {
     "data": {
      "text/plain": [
       "(30, 16340, 10)"
      ]
     },
     "execution_count": 116,
     "metadata": {},
     "output_type": "execute_result"
    }
   ],
   "source": [
    "total_res_train.shape"
   ]
  },
  {
   "cell_type": "code",
   "execution_count": 55,
   "metadata": {},
   "outputs": [
    {
     "data": {
      "text/plain": [
       "(30, 16340, 10)"
      ]
     },
     "execution_count": 55,
     "metadata": {},
     "output_type": "execute_result"
    }
   ],
   "source": [
    "total_res_train.shape"
   ]
  },
  {
   "cell_type": "code",
   "execution_count": 10,
   "metadata": {},
   "outputs": [
    {
     "data": {
      "text/html": [
       "<div>\n",
       "<style scoped>\n",
       "    .dataframe tbody tr th:only-of-type {\n",
       "        vertical-align: middle;\n",
       "    }\n",
       "\n",
       "    .dataframe tbody tr th {\n",
       "        vertical-align: top;\n",
       "    }\n",
       "\n",
       "    .dataframe thead th {\n",
       "        text-align: right;\n",
       "    }\n",
       "</style>\n",
       "<table border=\"1\" class=\"dataframe\">\n",
       "  <thead>\n",
       "    <tr style=\"text-align: right;\">\n",
       "      <th></th>\n",
       "      <th>T</th>\n",
       "      <th>predicted_mu</th>\n",
       "      <th>unit_number</th>\n",
       "      <th>time</th>\n",
       "    </tr>\n",
       "  </thead>\n",
       "  <tbody>\n",
       "    <tr>\n",
       "      <th>0</th>\n",
       "      <td>115.00</td>\n",
       "      <td>1.358532e+02</td>\n",
       "      <td>0</td>\n",
       "      <td>0</td>\n",
       "    </tr>\n",
       "    <tr>\n",
       "      <th>1</th>\n",
       "      <td>115.00</td>\n",
       "      <td>1.185983e+02</td>\n",
       "      <td>0</td>\n",
       "      <td>1</td>\n",
       "    </tr>\n",
       "    <tr>\n",
       "      <th>2</th>\n",
       "      <td>115.00</td>\n",
       "      <td>1.129150e+02</td>\n",
       "      <td>0</td>\n",
       "      <td>2</td>\n",
       "    </tr>\n",
       "    <tr>\n",
       "      <th>3</th>\n",
       "      <td>115.00</td>\n",
       "      <td>1.136382e+02</td>\n",
       "      <td>0</td>\n",
       "      <td>3</td>\n",
       "    </tr>\n",
       "    <tr>\n",
       "      <th>4</th>\n",
       "      <td>115.00</td>\n",
       "      <td>1.113779e+02</td>\n",
       "      <td>0</td>\n",
       "      <td>4</td>\n",
       "    </tr>\n",
       "    <tr>\n",
       "      <th>...</th>\n",
       "      <td>...</td>\n",
       "      <td>...</td>\n",
       "      <td>...</td>\n",
       "      <td>...</td>\n",
       "    </tr>\n",
       "    <tr>\n",
       "      <th>16335</th>\n",
       "      <td>5.75</td>\n",
       "      <td>7.300236e+273</td>\n",
       "      <td>99</td>\n",
       "      <td>195</td>\n",
       "    </tr>\n",
       "    <tr>\n",
       "      <th>16336</th>\n",
       "      <td>4.60</td>\n",
       "      <td>7.550270e+136</td>\n",
       "      <td>99</td>\n",
       "      <td>196</td>\n",
       "    </tr>\n",
       "    <tr>\n",
       "      <th>16337</th>\n",
       "      <td>3.45</td>\n",
       "      <td>2.287771e+44</td>\n",
       "      <td>99</td>\n",
       "      <td>197</td>\n",
       "    </tr>\n",
       "    <tr>\n",
       "      <th>16338</th>\n",
       "      <td>2.30</td>\n",
       "      <td>1.684604e+291</td>\n",
       "      <td>99</td>\n",
       "      <td>198</td>\n",
       "    </tr>\n",
       "    <tr>\n",
       "      <th>16339</th>\n",
       "      <td>1.15</td>\n",
       "      <td>7.293453e+20</td>\n",
       "      <td>99</td>\n",
       "      <td>199</td>\n",
       "    </tr>\n",
       "  </tbody>\n",
       "</table>\n",
       "<p>16340 rows × 4 columns</p>\n",
       "</div>"
      ],
      "text/plain": [
       "            T   predicted_mu  unit_number  time\n",
       "0      115.00   1.358532e+02            0     0\n",
       "1      115.00   1.185983e+02            0     1\n",
       "2      115.00   1.129150e+02            0     2\n",
       "3      115.00   1.136382e+02            0     3\n",
       "4      115.00   1.113779e+02            0     4\n",
       "...       ...            ...          ...   ...\n",
       "16335    5.75  7.300236e+273           99   195\n",
       "16336    4.60  7.550270e+136           99   196\n",
       "16337    3.45   2.287771e+44           99   197\n",
       "16338    2.30  1.684604e+291           99   198\n",
       "16339    1.15   7.293453e+20           99   199\n",
       "\n",
       "[16340 rows x 4 columns]"
      ]
     },
     "execution_count": 10,
     "metadata": {},
     "output_type": "execute_result"
    }
   ],
   "source": [
    "train_results_df"
   ]
  },
  {
   "cell_type": "code",
   "execution_count": 122,
   "metadata": {},
   "outputs": [
    {
     "data": {
      "text/plain": [
       "array([ 0.69603026,  0.25142407,  1.63097   ,  3.6068285 ,  1.7777302 ,\n",
       "       13.916192  ,  4.350292  ,  0.88832676,  0.8560886 ,  3.5294852 ,\n",
       "        6.6998653 ,  2.5611663 ,  7.6697054 ,  1.8165591 , 14.562068  ,\n",
       "        1.8379799 ,  2.2947423 ,  6.7427173 ,  5.3832097 ,  9.982378  ,\n",
       "        3.7902331 , 18.822044  ,  0.31071454,  2.0553992 ,  1.2713383 ,\n",
       "        0.48836654,  4.952608  ,  2.4789808 ,  0.5220742 ,  1.3979818 ],\n",
       "      dtype=float32)"
      ]
     },
     "execution_count": 122,
     "metadata": {},
     "output_type": "execute_result"
    }
   ],
   "source": [
    "alphas[:, 16339]"
   ]
  },
  {
   "cell_type": "code",
   "execution_count": 90,
   "metadata": {},
   "outputs": [
    {
     "data": {
      "text/plain": [
       "(30, 16340, 10)"
      ]
     },
     "execution_count": 90,
     "metadata": {},
     "output_type": "execute_result"
    }
   ],
   "source": [
    "total_res_train.shape"
   ]
  },
  {
   "cell_type": "code",
   "execution_count": 103,
   "metadata": {},
   "outputs": [
    {
     "data": {
      "text/plain": [
       "1"
      ]
     },
     "execution_count": 103,
     "metadata": {},
     "output_type": "execute_result"
    }
   ],
   "source": [
    "total_res_train[:, 16336, :]"
   ]
  },
  {
   "cell_type": "code",
   "execution_count": 23,
   "metadata": {},
   "outputs": [
    {
     "data": {
      "text/plain": [
       "(16340, 100, 17)"
      ]
     },
     "execution_count": 23,
     "metadata": {},
     "output_type": "execute_result"
    }
   ],
   "source": [
    "train_x.shape"
   ]
  },
  {
   "cell_type": "code",
   "execution_count": 24,
   "metadata": {},
   "outputs": [
    {
     "data": {
      "text/plain": [
       "(16340,)"
      ]
     },
     "execution_count": 24,
     "metadata": {},
     "output_type": "execute_result"
    }
   ],
   "source": [
    "a.shape"
   ]
  },
  {
   "cell_type": "code",
   "execution_count": 57,
   "metadata": {},
   "outputs": [
    {
     "data": {
      "text/plain": [
       "(30, 16340)"
      ]
     },
     "execution_count": 57,
     "metadata": {},
     "output_type": "execute_result"
    }
   ],
   "source": [
    "alphas.shape"
   ]
  },
  {
   "cell_type": "code",
   "execution_count": 58,
   "metadata": {},
   "outputs": [
    {
     "data": {
      "text/plain": [
       "(30, 16340)"
      ]
     },
     "execution_count": 58,
     "metadata": {},
     "output_type": "execute_result"
    }
   ],
   "source": [
    "betas.shape"
   ]
  },
  {
   "cell_type": "code",
   "execution_count": 60,
   "metadata": {},
   "outputs": [
    {
     "data": {
      "text/plain": [
       "(30, 200)"
      ]
     },
     "execution_count": 60,
     "metadata": {},
     "output_type": "execute_result"
    }
   ],
   "source": [
    "betas[:,-200:].shape"
   ]
  },
  {
   "cell_type": "code",
   "execution_count": 70,
   "metadata": {},
   "outputs": [
    {
     "data": {
      "text/plain": [
       "<matplotlib.lines.Line2D at 0x7f248868fb20>"
      ]
     },
     "execution_count": 70,
     "metadata": {},
     "output_type": "execute_result"
    },
    {
     "data": {
      "image/png": "[encoded data removed]",
      "text/plain": [
       "<Figure size 720x360 with 1 Axes>"
      ]
     },
     "metadata": {
      "needs_background": "light"
     },
     "output_type": "display_data"
    }
   ],
   "source": [
    "import matplotlib.pyplot as plt\n",
    "plt.figure(figsize=(10,5))\n",
    "s = np.mean(betas[:,-300:], axis=0)\n",
    "s_ = np.max(s) - s\n",
    "plt.plot(s)\n",
    "plt.axhline(y=2.111, color='red')\n",
    "# plt.plot(np.mean(alphas[:,:192], axis=0))"
   ]
  },
  {
   "cell_type": "code",
   "execution_count": 27,
   "metadata": {},
   "outputs": [
    {
     "data": {
      "text/plain": [
       "array([119.31697 , 111.037285, 114.55669 , 122.89945 , 103.268654,\n",
       "       120.77607 , 126.023056, 121.03325 , 113.68639 , 125.831985,\n",
       "       118.30063 , 130.60402 , 128.6434  , 115.73347 , 123.352936,\n",
       "       109.59483 , 113.37349 , 148.26991 , 115.395836, 129.1942  ,\n",
       "       115.90782 , 118.302155, 125.316795, 113.08723 , 120.380035,\n",
       "       108.70629 , 111.71068 , 115.72833 , 109.26651 , 112.445625],\n",
       "      dtype=float32)"
      ]
     },
     "execution_count": 27,
     "metadata": {},
     "output_type": "execute_result"
    }
   ],
   "source": [
    "alphas[:,1]"
   ]
  },
  {
   "cell_type": "code",
   "execution_count": 11,
   "metadata": {},
   "outputs": [
    {
     "data": {
      "text/plain": [
       "array([ 1.9190148 ,  0.41464147,  2.927708  ,  3.2925577 ,  5.722051  ,\n",
       "        8.388119  ,  3.1181324 ,  3.5679204 , 15.390557  ,  1.4775571 ,\n",
       "        1.0588459 , 12.841274  ,  4.0095673 ,  7.1153793 , 12.487473  ,\n",
       "        0.7315632 ,  7.116613  , 16.481302  ,  2.1284702 , 11.644492  ,\n",
       "        6.0362945 ,  0.11732421, 10.069559  ,  4.796375  ,  5.60741   ,\n",
       "        4.447548  ,  4.424074  ,  0.90631235,  0.5405445 ,  3.7018604 ],\n",
       "      dtype=float32)"
      ]
     },
     "execution_count": 11,
     "metadata": {},
     "output_type": "execute_result"
    }
   ],
   "source": [
    "alphas[:,16338]"
   ]
  },
  {
   "cell_type": "code",
   "execution_count": 75,
   "metadata": {},
   "outputs": [],
   "source": [
    "# train_predict_1[:, 16339]"
   ]
  },
  {
   "cell_type": "code",
   "execution_count": 30,
   "metadata": {},
   "outputs": [
    {
     "data": {
      "text/plain": [
       "array([14.949405 , 15.688996 , 15.383432 , 15.760617 , 13.859062 ,\n",
       "       15.518084 , 15.613432 , 15.831271 , 16.073015 , 15.947414 ,\n",
       "       16.398558 , 14.606908 , 15.24589  , 16.279568 , 14.345835 ,\n",
       "       16.05235  , 16.22089  , 11.382352 , 15.849575 , 14.071932 ,\n",
       "       15.801338 , 15.800645 , 16.374046 , 16.284801 , 14.6201515,\n",
       "       16.629366 , 16.113174 , 15.626939 , 13.276964 , 16.45692  ],\n",
       "      dtype=float32)"
      ]
     },
     "execution_count": 30,
     "metadata": {},
     "output_type": "execute_result"
    }
   ],
   "source": [
    "betas[:,1]"
   ]
  },
  {
   "cell_type": "code",
   "execution_count": 12,
   "metadata": {},
   "outputs": [
    {
     "data": {
      "text/plain": [
       "array([8.2496011e-01, 7.7308409e-02, 1.8967047e+00, 1.5934720e+00,\n",
       "       4.0007377e+00, 4.5299850e+00, 2.1424785e+00, 2.0344706e+00,\n",
       "       6.4601555e+00, 3.4041187e-01, 2.4986914e-01, 4.1518250e+00,\n",
       "       2.5884914e+00, 3.0323715e+00, 5.3098984e+00, 2.9537183e-01,\n",
       "       2.8385630e+00, 6.1554756e+00, 1.3251436e-01, 5.2993221e+00,\n",
       "       2.4671493e+00, 2.8689933e-04, 3.8657877e+00, 1.8962667e+00,\n",
       "       2.4876914e+00, 2.1309223e+00, 1.6164610e+00, 5.8818661e-02,\n",
       "       1.3974577e-01, 2.6355090e+00], dtype=float32)"
      ]
     },
     "execution_count": 12,
     "metadata": {},
     "output_type": "execute_result"
    }
   ],
   "source": [
    "betas[:,16338]"
   ]
  },
  {
   "cell_type": "code",
   "execution_count": 76,
   "metadata": {},
   "outputs": [],
   "source": [
    "# train_predict_2[:, 16339]"
   ]
  },
  {
   "cell_type": "code",
   "execution_count": 81,
   "metadata": {},
   "outputs": [],
   "source": [
    "weib_tests = []\n",
    "for a,b in zip(alphas[:, 16339], betas[:, 16339]):\n",
    "    weib_tests.append(a * np.random.weibull(b, cfg[\"in_reps\"]))\n",
    "\n",
    "weib_tests = np.array(weib_tests)"
   ]
  },
  {
   "cell_type": "code",
   "execution_count": 87,
   "metadata": {},
   "outputs": [
    {
     "data": {
      "text/plain": [
       "0"
      ]
     },
     "execution_count": 87,
     "metadata": {},
     "output_type": "execute_result"
    }
   ],
   "source": [
    "np.isinf(weib_tests).sum()"
   ]
  },
  {
   "cell_type": "code",
   "execution_count": 36,
   "metadata": {},
   "outputs": [
    {
     "data": {
      "text/plain": [
       "(30, 16340, 10)"
      ]
     },
     "execution_count": 36,
     "metadata": {},
     "output_type": "execute_result"
    }
   ],
   "source": [
    "total_res_train.shape"
   ]
  },
  {
   "cell_type": "code",
   "execution_count": 37,
   "metadata": {},
   "outputs": [
    {
     "data": {
      "text/plain": [
       "(16340, 1)"
      ]
     },
     "execution_count": 37,
     "metadata": {},
     "output_type": "execute_result"
    }
   ],
   "source": [
    "train_predict.shape"
   ]
  },
  {
   "cell_type": "code",
   "execution_count": 18,
   "metadata": {},
   "outputs": [],
   "source": [
    "train_predict_1 = []\n",
    "train_predict_2 = []\n",
    "\n",
    "success = True\n",
    "\n",
    "for i in range(cfg['reps']):\n",
    "    tf.random.set_seed(i)\n",
    "    train_predict = model(train_x, training=True).numpy()\n",
    "    train_predict_1.append(train_predict[:, 0].reshape(train_predict[:, 0].shape[0], 1))\n",
    "    train_predict_2.append(train_predict[:, 1].reshape(train_predict[:, 1].shape[0], 1))\n",
    "\n",
    "train_predict_1_mean = np.mean(np.hstack(train_predict_1), axis=1)\n",
    "train_predict_2_mean = np.mean(np.hstack(train_predict_2), axis=1)\n",
    "train_predict_1_mean = train_predict_1_mean.reshape(train_predict_1_mean.shape[0], 1)\n",
    "train_predict_2_mean = train_predict_2_mean.reshape(train_predict_2_mean.shape[0], 1)\n",
    "train_predict_1_std = np.std(np.hstack(train_predict_1), axis=1)\n",
    "train_predict_2_std = np.std(np.hstack(train_predict_2), axis=1)\n",
    "train_predict_1_std = train_predict_1_std.reshape(train_predict_1_std.shape[0], 1)\n",
    "train_predict_2_std = train_predict_2_std.reshape(train_predict_2_std.shape[0], 1)\n",
    "\n",
    "train_predict = np.hstack([train_predict_1_mean, train_predict_2_mean,\n",
    "                            train_predict_1_std, train_predict_2_std])\n",
    "\n",
    "train_predict = np.resize(train_predict, (train_x.shape[0], 4))  # changed from 2 to 4\n",
    "train_result = np.concatenate((train_y, train_predict), axis=1)\n",
    "train_results_df_old = pd.DataFrame(train_result, columns=['T', 'mean_alpha', 'mean_beta', 'std_alpha',\n",
    "                                                        'std_beta'])  # (add 'E' for event)\n",
    "train_results_df_old['unit_number'] = train['unit_number'].to_numpy()\n",
    "train_results_df_old['time'] = train['time'].to_numpy()\n",
    "\n",
    "train_results_df_old['predicted_mu'] = train_results_df_old[['mean_alpha', 'mean_beta']].apply(\n",
    "    lambda row: weibull_mean(row[0], row[1]), axis=1)"
   ]
  },
  {
   "cell_type": "code",
   "execution_count": 20,
   "metadata": {},
   "outputs": [],
   "source": [
    "train_predict_1 = np.array(train_predict_1)"
   ]
  },
  {
   "cell_type": "code",
   "execution_count": 21,
   "metadata": {},
   "outputs": [],
   "source": [
    "train_predict_2 = np.array(train_predict_2)"
   ]
  },
  {
   "cell_type": "code",
   "execution_count": 22,
   "metadata": {},
   "outputs": [
    {
     "data": {
      "text/plain": [
       "(30, 16340, 1)"
      ]
     },
     "execution_count": 22,
     "metadata": {},
     "output_type": "execute_result"
    }
   ],
   "source": [
    "train_predict_1.shape"
   ]
  },
  {
   "cell_type": "code",
   "execution_count": 23,
   "metadata": {},
   "outputs": [],
   "source": [
    "train_predict_1.resize(30, 16340)"
   ]
  },
  {
   "cell_type": "code",
   "execution_count": 24,
   "metadata": {},
   "outputs": [],
   "source": [
    "train_predict_2.resize(30, 16340)"
   ]
  },
  {
   "cell_type": "code",
   "execution_count": 25,
   "metadata": {},
   "outputs": [
    {
     "data": {
      "text/plain": [
       "array([132.97829 , 123.23054 , 124.54932 , 122.32817 , 120.403915,\n",
       "       130.73293 , 104.53065 , 119.13004 , 113.69697 , 153.43895 ,\n",
       "       152.46115 , 122.44974 , 125.80001 , 120.75015 , 107.46349 ,\n",
       "       114.002716, 125.00156 , 111.63954 , 108.24521 , 108.84976 ,\n",
       "       139.0864  , 137.08862 , 118.6768  , 118.238594, 134.57979 ,\n",
       "       138.68983 , 126.762245, 115.65711 , 139.75046 , 135.50706 ],\n",
       "      dtype=float32)"
      ]
     },
     "execution_count": 25,
     "metadata": {},
     "output_type": "execute_result"
    }
   ],
   "source": [
    "train_predict_1[:,1]"
   ]
  },
  {
   "cell_type": "code",
   "execution_count": 40,
   "metadata": {},
   "outputs": [
    {
     "data": {
      "text/plain": [
       "array([ 0.41705817, 12.625637  ,  0.63515407,  7.228504  ,  3.1942136 ,\n",
       "        0.07566568,  2.8691864 ,  1.387541  ,  4.0971513 ,  5.763522  ,\n",
       "       14.557368  , 12.584854  ,  3.7971506 ,  1.4213378 ,  6.7815943 ,\n",
       "        4.707724  ,  0.19926678,  2.8029566 ,  5.4847    ,  3.3876393 ,\n",
       "        0.5993108 ,  1.0875534 ,  7.0147896 ,  2.7878008 ,  3.4252214 ,\n",
       "        7.5762835 ,  0.1216777 ,  0.4439667 ,  0.1773132 ,  0.9611091 ],\n",
       "      dtype=float32)"
      ]
     },
     "execution_count": 40,
     "metadata": {},
     "output_type": "execute_result"
    }
   ],
   "source": [
    "train_predict_1[:,16339]"
   ]
  },
  {
   "cell_type": "code",
   "execution_count": 27,
   "metadata": {},
   "outputs": [
    {
     "data": {
      "text/plain": [
       "array([14.678265, 15.838853, 15.775572, 14.408605, 16.353857, 14.302875,\n",
       "       15.161706, 16.727022, 15.966782, 12.435256, 13.328977, 16.388186,\n",
       "       15.86963 , 16.508802, 15.440501, 15.19744 , 16.054945, 15.993076,\n",
       "       15.267684, 16.106028, 15.3978  , 15.539538, 16.215986, 16.234024,\n",
       "       14.858935, 14.238721, 14.513758, 16.973845, 15.03419 , 15.020367],\n",
       "      dtype=float32)"
      ]
     },
     "execution_count": 27,
     "metadata": {},
     "output_type": "execute_result"
    }
   ],
   "source": [
    "train_predict_2[:,1]"
   ]
  },
  {
   "cell_type": "code",
   "execution_count": 39,
   "metadata": {},
   "outputs": [
    {
     "data": {
      "text/plain": [
       "array([5.8427448e-03, 4.9685388e+00, 3.4116201e-02, 2.3138850e+00,\n",
       "       1.6480570e+00, 8.2829857e-04, 1.0383902e+00, 1.1439174e+00,\n",
       "       2.5860670e+00, 3.9850752e+00, 4.9656487e+00, 5.6004195e+00,\n",
       "       2.4956729e+00, 3.6161962e-01, 3.0081646e+00, 2.4999211e+00,\n",
       "       3.5001922e-03, 1.5262645e+00, 3.6114802e+00, 1.1387600e+00,\n",
       "       6.9223523e-02, 2.2952071e-01, 2.7980986e+00, 2.5398455e+00,\n",
       "       1.5327101e+00, 3.9090512e+00, 6.5446319e-04, 1.4355426e-03,\n",
       "       1.4663087e-03, 1.6815068e-01], dtype=float32)"
      ]
     },
     "execution_count": 39,
     "metadata": {},
     "output_type": "execute_result"
    }
   ],
   "source": [
    "train_predict_2[:,16339]"
   ]
  },
  {
   "cell_type": "code",
   "execution_count": 32,
   "metadata": {},
   "outputs": [],
   "source": [
    "weib_tests_old = []\n",
    "for a,b in zip(train_predict_1[:, 16339], train_predict_2[:, 16339]):\n",
    "    weib_tests_old.append(a * np.random.weibull(b, cfg[\"in_reps\"]))\n",
    "\n",
    "weib_tests_old = np.array(weib_tests_old)"
   ]
  },
  {
   "cell_type": "code",
   "execution_count": 33,
   "metadata": {},
   "outputs": [
    {
     "data": {
      "text/plain": [
       "(30, 10)"
      ]
     },
     "execution_count": 33,
     "metadata": {},
     "output_type": "execute_result"
    }
   ],
   "source": [
    "weib_tests_old.shape"
   ]
  },
  {
   "cell_type": "code",
   "execution_count": 34,
   "metadata": {},
   "outputs": [
    {
     "data": {
      "text/plain": [
       "6"
      ]
     },
     "execution_count": 34,
     "metadata": {},
     "output_type": "execute_result"
    }
   ],
   "source": [
    "np.isinf(weib_tests_old).sum()"
   ]
  },
  {
   "cell_type": "code",
   "execution_count": 35,
   "metadata": {},
   "outputs": [
    {
     "data": {
      "text/plain": [
       "array([[1.03548105e-091, 1.18890112e-011, 2.14093963e+113,\n",
       "        1.32122409e+000, 2.74676193e-108, 2.25286390e-184,\n",
       "        5.39889323e-212, 3.99865490e+047, 9.36530096e+046,\n",
       "        5.38124627e+055],\n",
       "       [1.66505781e+001, 8.35894106e+000, 1.11503345e+001,\n",
       "        1.50562481e+001, 7.47121026e+000, 1.51222583e+001,\n",
       "        1.36188747e+001, 1.27515154e+001, 1.02780670e+001,\n",
       "        8.09552990e+000],\n",
       "       [2.02412786e-023, 1.11960845e+001, 5.46507616e-009,\n",
       "        3.25045649e+012, 2.20373050e-035, 1.73462270e+007,\n",
       "        8.27133346e+010, 2.17671201e+015, 9.03276339e+015,\n",
       "        3.75325046e+009],\n",
       "       [1.17186163e+001, 2.62312949e+000, 1.37077904e+001,\n",
       "        5.48382404e+000, 6.68961391e+000, 2.80010348e+000,\n",
       "        4.35862926e+000, 6.17466251e+000, 5.84394461e+000,\n",
       "        5.53020167e+000],\n",
       "       [1.79220715e+000, 3.14322193e+000, 1.64925369e+000,\n",
       "        2.98592237e+000, 1.27158312e+000, 3.24208788e+000,\n",
       "        4.38814381e+000, 1.82020060e+000, 2.36998617e+000,\n",
       "        3.10501457e+000],\n",
       "       [2.41158980e+025, 3.05539256e-047,             inf,\n",
       "                    inf, 5.02796162e-212, 5.86448561e+245,\n",
       "                    inf,             inf,             inf,\n",
       "        0.00000000e+000],\n",
       "       [9.61130829e-001, 8.94257244e+000, 3.42121665e+000,\n",
       "        2.54230026e-001, 7.73523044e-002, 1.02546239e+000,\n",
       "        2.28239387e+000, 1.30917124e+000, 1.85598607e+000,\n",
       "        8.09716405e-002],\n",
       "       [2.05568750e+000, 6.54834598e-001, 1.38841384e+000,\n",
       "        2.48771185e-002, 6.50540849e-001, 5.23911726e-001,\n",
       "        5.90801760e-001, 1.05110246e-001, 1.42497588e+000,\n",
       "        4.03472303e+000],\n",
       "       [4.23076074e+000, 1.83792853e+000, 4.37189978e+000,\n",
       "        2.71478989e+000, 4.10649073e+000, 6.47406110e+000,\n",
       "        1.71127649e+000, 3.14324940e+000, 5.03190073e+000,\n",
       "        5.71080387e+000],\n",
       "       [4.19687115e+000, 5.96779969e+000, 5.06602989e+000,\n",
       "        7.13466816e+000, 5.27769589e+000, 1.84862947e+000,\n",
       "        5.10836960e+000, 5.09063892e+000, 5.62159231e+000,\n",
       "        4.76564329e+000],\n",
       "       [1.38705703e+001, 1.38828524e+001, 1.06557148e+001,\n",
       "        1.77263574e+001, 1.45257009e+001, 9.97755745e+000,\n",
       "        1.01650946e+001, 1.32006861e+001, 1.82221930e+001,\n",
       "        1.14119850e+001],\n",
       "       [8.97877084e+000, 1.26750751e+001, 1.20733582e+001,\n",
       "        1.45399655e+001, 1.41955323e+001, 1.42148619e+001,\n",
       "        1.01936197e+001, 8.07459710e+000, 1.31476519e+001,\n",
       "        1.36491734e+001],\n",
       "       [3.14110029e+000, 2.24476882e+000, 2.79267217e+000,\n",
       "        4.38592000e+000, 2.65038124e+000, 3.21681508e+000,\n",
       "        3.81690827e+000, 2.28205223e+000, 2.75840164e+000,\n",
       "        4.79119305e+000],\n",
       "       [5.15257611e+001, 1.04565933e-002, 2.89517889e-005,\n",
       "        2.78427382e-002, 4.14258638e+000, 8.59132867e-003,\n",
       "        6.24845827e-004, 4.29978731e-002, 1.43625339e+000,\n",
       "        3.72186018e+000],\n",
       "       [3.19738696e+000, 5.30141163e+000, 2.95542144e+000,\n",
       "        6.21197718e+000, 5.68766556e+000, 4.30790541e+000,\n",
       "        5.38855968e+000, 5.96024493e+000, 3.95770750e+000,\n",
       "        6.16453240e+000],\n",
       "       [3.82139095e+000, 5.81722282e+000, 4.87244074e+000,\n",
       "        5.10428070e+000, 5.06328256e+000, 3.59025926e+000,\n",
       "        4.53608876e+000, 5.35985886e+000, 3.30517822e+000,\n",
       "        8.26845186e+000],\n",
       "       [1.07743404e+077, 1.59582142e-061, 4.44051182e+059,\n",
       "        3.71056891e+132, 7.53551520e-098, 5.59475944e-118,\n",
       "        1.02679394e-158, 0.00000000e+000, 7.56202538e-256,\n",
       "        1.21581759e-022],\n",
       "       [1.95704693e+000, 2.44259448e+000, 2.22662456e+000,\n",
       "        2.22505570e+000, 4.39830989e+000, 3.15637350e+000,\n",
       "        2.20331253e+000, 2.19813076e+000, 2.40812410e+000,\n",
       "        1.59862608e+000],\n",
       "       [5.93486077e+000, 6.55975000e+000, 4.45730810e+000,\n",
       "        6.30616869e+000, 8.13885938e+000, 2.44603252e+000,\n",
       "        4.60852022e+000, 4.40894065e+000, 5.59950565e+000,\n",
       "        6.06902975e+000],\n",
       "       [4.61889931e+000, 1.06856257e+000, 8.78671083e+000,\n",
       "        2.67120035e+000, 1.56249263e+000, 1.37861622e+000,\n",
       "        2.27488887e+000, 3.37519439e+000, 5.27381061e+000,\n",
       "        2.27864448e-001],\n",
       "       [1.17560179e-002, 3.25436233e+004, 4.41520097e-024,\n",
       "        1.20350930e-008, 9.43748332e-011, 1.17601765e-018,\n",
       "        1.35447093e+004, 6.03207919e-008, 2.80948321e-006,\n",
       "        1.29766520e-015],\n",
       "       [1.22337110e-004, 1.62780168e+002, 6.15831489e+001,\n",
       "        5.62885910e-001, 2.29454731e-002, 4.65345664e-003,\n",
       "        5.12010879e-001, 3.89574099e-004, 1.20720327e-003,\n",
       "        1.24340806e-002],\n",
       "       [3.79891871e+000, 5.95111676e+000, 6.99941959e+000,\n",
       "        9.85333722e+000, 7.83437184e+000, 6.64407485e+000,\n",
       "        1.19373100e+001, 7.79699767e+000, 5.52994769e+000,\n",
       "        9.55716150e+000],\n",
       "       [2.70684432e+000, 1.96233062e+000, 9.02801056e-001,\n",
       "        1.80490152e+000, 2.64079035e+000, 1.51498925e+000,\n",
       "        3.29905052e+000, 2.83627443e+000, 1.83069647e+000,\n",
       "        1.13343534e+000],\n",
       "       [4.42202346e+000, 1.51822312e+000, 3.61536466e+000,\n",
       "        6.75660333e-001, 4.47617139e+000, 6.09232027e+000,\n",
       "        3.54243513e+000, 8.71513155e-001, 1.13978434e+001,\n",
       "        1.01217117e+000],\n",
       "       [6.33569336e+000, 8.33544637e+000, 4.70610984e+000,\n",
       "        8.98812515e+000, 9.10299779e+000, 8.68539901e+000,\n",
       "        4.78942317e+000, 6.46294169e+000, 1.02381500e+001,\n",
       "        5.34133543e+000],\n",
       "       [3.46950481e+271, 0.00000000e+000, 2.52205233e+053,\n",
       "        0.00000000e+000, 0.00000000e+000, 0.00000000e+000,\n",
       "        3.18862475e-008, 0.00000000e+000,             inf,\n",
       "        0.00000000e+000],\n",
       "       [6.18679838e-206, 7.09317500e+116, 8.91031064e-184,\n",
       "        5.87066938e+184, 0.00000000e+000, 0.00000000e+000,\n",
       "        0.00000000e+000, 7.43913092e+273, 1.99760218e+256,\n",
       "        4.02872545e-210],\n",
       "       [1.27788576e+140, 0.00000000e+000, 1.49533320e-260,\n",
       "        0.00000000e+000, 0.00000000e+000, 1.36574946e+301,\n",
       "        0.00000000e+000, 3.92699182e+279, 4.26413169e+096,\n",
       "        2.15036019e-233],\n",
       "       [1.65284989e-005, 1.97256265e-001, 2.91672958e-003,\n",
       "        2.72992756e+002, 6.71322249e-001, 2.26918833e+001,\n",
       "        6.95401179e-005, 1.53609484e-012, 1.82094837e-001,\n",
       "        1.61924716e-002]])"
      ]
     },
     "execution_count": 35,
     "metadata": {},
     "output_type": "execute_result"
    }
   ],
   "source": [
    "weib_tests_old"
   ]
  },
  {
   "cell_type": "code",
   "execution_count": 36,
   "metadata": {},
   "outputs": [],
   "source": [
    "mean_a_old = np.mean(train_predict_1[:, 16339])"
   ]
  },
  {
   "cell_type": "code",
   "execution_count": 37,
   "metadata": {},
   "outputs": [],
   "source": [
    "mean_b_old = np.mean(train_predict_2[:, 16339])"
   ]
  },
  {
   "cell_type": "code",
   "execution_count": 38,
   "metadata": {},
   "outputs": [
    {
     "data": {
      "text/plain": [
       "3.503604979558454"
      ]
     },
     "execution_count": 38,
     "metadata": {},
     "output_type": "execute_result"
    }
   ],
   "source": [
    "weibull_mean(mean_a_old, mean_b_old)"
   ]
  },
  {
   "cell_type": "code",
   "execution_count": 27,
   "metadata": {},
   "outputs": [
    {
     "data": {
      "text/plain": [
       "(16340, 8)"
      ]
     },
     "execution_count": 27,
     "metadata": {},
     "output_type": "execute_result"
    }
   ],
   "source": [
    "train_results_df_old.shape"
   ]
  },
  {
   "cell_type": "code",
   "execution_count": 111,
   "metadata": {},
   "outputs": [],
   "source": [
    "s = train_results_df_old[train_results_df_old.unit_number==3].iloc[::5]"
   ]
  },
  {
   "cell_type": "code",
   "execution_count": 112,
   "metadata": {},
   "outputs": [
    {
     "data": {
      "text/html": [
       "<div>\n",
       "<style scoped>\n",
       "    .dataframe tbody tr th:only-of-type {\n",
       "        vertical-align: middle;\n",
       "    }\n",
       "\n",
       "    .dataframe tbody tr th {\n",
       "        vertical-align: top;\n",
       "    }\n",
       "\n",
       "    .dataframe thead th {\n",
       "        text-align: right;\n",
       "    }\n",
       "</style>\n",
       "<table border=\"1\" class=\"dataframe\">\n",
       "  <thead>\n",
       "    <tr style=\"text-align: right;\">\n",
       "      <th></th>\n",
       "      <th>T</th>\n",
       "      <th>mean_alpha</th>\n",
       "      <th>mean_beta</th>\n",
       "      <th>std_alpha</th>\n",
       "      <th>std_beta</th>\n",
       "      <th>unit_number</th>\n",
       "      <th>time</th>\n",
       "      <th>predicted_mu</th>\n",
       "    </tr>\n",
       "  </thead>\n",
       "  <tbody>\n",
       "    <tr>\n",
       "      <th>192</th>\n",
       "      <td>115.000000</td>\n",
       "      <td>147.541412</td>\n",
       "      <td>5.234767</td>\n",
       "      <td>21.857027</td>\n",
       "      <td>1.050252</td>\n",
       "      <td>3</td>\n",
       "      <td>0</td>\n",
       "      <td>135.826526</td>\n",
       "    </tr>\n",
       "    <tr>\n",
       "      <th>197</th>\n",
       "      <td>115.000000</td>\n",
       "      <td>114.923759</td>\n",
       "      <td>18.230320</td>\n",
       "      <td>3.502093</td>\n",
       "      <td>0.414066</td>\n",
       "      <td>3</td>\n",
       "      <td>5</td>\n",
       "      <td>111.610765</td>\n",
       "    </tr>\n",
       "    <tr>\n",
       "      <th>202</th>\n",
       "      <td>115.000000</td>\n",
       "      <td>116.365547</td>\n",
       "      <td>18.418175</td>\n",
       "      <td>2.601429</td>\n",
       "      <td>0.306501</td>\n",
       "      <td>3</td>\n",
       "      <td>10</td>\n",
       "      <td>113.042029</td>\n",
       "    </tr>\n",
       "    <tr>\n",
       "      <th>207</th>\n",
       "      <td>115.000000</td>\n",
       "      <td>115.431725</td>\n",
       "      <td>18.583647</td>\n",
       "      <td>2.217866</td>\n",
       "      <td>0.154798</td>\n",
       "      <td>3</td>\n",
       "      <td>15</td>\n",
       "      <td>112.161534</td>\n",
       "    </tr>\n",
       "    <tr>\n",
       "      <th>212</th>\n",
       "      <td>115.000000</td>\n",
       "      <td>115.639580</td>\n",
       "      <td>18.578901</td>\n",
       "      <td>2.445693</td>\n",
       "      <td>0.137835</td>\n",
       "      <td>3</td>\n",
       "      <td>20</td>\n",
       "      <td>112.362740</td>\n",
       "    </tr>\n",
       "    <tr>\n",
       "      <th>217</th>\n",
       "      <td>115.000000</td>\n",
       "      <td>115.041122</td>\n",
       "      <td>18.653599</td>\n",
       "      <td>2.011448</td>\n",
       "      <td>0.109407</td>\n",
       "      <td>3</td>\n",
       "      <td>25</td>\n",
       "      <td>111.793100</td>\n",
       "    </tr>\n",
       "    <tr>\n",
       "      <th>222</th>\n",
       "      <td>115.000000</td>\n",
       "      <td>115.318802</td>\n",
       "      <td>18.596302</td>\n",
       "      <td>1.865619</td>\n",
       "      <td>0.239819</td>\n",
       "      <td>3</td>\n",
       "      <td>30</td>\n",
       "      <td>112.053829</td>\n",
       "    </tr>\n",
       "    <tr>\n",
       "      <th>227</th>\n",
       "      <td>115.000000</td>\n",
       "      <td>114.637695</td>\n",
       "      <td>18.646124</td>\n",
       "      <td>2.014901</td>\n",
       "      <td>0.187663</td>\n",
       "      <td>3</td>\n",
       "      <td>35</td>\n",
       "      <td>111.399884</td>\n",
       "    </tr>\n",
       "    <tr>\n",
       "      <th>232</th>\n",
       "      <td>115.000000</td>\n",
       "      <td>114.438828</td>\n",
       "      <td>18.567556</td>\n",
       "      <td>2.193369</td>\n",
       "      <td>0.544217</td>\n",
       "      <td>3</td>\n",
       "      <td>40</td>\n",
       "      <td>111.194214</td>\n",
       "    </tr>\n",
       "    <tr>\n",
       "      <th>237</th>\n",
       "      <td>115.000000</td>\n",
       "      <td>113.857040</td>\n",
       "      <td>18.408686</td>\n",
       "      <td>4.324592</td>\n",
       "      <td>0.838237</td>\n",
       "      <td>3</td>\n",
       "      <td>45</td>\n",
       "      <td>110.603647</td>\n",
       "    </tr>\n",
       "    <tr>\n",
       "      <th>242</th>\n",
       "      <td>115.000000</td>\n",
       "      <td>114.833633</td>\n",
       "      <td>18.669365</td>\n",
       "      <td>1.453100</td>\n",
       "      <td>0.206013</td>\n",
       "      <td>3</td>\n",
       "      <td>50</td>\n",
       "      <td>111.593956</td>\n",
       "    </tr>\n",
       "    <tr>\n",
       "      <th>247</th>\n",
       "      <td>115.000000</td>\n",
       "      <td>114.944122</td>\n",
       "      <td>18.663237</td>\n",
       "      <td>1.836387</td>\n",
       "      <td>0.134564</td>\n",
       "      <td>3</td>\n",
       "      <td>55</td>\n",
       "      <td>111.700361</td>\n",
       "    </tr>\n",
       "    <tr>\n",
       "      <th>252</th>\n",
       "      <td>115.000000</td>\n",
       "      <td>114.611641</td>\n",
       "      <td>18.393433</td>\n",
       "      <td>4.358133</td>\n",
       "      <td>0.841394</td>\n",
       "      <td>3</td>\n",
       "      <td>60</td>\n",
       "      <td>111.334222</td>\n",
       "    </tr>\n",
       "    <tr>\n",
       "      <th>257</th>\n",
       "      <td>115.000000</td>\n",
       "      <td>113.803131</td>\n",
       "      <td>18.477757</td>\n",
       "      <td>7.022854</td>\n",
       "      <td>0.925668</td>\n",
       "      <td>3</td>\n",
       "      <td>65</td>\n",
       "      <td>110.562310</td>\n",
       "    </tr>\n",
       "    <tr>\n",
       "      <th>262</th>\n",
       "      <td>115.000000</td>\n",
       "      <td>114.831322</td>\n",
       "      <td>18.502417</td>\n",
       "      <td>2.111139</td>\n",
       "      <td>0.386199</td>\n",
       "      <td>3</td>\n",
       "      <td>70</td>\n",
       "      <td>111.565176</td>\n",
       "    </tr>\n",
       "    <tr>\n",
       "      <th>267</th>\n",
       "      <td>115.000000</td>\n",
       "      <td>114.347954</td>\n",
       "      <td>18.562654</td>\n",
       "      <td>4.195278</td>\n",
       "      <td>0.391451</td>\n",
       "      <td>3</td>\n",
       "      <td>75</td>\n",
       "      <td>111.105140</td>\n",
       "    </tr>\n",
       "    <tr>\n",
       "      <th>272</th>\n",
       "      <td>115.000000</td>\n",
       "      <td>111.131691</td>\n",
       "      <td>18.211542</td>\n",
       "      <td>13.325383</td>\n",
       "      <td>1.498163</td>\n",
       "      <td>3</td>\n",
       "      <td>80</td>\n",
       "      <td>107.925020</td>\n",
       "    </tr>\n",
       "    <tr>\n",
       "      <th>277</th>\n",
       "      <td>115.000000</td>\n",
       "      <td>115.023232</td>\n",
       "      <td>18.483301</td>\n",
       "      <td>2.947035</td>\n",
       "      <td>0.499930</td>\n",
       "      <td>3</td>\n",
       "      <td>85</td>\n",
       "      <td>111.748557</td>\n",
       "    </tr>\n",
       "    <tr>\n",
       "      <th>282</th>\n",
       "      <td>115.000000</td>\n",
       "      <td>112.797905</td>\n",
       "      <td>18.283419</td>\n",
       "      <td>7.746907</td>\n",
       "      <td>1.151961</td>\n",
       "      <td>3</td>\n",
       "      <td>90</td>\n",
       "      <td>109.554756</td>\n",
       "    </tr>\n",
       "    <tr>\n",
       "      <th>287</th>\n",
       "      <td>113.789474</td>\n",
       "      <td>113.324585</td>\n",
       "      <td>18.344109</td>\n",
       "      <td>6.240445</td>\n",
       "      <td>0.826404</td>\n",
       "      <td>3</td>\n",
       "      <td>95</td>\n",
       "      <td>110.076068</td>\n",
       "    </tr>\n",
       "    <tr>\n",
       "      <th>292</th>\n",
       "      <td>107.736842</td>\n",
       "      <td>111.852280</td>\n",
       "      <td>18.157124</td>\n",
       "      <td>9.874934</td>\n",
       "      <td>1.312113</td>\n",
       "      <td>3</td>\n",
       "      <td>100</td>\n",
       "      <td>108.616053</td>\n",
       "    </tr>\n",
       "    <tr>\n",
       "      <th>297</th>\n",
       "      <td>101.684211</td>\n",
       "      <td>109.454002</td>\n",
       "      <td>17.693031</td>\n",
       "      <td>15.992833</td>\n",
       "      <td>2.022350</td>\n",
       "      <td>3</td>\n",
       "      <td>105</td>\n",
       "      <td>106.212109</td>\n",
       "    </tr>\n",
       "    <tr>\n",
       "      <th>302</th>\n",
       "      <td>95.631579</td>\n",
       "      <td>110.804970</td>\n",
       "      <td>17.964808</td>\n",
       "      <td>14.498798</td>\n",
       "      <td>1.565016</td>\n",
       "      <td>3</td>\n",
       "      <td>110</td>\n",
       "      <td>107.567987</td>\n",
       "    </tr>\n",
       "    <tr>\n",
       "      <th>307</th>\n",
       "      <td>89.578947</td>\n",
       "      <td>106.741302</td>\n",
       "      <td>17.123423</td>\n",
       "      <td>17.336800</td>\n",
       "      <td>2.241823</td>\n",
       "      <td>3</td>\n",
       "      <td>115</td>\n",
       "      <td>103.485063</td>\n",
       "    </tr>\n",
       "    <tr>\n",
       "      <th>312</th>\n",
       "      <td>83.526316</td>\n",
       "      <td>104.033501</td>\n",
       "      <td>16.714577</td>\n",
       "      <td>14.601271</td>\n",
       "      <td>2.251387</td>\n",
       "      <td>3</td>\n",
       "      <td>120</td>\n",
       "      <td>100.790161</td>\n",
       "    </tr>\n",
       "    <tr>\n",
       "      <th>317</th>\n",
       "      <td>77.473684</td>\n",
       "      <td>98.069809</td>\n",
       "      <td>15.547590</td>\n",
       "      <td>16.292236</td>\n",
       "      <td>2.218984</td>\n",
       "      <td>3</td>\n",
       "      <td>125</td>\n",
       "      <td>94.808027</td>\n",
       "    </tr>\n",
       "    <tr>\n",
       "      <th>322</th>\n",
       "      <td>71.421053</td>\n",
       "      <td>90.766739</td>\n",
       "      <td>14.914701</td>\n",
       "      <td>18.442045</td>\n",
       "      <td>2.255094</td>\n",
       "      <td>3</td>\n",
       "      <td>130</td>\n",
       "      <td>87.634395</td>\n",
       "    </tr>\n",
       "    <tr>\n",
       "      <th>327</th>\n",
       "      <td>65.368421</td>\n",
       "      <td>79.104897</td>\n",
       "      <td>13.463492</td>\n",
       "      <td>18.563049</td>\n",
       "      <td>1.538503</td>\n",
       "      <td>3</td>\n",
       "      <td>135</td>\n",
       "      <td>76.117872</td>\n",
       "    </tr>\n",
       "    <tr>\n",
       "      <th>332</th>\n",
       "      <td>59.315789</td>\n",
       "      <td>76.583931</td>\n",
       "      <td>13.111936</td>\n",
       "      <td>18.174412</td>\n",
       "      <td>1.260569</td>\n",
       "      <td>3</td>\n",
       "      <td>140</td>\n",
       "      <td>73.624655</td>\n",
       "    </tr>\n",
       "    <tr>\n",
       "      <th>337</th>\n",
       "      <td>53.263158</td>\n",
       "      <td>73.199196</td>\n",
       "      <td>13.001827</td>\n",
       "      <td>18.275810</td>\n",
       "      <td>1.347303</td>\n",
       "      <td>3</td>\n",
       "      <td>145</td>\n",
       "      <td>70.349904</td>\n",
       "    </tr>\n",
       "    <tr>\n",
       "      <th>342</th>\n",
       "      <td>47.210526</td>\n",
       "      <td>57.994209</td>\n",
       "      <td>11.838161</td>\n",
       "      <td>18.205830</td>\n",
       "      <td>1.086145</td>\n",
       "      <td>3</td>\n",
       "      <td>150</td>\n",
       "      <td>55.546722</td>\n",
       "    </tr>\n",
       "    <tr>\n",
       "      <th>347</th>\n",
       "      <td>41.157895</td>\n",
       "      <td>55.104038</td>\n",
       "      <td>11.689220</td>\n",
       "      <td>13.979535</td>\n",
       "      <td>0.976827</td>\n",
       "      <td>3</td>\n",
       "      <td>155</td>\n",
       "      <td>52.753224</td>\n",
       "    </tr>\n",
       "    <tr>\n",
       "      <th>352</th>\n",
       "      <td>35.105263</td>\n",
       "      <td>43.479378</td>\n",
       "      <td>10.818663</td>\n",
       "      <td>7.282683</td>\n",
       "      <td>0.853910</td>\n",
       "      <td>3</td>\n",
       "      <td>160</td>\n",
       "      <td>41.498700</td>\n",
       "    </tr>\n",
       "    <tr>\n",
       "      <th>357</th>\n",
       "      <td>29.052632</td>\n",
       "      <td>32.083492</td>\n",
       "      <td>9.697534</td>\n",
       "      <td>8.055905</td>\n",
       "      <td>1.259295</td>\n",
       "      <td>3</td>\n",
       "      <td>165</td>\n",
       "      <td>30.482552</td>\n",
       "    </tr>\n",
       "    <tr>\n",
       "      <th>362</th>\n",
       "      <td>23.000000</td>\n",
       "      <td>24.771290</td>\n",
       "      <td>8.856307</td>\n",
       "      <td>7.083998</td>\n",
       "      <td>1.229906</td>\n",
       "      <td>3</td>\n",
       "      <td>170</td>\n",
       "      <td>23.440362</td>\n",
       "    </tr>\n",
       "    <tr>\n",
       "      <th>367</th>\n",
       "      <td>16.947368</td>\n",
       "      <td>19.821486</td>\n",
       "      <td>7.895206</td>\n",
       "      <td>7.310874</td>\n",
       "      <td>1.093803</td>\n",
       "      <td>3</td>\n",
       "      <td>175</td>\n",
       "      <td>18.654747</td>\n",
       "    </tr>\n",
       "    <tr>\n",
       "      <th>372</th>\n",
       "      <td>10.894737</td>\n",
       "      <td>9.073120</td>\n",
       "      <td>5.344580</td>\n",
       "      <td>4.901054</td>\n",
       "      <td>1.748456</td>\n",
       "      <td>3</td>\n",
       "      <td>180</td>\n",
       "      <td>8.362647</td>\n",
       "    </tr>\n",
       "    <tr>\n",
       "      <th>377</th>\n",
       "      <td>4.842105</td>\n",
       "      <td>4.169184</td>\n",
       "      <td>2.862019</td>\n",
       "      <td>2.365186</td>\n",
       "      <td>1.615458</td>\n",
       "      <td>3</td>\n",
       "      <td>185</td>\n",
       "      <td>3.715628</td>\n",
       "    </tr>\n",
       "  </tbody>\n",
       "</table>\n",
       "</div>"
      ],
      "text/plain": [
       "              T  mean_alpha  mean_beta  std_alpha  std_beta  unit_number  \\\n",
       "192  115.000000  147.541412   5.234767  21.857027  1.050252            3   \n",
       "197  115.000000  114.923759  18.230320   3.502093  0.414066            3   \n",
       "202  115.000000  116.365547  18.418175   2.601429  0.306501            3   \n",
       "207  115.000000  115.431725  18.583647   2.217866  0.154798            3   \n",
       "212  115.000000  115.639580  18.578901   2.445693  0.137835            3   \n",
       "217  115.000000  115.041122  18.653599   2.011448  0.109407            3   \n",
       "222  115.000000  115.318802  18.596302   1.865619  0.239819            3   \n",
       "227  115.000000  114.637695  18.646124   2.014901  0.187663            3   \n",
       "232  115.000000  114.438828  18.567556   2.193369  0.544217            3   \n",
       "237  115.000000  113.857040  18.408686   4.324592  0.838237            3   \n",
       "242  115.000000  114.833633  18.669365   1.453100  0.206013            3   \n",
       "247  115.000000  114.944122  18.663237   1.836387  0.134564            3   \n",
       "252  115.000000  114.611641  18.393433   4.358133  0.841394            3   \n",
       "257  115.000000  113.803131  18.477757   7.022854  0.925668            3   \n",
       "262  115.000000  114.831322  18.502417   2.111139  0.386199            3   \n",
       "267  115.000000  114.347954  18.562654   4.195278  0.391451            3   \n",
       "272  115.000000  111.131691  18.211542  13.325383  1.498163            3   \n",
       "277  115.000000  115.023232  18.483301   2.947035  0.499930            3   \n",
       "282  115.000000  112.797905  18.283419   7.746907  1.151961            3   \n",
       "287  113.789474  113.324585  18.344109   6.240445  0.826404            3   \n",
       "292  107.736842  111.852280  18.157124   9.874934  1.312113            3   \n",
       "297  101.684211  109.454002  17.693031  15.992833  2.022350            3   \n",
       "302   95.631579  110.804970  17.964808  14.498798  1.565016            3   \n",
       "307   89.578947  106.741302  17.123423  17.336800  2.241823            3   \n",
       "312   83.526316  104.033501  16.714577  14.601271  2.251387            3   \n",
       "317   77.473684   98.069809  15.547590  16.292236  2.218984            3   \n",
       "322   71.421053   90.766739  14.914701  18.442045  2.255094            3   \n",
       "327   65.368421   79.104897  13.463492  18.563049  1.538503            3   \n",
       "332   59.315789   76.583931  13.111936  18.174412  1.260569            3   \n",
       "337   53.263158   73.199196  13.001827  18.275810  1.347303            3   \n",
       "342   47.210526   57.994209  11.838161  18.205830  1.086145            3   \n",
       "347   41.157895   55.104038  11.689220  13.979535  0.976827            3   \n",
       "352   35.105263   43.479378  10.818663   7.282683  0.853910            3   \n",
       "357   29.052632   32.083492   9.697534   8.055905  1.259295            3   \n",
       "362   23.000000   24.771290   8.856307   7.083998  1.229906            3   \n",
       "367   16.947368   19.821486   7.895206   7.310874  1.093803            3   \n",
       "372   10.894737    9.073120   5.344580   4.901054  1.748456            3   \n",
       "377    4.842105    4.169184   2.862019   2.365186  1.615458            3   \n",
       "\n",
       "     time  predicted_mu  \n",
       "192     0    135.826526  \n",
       "197     5    111.610765  \n",
       "202    10    113.042029  \n",
       "207    15    112.161534  \n",
       "212    20    112.362740  \n",
       "217    25    111.793100  \n",
       "222    30    112.053829  \n",
       "227    35    111.399884  \n",
       "232    40    111.194214  \n",
       "237    45    110.603647  \n",
       "242    50    111.593956  \n",
       "247    55    111.700361  \n",
       "252    60    111.334222  \n",
       "257    65    110.562310  \n",
       "262    70    111.565176  \n",
       "267    75    111.105140  \n",
       "272    80    107.925020  \n",
       "277    85    111.748557  \n",
       "282    90    109.554756  \n",
       "287    95    110.076068  \n",
       "292   100    108.616053  \n",
       "297   105    106.212109  \n",
       "302   110    107.567987  \n",
       "307   115    103.485063  \n",
       "312   120    100.790161  \n",
       "317   125     94.808027  \n",
       "322   130     87.634395  \n",
       "327   135     76.117872  \n",
       "332   140     73.624655  \n",
       "337   145     70.349904  \n",
       "342   150     55.546722  \n",
       "347   155     52.753224  \n",
       "352   160     41.498700  \n",
       "357   165     30.482552  \n",
       "362   170     23.440362  \n",
       "367   175     18.654747  \n",
       "372   180      8.362647  \n",
       "377   185      3.715628  "
      ]
     },
     "execution_count": 112,
     "metadata": {},
     "output_type": "execute_result"
    }
   ],
   "source": [
    "s"
   ]
  },
  {
   "cell_type": "code",
   "execution_count": 101,
   "metadata": {},
   "outputs": [],
   "source": [
    "def plot_weibull_variance(results_df):\n",
    "\n",
    "    plt.figure(figsize=(30,20))\n",
    "    palette = sns.color_palette(\"RdBu_r\", results_df.shape[0] + 1)\n",
    "    color_dict = dict(enumerate(palette))\n",
    "\n",
    "    for i, row in enumerate(results_df.iterrows()):\n",
    "            alpha=row[1]['mean_alpha']\n",
    "            beta = row[1]['mean_beta']\n",
    "            color = color_dict[i]\n",
    "            variance = weibull_variance(alpha, beta)\n",
    "\n",
    "            plt.scatter(i, variance, color=color)\n",
    "            plt.text(i, variance+0.5, i*5)\n",
    "            plt.title('Weibull distributions variance')\n",
    "            # plt.legend()\n"
   ]
  },
  {
   "cell_type": "code",
   "execution_count": 84,
   "metadata": {},
   "outputs": [],
   "source": [
    "def plot_weibull_predictions(results_df):\n",
    "\n",
    "    fig, axarr = plt.subplots(1, figsize=(30,20))\n",
    "\n",
    "    t=np.arange(0,400)\n",
    "\n",
    "    palette = sns.color_palette(\"RdBu_r\", results_df.shape[0] + 1)\n",
    "    color_dict = dict(enumerate(palette))\n",
    "\n",
    "    for i, row in enumerate(results_df.iterrows()):\n",
    "            alpha=row[1]['mean_alpha']\n",
    "            beta = row[1]['mean_beta']\n",
    "            T = row[1]['T']\n",
    "            label = 'a={} b={}'.format(alpha, beta)\n",
    "\n",
    "            color = color_dict[i]\n",
    "            ax= axarr  #[0]\n",
    "            mode = weibull_mode(alpha, beta)\n",
    "            y_max = weibull_pdf(alpha, beta, mode)    \n",
    "\n",
    "            ax.plot(t, weibull_pdf(alpha, beta, t), color=color)  # label=label\n",
    "            ax.scatter(T, weibull_pdf(alpha,beta, T), color=color, s=100)\n",
    "            ax.vlines(mode, ymin=0, ymax=y_max, colors=color, linestyles='--')\n",
    "            ax.text(mode, y_max, i*5)\n",
    "\n",
    "            ax.set_title('Weibull distributions')\n",
    "            # ax.legend()\n",
    "    \n",
    "    # ax=axarr[1]\n",
    "    \n",
    "    # median_predictions = weibull_median(results_df['alpha'], results_df['beta'])\n",
    "    # mean_predictions = results_df[['alpha', 'beta']].apply(lambda row: weibull_mean(row[0], row[1]), axis=1)\n",
    "    # mode_predictions = weibull_mode(results_df['alpha'], results_df['beta'])\n",
    "#     x = results_df['time']\n",
    "    \n",
    "#     ax.scatter(x, results_df['T'], label='survival_time', color='black')\n",
    "\n",
    "#     ax.scatter(results_df['T'], median_predictions, label='median_prediction')\n",
    "#     ax.scatter(results_df['T'], mean_predictions, label='mean_prediction')\n",
    "    # ax.scatter(results_df['T'], mode_predictions, label='m_prediction')\n",
    "    # ax.set_title('MAP prediction Vs. true')\n",
    "    \n",
    "\n",
    "    # ax.legend()\n",
    "    \n",
    "    # ax=axarr[2]\n",
    "    # sns.distplot(results_df['T'] - mode_predictions, ax=ax)\n",
    "    # ax.set_title('Error')\n",
    "\n",
    "#     ax.plot(x, results_df['alpha'], label='alpha')\n",
    "#     ax.legend()\n",
    "    \n",
    "#     ax = axarr[3]\n",
    "#     ax.plot(x, results_df['beta'], label='beta')\n",
    "#     ax.legend()\n",
    "    \n",
    "#     ax.legend(loc='center left', bbox_to_anchor=(1, 0.5))\n",
    "#     fig.suptitle(title)\n",
    "    plt.show()\n"
   ]
  },
  {
   "cell_type": "code",
   "execution_count": 113,
   "metadata": {},
   "outputs": [
    {
     "data": {
      "image/png": "[encoded data removed]",
      "text/plain": [
       "<Figure size 2160x1440 with 1 Axes>"
      ]
     },
     "metadata": {
      "needs_background": "light"
     },
     "output_type": "display_data"
    }
   ],
   "source": [
    "plot_weibull_predictions(s)"
   ]
  },
  {
   "cell_type": "code",
   "execution_count": 114,
   "metadata": {},
   "outputs": [
    {
     "data": {
      "image/png": "[encoded data removed]",
      "text/plain": [
       "<Figure size 2160x1440 with 1 Axes>"
      ]
     },
     "metadata": {
      "needs_background": "light"
     },
     "output_type": "display_data"
    }
   ],
   "source": [
    "plot_weibull_variance(s)"
   ]
  },
  {
   "cell_type": "code",
   "execution_count": 115,
   "metadata": {},
   "outputs": [],
   "source": [
    "a = np.array([[1,2,3,4],[5,6,7,8], [9,10,11,12]])"
   ]
  },
  {
   "cell_type": "code",
   "execution_count": 121,
   "metadata": {},
   "outputs": [
    {
     "data": {
      "text/plain": [
       "array([[ 1,  2,  3,  4],\n",
       "       [ 5,  6,  7,  8],\n",
       "       [ 9, 10, 11, 12]])"
      ]
     },
     "execution_count": 121,
     "metadata": {},
     "output_type": "execute_result"
    }
   ],
   "source": [
    "a"
   ]
  },
  {
   "cell_type": "code",
   "execution_count": 125,
   "metadata": {},
   "outputs": [
    {
     "data": {
      "text/plain": [
       "array([ 3.5,  7.5, 11.5])"
      ]
     },
     "execution_count": 125,
     "metadata": {},
     "output_type": "execute_result"
    }
   ],
   "source": [
    "np.mean(a[:,2:], axis=1)"
   ]
  },
  {
   "cell_type": "code",
   "execution_count": null,
   "metadata": {},
   "outputs": [],
   "source": [
    "net_cfg = {\"num_rec\": 2, \"max_time\": 25, \"neuron_0\": 74, \"neuron_1\": 71, \"neuron_2\": 78, \"neuron_3\": 68,\n",
    "     \"activation_0\": \"tanh\", \"activation_1\": \"sigmoid\", \"activation_2\": \"sigmoid\", \"activation_3\": \"tanh\",\n",
    "      \"dropout_0\": 0.04198965650706104, \"dropout_1\": 0.6518949855946009, \"dropout_2\": 0.5134433415117658,\n",
    "       \"dropout_3\": 0.44181882048621723, \"recurrent_dropout_0\": 0.011379281378212352, \"recurrent_dropout_1\": 0.07877843876273939,\n",
    "        \"recurrent_dropout_2\": 0.25685072170110057, \"recurrent_dropout_3\": 0.16640448683710898, \"final_activation_0\": \"softplus\",\n",
    "         \"final_activation_1\": \"softplus\", \"percentage\": 63, \"rul\": 125, \"rul_style\": \"nonlinear\", \"lr\": 0.021745779733326226, \"batch\": \"256\"}"
   ]
  },
  {
   "cell_type": "code",
   "execution_count": null,
   "metadata": {},
   "outputs": [],
   "source": [
    "id_col = 'unit_number'\n",
    "time_col = 'time'\n",
    "max_time = 32\n",
    "mask_value = -99\n",
    "\n",
    "feature_cols = ['op_setting_1', 'op_setting_2', 'op_setting_3'] + ['sensor_measurement_{}'.format(x) for x in\n",
    "                                                                    range(1, 22)]\n",
    "column_names = [id_col, time_col] + feature_cols\n",
    "test_or = test_x_orig.copy()\n",
    "test_or = np.concatenate([test_or[['unit_number', 'time']], scaler.transform(test_or[feature_cols])], axis=1)\n",
    "\n",
    "\n",
    "# Preparing data for the RNN (numpy arrays)\n",
    "test_or, _ = build_data(units=test_or[:, 0], time=test_or[:, 1], x=test_or[:, 2:], max_time=net_cfg['max_time'],\n",
    "                                is_test=True, mask_value=-99,\n",
    "                                original_data=np.repeat(200, test_or.shape[0]), net_cfg = net_cfg, label=net_cfg['rul_style'])\n"
   ]
  },
  {
   "cell_type": "code",
   "execution_count": null,
   "metadata": {},
   "outputs": [],
   "source": [
    "reps = 30\n",
    "test_predict_1_or = []\n",
    "test_predict_2_or = []\n",
    "for _ in range(reps):\n",
    "    test_predict_or = model(test_or, training=True).numpy()\n",
    "#     print(test_predict_or.shape)\n",
    "#     break\n",
    "    test_predict_1_or.append(test_predict_or[:,0].reshape(test_predict_or[:,0].shape[0], 1))\n",
    "    test_predict_2_or.append(test_predict_or[:,1].reshape(test_predict_or[:,1].shape[0], 1))\n",
    "\n",
    "test_predict_1_mean_or = np.average(np.hstack(test_predict_1_or), axis=1)\n",
    "test_predict_2_mean_or = np.average(np.hstack(test_predict_2_or), axis=1)\n",
    "test_predict_1_mean_or = test_predict_1_mean_or.reshape(test_predict_1_mean_or.shape[0],1)\n",
    "test_predict_2_mean_or = test_predict_2_mean_or.reshape(test_predict_2_mean_or.shape[0],1)\n",
    "test_predict_1_std_or = np.std(np.hstack(test_predict_1_or), axis=1)\n",
    "test_predict_2_std_or = np.std(np.hstack(test_predict_2_or), axis=1)\n",
    "test_predict_1_std_or = test_predict_1_std_or.reshape(test_predict_1_std_or.shape[0],1)\n",
    "test_predict_2_std_or = test_predict_2_std_or.reshape(test_predict_2_std_or.shape[0],1)\n",
    "\n",
    "\n",
    "test_predict_or = np.hstack([test_predict_1_mean_or, test_predict_2_mean_or, \n",
    "                           test_predict_1_std_or, test_predict_2_std_or])    \n",
    "\n",
    "test_predict_or = np.resize(test_predict_or, (test_or.shape[0], 4))  # changed from 2 to 4\n",
    "test_result_or = np.concatenate((test_y_orig, test_predict_or), axis=1)\n",
    "test_results_df_or = pd.DataFrame(test_result_or, columns=['T',   'mean_alpha', 'mean_beta', 'std_alpha', 'std_beta']) # (add 'E' for event)\n",
    "#     test_results_df['unit_number'] = train_x_orig.iloc[test_index]['unit_number'].to_numpy() # Note the train_x_orig\n",
    "#     test_results_df['time'] = train_x_orig.iloc[test_index]['time'].to_numpy()\n",
    "\n",
    "test_results_df_or['predicted_mu'] = test_results_df_or[['mean_alpha', 'mean_beta']].apply(lambda row: weibull_mean(row[0], row[1]), axis=1)\n",
    "test_results_df_or['predicted_std+'] = test_results_df_or[['mean_alpha', 'mean_beta', 'std_alpha', \n",
    "                                                       'std_beta']].apply(lambda row: weibull_mean(row[0]+1.96*row[2]/np.sqrt(reps), \n",
    "                                                                                                   row[1]+1.96*row[3]/np.sqrt(reps)), axis=1)\n",
    "test_results_df_or['predicted_std-'] = test_results_df_or[['mean_alpha', 'mean_beta', 'std_alpha', \n",
    "                                                           'std_beta']].apply(lambda row: weibull_mean(row[0]-1.96*row[2]/np.sqrt(reps),\n",
    "                                                                                                       row[1]-1.96*row[3]/np.sqrt(reps)), axis=1)\n",
    "\n",
    "\n",
    "\n",
    "\n",
    "# Old way\n",
    "# test_predict_or = model(test_or, training=True).numpy()  # equivalent to model.predict(test_or) but with training=False\n",
    "# test_predict_or = np.resize(test_predict_or, (test_or.shape[0], 2))\n",
    "# test_result_or = np.concatenate((test_y_orig, test_predict_or), axis=1)\n",
    "# test_results_df_or = pd.DataFrame(test_result_or, columns=['T', 'alpha', 'beta'])\n",
    "# test_results_df_or['unit_number'] = np.arange(1, test_results_df_or.shape[0]+1)\n",
    "\n",
    "# test_results_df_or['predicted_mu'] = test_results_df_or[['alpha', 'beta']].apply(lambda row: weibull_mean(row[0], row[1]), axis=1)"
   ]
  },
  {
   "cell_type": "code",
   "execution_count": null,
   "metadata": {},
   "outputs": [],
   "source": [
    "test_results_df_or"
   ]
  },
  {
   "cell_type": "code",
   "execution_count": null,
   "metadata": {},
   "outputs": [],
   "source": [
    "#1 - 10 epochs\n",
    "np.sqrt(mean_squared_error(test_results_df_or['predicted_mu'], test_results_df_or['T']))"
   ]
  },
  {
   "cell_type": "code",
   "execution_count": null,
   "metadata": {},
   "outputs": [],
   "source": [
    "#1 - 50 epochs\n",
    "np.sqrt(mean_squared_error(test_results_df_or['predicted_mu'], test_results_df_or['T']))"
   ]
  },
  {
   "cell_type": "code",
   "execution_count": null,
   "metadata": {},
   "outputs": [],
   "source": [
    "#2 - 21/50 epochs\n",
    "np.sqrt(mean_squared_error(test_results_df_or['predicted_mu'], test_results_df_or['T']))"
   ]
  },
  {
   "cell_type": "code",
   "execution_count": null,
   "metadata": {},
   "outputs": [],
   "source": [
    "for unit_number, grp in train_results_df.groupby('unit_number'):\n",
    "    plot_weibull_predictions(grp, unit_number)\n",
    "    break"
   ]
  },
  {
   "cell_type": "code",
   "execution_count": null,
   "metadata": {},
   "outputs": [],
   "source": [
    "for unit_number, grp in test_results_df.groupby('unit_number'):\n",
    "    plot_weibull_predictions(grp, unit_number)\n",
    "    break"
   ]
  },
  {
   "cell_type": "markdown",
   "metadata": {},
   "source": [
    "# Training full model on the best HP"
   ]
  },
  {
   "cell_type": "code",
   "execution_count": null,
   "metadata": {},
   "outputs": [],
   "source": [
    "import os\n",
    "os.environ[\"CUDA_DEVICE_ORDER\"]=\"PCI_BUS_ID\"\n",
    "os.environ[\"CUDA_VISIBLE_DEVICES\"]=\"1,2,3,4,5\"  # uncomment in case running ONLY on CPU is required\n",
    "\n",
    "import tensorflow as tf\n",
    "tf.random.set_seed(42)\n",
    "from tensorflow.keras import backend as k\n",
    "from tensorflow.keras import callbacks\n",
    "from tensorflow.keras.callbacks import History\n",
    "from tensorflow import keras\n",
    "from tensorflow.keras.optimizers import Adam\n",
    "\n",
    "from activations import Activate\n",
    "from losses import CustomLoss\n",
    "from preprocessing import build_data\n",
    "\n",
    "import numpy as np\n",
    "import pandas as pd\n",
    "import math\n",
    "from datetime import datetime\n",
    "\n",
    "from sklearn import pipeline\n",
    "from sklearn.feature_selection import VarianceThreshold\n",
    "from sklearn.metrics import mean_squared_error, mean_absolute_error, r2_score\n",
    "from sklearn.model_selection import KFold\n",
    "from sklearn.preprocessing import MinMaxScaler"
   ]
  },
  {
   "cell_type": "code",
   "execution_count": null,
   "metadata": {},
   "outputs": [],
   "source": [
    "net_cfg = {\"num_rec\": 3, \"max_time\": 26, \"neuron_0\": 73, \"neuron_1\": 71, \"neuron_2\": 82, \"neuron_3\": 82, \"activation_0\": \"tanh\",\n",
    "     \"activation_1\": \"sigmoid\", \"activation_2\": \"sigmoid\", \"activation_3\": \"tanh\", \"dropout_0\": 0.06943171652267692,\n",
    "      \"dropout_1\": 0.12639579059484615, \"dropout_2\": 0.3822443511564662, \"dropout_3\": 0.4580962846531429,\n",
    "       \"recurrent_dropout_0\": 0.3280089650917844, \"recurrent_dropout_1\": 0.69930466502713, \"recurrent_dropout_2\": 0.24506744915217923,\n",
    "        \"recurrent_dropout_3\": 0.7699919737017498, \"final_activation_0\": \"exp\", \"final_activation_1\": \"softplus\", \"percentage\": 73,\n",
    "        \"rul\": 121, \"rul_style\": \"nonlinear\", \"lr\": 0.005357912753227542, \"batch\": \"128\"}\n"
   ]
  },
  {
   "cell_type": "code",
   "execution_count": null,
   "metadata": {},
   "outputs": [],
   "source": [
    "cfg = {'cv': 10, 'shuffle': True,\n",
    "'random_state': 21,\n",
    "'mask_value': -99,\n",
    "'reps': 30,\n",
    "'epochs': 100,\n",
    "'batches': 64}"
   ]
  },
  {
   "cell_type": "code",
   "execution_count": null,
   "metadata": {},
   "outputs": [],
   "source": [
    "def weibull_mean(alpha, beta):\n",
    "    return alpha * math.gamma(1 + 1/beta)"
   ]
  },
  {
   "cell_type": "code",
   "execution_count": null,
   "metadata": {},
   "outputs": [],
   "source": [
    "def network(train_X, train_y, net_cfg, cfg):\n",
    "    k.set_epsilon(1e-10)\n",
    "    history = History()\n",
    "    nan_terminator = callbacks.TerminateOnNaN()\n",
    "    reduce_lr = callbacks.ReduceLROnPlateau(monitor='loss')\n",
    "    early_stopping = callbacks.EarlyStopping(monitor='loss', patience=5)\n",
    "    checkpoint_filepath = './saved_models/cp-{epoch:04d}.ckpt'\n",
    "    checkpoint = callbacks.ModelCheckpoint(filepath=checkpoint_filepath, monitor='loss', verbose=1)\n",
    "    logdir=\"logs/test1\" #+ datetime.now().strftime(\"%Y%m%d-%H%M%S\")\n",
    "    tensorboard = callbacks.TensorBoard(log_dir=logdir)\n",
    "\n",
    "    window = train_X.shape[1]\n",
    "    n_features = train_X.shape[2]\n",
    "\n",
    "    inputs = keras.Input(shape=(window, n_features))\n",
    "    masking_layer = keras.layers.Masking(mask_value=cfg['mask_value'])(inputs)\n",
    "\n",
    "    # recurrent layers\n",
    "    if net_cfg['num_rec'] > 1:\n",
    "        for i in np.arange(net_cfg['num_rec']-1):\n",
    "            masking_layer = keras.layers.GRU(net_cfg['neuron_'+str(i)], activation=net_cfg['activation_'+str(i)],\n",
    "                                    dropout=net_cfg['dropout_'+str(i)],\n",
    "                                    recurrent_dropout=net_cfg['recurrent_dropout_'+str(i)],\n",
    "                                    return_sequences=True)(masking_layer)\n",
    "    last = i + 1\n",
    "    gru_last = keras.layers.GRU(net_cfg['neuron_'+str(last)], activation=net_cfg['activation_'+str(last)],\n",
    "                                dropout=net_cfg['dropout_'+str(last)],\n",
    "                                recurrent_dropout=net_cfg['recurrent_dropout_'+str(last)],\n",
    "                                return_sequences=False)(masking_layer)\n",
    "\n",
    "    dense_1 = keras.layers.Dense(2)(gru_last)\n",
    "    custom_activation = Activate(net_cfg=net_cfg)\n",
    "    outputs = keras.layers.Activation(custom_activation)(dense_1)\n",
    "\n",
    "    model = keras.Model(inputs=inputs, outputs=outputs, name=\"weibull_params\")\n",
    "\n",
    "    # rmse = tf.keras.metrics.RootMeanSquaredError()\n",
    "    model.compile(loss=CustomLoss(kind='continuous', reduce_loss=True), optimizer=Adam(lr=net_cfg['lr'],\n",
    "                                                                                       clipvalue=0.5))\n",
    "    model.summary()  # uncomment for debugging\n",
    "\n",
    "    batch_size=eval(net_cfg['batch'])\n",
    "    model.fit(train_X, train_y,\n",
    "              epochs=cfg['epochs'],\n",
    "              batch_size=eval(net_cfg['batch']),\n",
    "              verbose=1,\n",
    "              callbacks=[nan_terminator, history, reduce_lr, early_stopping, checkpoint],#, tensorboard],  # , tensorboard\n",
    "              workers=32)\n",
    "\n",
    "    return model, history\n",
    "\n"
   ]
  },
  {
   "cell_type": "code",
   "execution_count": null,
   "metadata": {},
   "outputs": [],
   "source": [
    "# %load_ext tensorboard\n"
   ]
  },
  {
   "cell_type": "code",
   "execution_count": null,
   "metadata": {},
   "outputs": [],
   "source": [
    "# %tensorboard --logdir=logdir --port 8889\n"
   ]
  },
  {
   "cell_type": "code",
   "execution_count": null,
   "metadata": {},
   "outputs": [],
   "source": [
    "def load_data():\n",
    "\n",
    "    np.random.seed(42)\n",
    "\n",
    "    id_col = 'unit_number'\n",
    "    time_col = 'time'\n",
    "    feature_cols = ['op_setting_1', 'op_setting_2', 'op_setting_3'] + ['sensor_measurement_{}'.format(x) for x in\n",
    "                                                                       range(1, 22)]\n",
    "    column_names = [id_col, time_col] + feature_cols\n",
    "\n",
    "    train_x_orig = pd.read_csv('./DataSets/CMAPSS/train_FD001.csv', header=None, sep='\\s+', decimal=\".\")\n",
    "    train_x_orig.columns = column_names\n",
    "\n",
    "    test_x_orig = pd.read_csv('./DataSets/CMAPSS/test_FD001.csv', header=None, sep='\\s+', decimal=\".\")\n",
    "    test_x_orig.columns = column_names\n",
    "\n",
    "    test_y_orig = pd.read_csv('./DataSets/CMAPSS/RUL_FD001.csv', header=None, names=['T'])\n",
    "\n",
    "    # Make engine numbers and days zero-indexed\n",
    "    train_x_orig.iloc[:, 0:2] -= 1\n",
    "    test_x_orig.iloc[:, 0:2] -= 1\n",
    "\n",
    "    # Pre-processing data\n",
    "    scaler = pipeline.Pipeline(steps=[\n",
    "        ('minmax', MinMaxScaler(feature_range=(-1, 1))),\n",
    "        ('remove_constant', VarianceThreshold())])\n",
    "\n",
    "    train = train_x_orig.copy()\n",
    "    train = np.concatenate([train[['unit_number', 'time']], scaler.fit_transform(train[feature_cols])], axis=1)\n",
    "\n",
    "    train_x, train_y = build_data(units=train[:, 0], time=train[:, 1], x=train[:, 2:], max_time=net_cfg['max_time'],\n",
    "                                    is_test=False, mask_value=cfg['mask_value'],\n",
    "                                    original_data=None, net_cfg = net_cfg, label=net_cfg['rul_style'])\n",
    "\n",
    "    test_or = test_x_orig.copy()\n",
    "    test_or = np.concatenate([test_or[['unit_number', 'time']], scaler.transform(test_or[feature_cols])], axis=1)\n",
    "\n",
    "\n",
    "    # Preparing data for the RNN (numpy arrays)\n",
    "    test_or, _ = build_data(units=test_or[:, 0], time=test_or[:, 1], x=test_or[:, 2:], max_time=net_cfg['max_time'],\n",
    "                                    is_test=True, mask_value=-99,\n",
    "                                    original_data=np.repeat(200, test_or.shape[0]), net_cfg = net_cfg, label=net_cfg['rul_style'])\n",
    "\n",
    "    \n",
    "\n",
    "    return train_x, train_y, test_or, test_y_orig, train_x_orig\n"
   ]
  },
  {
   "cell_type": "code",
   "execution_count": null,
   "metadata": {},
   "outputs": [],
   "source": [
    "train_x, train_y, test_x, test_y, train_x_orig = load_data()\n"
   ]
  },
  {
   "cell_type": "code",
   "execution_count": null,
   "metadata": {},
   "outputs": [],
   "source": [
    "print('train_x', train_x.shape, 'train_y', train_y.shape, 'test_x', test_x.shape, 'test_y', test_y.shape)\n"
   ]
  },
  {
   "cell_type": "code",
   "execution_count": null,
   "metadata": {},
   "outputs": [],
   "source": [
    "k.clear_session()\n",
    "try:\n",
    "    del model\n",
    "except:\n",
    "    pass\n",
    "\n",
    "model, history = network(train_x, train_y, net_cfg, cfg)"
   ]
  },
  {
   "cell_type": "code",
   "execution_count": null,
   "metadata": {},
   "outputs": [],
   "source": [
    "model = tf.keras.models.load_model('../autokeras_rul/best_model_autokeras_with_vld') #, custom_objects={\"CustomLoss\": CustomLoss, \"Activate\": Activate})"
   ]
  },
  {
   "cell_type": "code",
   "execution_count": null,
   "metadata": {},
   "outputs": [],
   "source": [
    "model.summary()"
   ]
  },
  {
   "cell_type": "code",
   "execution_count": null,
   "metadata": {},
   "outputs": [],
   "source": [
    "model.evaluate(train_x, train_y)"
   ]
  },
  {
   "cell_type": "code",
   "execution_count": null,
   "metadata": {},
   "outputs": [],
   "source": [
    "model.evaluate(test_x, test_y)"
   ]
  },
  {
   "cell_type": "code",
   "execution_count": null,
   "metadata": {},
   "outputs": [],
   "source": [
    "import matplotlib.pyplot as plt"
   ]
  },
  {
   "cell_type": "code",
   "execution_count": null,
   "metadata": {},
   "outputs": [],
   "source": [
    "plt.plot(model.history.history['loss'],    label='training')\n",
    "plt.title('loss')\n",
    "plt.legend()"
   ]
  },
  {
   "cell_type": "code",
   "execution_count": null,
   "metadata": {},
   "outputs": [],
   "source": [
    "reps = 30\n",
    "test_predict_1_or = []\n",
    "test_predict_2_or = []\n",
    "for _ in range(reps):\n",
    "    test_predict_or = model(test_x, training=True).numpy()\n",
    "#     print(test_predict_or.shape)\n",
    "#     break\n",
    "    test_predict_1_or.append(test_predict_or[:,0].reshape(test_predict_or[:,0].shape[0], 1))\n",
    "    test_predict_2_or.append(test_predict_or[:,1].reshape(test_predict_or[:,1].shape[0], 1))\n",
    "\n",
    "test_predict_1_mean_or = np.average(np.hstack(test_predict_1_or), axis=1)\n",
    "test_predict_2_mean_or = np.average(np.hstack(test_predict_2_or), axis=1)\n",
    "test_predict_1_mean_or = test_predict_1_mean_or.reshape(test_predict_1_mean_or.shape[0],1)\n",
    "test_predict_2_mean_or = test_predict_2_mean_or.reshape(test_predict_2_mean_or.shape[0],1)\n",
    "test_predict_1_std_or = np.std(np.hstack(test_predict_1_or), axis=1)\n",
    "test_predict_2_std_or = np.std(np.hstack(test_predict_2_or), axis=1)\n",
    "test_predict_1_std_or = test_predict_1_std_or.reshape(test_predict_1_std_or.shape[0],1)\n",
    "test_predict_2_std_or = test_predict_2_std_or.reshape(test_predict_2_std_or.shape[0],1)\n",
    "\n",
    "\n",
    "test_predict_or = np.hstack([test_predict_1_mean_or, test_predict_2_mean_or, \n",
    "                           test_predict_1_std_or, test_predict_2_std_or])    \n",
    "\n",
    "test_predict_or = np.resize(test_predict_or, (test_x.shape[0], 4))  # changed from 2 to 4\n",
    "test_result_or = np.concatenate((test_y, test_predict_or), axis=1)\n",
    "test_results_df_or = pd.DataFrame(test_result_or, columns=['T',   'mean_alpha', 'mean_beta', 'std_alpha', 'std_beta']) # (add 'E' for event)\n",
    "#     test_results_df['unit_number'] = train_x_orig.iloc[test_index]['unit_number'].to_numpy() # Note the train_x_orig\n",
    "#     test_results_df['time'] = train_x_orig.iloc[test_index]['time'].to_numpy()\n",
    "\n",
    "test_results_df_or['predicted_mu'] = test_results_df_or[['mean_alpha', 'mean_beta']].apply(lambda row: weibull_mean(row[0], row[1]), axis=1)\n",
    "# test_results_df_or['predicted_std+'] = test_results_df_or[['mean_alpha', 'mean_beta', 'std_alpha', \n",
    "#                                                        'std_beta']].apply(lambda row: weibull_mean(row[0]+1.96*row[2]/np.sqrt(reps), \n",
    "#                                                                                                    row[1]+1.96*row[3]/np.sqrt(reps)), axis=1)\n",
    "# test_results_df_or['predicted_std-'] = test_results_df_or[['mean_alpha', 'mean_beta', 'std_alpha', \n",
    "#                                                            'std_beta']].apply(lambda row: weibull_mean(row[0]-1.96*row[2]/np.sqrt(reps),\n",
    "#                                                                                                        row[1]-1.96*row[3]/np.sqrt(reps)), axis=1)\n",
    "\n",
    "\n",
    "\n",
    "\n",
    "# Old way\n",
    "# test_predict_or = model(test_or, training=True).numpy()  # equivalent to model.predict(test_or) but with training=False\n",
    "# test_predict_or = np.resize(test_predict_or, (test_or.shape[0], 2))\n",
    "# test_result_or = np.concatenate((test_y_orig, test_predict_or), axis=1)\n",
    "# test_results_df_or = pd.DataFrame(test_result_or, columns=['T', 'alpha', 'beta'])\n",
    "# test_results_df_or['unit_number'] = np.arange(1, test_results_df_or.shape[0]+1)\n",
    "\n",
    "# test_results_df_or['predicted_mu'] = test_results_df_or[['alpha', 'beta']].apply(lambda row: weibull_mean(row[0], row[1]), axis=1)"
   ]
  },
  {
   "cell_type": "code",
   "execution_count": null,
   "metadata": {},
   "outputs": [],
   "source": [
    "test_results_df_or"
   ]
  },
  {
   "cell_type": "code",
   "execution_count": null,
   "metadata": {},
   "outputs": [],
   "source": [
    "train_predict_1 = []\n",
    "train_predict_2 = []\n",
    "\n",
    "success = True\n",
    "\n",
    "for i in range(cfg['reps']):\n",
    "    tf.random.set_seed(i)\n",
    "    train_predict = model(train_x, training=True).numpy()\n",
    "    train_predict_1.append(train_predict[:, 0].reshape(train_predict[:, 0].shape[0], 1))\n",
    "    train_predict_2.append(train_predict[:, 1].reshape(train_predict[:, 1].shape[0], 1))\n",
    "\n",
    "train_predict_1_mean = np.mean(np.hstack(train_predict_1), axis=1)\n",
    "train_predict_2_mean = np.mean(np.hstack(train_predict_2), axis=1)\n",
    "train_predict_1_mean = train_predict_1_mean.reshape(train_predict_1_mean.shape[0], 1)\n",
    "train_predict_2_mean = train_predict_2_mean.reshape(train_predict_2_mean.shape[0], 1)\n",
    "train_predict_1_std = np.std(np.hstack(train_predict_1), axis=1)\n",
    "train_predict_2_std = np.std(np.hstack(train_predict_2), axis=1)\n",
    "train_predict_1_std = train_predict_1_std.reshape(train_predict_1_std.shape[0], 1)\n",
    "train_predict_2_std = train_predict_2_std.reshape(train_predict_2_std.shape[0], 1)\n",
    "\n",
    "train_predict = np.hstack([train_predict_1_mean, train_predict_2_mean,\n",
    "                            train_predict_1_std, train_predict_2_std])\n",
    "\n",
    "train_predict = np.resize(train_predict, (train_x.shape[0], 4))  # changed from 2 to 4\n",
    "train_result = np.concatenate((train_y, train_predict), axis=1)\n",
    "train_results_df = pd.DataFrame(train_result, columns=['T', 'mean_alpha', 'mean_beta', 'std_alpha',\n",
    "                                                        'std_beta'])  # (add 'E' for event)\n",
    "train_results_df['unit_number'] = train_x_orig['unit_number'].to_numpy()\n",
    "train_results_df['time'] = train_x_orig['time'].to_numpy()\n",
    "\n",
    "train_results_df['predicted_mu'] = train_results_df[['mean_alpha', 'mean_beta']].apply(\n",
    "    lambda row: weibull_mean(row[0], row[1]), axis=1)\n",
    "# train_results_df['predicted_std+'] = train_results_df[['mean_alpha', 'mean_beta', 'std_alpha',\n",
    "#                                                         'std_beta']].apply(\n",
    "#     lambda row: weibull_mean(row[0] + 1.96 * row[2] / np.sqrt(cfg['reps']),\n",
    "#                                 row[1] + 1.96 * row[3] / np.sqrt(cfg['reps'])), axis=1)\n",
    "# train_results_df['predicted_std-'] = train_results_df[['mean_alpha', 'mean_beta', 'std_alpha',\n",
    "#                                                         'std_beta']].apply(\n",
    "#     lambda row: weibull_mean(row[0] - 1.96 * row[2] / np.sqrt(cfg['reps']),\n",
    "#                                 row[1] - 1.96 * row[3] / np.sqrt(cfg['reps'])), axis=1)"
   ]
  },
  {
   "cell_type": "code",
   "execution_count": null,
   "metadata": {},
   "outputs": [],
   "source": [
    "train_results_df"
   ]
  },
  {
   "cell_type": "code",
   "execution_count": null,
   "metadata": {},
   "outputs": [],
   "source": [
    "np.sqrt(mean_squared_error(train_results_df['predicted_mu'], train_results_df['T']))"
   ]
  },
  {
   "cell_type": "code",
   "execution_count": null,
   "metadata": {},
   "outputs": [],
   "source": [
    "r2_score(train_results_df['predicted_mu'], train_results_df['T'])"
   ]
  },
  {
   "cell_type": "code",
   "execution_count": null,
   "metadata": {},
   "outputs": [],
   "source": [
    "np.sqrt(mean_squared_error(test_results_df_or['predicted_mu'], test_results_df_or['T']))"
   ]
  },
  {
   "cell_type": "code",
   "execution_count": null,
   "metadata": {},
   "outputs": [],
   "source": [
    "r2_score(test_results_df_or['predicted_mu'], test_results_df_or['T'])"
   ]
  },
  {
   "cell_type": "code",
   "execution_count": null,
   "metadata": {},
   "outputs": [],
   "source": []
  }
 ],
 "metadata": {
  "interpreter": {
   "hash": "4000a7a6ee44f5e9ad604830731b987d83f87e046c93fb1fca3b0779acf4e02a"
  },
  "kernelspec": {
   "display_name": "Python 3.8.8 64-bit ('rul_nn': virtualenv)",
   "name": "python3"
  },
  "language_info": {
   "codemirror_mode": {
    "name": "ipython",
    "version": 3
   },
   "file_extension": ".py",
   "mimetype": "text/x-python",
   "name": "python",
   "nbconvert_exporter": "python",
   "pygments_lexer": "ipython3",
   "version": "3.8.8"
  },
  "orig_nbformat": 4
 },
 "nbformat": 4,
 "nbformat_minor": 2
}
