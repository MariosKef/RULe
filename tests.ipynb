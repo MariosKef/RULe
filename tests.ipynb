{
 "cells": [
  {
   "cell_type": "markdown",
   "metadata": {},
   "source": []
  },
  {
   "cell_type": "markdown",
   "metadata": {},
   "source": [
    "# Checking Results"
   ]
  },
  {
   "cell_type": "code",
   "execution_count": 55,
   "metadata": {},
   "outputs": [],
   "source": [
    "import pandas as pd\n",
    "import pygmo as pg\n",
    "import matplotlib.pyplot as plt\n",
    "import seaborn as sns"
   ]
  },
  {
   "cell_type": "code",
   "execution_count": 86,
   "metadata": {},
   "outputs": [],
   "source": [
    "configs = pd.read_csv('./results_no_cv_HO_02_12')"
   ]
  },
  {
   "cell_type": "code",
   "execution_count": 87,
   "metadata": {},
   "outputs": [
    {
     "data": {
      "text/html": [
       "<div>\n",
       "<style scoped>\n",
       "    .dataframe tbody tr th:only-of-type {\n",
       "        vertical-align: middle;\n",
       "    }\n",
       "\n",
       "    .dataframe tbody tr th {\n",
       "        vertical-align: top;\n",
       "    }\n",
       "\n",
       "    .dataframe thead th {\n",
       "        text-align: right;\n",
       "    }\n",
       "</style>\n",
       "<table border=\"1\" class=\"dataframe\">\n",
       "  <thead>\n",
       "    <tr style=\"text-align: right;\">\n",
       "      <th></th>\n",
       "      <th>fold</th>\n",
       "      <th>rmse_train</th>\n",
       "      <th>mae_train</th>\n",
       "      <th>r2_train</th>\n",
       "      <th>std_train</th>\n",
       "      <th>rmse_test</th>\n",
       "      <th>mae_test</th>\n",
       "      <th>r2_test</th>\n",
       "      <th>std_test</th>\n",
       "      <th>net_cfg</th>\n",
       "      <th>uncertainty_train</th>\n",
       "      <th>uncertainty_test</th>\n",
       "    </tr>\n",
       "  </thead>\n",
       "  <tbody>\n",
       "    <tr>\n",
       "      <th>0</th>\n",
       "      <td>NaN</td>\n",
       "      <td>63.968741</td>\n",
       "      <td>46.792997</td>\n",
       "      <td>-6.755691</td>\n",
       "      <td>NaN</td>\n",
       "      <td>58.799207</td>\n",
       "      <td>44.783553</td>\n",
       "      <td>-10.312482</td>\n",
       "      <td>NaN</td>\n",
       "      <td>{\"num_rec\": 2, \"max_time\": 31, \"neuron_0\": 68,...</td>\n",
       "      <td>52.481415</td>\n",
       "      <td>25.386108</td>\n",
       "    </tr>\n",
       "    <tr>\n",
       "      <th>1</th>\n",
       "      <td>NaN</td>\n",
       "      <td>58.783163</td>\n",
       "      <td>47.870046</td>\n",
       "      <td>-0.338169</td>\n",
       "      <td>NaN</td>\n",
       "      <td>60.368987</td>\n",
       "      <td>49.798355</td>\n",
       "      <td>-1.123838</td>\n",
       "      <td>NaN</td>\n",
       "      <td>{\"num_rec\": 2, \"max_time\": 34, \"neuron_0\": 82,...</td>\n",
       "      <td>19.065456</td>\n",
       "      <td>18.883347</td>\n",
       "    </tr>\n",
       "    <tr>\n",
       "      <th>2</th>\n",
       "      <td>NaN</td>\n",
       "      <td>43.835908</td>\n",
       "      <td>33.517477</td>\n",
       "      <td>-0.019865</td>\n",
       "      <td>NaN</td>\n",
       "      <td>42.113982</td>\n",
       "      <td>34.429745</td>\n",
       "      <td>-0.338607</td>\n",
       "      <td>NaN</td>\n",
       "      <td>{\"num_rec\": 2, \"max_time\": 29, \"neuron_0\": 70,...</td>\n",
       "      <td>12.584046</td>\n",
       "      <td>13.012033</td>\n",
       "    </tr>\n",
       "    <tr>\n",
       "      <th>3</th>\n",
       "      <td>NaN</td>\n",
       "      <td>41.150700</td>\n",
       "      <td>31.337908</td>\n",
       "      <td>0.413130</td>\n",
       "      <td>NaN</td>\n",
       "      <td>42.275093</td>\n",
       "      <td>34.050320</td>\n",
       "      <td>0.197951</td>\n",
       "      <td>NaN</td>\n",
       "      <td>{\"num_rec\": 2, \"max_time\": 38, \"neuron_0\": 90,...</td>\n",
       "      <td>20.173216</td>\n",
       "      <td>21.178406</td>\n",
       "    </tr>\n",
       "    <tr>\n",
       "      <th>4</th>\n",
       "      <td>NaN</td>\n",
       "      <td>26.469795</td>\n",
       "      <td>24.683478</td>\n",
       "      <td>-2.114158</td>\n",
       "      <td>NaN</td>\n",
       "      <td>24.985219</td>\n",
       "      <td>23.668761</td>\n",
       "      <td>-4.307410</td>\n",
       "      <td>NaN</td>\n",
       "      <td>{\"num_rec\": 2, \"max_time\": 34, \"neuron_0\": 93,...</td>\n",
       "      <td>11.045533</td>\n",
       "      <td>10.390176</td>\n",
       "    </tr>\n",
       "  </tbody>\n",
       "</table>\n",
       "</div>"
      ],
      "text/plain": [
       "   fold   rmse_train   mae_train   r2_train   std_train   rmse_test  \\\n",
       "0   NaN    63.968741   46.792997  -6.755691         NaN   58.799207   \n",
       "1   NaN    58.783163   47.870046  -0.338169         NaN   60.368987   \n",
       "2   NaN    43.835908   33.517477  -0.019865         NaN   42.113982   \n",
       "3   NaN    41.150700   31.337908   0.413130         NaN   42.275093   \n",
       "4   NaN    26.469795   24.683478  -2.114158         NaN   24.985219   \n",
       "\n",
       "    mae_test    r2_test   std_test  \\\n",
       "0  44.783553 -10.312482        NaN   \n",
       "1  49.798355  -1.123838        NaN   \n",
       "2  34.429745  -0.338607        NaN   \n",
       "3  34.050320   0.197951        NaN   \n",
       "4  23.668761  -4.307410        NaN   \n",
       "\n",
       "                                             net_cfg   uncertainty_train  \\\n",
       "0  {\"num_rec\": 2, \"max_time\": 31, \"neuron_0\": 68,...           52.481415   \n",
       "1  {\"num_rec\": 2, \"max_time\": 34, \"neuron_0\": 82,...           19.065456   \n",
       "2  {\"num_rec\": 2, \"max_time\": 29, \"neuron_0\": 70,...           12.584046   \n",
       "3  {\"num_rec\": 2, \"max_time\": 38, \"neuron_0\": 90,...           20.173216   \n",
       "4  {\"num_rec\": 2, \"max_time\": 34, \"neuron_0\": 93,...           11.045533   \n",
       "\n",
       "    uncertainty_test  \n",
       "0          25.386108  \n",
       "1          18.883347  \n",
       "2          13.012033  \n",
       "3          21.178406  \n",
       "4          10.390176  "
      ]
     },
     "execution_count": 87,
     "metadata": {},
     "output_type": "execute_result"
    }
   ],
   "source": [
    "configs.head()"
   ]
  },
  {
   "cell_type": "code",
   "execution_count": 88,
   "metadata": {},
   "outputs": [
    {
     "data": {
      "text/plain": [
       "Index(['fold', ' rmse_train', ' mae_train', ' r2_train', ' std_train',\n",
       "       ' rmse_test', ' mae_test', ' r2_test', ' std_test', ' net_cfg',\n",
       "       ' uncertainty_train', ' uncertainty_test'],\n",
       "      dtype='object')"
      ]
     },
     "execution_count": 88,
     "metadata": {},
     "output_type": "execute_result"
    }
   ],
   "source": [
    "configs.columns"
   ]
  },
  {
   "cell_type": "code",
   "execution_count": 89,
   "metadata": {},
   "outputs": [],
   "source": [
    "configs.columns = configs.columns.str.replace(' ', '')"
   ]
  },
  {
   "cell_type": "code",
   "execution_count": 90,
   "metadata": {},
   "outputs": [],
   "source": [
    "configs.drop(['std_train', 'std_test'], axis=1, inplace=True)"
   ]
  },
  {
   "cell_type": "code",
   "execution_count": 91,
   "metadata": {},
   "outputs": [
    {
     "data": {
      "text/html": [
       "<div>\n",
       "<style scoped>\n",
       "    .dataframe tbody tr th:only-of-type {\n",
       "        vertical-align: middle;\n",
       "    }\n",
       "\n",
       "    .dataframe tbody tr th {\n",
       "        vertical-align: top;\n",
       "    }\n",
       "\n",
       "    .dataframe thead th {\n",
       "        text-align: right;\n",
       "    }\n",
       "</style>\n",
       "<table border=\"1\" class=\"dataframe\">\n",
       "  <thead>\n",
       "    <tr style=\"text-align: right;\">\n",
       "      <th></th>\n",
       "      <th>fold</th>\n",
       "      <th>rmse_train</th>\n",
       "      <th>mae_train</th>\n",
       "      <th>r2_train</th>\n",
       "      <th>rmse_test</th>\n",
       "      <th>mae_test</th>\n",
       "      <th>r2_test</th>\n",
       "      <th>net_cfg</th>\n",
       "      <th>uncertainty_train</th>\n",
       "      <th>uncertainty_test</th>\n",
       "    </tr>\n",
       "  </thead>\n",
       "  <tbody>\n",
       "    <tr>\n",
       "      <th>0</th>\n",
       "      <td>NaN</td>\n",
       "      <td>63.968741</td>\n",
       "      <td>46.792997</td>\n",
       "      <td>-6.755691</td>\n",
       "      <td>58.799207</td>\n",
       "      <td>44.783553</td>\n",
       "      <td>-10.312482</td>\n",
       "      <td>{\"num_rec\": 2, \"max_time\": 31, \"neuron_0\": 68,...</td>\n",
       "      <td>52.481415</td>\n",
       "      <td>25.386108</td>\n",
       "    </tr>\n",
       "    <tr>\n",
       "      <th>1</th>\n",
       "      <td>NaN</td>\n",
       "      <td>58.783163</td>\n",
       "      <td>47.870046</td>\n",
       "      <td>-0.338169</td>\n",
       "      <td>60.368987</td>\n",
       "      <td>49.798355</td>\n",
       "      <td>-1.123838</td>\n",
       "      <td>{\"num_rec\": 2, \"max_time\": 34, \"neuron_0\": 82,...</td>\n",
       "      <td>19.065456</td>\n",
       "      <td>18.883347</td>\n",
       "    </tr>\n",
       "    <tr>\n",
       "      <th>2</th>\n",
       "      <td>NaN</td>\n",
       "      <td>43.835908</td>\n",
       "      <td>33.517477</td>\n",
       "      <td>-0.019865</td>\n",
       "      <td>42.113982</td>\n",
       "      <td>34.429745</td>\n",
       "      <td>-0.338607</td>\n",
       "      <td>{\"num_rec\": 2, \"max_time\": 29, \"neuron_0\": 70,...</td>\n",
       "      <td>12.584046</td>\n",
       "      <td>13.012033</td>\n",
       "    </tr>\n",
       "    <tr>\n",
       "      <th>3</th>\n",
       "      <td>NaN</td>\n",
       "      <td>41.150700</td>\n",
       "      <td>31.337908</td>\n",
       "      <td>0.413130</td>\n",
       "      <td>42.275093</td>\n",
       "      <td>34.050320</td>\n",
       "      <td>0.197951</td>\n",
       "      <td>{\"num_rec\": 2, \"max_time\": 38, \"neuron_0\": 90,...</td>\n",
       "      <td>20.173216</td>\n",
       "      <td>21.178406</td>\n",
       "    </tr>\n",
       "    <tr>\n",
       "      <th>4</th>\n",
       "      <td>NaN</td>\n",
       "      <td>26.469795</td>\n",
       "      <td>24.683478</td>\n",
       "      <td>-2.114158</td>\n",
       "      <td>24.985219</td>\n",
       "      <td>23.668761</td>\n",
       "      <td>-4.307410</td>\n",
       "      <td>{\"num_rec\": 2, \"max_time\": 34, \"neuron_0\": 93,...</td>\n",
       "      <td>11.045533</td>\n",
       "      <td>10.390176</td>\n",
       "    </tr>\n",
       "  </tbody>\n",
       "</table>\n",
       "</div>"
      ],
      "text/plain": [
       "   fold  rmse_train  mae_train  r2_train  rmse_test   mae_test    r2_test  \\\n",
       "0   NaN   63.968741  46.792997 -6.755691  58.799207  44.783553 -10.312482   \n",
       "1   NaN   58.783163  47.870046 -0.338169  60.368987  49.798355  -1.123838   \n",
       "2   NaN   43.835908  33.517477 -0.019865  42.113982  34.429745  -0.338607   \n",
       "3   NaN   41.150700  31.337908  0.413130  42.275093  34.050320   0.197951   \n",
       "4   NaN   26.469795  24.683478 -2.114158  24.985219  23.668761  -4.307410   \n",
       "\n",
       "                                             net_cfg  uncertainty_train  \\\n",
       "0  {\"num_rec\": 2, \"max_time\": 31, \"neuron_0\": 68,...          52.481415   \n",
       "1  {\"num_rec\": 2, \"max_time\": 34, \"neuron_0\": 82,...          19.065456   \n",
       "2  {\"num_rec\": 2, \"max_time\": 29, \"neuron_0\": 70,...          12.584046   \n",
       "3  {\"num_rec\": 2, \"max_time\": 38, \"neuron_0\": 90,...          20.173216   \n",
       "4  {\"num_rec\": 2, \"max_time\": 34, \"neuron_0\": 93,...          11.045533   \n",
       "\n",
       "   uncertainty_test  \n",
       "0         25.386108  \n",
       "1         18.883347  \n",
       "2         13.012033  \n",
       "3         21.178406  \n",
       "4         10.390176  "
      ]
     },
     "execution_count": 91,
     "metadata": {},
     "output_type": "execute_result"
    }
   ],
   "source": [
    "configs.head()"
   ]
  },
  {
   "cell_type": "code",
   "execution_count": 92,
   "metadata": {},
   "outputs": [],
   "source": [
    "pareto_index = pg.non_dominated_front_2d(configs[['rmse_test', 'uncertainty_test']])"
   ]
  },
  {
   "cell_type": "code",
   "execution_count": 93,
   "metadata": {},
   "outputs": [],
   "source": [
    "pareto_configs = configs.iloc[pareto_index]"
   ]
  },
  {
   "cell_type": "code",
   "execution_count": 94,
   "metadata": {},
   "outputs": [
    {
     "data": {
      "text/html": [
       "<div>\n",
       "<style scoped>\n",
       "    .dataframe tbody tr th:only-of-type {\n",
       "        vertical-align: middle;\n",
       "    }\n",
       "\n",
       "    .dataframe tbody tr th {\n",
       "        vertical-align: top;\n",
       "    }\n",
       "\n",
       "    .dataframe thead th {\n",
       "        text-align: right;\n",
       "    }\n",
       "</style>\n",
       "<table border=\"1\" class=\"dataframe\">\n",
       "  <thead>\n",
       "    <tr style=\"text-align: right;\">\n",
       "      <th></th>\n",
       "      <th>fold</th>\n",
       "      <th>rmse_train</th>\n",
       "      <th>mae_train</th>\n",
       "      <th>r2_train</th>\n",
       "      <th>rmse_test</th>\n",
       "      <th>mae_test</th>\n",
       "      <th>r2_test</th>\n",
       "      <th>net_cfg</th>\n",
       "      <th>uncertainty_train</th>\n",
       "      <th>uncertainty_test</th>\n",
       "    </tr>\n",
       "  </thead>\n",
       "  <tbody>\n",
       "    <tr>\n",
       "      <th>8</th>\n",
       "      <td>NaN</td>\n",
       "      <td>9.313440</td>\n",
       "      <td>5.343639</td>\n",
       "      <td>0.919224</td>\n",
       "      <td>8.273354</td>\n",
       "      <td>4.456959</td>\n",
       "      <td>0.894438</td>\n",
       "      <td>{\"num_rec\": 2, \"max_time\": 22, \"neuron_0\": 78,...</td>\n",
       "      <td>7.419840</td>\n",
       "      <td>7.151474</td>\n",
       "    </tr>\n",
       "    <tr>\n",
       "      <th>101</th>\n",
       "      <td>NaN</td>\n",
       "      <td>32.130170</td>\n",
       "      <td>26.287811</td>\n",
       "      <td>0.024171</td>\n",
       "      <td>29.451902</td>\n",
       "      <td>25.909248</td>\n",
       "      <td>-0.198372</td>\n",
       "      <td>{\"num_rec\": 3, \"max_time\": 27, \"neuron_0\": 71,...</td>\n",
       "      <td>0.118241</td>\n",
       "      <td>0.118805</td>\n",
       "    </tr>\n",
       "    <tr>\n",
       "      <th>81</th>\n",
       "      <td>NaN</td>\n",
       "      <td>41.126135</td>\n",
       "      <td>37.251686</td>\n",
       "      <td>-9.195893</td>\n",
       "      <td>39.444394</td>\n",
       "      <td>36.687209</td>\n",
       "      <td>-10.995280</td>\n",
       "      <td>{\"num_rec\": 3, \"max_time\": 27, \"neuron_0\": 75,...</td>\n",
       "      <td>0.096876</td>\n",
       "      <td>0.097757</td>\n",
       "    </tr>\n",
       "    <tr>\n",
       "      <th>39</th>\n",
       "      <td>NaN</td>\n",
       "      <td>122.578357</td>\n",
       "      <td>73.521855</td>\n",
       "      <td>-0.191590</td>\n",
       "      <td>61.954630</td>\n",
       "      <td>50.443789</td>\n",
       "      <td>-4.285146</td>\n",
       "      <td>{\"num_rec\": 3, \"max_time\": 27, \"neuron_0\": 85,...</td>\n",
       "      <td>0.091322</td>\n",
       "      <td>0.093826</td>\n",
       "    </tr>\n",
       "    <tr>\n",
       "      <th>97</th>\n",
       "      <td>NaN</td>\n",
       "      <td>61.293982</td>\n",
       "      <td>56.295943</td>\n",
       "      <td>-42.843945</td>\n",
       "      <td>64.298342</td>\n",
       "      <td>60.594371</td>\n",
       "      <td>-69.340714</td>\n",
       "      <td>{\"num_rec\": 3, \"max_time\": 31, \"neuron_0\": 80,...</td>\n",
       "      <td>0.092684</td>\n",
       "      <td>0.091830</td>\n",
       "    </tr>\n",
       "    <tr>\n",
       "      <th>66</th>\n",
       "      <td>NaN</td>\n",
       "      <td>61.456983</td>\n",
       "      <td>57.343132</td>\n",
       "      <td>-31358.709533</td>\n",
       "      <td>64.383069</td>\n",
       "      <td>61.167142</td>\n",
       "      <td>-325500.509086</td>\n",
       "      <td>{\"num_rec\": 3, \"max_time\": 29, \"neuron_0\": 71,...</td>\n",
       "      <td>0.056014</td>\n",
       "      <td>0.046417</td>\n",
       "    </tr>\n",
       "    <tr>\n",
       "      <th>106</th>\n",
       "      <td>NaN</td>\n",
       "      <td>61.845141</td>\n",
       "      <td>58.022138</td>\n",
       "      <td>-21482.657261</td>\n",
       "      <td>64.817620</td>\n",
       "      <td>61.804616</td>\n",
       "      <td>-363282.199054</td>\n",
       "      <td>{\"num_rec\": 3, \"max_time\": 30, \"neuron_0\": 91,...</td>\n",
       "      <td>0.040244</td>\n",
       "      <td>0.032897</td>\n",
       "    </tr>\n",
       "  </tbody>\n",
       "</table>\n",
       "</div>"
      ],
      "text/plain": [
       "     fold  rmse_train  mae_train      r2_train  rmse_test   mae_test  \\\n",
       "8     NaN    9.313440   5.343639      0.919224   8.273354   4.456959   \n",
       "101   NaN   32.130170  26.287811      0.024171  29.451902  25.909248   \n",
       "81    NaN   41.126135  37.251686     -9.195893  39.444394  36.687209   \n",
       "39    NaN  122.578357  73.521855     -0.191590  61.954630  50.443789   \n",
       "97    NaN   61.293982  56.295943    -42.843945  64.298342  60.594371   \n",
       "66    NaN   61.456983  57.343132 -31358.709533  64.383069  61.167142   \n",
       "106   NaN   61.845141  58.022138 -21482.657261  64.817620  61.804616   \n",
       "\n",
       "           r2_test                                            net_cfg  \\\n",
       "8         0.894438  {\"num_rec\": 2, \"max_time\": 22, \"neuron_0\": 78,...   \n",
       "101      -0.198372  {\"num_rec\": 3, \"max_time\": 27, \"neuron_0\": 71,...   \n",
       "81      -10.995280  {\"num_rec\": 3, \"max_time\": 27, \"neuron_0\": 75,...   \n",
       "39       -4.285146  {\"num_rec\": 3, \"max_time\": 27, \"neuron_0\": 85,...   \n",
       "97      -69.340714  {\"num_rec\": 3, \"max_time\": 31, \"neuron_0\": 80,...   \n",
       "66  -325500.509086  {\"num_rec\": 3, \"max_time\": 29, \"neuron_0\": 71,...   \n",
       "106 -363282.199054  {\"num_rec\": 3, \"max_time\": 30, \"neuron_0\": 91,...   \n",
       "\n",
       "     uncertainty_train  uncertainty_test  \n",
       "8             7.419840          7.151474  \n",
       "101           0.118241          0.118805  \n",
       "81            0.096876          0.097757  \n",
       "39            0.091322          0.093826  \n",
       "97            0.092684          0.091830  \n",
       "66            0.056014          0.046417  \n",
       "106           0.040244          0.032897  "
      ]
     },
     "execution_count": 94,
     "metadata": {},
     "output_type": "execute_result"
    }
   ],
   "source": [
    "pareto_configs"
   ]
  },
  {
   "cell_type": "code",
   "execution_count": 96,
   "metadata": {},
   "outputs": [
    {
     "data": {
      "text/plain": [
       "Text(0, 0.5, 'std_test')"
      ]
     },
     "execution_count": 96,
     "metadata": {},
     "output_type": "execute_result"
    },
    {
     "data": {
      "image/png": "[encoded data removed]",
      "text/plain": [
       "<Figure size 1080x720 with 1 Axes>"
      ]
     },
     "metadata": {
      "needs_background": "light"
     },
     "output_type": "display_data"
    }
   ],
   "source": [
    "x = pareto_configs['rmse_test'].values\n",
    "y = pareto_configs['uncertainty_test'].values\n",
    "plt.figure(figsize=(15,10))\n",
    "plt.scatter(x, y)\n",
    "plt.xlabel('rmse_test')\n",
    "plt.ylabel('std_test')\n",
    "\n",
    "# for i, txt in enumerate(pareto_configs.index):\n",
    "#     plt.annotate(txt, (x[i], y[i]))"
   ]
  },
  {
   "cell_type": "code",
   "execution_count": 99,
   "metadata": {},
   "outputs": [
    {
     "data": {
      "text/plain": [
       "'{\"num_rec\": 2, \"max_time\": 22, \"neuron_0\": 78, \"neuron_1\": 71, \"neuron_2\": 87, \"neuron_3\": 96, \"activation_0\": \"sigmoid\", \"activation_1\": \"tanh\", \"activation_2\": \"sigmoid\", \"activation_3\": \"sigmoid\", \"dropout_0\": 0.18803475666664804, \"dropout_1\": 0.6040324537064773, \"dropout_2\": 0.3227885166987346, \"dropout_3\": 0.2287547425262742, \"recurrent_dropout_0\": 0.4464387484895227, \"recurrent_dropout_1\": 0.6236043939191586, \"recurrent_dropout_2\": 0.3135094606418331, \"recurrent_dropout_3\": 0.842983970188618, \"final_activation_0\": \"softplus\", \"final_activation_1\": \"softplus\", \"percentage\": 67, \"rul\": 127, \"rul_style\": \"nonlinear\", \"lr\": \"1e-3\", \"batch\": \"128\"}'"
      ]
     },
     "execution_count": 99,
     "metadata": {},
     "output_type": "execute_result"
    }
   ],
   "source": [
    "pareto_configs.loc[8].net_cfg"
   ]
  },
  {
   "cell_type": "code",
   "execution_count": null,
   "metadata": {},
   "outputs": [],
   "source": [
    "sns.set_theme()\n",
    "\n",
    "plt.figure(figsize=(15,10))\n",
    "sns.scatterplot(data=pareto_configs, x='rmse_test', y='std_test')\n",
    "plt.title('Pareto Front')"
   ]
  },
  {
   "cell_type": "code",
   "execution_count": null,
   "metadata": {},
   "outputs": [],
   "source": [
    "pareto_configs.loc[186].net_cfg"
   ]
  },
  {
   "cell_type": "code",
   "execution_count": null,
   "metadata": {},
   "outputs": [],
   "source": []
  },
  {
   "cell_type": "markdown",
   "metadata": {},
   "source": [
    "# Checking if changes work"
   ]
  },
  {
   "cell_type": "code",
   "execution_count": 1,
   "metadata": {},
   "outputs": [],
   "source": [
    "import os\n",
    "os.environ[\"CUDA_VISIBLE_DEVICES\"]=\"-1\"\n",
    "\n",
    "import tensorflow as tf\n",
    "from preprocessing import build_data\n",
    "import pandas as pd\n",
    "import math\n",
    "from sklearn.metrics import mean_squared_error, mean_absolute_error, r2_score\n",
    "\n",
    "import matplotlib.pyplot as plt\n",
    "import seaborn as sns\n",
    "import numpy as np\n",
    "\n",
    "\n",
    "from activations import Activate\n",
    "from losses import CustomLoss\n",
    "from preprocessing import build_data\n",
    "\n",
    "\n",
    "import main\n",
    "\n"
   ]
  },
  {
   "cell_type": "code",
   "execution_count": 2,
   "metadata": {},
   "outputs": [],
   "source": [
    "def weibull_mean(alpha, beta):\n",
    "    return alpha * math.gamma(1 + 1/beta)"
   ]
  },
  {
   "cell_type": "code",
   "execution_count": 1,
   "metadata": {},
   "outputs": [
    {
     "ename": "NameError",
     "evalue": "name 'main' is not defined",
     "output_type": "error",
     "traceback": [
      "\u001b[0;31m---------------------------------------------------------------------------\u001b[0m",
      "\u001b[0;31mNameError\u001b[0m                                 Traceback (most recent call last)",
      "\u001b[0;32m<ipython-input-1-0852e1fb3f29>\u001b[0m in \u001b[0;36m<module>\u001b[0;34m\u001b[0m\n\u001b[0;32m----> 1\u001b[0;31m \u001b[0mmodel\u001b[0m\u001b[0;34m,\u001b[0m \u001b[0mtrain_results_df\u001b[0m\u001b[0;34m,\u001b[0m \u001b[0mtest_results_df\u001b[0m\u001b[0;34m,\u001b[0m \u001b[0mtest_x_orig\u001b[0m\u001b[0;34m,\u001b[0m \u001b[0mtest_y_orig\u001b[0m\u001b[0;34m,\u001b[0m \u001b[0mscaler\u001b[0m\u001b[0;34m,\u001b[0m \u001b[0mtrain_x\u001b[0m\u001b[0;34m,\u001b[0m \u001b[0mtest_x\u001b[0m \u001b[0;34m=\u001b[0m \u001b[0mmain\u001b[0m\u001b[0;34m.\u001b[0m\u001b[0mmain\u001b[0m\u001b[0;34m(\u001b[0m\u001b[0;34m)\u001b[0m\u001b[0;34m\u001b[0m\u001b[0;34m\u001b[0m\u001b[0m\n\u001b[0m\u001b[1;32m      2\u001b[0m \u001b[0;31m# model = main.main()\u001b[0m\u001b[0;34m\u001b[0m\u001b[0;34m\u001b[0m\u001b[0;34m\u001b[0m\u001b[0m\n",
      "\u001b[0;31mNameError\u001b[0m: name 'main' is not defined"
     ]
    }
   ],
   "source": [
    "model, train_results_df, test_results_df, test_x_orig, test_y_orig, scaler, train_x, test_x = main.main()\n",
    "# model = main.main()"
   ]
  },
  {
   "cell_type": "code",
   "execution_count": 2,
   "metadata": {},
   "outputs": [],
   "source": [
    "import numpy as np"
   ]
  },
  {
   "cell_type": "code",
   "execution_count": 3,
   "metadata": {},
   "outputs": [
    {
     "name": "stdout",
     "output_type": "stream",
     "text": [
      "ha\n"
     ]
    }
   ],
   "source": [
    "if np.isfinite(np.array([1]).mean()) and np.isfinite(np.array([2]).mean()):\n",
    "    print('ha')"
   ]
  },
  {
   "cell_type": "markdown",
   "metadata": {},
   "source": []
  },
  {
   "cell_type": "code",
   "execution_count": 4,
   "metadata": {},
   "outputs": [
    {
     "data": {
      "text/plain": [
       "<tensorflow.python.keras.engine.functional.Functional at 0x7fb91006e340>"
      ]
     },
     "execution_count": 4,
     "metadata": {},
     "output_type": "execute_result"
    }
   ],
   "source": [
    "model"
   ]
  },
  {
   "cell_type": "code",
   "execution_count": 10,
   "metadata": {},
   "outputs": [],
   "source": [
    "# model.save('./toy_model')"
   ]
  },
  {
   "cell_type": "code",
   "execution_count": 9,
   "metadata": {},
   "outputs": [],
   "source": [
    "# new_model = tf.keras.models.load_model('./toy_model', custom_objects={\"CustomLoss\": CustomLoss, \"Activate\": Activate})"
   ]
  },
  {
   "cell_type": "markdown",
   "metadata": {},
   "source": [
    "# Building model incrementally"
   ]
  },
  {
   "cell_type": "code",
   "execution_count": 100,
   "metadata": {},
   "outputs": [],
   "source": [
    "import os\n",
    "os.environ[\"CUDA_DEVICE_ORDER\"]=\"PCI_BUS_ID\"\n",
    "os.environ[\"CUDA_VISIBLE_DEVICES\"]=\"-1\"  #\"1,2,3,4,5\"  # uncomment in case running ONLY on CPU is required\n",
    "\n",
    "import tensorflow as tf\n",
    "tf.random.set_seed(42)\n",
    "from tensorflow.keras import backend as k\n",
    "from tensorflow.keras import callbacks\n",
    "from tensorflow.keras.callbacks import History\n",
    "from tensorflow import keras\n",
    "from tensorflow.keras.optimizers import Adam\n",
    "\n",
    "from activations import Activate\n",
    "from losses import CustomLoss\n",
    "from preprocessing import build_data\n",
    "\n",
    "import numpy as np\n",
    "import pandas as pd\n",
    "import math\n",
    "from datetime import datetime\n",
    "import matplotlib.pyplot as plt\n",
    "import seaborn as sns\n",
    "\n",
    "from sklearn import pipeline\n",
    "from sklearn.feature_selection import VarianceThreshold\n",
    "from sklearn.metrics import mean_squared_error, mean_absolute_error, r2_score\n",
    "from sklearn.model_selection import KFold\n",
    "from sklearn.preprocessing import MinMaxScaler"
   ]
  },
  {
   "cell_type": "code",
   "execution_count": 168,
   "metadata": {},
   "outputs": [],
   "source": [
    "net_cfg = {\n",
    "     \"max_time\": 100,\n",
    "     \"lr\": \"0.001\",\n",
    "     \"num_rec\": 3,\n",
    "     \"neuron_0\": 100,\n",
    "     \"activation_0\": \"tanh\",\n",
    "     \"dropout_0\": 0.25,\n",
    "     \"recurrent_dropout_0\": 0.25,\n",
    "     \"neuron_1\": 50,\n",
    "     \"activation_1\": \"tanh\",\n",
    "     \"dropout_1\": 0.25,\n",
    "     \"recurrent_dropout_1\": 0.25,\n",
    "     \"neuron_2\": 20,\n",
    "     \"activation_2\": \"tanh\",\n",
    "     \"dropout_2\": 0.25,\n",
    "     \"recurrent_dropout_2\": 0.25,\n",
    "     \"final_activation_0\": \"exp\",\n",
    "     \"final_activation_1\": \"softplus\",\n",
    "     \"percentage\": 50,\n",
    "     \"rul\": 115,\n",
    "     \"rul_style\": \"nonlinear\",\n",
    "     \"batch\": \"128\",\n",
    "}"
   ]
  },
  {
   "cell_type": "code",
   "execution_count": 176,
   "metadata": {},
   "outputs": [],
   "source": [
    "cfg = {\n",
    "        \"cv\": 10,\n",
    "        \"shuffle\": True,\n",
    "        \"random_state\": 21,\n",
    "        \"mask_value\": -99,\n",
    "        \"reps\": 30,\n",
    "        \"epochs\": 10,\n",
    "        \"batches\": 64,\n",
    "        \"in_reps\": 10,\n",
    "    }"
   ]
  },
  {
   "cell_type": "code",
   "execution_count": 177,
   "metadata": {},
   "outputs": [],
   "source": [
    "def weibull_mean(alpha, beta):\n",
    "    return alpha * math.gamma(1 + 1/beta)"
   ]
  },
  {
   "cell_type": "code",
   "execution_count": 178,
   "metadata": {},
   "outputs": [],
   "source": [
    "def weibull_pdf(alpha, beta, t):\n",
    "    return (beta/alpha) * (t/alpha)**(beta-1)*np.exp(- (t/alpha)**beta)"
   ]
  },
  {
   "cell_type": "code",
   "execution_count": 179,
   "metadata": {},
   "outputs": [],
   "source": [
    "def weibull_median(alpha, beta):\n",
    "    return alpha*(-np.log(.5))**(1/beta)"
   ]
  },
  {
   "cell_type": "code",
   "execution_count": 180,
   "metadata": {},
   "outputs": [],
   "source": [
    "def weibull_mode(alpha, beta):\n",
    "    # assert np.all(beta > 1)\n",
    "    return alpha * ((beta-1)/beta)**(1/beta)"
   ]
  },
  {
   "cell_type": "code",
   "execution_count": 181,
   "metadata": {},
   "outputs": [],
   "source": [
    "def weibull_variance(alpha, beta):\n",
    "    var = alpha**2*(math.gamma(1+2/beta)-math.gamma(1+1/beta)**2)\n",
    "    return var"
   ]
  },
  {
   "cell_type": "code",
   "execution_count": 182,
   "metadata": {},
   "outputs": [],
   "source": [
    "def network(train_X, train_y, test_x, test_y, net_cfg, cfg):\n",
    "\n",
    "    strategy = tf.distribute.MirroredStrategy()\n",
    "    print(\"Number of devices: {}\".format(strategy.num_replicas_in_sync))\n",
    "    k.set_epsilon(1e-10)\n",
    "    history = History()\n",
    "    nan_terminator = callbacks.TerminateOnNaN()\n",
    "    reduce_lr = callbacks.ReduceLROnPlateau(monitor='loss')\n",
    "    early_stopping = callbacks.EarlyStopping(monitor='loss', patience=5)\n",
    "    # checkpoint_filepath = './saved_models/cp-{epoch:04d}.ckpt'\n",
    "    # checkpoint = callbacks.ModelCheckpoint(filepath=checkpoint_filepath, monitor='loss', verbose=1)\n",
    "    # logdir=\"logs/test1\" #+ datetime.now().strftime(\"%Y%m%d-%H%M%S\")\n",
    "    # tensorboard = callbacks.TensorBoard(log_dir=logdir)\n",
    "\n",
    "    window = train_X.shape[1]\n",
    "    n_features = train_X.shape[2]\n",
    "\n",
    "    # with strategy.scope():  # Create a MirroredStrategy.\n",
    "\n",
    "    inputs = keras.Input(shape=(window, n_features))\n",
    "    masking_layer = keras.layers.Masking(mask_value=cfg['mask_value'])(inputs)\n",
    "\n",
    "    # recurrent layers\n",
    "    if net_cfg['num_rec'] > 1:\n",
    "        for i in np.arange(net_cfg['num_rec']-1):\n",
    "            masking_layer = keras.layers.GRU(net_cfg['neuron_'+str(i)], activation=net_cfg['activation_'+str(i)],\n",
    "                                    dropout=net_cfg['dropout_'+str(i)],\n",
    "                                    recurrent_dropout=net_cfg['recurrent_dropout_'+str(i)],\n",
    "                                    return_sequences=True)(masking_layer)\n",
    "    last = i + 1\n",
    "    gru_last = keras.layers.GRU(net_cfg['neuron_'+str(last)], activation=net_cfg['activation_'+str(last)],\n",
    "                                dropout=net_cfg['dropout_'+str(last)],\n",
    "                                recurrent_dropout=net_cfg['recurrent_dropout_'+str(last)],\n",
    "                                return_sequences=False)(masking_layer)\n",
    "\n",
    "    dense_1 = keras.layers.Dense(2)(gru_last)\n",
    "    custom_activation = Activate(net_cfg=net_cfg)\n",
    "    outputs = keras.layers.Activation(custom_activation)(dense_1)\n",
    "\n",
    "    model = keras.Model(inputs=inputs, outputs=outputs, name=\"weibull_params\")\n",
    "\n",
    "    # rmse = tf.keras.metrics.RootMeanSquaredError()\n",
    "    model.compile(loss=CustomLoss(kind='continuous', reduce_loss=True), optimizer=Adam(lr=eval(net_cfg['lr']),\n",
    "                                                                                    clipvalue=0.5))\n",
    "    model.summary()  # uncomment for debugging\n",
    "\n",
    "    batch_size=eval(net_cfg['batch'])\n",
    "    model.fit(train_X, train_y,\n",
    "              epochs=cfg['epochs'],\n",
    "              batch_size=batch_size,\n",
    "              validation_data=(test_x, test_y),\n",
    "              verbose=1,\n",
    "              callbacks=[nan_terminator, history, reduce_lr, early_stopping],#, checkpoint, tensorboard],  # , tensorboard\n",
    "              workers=32)\n",
    "\n",
    "    return model, history\n",
    "\n"
   ]
  },
  {
   "cell_type": "code",
   "execution_count": 183,
   "metadata": {},
   "outputs": [],
   "source": [
    "def load_data():\n",
    "\n",
    "    np.random.seed(42)\n",
    "\n",
    "    id_col = 'unit_number'\n",
    "    time_col = 'time'\n",
    "    feature_cols = ['op_setting_1', 'op_setting_2', 'op_setting_3'] + ['sensor_measurement_{}'.format(x) for x in\n",
    "                                                                       range(1, 22)]\n",
    "    column_names = [id_col, time_col] + feature_cols\n",
    "\n",
    "    train_x_orig = pd.read_csv('./DataSets/CMAPSS/train_FD001.csv', header=None, sep='\\s+', decimal=\".\")\n",
    "    train_x_orig.columns = column_names\n",
    "\n",
    "    test_x_orig = pd.read_csv('./DataSets/CMAPSS/test_FD001.csv', header=None, sep='\\s+', decimal=\".\")\n",
    "    test_x_orig.columns = column_names\n",
    "\n",
    "    test_y_orig = pd.read_csv('./DataSets/CMAPSS/RUL_FD001.csv', header=None, names=['T'])\n",
    "\n",
    "    # Make engine numbers and days zero-indexed\n",
    "    train_x_orig.iloc[:, 0:2] -= 1\n",
    "    test_x_orig.iloc[:, 0:2] -= 1\n",
    "\n",
    "    train_idx = np.random.choice(range(train_x_orig.unit_number.unique().max()+1), replace=False, size=80)  # selecting 80 units for training\n",
    "    train_idx.sort()\n",
    "\n",
    "    vld_idx = np.array([x for x in range(train_x_orig.unit_number.unique().max()+1) if x not in train_idx])  # remaining are validation indices\n",
    "\n",
    "    train_or = train_x_orig[train_x_orig.unit_number.isin(train_idx)]  # training data\n",
    "    train_or.reset_index(drop=True, inplace=True)\n",
    "    vld = train_x_orig[train_x_orig.unit_number.isin(vld_idx)]  # validation data\n",
    "    vld.reset_index(drop=True, inplace=True)\n",
    "\n",
    "\n",
    "    # Truncating the validation data randomly 5 times each\n",
    "    vld_trunc = []\n",
    "    test_y = []\n",
    "    max_cycle = []\n",
    "    test_index = []  # for debugging purposes\n",
    "    temp_or_test_cycles = []\n",
    "    counter = -1\n",
    "\n",
    "    for i in set(vld.unit_number.unique()):\n",
    "        # print(f'unit number is {i}')\n",
    "        for j in range(1,6):  # 5 truncations per instance\n",
    "            counter += 1\n",
    "            np.random.seed(i*j)\n",
    "            temp_df = vld[vld.unit_number == i]\n",
    "            temp_df.reset_index(drop=True, inplace=True)  # important\n",
    "            length = temp_df.shape[0]\n",
    "            # print(length)\n",
    "            temp_or_test_cycles.append(length)\n",
    "            level = np.random.choice(np.arange(5, 96), 1)[0]\n",
    "            r = np.int(length * (1 - level / 100))\n",
    "            # test_index.append(X_test_or[X_test_or.unit_number == i].index.tolist()[\n",
    "            #                     :r + 1])  # check this with train_x_orig instead of X_test_or (probably it's the same)\n",
    "            temp_df = temp_df.truncate(after=r)\n",
    "            # print(temp_df.shape[0])\n",
    "            # print('\\n')\n",
    "            temp_df['unit_number'] = np.repeat(counter, temp_df.shape[0])\n",
    "            vld_trunc.append(temp_df)\n",
    "            max_cycle.append(length)\n",
    "\n",
    "\n",
    "    # test_index = [item for sublist in test_index for item in sublist]\n",
    "\n",
    "    vld_trunc = pd.concat(vld_trunc)\n",
    "    vld_trunc.reset_index(drop=True, inplace=True)\n",
    "    # print(f'max len per unit is {max_cycle}')\n",
    "\n",
    "\n",
    "    # Pre-processing data\n",
    "    scaler = pipeline.Pipeline(steps=[\n",
    "        ('minmax', MinMaxScaler(feature_range=(-1, 1))),\n",
    "        ('remove_constant', VarianceThreshold())])\n",
    "\n",
    "    train = train_or.copy()\n",
    "    train = np.concatenate([train[['unit_number', 'time']], scaler.fit_transform(train[feature_cols])], axis=1)\n",
    "\n",
    "    train_x, train_y = build_data(units=train[:, 0], time=train[:, 1], x=train[:, 2:], max_time=net_cfg['max_time'],\n",
    "                                    is_test=False, mask_value=cfg['mask_value'],\n",
    "                                    original_data=None, net_cfg = net_cfg, label=net_cfg['rul_style'])\n",
    "\n",
    "    vld = vld_trunc.copy()\n",
    "    vld = np.concatenate([vld[['unit_number', 'time']], scaler.transform(vld[feature_cols])], axis=1)\n",
    "    test_x, test_y = build_data(units=vld[:, 0],\n",
    "        time=vld[:, 1],\n",
    "        x=vld[:, 2:],\n",
    "        max_time=net_cfg[\"max_time\"],\n",
    "        is_test=True,\n",
    "        mask_value=cfg[\"mask_value\"],\n",
    "        original_data=np.array(max_cycle),\n",
    "        net_cfg=net_cfg,\n",
    "        label=net_cfg[\"rul_style\"],\n",
    "    )\n",
    "\n",
    "    return train_x, train_y, test_x, test_y, train_or, vld_trunc"
   ]
  },
  {
   "cell_type": "code",
   "execution_count": 184,
   "metadata": {},
   "outputs": [
    {
     "name": "stderr",
     "output_type": "stream",
     "text": [
      "100%|██████████| 80/80 [00:01<00:00, 43.59it/s]\n",
      "100%|██████████| 100/100 [00:00<00:00, 7680.75it/s]"
     ]
    },
    {
     "name": "stdout",
     "output_type": "stream",
     "text": [
      "train_x (16340, 100, 17) train_y (16340, 1) test_x (100, 100, 17) test_y (100, 1) train (16340, 26) test (10312, 26)\n"
     ]
    },
    {
     "name": "stderr",
     "output_type": "stream",
     "text": [
      "\n"
     ]
    }
   ],
   "source": [
    "train_x, train_y, test_x, test_y, train, test = load_data()\n",
    "print('train_x', train_x.shape, 'train_y', train_y.shape, 'test_x', test_x.shape, 'test_y', test_y.shape, 'train', train.shape, 'test', test.shape)\n",
    "\n"
   ]
  },
  {
   "cell_type": "code",
   "execution_count": 185,
   "metadata": {},
   "outputs": [
    {
     "name": "stdout",
     "output_type": "stream",
     "text": [
      "WARNING:tensorflow:There are non-GPU devices in `tf.distribute.Strategy`, not using nccl allreduce.\n"
     ]
    },
    {
     "name": "stderr",
     "output_type": "stream",
     "text": [
      "WARNING:tensorflow:There are non-GPU devices in `tf.distribute.Strategy`, not using nccl allreduce.\n"
     ]
    },
    {
     "name": "stdout",
     "output_type": "stream",
     "text": [
      "WARNING:tensorflow:Collective ops is not configured at program startup. Some performance features may not be enabled.\n"
     ]
    },
    {
     "name": "stderr",
     "output_type": "stream",
     "text": [
      "WARNING:tensorflow:Collective ops is not configured at program startup. Some performance features may not be enabled.\n"
     ]
    },
    {
     "name": "stdout",
     "output_type": "stream",
     "text": [
      "INFO:tensorflow:Using MirroredStrategy with devices ('/job:localhost/replica:0/task:0/device:CPU:0',)\n"
     ]
    },
    {
     "name": "stderr",
     "output_type": "stream",
     "text": [
      "INFO:tensorflow:Using MirroredStrategy with devices ('/job:localhost/replica:0/task:0/device:CPU:0',)\n"
     ]
    },
    {
     "name": "stdout",
     "output_type": "stream",
     "text": [
      "Number of devices: 1\n"
     ]
    },
    {
     "name": "stderr",
     "output_type": "stream",
     "text": [
      "/home/kefalasm/rul_nn/lib/python3.8/site-packages/tensorflow/python/keras/optimizer_v2/optimizer_v2.py:374: UserWarning: The `lr` argument is deprecated, use `learning_rate` instead.\n",
      "  warnings.warn(\n"
     ]
    },
    {
     "name": "stdout",
     "output_type": "stream",
     "text": [
      "Model: \"weibull_params\"\n",
      "_________________________________________________________________\n",
      "Layer (type)                 Output Shape              Param #   \n",
      "=================================================================\n",
      "input_1 (InputLayer)         [(None, 100, 17)]         0         \n",
      "_________________________________________________________________\n",
      "masking (Masking)            (None, 100, 17)           0         \n",
      "_________________________________________________________________\n",
      "gru (GRU)                    (None, 100, 100)          35700     \n",
      "_________________________________________________________________\n",
      "gru_1 (GRU)                  (None, 100, 50)           22800     \n",
      "_________________________________________________________________\n",
      "gru_2 (GRU)                  (None, 20)                4320      \n",
      "_________________________________________________________________\n",
      "dense (Dense)                (None, 2)                 42        \n",
      "_________________________________________________________________\n",
      "activation (Activation)      (None, 2)                 0         \n",
      "=================================================================\n",
      "Total params: 62,862\n",
      "Trainable params: 62,862\n",
      "Non-trainable params: 0\n",
      "_________________________________________________________________\n",
      "Epoch 1/10\n",
      "128/128 [==============================] - 87s 600ms/step - loss: 1.8566 - val_loss: 0.1227\n",
      "Epoch 2/10\n",
      "128/128 [==============================] - 48s 376ms/step - loss: 0.1352 - val_loss: -0.2608\n",
      "Epoch 3/10\n",
      "128/128 [==============================] - 61s 477ms/step - loss: -0.2673 - val_loss: -0.5587\n",
      "Epoch 4/10\n",
      "128/128 [==============================] - 66s 516ms/step - loss: -0.5074 - val_loss: -0.7214\n",
      "Epoch 5/10\n",
      "128/128 [==============================] - 71s 556ms/step - loss: -0.6478 - val_loss: -0.8682\n",
      "Epoch 6/10\n",
      "128/128 [==============================] - 51s 397ms/step - loss: -0.7428 - val_loss: -0.9923\n",
      "Epoch 7/10\n",
      "128/128 [==============================] - 65s 509ms/step - loss: -0.7896 - val_loss: -0.8823\n",
      "Epoch 8/10\n",
      "128/128 [==============================] - 68s 532ms/step - loss: -0.7739 - val_loss: -1.1006\n",
      "Epoch 9/10\n",
      "128/128 [==============================] - 68s 532ms/step - loss: -0.8654 - val_loss: -1.0167\n",
      "Epoch 10/10\n",
      "128/128 [==============================] - 58s 456ms/step - loss: -0.9138 - val_loss: -1.1768\n"
     ]
    }
   ],
   "source": [
    "k.clear_session()\n",
    "try:\n",
    "    del model\n",
    "except:\n",
    "    pass\n",
    "\n",
    "model, history = network(train_x, train_y, test_x, test_y, net_cfg, cfg)"
   ]
  },
  {
   "cell_type": "code",
   "execution_count": 186,
   "metadata": {},
   "outputs": [
    {
     "name": "stderr",
     "output_type": "stream",
     "text": [
      "WARNING:absl:Found untraced functions such as activate_layer_call_and_return_conditional_losses, activate_layer_call_fn, activate_layer_call_fn, activate_layer_call_and_return_conditional_losses, activate_layer_call_and_return_conditional_losses while saving (showing 5 of 5). These functions will not be directly callable after loading.\n"
     ]
    },
    {
     "name": "stdout",
     "output_type": "stream",
     "text": [
      "INFO:tensorflow:Assets written to: ./toy_model/assets\n"
     ]
    },
    {
     "name": "stderr",
     "output_type": "stream",
     "text": [
      "INFO:tensorflow:Assets written to: ./toy_model/assets\n"
     ]
    }
   ],
   "source": [
    "model.save('./toy_model')"
   ]
  },
  {
   "cell_type": "code",
   "execution_count": 124,
   "metadata": {},
   "outputs": [],
   "source": [
    "# model = tf.keras.models.load_model('./toy_model', custom_objects={\"CustomLoss\": CustomLoss, \"Activate\": Activate})"
   ]
  },
  {
   "cell_type": "code",
   "execution_count": 161,
   "metadata": {},
   "outputs": [
    {
     "data": {
      "text/plain": [
       "<tensorflow.python.keras.engine.functional.Functional at 0x7f6b006c2490>"
      ]
     },
     "execution_count": 161,
     "metadata": {},
     "output_type": "execute_result"
    }
   ],
   "source": [
    "model"
   ]
  },
  {
   "cell_type": "code",
   "execution_count": 15,
   "metadata": {},
   "outputs": [
    {
     "data": {
      "text/plain": [
       "[['activation', 0, 0]]"
      ]
     },
     "execution_count": 15,
     "metadata": {},
     "output_type": "execute_result"
    }
   ],
   "source": [
    "model.get_config()['output_layers']"
   ]
  },
  {
   "cell_type": "code",
   "execution_count": 196,
   "metadata": {},
   "outputs": [],
   "source": [
    "train_predict_1 = []\n",
    "train_predict_2 = []\n",
    "\n",
    "success = True\n",
    "\n",
    "for i in range(cfg['reps']):\n",
    "    tf.random.set_seed(i)\n",
    "    train_predict = model(train_x, training=True).numpy()\n",
    "    train_predict_1.append(train_predict[:, 0].reshape(train_predict[:, 0].shape[0], 1))\n",
    "    train_predict_2.append(train_predict[:, 1].reshape(train_predict[:, 1].shape[0], 1))\n",
    "\n",
    "train_predict_1_mean = np.median(np.hstack(train_predict_1), axis=1)\n",
    "train_predict_2_mean = np.median(np.hstack(train_predict_2), axis=1)\n",
    "train_predict_1_mean = train_predict_1_mean.reshape(train_predict_1_mean.shape[0], 1)\n",
    "train_predict_2_mean = train_predict_2_mean.reshape(train_predict_2_mean.shape[0], 1)\n",
    "train_predict_1_std = np.std(np.hstack(train_predict_1), axis=1)\n",
    "train_predict_2_std = np.std(np.hstack(train_predict_2), axis=1)\n",
    "train_predict_1_std = train_predict_1_std.reshape(train_predict_1_std.shape[0], 1)\n",
    "train_predict_2_std = train_predict_2_std.reshape(train_predict_2_std.shape[0], 1)\n",
    "\n",
    "train_predict = np.hstack([train_predict_1_mean, train_predict_2_mean,\n",
    "                            train_predict_1_std, train_predict_2_std])\n",
    "\n",
    "train_predict = np.resize(train_predict, (train_x.shape[0], 4))  # changed from 2 to 4\n",
    "train_result = np.concatenate((train_y, train_predict), axis=1)\n",
    "train_results_df_old = pd.DataFrame(train_result, columns=['T', 'mean_alpha', 'mean_beta', 'std_alpha',\n",
    "                                                        'std_beta'])  # (add 'E' for event)\n",
    "train_results_df_old['unit_number'] = train['unit_number'].to_numpy()\n",
    "train_results_df_old['time'] = train['time'].to_numpy()\n",
    "\n",
    "train_results_df_old['predicted_mu'] = train_results_df_old[['mean_alpha', 'mean_beta']].apply(\n",
    "    lambda row: weibull_mean(row[0], row[1]), axis=1)"
   ]
  },
  {
   "cell_type": "code",
   "execution_count": 20,
   "metadata": {},
   "outputs": [],
   "source": [
    "train_predict_1 = np.array(train_predict_1)"
   ]
  },
  {
   "cell_type": "code",
   "execution_count": 21,
   "metadata": {},
   "outputs": [],
   "source": [
    "train_predict_2 = np.array(train_predict_2)"
   ]
  },
  {
   "cell_type": "code",
   "execution_count": 22,
   "metadata": {},
   "outputs": [
    {
     "data": {
      "text/plain": [
       "(30, 16340, 1)"
      ]
     },
     "execution_count": 22,
     "metadata": {},
     "output_type": "execute_result"
    }
   ],
   "source": [
    "train_predict_1.shape"
   ]
  },
  {
   "cell_type": "code",
   "execution_count": 23,
   "metadata": {},
   "outputs": [],
   "source": [
    "train_predict_1.resize(30, 16340)"
   ]
  },
  {
   "cell_type": "code",
   "execution_count": 24,
   "metadata": {},
   "outputs": [],
   "source": [
    "train_predict_2.resize(30, 16340)"
   ]
  },
  {
   "cell_type": "code",
   "execution_count": 25,
   "metadata": {},
   "outputs": [
    {
     "data": {
      "text/plain": [
       "array([132.97829 , 123.23054 , 124.54932 , 122.32817 , 120.403915,\n",
       "       130.73293 , 104.53065 , 119.13004 , 113.69697 , 153.43895 ,\n",
       "       152.46115 , 122.44974 , 125.80001 , 120.75015 , 107.46349 ,\n",
       "       114.002716, 125.00156 , 111.63954 , 108.24521 , 108.84976 ,\n",
       "       139.0864  , 137.08862 , 118.6768  , 118.238594, 134.57979 ,\n",
       "       138.68983 , 126.762245, 115.65711 , 139.75046 , 135.50706 ],\n",
       "      dtype=float32)"
      ]
     },
     "execution_count": 25,
     "metadata": {},
     "output_type": "execute_result"
    }
   ],
   "source": [
    "train_predict_1[:,1]"
   ]
  },
  {
   "cell_type": "code",
   "execution_count": 40,
   "metadata": {},
   "outputs": [
    {
     "data": {
      "text/plain": [
       "array([ 0.41705817, 12.625637  ,  0.63515407,  7.228504  ,  3.1942136 ,\n",
       "        0.07566568,  2.8691864 ,  1.387541  ,  4.0971513 ,  5.763522  ,\n",
       "       14.557368  , 12.584854  ,  3.7971506 ,  1.4213378 ,  6.7815943 ,\n",
       "        4.707724  ,  0.19926678,  2.8029566 ,  5.4847    ,  3.3876393 ,\n",
       "        0.5993108 ,  1.0875534 ,  7.0147896 ,  2.7878008 ,  3.4252214 ,\n",
       "        7.5762835 ,  0.1216777 ,  0.4439667 ,  0.1773132 ,  0.9611091 ],\n",
       "      dtype=float32)"
      ]
     },
     "execution_count": 40,
     "metadata": {},
     "output_type": "execute_result"
    }
   ],
   "source": [
    "train_predict_1[:,16339]"
   ]
  },
  {
   "cell_type": "code",
   "execution_count": 27,
   "metadata": {},
   "outputs": [
    {
     "data": {
      "text/plain": [
       "array([14.678265, 15.838853, 15.775572, 14.408605, 16.353857, 14.302875,\n",
       "       15.161706, 16.727022, 15.966782, 12.435256, 13.328977, 16.388186,\n",
       "       15.86963 , 16.508802, 15.440501, 15.19744 , 16.054945, 15.993076,\n",
       "       15.267684, 16.106028, 15.3978  , 15.539538, 16.215986, 16.234024,\n",
       "       14.858935, 14.238721, 14.513758, 16.973845, 15.03419 , 15.020367],\n",
       "      dtype=float32)"
      ]
     },
     "execution_count": 27,
     "metadata": {},
     "output_type": "execute_result"
    }
   ],
   "source": [
    "train_predict_2[:,1]"
   ]
  },
  {
   "cell_type": "code",
   "execution_count": 39,
   "metadata": {},
   "outputs": [
    {
     "data": {
      "text/plain": [
       "array([5.8427448e-03, 4.9685388e+00, 3.4116201e-02, 2.3138850e+00,\n",
       "       1.6480570e+00, 8.2829857e-04, 1.0383902e+00, 1.1439174e+00,\n",
       "       2.5860670e+00, 3.9850752e+00, 4.9656487e+00, 5.6004195e+00,\n",
       "       2.4956729e+00, 3.6161962e-01, 3.0081646e+00, 2.4999211e+00,\n",
       "       3.5001922e-03, 1.5262645e+00, 3.6114802e+00, 1.1387600e+00,\n",
       "       6.9223523e-02, 2.2952071e-01, 2.7980986e+00, 2.5398455e+00,\n",
       "       1.5327101e+00, 3.9090512e+00, 6.5446319e-04, 1.4355426e-03,\n",
       "       1.4663087e-03, 1.6815068e-01], dtype=float32)"
      ]
     },
     "execution_count": 39,
     "metadata": {},
     "output_type": "execute_result"
    }
   ],
   "source": [
    "train_predict_2[:,16339]"
   ]
  },
  {
   "cell_type": "code",
   "execution_count": 32,
   "metadata": {},
   "outputs": [],
   "source": [
    "weib_tests_old = []\n",
    "for a,b in zip(train_predict_1[:, 16339], train_predict_2[:, 16339]):\n",
    "    weib_tests_old.append(a * np.random.weibull(b, cfg[\"in_reps\"]))\n",
    "\n",
    "weib_tests_old = np.array(weib_tests_old)"
   ]
  },
  {
   "cell_type": "code",
   "execution_count": 33,
   "metadata": {},
   "outputs": [
    {
     "data": {
      "text/plain": [
       "(30, 10)"
      ]
     },
     "execution_count": 33,
     "metadata": {},
     "output_type": "execute_result"
    }
   ],
   "source": [
    "weib_tests_old.shape"
   ]
  },
  {
   "cell_type": "code",
   "execution_count": 34,
   "metadata": {},
   "outputs": [
    {
     "data": {
      "text/plain": [
       "6"
      ]
     },
     "execution_count": 34,
     "metadata": {},
     "output_type": "execute_result"
    }
   ],
   "source": [
    "np.isinf(weib_tests_old).sum()"
   ]
  },
  {
   "cell_type": "code",
   "execution_count": 35,
   "metadata": {},
   "outputs": [
    {
     "data": {
      "text/plain": [
       "array([[1.03548105e-091, 1.18890112e-011, 2.14093963e+113,\n",
       "        1.32122409e+000, 2.74676193e-108, 2.25286390e-184,\n",
       "        5.39889323e-212, 3.99865490e+047, 9.36530096e+046,\n",
       "        5.38124627e+055],\n",
       "       [1.66505781e+001, 8.35894106e+000, 1.11503345e+001,\n",
       "        1.50562481e+001, 7.47121026e+000, 1.51222583e+001,\n",
       "        1.36188747e+001, 1.27515154e+001, 1.02780670e+001,\n",
       "        8.09552990e+000],\n",
       "       [2.02412786e-023, 1.11960845e+001, 5.46507616e-009,\n",
       "        3.25045649e+012, 2.20373050e-035, 1.73462270e+007,\n",
       "        8.27133346e+010, 2.17671201e+015, 9.03276339e+015,\n",
       "        3.75325046e+009],\n",
       "       [1.17186163e+001, 2.62312949e+000, 1.37077904e+001,\n",
       "        5.48382404e+000, 6.68961391e+000, 2.80010348e+000,\n",
       "        4.35862926e+000, 6.17466251e+000, 5.84394461e+000,\n",
       "        5.53020167e+000],\n",
       "       [1.79220715e+000, 3.14322193e+000, 1.64925369e+000,\n",
       "        2.98592237e+000, 1.27158312e+000, 3.24208788e+000,\n",
       "        4.38814381e+000, 1.82020060e+000, 2.36998617e+000,\n",
       "        3.10501457e+000],\n",
       "       [2.41158980e+025, 3.05539256e-047,             inf,\n",
       "                    inf, 5.02796162e-212, 5.86448561e+245,\n",
       "                    inf,             inf,             inf,\n",
       "        0.00000000e+000],\n",
       "       [9.61130829e-001, 8.94257244e+000, 3.42121665e+000,\n",
       "        2.54230026e-001, 7.73523044e-002, 1.02546239e+000,\n",
       "        2.28239387e+000, 1.30917124e+000, 1.85598607e+000,\n",
       "        8.09716405e-002],\n",
       "       [2.05568750e+000, 6.54834598e-001, 1.38841384e+000,\n",
       "        2.48771185e-002, 6.50540849e-001, 5.23911726e-001,\n",
       "        5.90801760e-001, 1.05110246e-001, 1.42497588e+000,\n",
       "        4.03472303e+000],\n",
       "       [4.23076074e+000, 1.83792853e+000, 4.37189978e+000,\n",
       "        2.71478989e+000, 4.10649073e+000, 6.47406110e+000,\n",
       "        1.71127649e+000, 3.14324940e+000, 5.03190073e+000,\n",
       "        5.71080387e+000],\n",
       "       [4.19687115e+000, 5.96779969e+000, 5.06602989e+000,\n",
       "        7.13466816e+000, 5.27769589e+000, 1.84862947e+000,\n",
       "        5.10836960e+000, 5.09063892e+000, 5.62159231e+000,\n",
       "        4.76564329e+000],\n",
       "       [1.38705703e+001, 1.38828524e+001, 1.06557148e+001,\n",
       "        1.77263574e+001, 1.45257009e+001, 9.97755745e+000,\n",
       "        1.01650946e+001, 1.32006861e+001, 1.82221930e+001,\n",
       "        1.14119850e+001],\n",
       "       [8.97877084e+000, 1.26750751e+001, 1.20733582e+001,\n",
       "        1.45399655e+001, 1.41955323e+001, 1.42148619e+001,\n",
       "        1.01936197e+001, 8.07459710e+000, 1.31476519e+001,\n",
       "        1.36491734e+001],\n",
       "       [3.14110029e+000, 2.24476882e+000, 2.79267217e+000,\n",
       "        4.38592000e+000, 2.65038124e+000, 3.21681508e+000,\n",
       "        3.81690827e+000, 2.28205223e+000, 2.75840164e+000,\n",
       "        4.79119305e+000],\n",
       "       [5.15257611e+001, 1.04565933e-002, 2.89517889e-005,\n",
       "        2.78427382e-002, 4.14258638e+000, 8.59132867e-003,\n",
       "        6.24845827e-004, 4.29978731e-002, 1.43625339e+000,\n",
       "        3.72186018e+000],\n",
       "       [3.19738696e+000, 5.30141163e+000, 2.95542144e+000,\n",
       "        6.21197718e+000, 5.68766556e+000, 4.30790541e+000,\n",
       "        5.38855968e+000, 5.96024493e+000, 3.95770750e+000,\n",
       "        6.16453240e+000],\n",
       "       [3.82139095e+000, 5.81722282e+000, 4.87244074e+000,\n",
       "        5.10428070e+000, 5.06328256e+000, 3.59025926e+000,\n",
       "        4.53608876e+000, 5.35985886e+000, 3.30517822e+000,\n",
       "        8.26845186e+000],\n",
       "       [1.07743404e+077, 1.59582142e-061, 4.44051182e+059,\n",
       "        3.71056891e+132, 7.53551520e-098, 5.59475944e-118,\n",
       "        1.02679394e-158, 0.00000000e+000, 7.56202538e-256,\n",
       "        1.21581759e-022],\n",
       "       [1.95704693e+000, 2.44259448e+000, 2.22662456e+000,\n",
       "        2.22505570e+000, 4.39830989e+000, 3.15637350e+000,\n",
       "        2.20331253e+000, 2.19813076e+000, 2.40812410e+000,\n",
       "        1.59862608e+000],\n",
       "       [5.93486077e+000, 6.55975000e+000, 4.45730810e+000,\n",
       "        6.30616869e+000, 8.13885938e+000, 2.44603252e+000,\n",
       "        4.60852022e+000, 4.40894065e+000, 5.59950565e+000,\n",
       "        6.06902975e+000],\n",
       "       [4.61889931e+000, 1.06856257e+000, 8.78671083e+000,\n",
       "        2.67120035e+000, 1.56249263e+000, 1.37861622e+000,\n",
       "        2.27488887e+000, 3.37519439e+000, 5.27381061e+000,\n",
       "        2.27864448e-001],\n",
       "       [1.17560179e-002, 3.25436233e+004, 4.41520097e-024,\n",
       "        1.20350930e-008, 9.43748332e-011, 1.17601765e-018,\n",
       "        1.35447093e+004, 6.03207919e-008, 2.80948321e-006,\n",
       "        1.29766520e-015],\n",
       "       [1.22337110e-004, 1.62780168e+002, 6.15831489e+001,\n",
       "        5.62885910e-001, 2.29454731e-002, 4.65345664e-003,\n",
       "        5.12010879e-001, 3.89574099e-004, 1.20720327e-003,\n",
       "        1.24340806e-002],\n",
       "       [3.79891871e+000, 5.95111676e+000, 6.99941959e+000,\n",
       "        9.85333722e+000, 7.83437184e+000, 6.64407485e+000,\n",
       "        1.19373100e+001, 7.79699767e+000, 5.52994769e+000,\n",
       "        9.55716150e+000],\n",
       "       [2.70684432e+000, 1.96233062e+000, 9.02801056e-001,\n",
       "        1.80490152e+000, 2.64079035e+000, 1.51498925e+000,\n",
       "        3.29905052e+000, 2.83627443e+000, 1.83069647e+000,\n",
       "        1.13343534e+000],\n",
       "       [4.42202346e+000, 1.51822312e+000, 3.61536466e+000,\n",
       "        6.75660333e-001, 4.47617139e+000, 6.09232027e+000,\n",
       "        3.54243513e+000, 8.71513155e-001, 1.13978434e+001,\n",
       "        1.01217117e+000],\n",
       "       [6.33569336e+000, 8.33544637e+000, 4.70610984e+000,\n",
       "        8.98812515e+000, 9.10299779e+000, 8.68539901e+000,\n",
       "        4.78942317e+000, 6.46294169e+000, 1.02381500e+001,\n",
       "        5.34133543e+000],\n",
       "       [3.46950481e+271, 0.00000000e+000, 2.52205233e+053,\n",
       "        0.00000000e+000, 0.00000000e+000, 0.00000000e+000,\n",
       "        3.18862475e-008, 0.00000000e+000,             inf,\n",
       "        0.00000000e+000],\n",
       "       [6.18679838e-206, 7.09317500e+116, 8.91031064e-184,\n",
       "        5.87066938e+184, 0.00000000e+000, 0.00000000e+000,\n",
       "        0.00000000e+000, 7.43913092e+273, 1.99760218e+256,\n",
       "        4.02872545e-210],\n",
       "       [1.27788576e+140, 0.00000000e+000, 1.49533320e-260,\n",
       "        0.00000000e+000, 0.00000000e+000, 1.36574946e+301,\n",
       "        0.00000000e+000, 3.92699182e+279, 4.26413169e+096,\n",
       "        2.15036019e-233],\n",
       "       [1.65284989e-005, 1.97256265e-001, 2.91672958e-003,\n",
       "        2.72992756e+002, 6.71322249e-001, 2.26918833e+001,\n",
       "        6.95401179e-005, 1.53609484e-012, 1.82094837e-001,\n",
       "        1.61924716e-002]])"
      ]
     },
     "execution_count": 35,
     "metadata": {},
     "output_type": "execute_result"
    }
   ],
   "source": [
    "weib_tests_old"
   ]
  },
  {
   "cell_type": "code",
   "execution_count": 36,
   "metadata": {},
   "outputs": [],
   "source": [
    "mean_a_old = np.mean(train_predict_1[:, 16339])"
   ]
  },
  {
   "cell_type": "code",
   "execution_count": 37,
   "metadata": {},
   "outputs": [],
   "source": [
    "mean_b_old = np.mean(train_predict_2[:, 16339])"
   ]
  },
  {
   "cell_type": "code",
   "execution_count": 38,
   "metadata": {},
   "outputs": [
    {
     "data": {
      "text/plain": [
       "3.503604979558454"
      ]
     },
     "execution_count": 38,
     "metadata": {},
     "output_type": "execute_result"
    }
   ],
   "source": [
    "weibull_mean(mean_a_old, mean_b_old)"
   ]
  },
  {
   "cell_type": "code",
   "execution_count": 27,
   "metadata": {},
   "outputs": [
    {
     "data": {
      "text/plain": [
       "(16340, 8)"
      ]
     },
     "execution_count": 27,
     "metadata": {},
     "output_type": "execute_result"
    }
   ],
   "source": [
    "train_results_df_old.shape"
   ]
  },
  {
   "cell_type": "code",
   "execution_count": 197,
   "metadata": {},
   "outputs": [],
   "source": [
    "s = train_results_df_old[train_results_df_old.unit_number==3].iloc[::5]"
   ]
  },
  {
   "cell_type": "code",
   "execution_count": 198,
   "metadata": {},
   "outputs": [
    {
     "data": {
      "text/html": [
       "<div>\n",
       "<style scoped>\n",
       "    .dataframe tbody tr th:only-of-type {\n",
       "        vertical-align: middle;\n",
       "    }\n",
       "\n",
       "    .dataframe tbody tr th {\n",
       "        vertical-align: top;\n",
       "    }\n",
       "\n",
       "    .dataframe thead th {\n",
       "        text-align: right;\n",
       "    }\n",
       "</style>\n",
       "<table border=\"1\" class=\"dataframe\">\n",
       "  <thead>\n",
       "    <tr style=\"text-align: right;\">\n",
       "      <th></th>\n",
       "      <th>T</th>\n",
       "      <th>mean_alpha</th>\n",
       "      <th>mean_beta</th>\n",
       "      <th>std_alpha</th>\n",
       "      <th>std_beta</th>\n",
       "      <th>unit_number</th>\n",
       "      <th>time</th>\n",
       "      <th>predicted_mu</th>\n",
       "    </tr>\n",
       "  </thead>\n",
       "  <tbody>\n",
       "    <tr>\n",
       "      <th>192</th>\n",
       "      <td>115.000000</td>\n",
       "      <td>167.048492</td>\n",
       "      <td>3.864671</td>\n",
       "      <td>38.779881</td>\n",
       "      <td>0.520524</td>\n",
       "      <td>3</td>\n",
       "      <td>0</td>\n",
       "      <td>151.118887</td>\n",
       "    </tr>\n",
       "    <tr>\n",
       "      <th>197</th>\n",
       "      <td>115.000000</td>\n",
       "      <td>113.492569</td>\n",
       "      <td>11.698293</td>\n",
       "      <td>4.837799</td>\n",
       "      <td>0.191233</td>\n",
       "      <td>3</td>\n",
       "      <td>5</td>\n",
       "      <td>108.654025</td>\n",
       "    </tr>\n",
       "    <tr>\n",
       "      <th>202</th>\n",
       "      <td>115.000000</td>\n",
       "      <td>113.724648</td>\n",
       "      <td>11.881313</td>\n",
       "      <td>4.963286</td>\n",
       "      <td>0.125416</td>\n",
       "      <td>3</td>\n",
       "      <td>10</td>\n",
       "      <td>108.940130</td>\n",
       "    </tr>\n",
       "    <tr>\n",
       "      <th>207</th>\n",
       "      <td>115.000000</td>\n",
       "      <td>115.153397</td>\n",
       "      <td>11.914815</td>\n",
       "      <td>6.167689</td>\n",
       "      <td>0.161325</td>\n",
       "      <td>3</td>\n",
       "      <td>15</td>\n",
       "      <td>110.320436</td>\n",
       "    </tr>\n",
       "    <tr>\n",
       "      <th>212</th>\n",
       "      <td>115.000000</td>\n",
       "      <td>114.557144</td>\n",
       "      <td>11.958870</td>\n",
       "      <td>3.427224</td>\n",
       "      <td>0.061974</td>\n",
       "      <td>3</td>\n",
       "      <td>20</td>\n",
       "      <td>109.764386</td>\n",
       "    </tr>\n",
       "    <tr>\n",
       "      <th>217</th>\n",
       "      <td>115.000000</td>\n",
       "      <td>114.265701</td>\n",
       "      <td>11.964808</td>\n",
       "      <td>3.701931</td>\n",
       "      <td>0.110746</td>\n",
       "      <td>3</td>\n",
       "      <td>25</td>\n",
       "      <td>109.487169</td>\n",
       "    </tr>\n",
       "    <tr>\n",
       "      <th>222</th>\n",
       "      <td>115.000000</td>\n",
       "      <td>115.057648</td>\n",
       "      <td>11.989979</td>\n",
       "      <td>3.859405</td>\n",
       "      <td>0.103454</td>\n",
       "      <td>3</td>\n",
       "      <td>30</td>\n",
       "      <td>110.254657</td>\n",
       "    </tr>\n",
       "    <tr>\n",
       "      <th>227</th>\n",
       "      <td>115.000000</td>\n",
       "      <td>114.839996</td>\n",
       "      <td>12.025646</td>\n",
       "      <td>3.801479</td>\n",
       "      <td>0.075383</td>\n",
       "      <td>3</td>\n",
       "      <td>35</td>\n",
       "      <td>110.058287</td>\n",
       "    </tr>\n",
       "    <tr>\n",
       "      <th>232</th>\n",
       "      <td>115.000000</td>\n",
       "      <td>113.221054</td>\n",
       "      <td>12.011677</td>\n",
       "      <td>4.182622</td>\n",
       "      <td>0.099346</td>\n",
       "      <td>3</td>\n",
       "      <td>40</td>\n",
       "      <td>108.502052</td>\n",
       "    </tr>\n",
       "    <tr>\n",
       "      <th>237</th>\n",
       "      <td>115.000000</td>\n",
       "      <td>113.433044</td>\n",
       "      <td>12.021233</td>\n",
       "      <td>4.515227</td>\n",
       "      <td>0.113484</td>\n",
       "      <td>3</td>\n",
       "      <td>45</td>\n",
       "      <td>108.708431</td>\n",
       "    </tr>\n",
       "    <tr>\n",
       "      <th>242</th>\n",
       "      <td>115.000000</td>\n",
       "      <td>112.844131</td>\n",
       "      <td>12.045506</td>\n",
       "      <td>5.360334</td>\n",
       "      <td>0.116838</td>\n",
       "      <td>3</td>\n",
       "      <td>50</td>\n",
       "      <td>108.152173</td>\n",
       "    </tr>\n",
       "    <tr>\n",
       "      <th>247</th>\n",
       "      <td>115.000000</td>\n",
       "      <td>112.930862</td>\n",
       "      <td>12.058600</td>\n",
       "      <td>6.132016</td>\n",
       "      <td>0.109892</td>\n",
       "      <td>3</td>\n",
       "      <td>55</td>\n",
       "      <td>108.239673</td>\n",
       "    </tr>\n",
       "    <tr>\n",
       "      <th>252</th>\n",
       "      <td>115.000000</td>\n",
       "      <td>115.014084</td>\n",
       "      <td>12.045326</td>\n",
       "      <td>5.789332</td>\n",
       "      <td>0.112206</td>\n",
       "      <td>3</td>\n",
       "      <td>60</td>\n",
       "      <td>110.231839</td>\n",
       "    </tr>\n",
       "    <tr>\n",
       "      <th>257</th>\n",
       "      <td>115.000000</td>\n",
       "      <td>113.206757</td>\n",
       "      <td>12.011470</td>\n",
       "      <td>5.972569</td>\n",
       "      <td>0.149788</td>\n",
       "      <td>3</td>\n",
       "      <td>65</td>\n",
       "      <td>108.488281</td>\n",
       "    </tr>\n",
       "    <tr>\n",
       "      <th>262</th>\n",
       "      <td>115.000000</td>\n",
       "      <td>112.310974</td>\n",
       "      <td>12.070026</td>\n",
       "      <td>10.376028</td>\n",
       "      <td>0.246358</td>\n",
       "      <td>3</td>\n",
       "      <td>70</td>\n",
       "      <td>107.649326</td>\n",
       "    </tr>\n",
       "    <tr>\n",
       "      <th>267</th>\n",
       "      <td>115.000000</td>\n",
       "      <td>110.062836</td>\n",
       "      <td>12.073728</td>\n",
       "      <td>8.936421</td>\n",
       "      <td>0.211475</td>\n",
       "      <td>3</td>\n",
       "      <td>75</td>\n",
       "      <td>105.495702</td>\n",
       "    </tr>\n",
       "    <tr>\n",
       "      <th>272</th>\n",
       "      <td>115.000000</td>\n",
       "      <td>113.332977</td>\n",
       "      <td>12.012821</td>\n",
       "      <td>9.960308</td>\n",
       "      <td>0.130131</td>\n",
       "      <td>3</td>\n",
       "      <td>80</td>\n",
       "      <td>108.609697</td>\n",
       "    </tr>\n",
       "    <tr>\n",
       "      <th>277</th>\n",
       "      <td>115.000000</td>\n",
       "      <td>112.888695</td>\n",
       "      <td>12.025820</td>\n",
       "      <td>8.568312</td>\n",
       "      <td>0.148652</td>\n",
       "      <td>3</td>\n",
       "      <td>85</td>\n",
       "      <td>108.188292</td>\n",
       "    </tr>\n",
       "    <tr>\n",
       "      <th>282</th>\n",
       "      <td>115.000000</td>\n",
       "      <td>111.348114</td>\n",
       "      <td>12.010796</td>\n",
       "      <td>4.903602</td>\n",
       "      <td>0.147237</td>\n",
       "      <td>3</td>\n",
       "      <td>90</td>\n",
       "      <td>106.706884</td>\n",
       "    </tr>\n",
       "    <tr>\n",
       "      <th>287</th>\n",
       "      <td>113.789474</td>\n",
       "      <td>112.610657</td>\n",
       "      <td>12.010576</td>\n",
       "      <td>10.513342</td>\n",
       "      <td>0.138003</td>\n",
       "      <td>3</td>\n",
       "      <td>95</td>\n",
       "      <td>107.916727</td>\n",
       "    </tr>\n",
       "    <tr>\n",
       "      <th>292</th>\n",
       "      <td>107.736842</td>\n",
       "      <td>111.546944</td>\n",
       "      <td>12.028042</td>\n",
       "      <td>7.161444</td>\n",
       "      <td>0.109312</td>\n",
       "      <td>3</td>\n",
       "      <td>100</td>\n",
       "      <td>106.903144</td>\n",
       "    </tr>\n",
       "    <tr>\n",
       "      <th>297</th>\n",
       "      <td>101.684211</td>\n",
       "      <td>112.413437</td>\n",
       "      <td>12.030827</td>\n",
       "      <td>5.333494</td>\n",
       "      <td>0.184381</td>\n",
       "      <td>3</td>\n",
       "      <td>105</td>\n",
       "      <td>107.734494</td>\n",
       "    </tr>\n",
       "    <tr>\n",
       "      <th>302</th>\n",
       "      <td>95.631579</td>\n",
       "      <td>110.046791</td>\n",
       "      <td>12.015167</td>\n",
       "      <td>7.478857</td>\n",
       "      <td>0.159679</td>\n",
       "      <td>3</td>\n",
       "      <td>110</td>\n",
       "      <td>105.461234</td>\n",
       "    </tr>\n",
       "    <tr>\n",
       "      <th>307</th>\n",
       "      <td>89.578947</td>\n",
       "      <td>109.429886</td>\n",
       "      <td>11.940804</td>\n",
       "      <td>9.435449</td>\n",
       "      <td>0.335336</td>\n",
       "      <td>3</td>\n",
       "      <td>115</td>\n",
       "      <td>104.845703</td>\n",
       "    </tr>\n",
       "    <tr>\n",
       "      <th>312</th>\n",
       "      <td>83.526316</td>\n",
       "      <td>109.089012</td>\n",
       "      <td>11.661603</td>\n",
       "      <td>13.095302</td>\n",
       "      <td>0.473534</td>\n",
       "      <td>3</td>\n",
       "      <td>120</td>\n",
       "      <td>104.425720</td>\n",
       "    </tr>\n",
       "    <tr>\n",
       "      <th>317</th>\n",
       "      <td>77.473684</td>\n",
       "      <td>96.611526</td>\n",
       "      <td>11.454237</td>\n",
       "      <td>16.112570</td>\n",
       "      <td>0.590051</td>\n",
       "      <td>3</td>\n",
       "      <td>125</td>\n",
       "      <td>92.418002</td>\n",
       "    </tr>\n",
       "    <tr>\n",
       "      <th>322</th>\n",
       "      <td>71.421053</td>\n",
       "      <td>97.847626</td>\n",
       "      <td>11.555367</td>\n",
       "      <td>15.529298</td>\n",
       "      <td>0.470532</td>\n",
       "      <td>3</td>\n",
       "      <td>130</td>\n",
       "      <td>93.632111</td>\n",
       "    </tr>\n",
       "    <tr>\n",
       "      <th>327</th>\n",
       "      <td>65.368421</td>\n",
       "      <td>79.076614</td>\n",
       "      <td>10.493383</td>\n",
       "      <td>19.387094</td>\n",
       "      <td>0.688720</td>\n",
       "      <td>3</td>\n",
       "      <td>135</td>\n",
       "      <td>75.380834</td>\n",
       "    </tr>\n",
       "    <tr>\n",
       "      <th>332</th>\n",
       "      <td>59.315789</td>\n",
       "      <td>79.719978</td>\n",
       "      <td>10.690526</td>\n",
       "      <td>19.218607</td>\n",
       "      <td>0.659128</td>\n",
       "      <td>3</td>\n",
       "      <td>140</td>\n",
       "      <td>76.051816</td>\n",
       "    </tr>\n",
       "    <tr>\n",
       "      <th>337</th>\n",
       "      <td>53.263158</td>\n",
       "      <td>69.660126</td>\n",
       "      <td>10.179806</td>\n",
       "      <td>12.694256</td>\n",
       "      <td>0.354437</td>\n",
       "      <td>3</td>\n",
       "      <td>145</td>\n",
       "      <td>66.320984</td>\n",
       "    </tr>\n",
       "    <tr>\n",
       "      <th>342</th>\n",
       "      <td>47.210526</td>\n",
       "      <td>60.134460</td>\n",
       "      <td>10.073124</td>\n",
       "      <td>12.042787</td>\n",
       "      <td>0.366043</td>\n",
       "      <td>3</td>\n",
       "      <td>150</td>\n",
       "      <td>57.226588</td>\n",
       "    </tr>\n",
       "    <tr>\n",
       "      <th>347</th>\n",
       "      <td>41.157895</td>\n",
       "      <td>52.297539</td>\n",
       "      <td>9.596240</td>\n",
       "      <td>12.566921</td>\n",
       "      <td>0.471729</td>\n",
       "      <td>3</td>\n",
       "      <td>155</td>\n",
       "      <td>49.665305</td>\n",
       "    </tr>\n",
       "    <tr>\n",
       "      <th>352</th>\n",
       "      <td>35.105263</td>\n",
       "      <td>44.196129</td>\n",
       "      <td>9.594196</td>\n",
       "      <td>11.951842</td>\n",
       "      <td>0.678166</td>\n",
       "      <td>3</td>\n",
       "      <td>160</td>\n",
       "      <td>41.971265</td>\n",
       "    </tr>\n",
       "    <tr>\n",
       "      <th>357</th>\n",
       "      <td>29.052632</td>\n",
       "      <td>35.218464</td>\n",
       "      <td>9.033352</td>\n",
       "      <td>10.501806</td>\n",
       "      <td>0.636808</td>\n",
       "      <td>3</td>\n",
       "      <td>165</td>\n",
       "      <td>33.356251</td>\n",
       "    </tr>\n",
       "    <tr>\n",
       "      <th>362</th>\n",
       "      <td>23.000000</td>\n",
       "      <td>23.201355</td>\n",
       "      <td>7.821784</td>\n",
       "      <td>7.254826</td>\n",
       "      <td>0.871455</td>\n",
       "      <td>3</td>\n",
       "      <td>170</td>\n",
       "      <td>21.825667</td>\n",
       "    </tr>\n",
       "    <tr>\n",
       "      <th>367</th>\n",
       "      <td>16.947368</td>\n",
       "      <td>18.961445</td>\n",
       "      <td>7.042039</td>\n",
       "      <td>7.267354</td>\n",
       "      <td>1.454972</td>\n",
       "      <td>3</td>\n",
       "      <td>175</td>\n",
       "      <td>17.742763</td>\n",
       "    </tr>\n",
       "    <tr>\n",
       "      <th>372</th>\n",
       "      <td>10.894737</td>\n",
       "      <td>11.621338</td>\n",
       "      <td>4.898211</td>\n",
       "      <td>5.650729</td>\n",
       "      <td>1.423831</td>\n",
       "      <td>3</td>\n",
       "      <td>180</td>\n",
       "      <td>10.657655</td>\n",
       "    </tr>\n",
       "    <tr>\n",
       "      <th>377</th>\n",
       "      <td>4.842105</td>\n",
       "      <td>4.636366</td>\n",
       "      <td>2.564380</td>\n",
       "      <td>3.396004</td>\n",
       "      <td>1.729467</td>\n",
       "      <td>3</td>\n",
       "      <td>185</td>\n",
       "      <td>4.116430</td>\n",
       "    </tr>\n",
       "  </tbody>\n",
       "</table>\n",
       "</div>"
      ],
      "text/plain": [
       "              T  mean_alpha  mean_beta  std_alpha  std_beta  unit_number  \\\n",
       "192  115.000000  167.048492   3.864671  38.779881  0.520524            3   \n",
       "197  115.000000  113.492569  11.698293   4.837799  0.191233            3   \n",
       "202  115.000000  113.724648  11.881313   4.963286  0.125416            3   \n",
       "207  115.000000  115.153397  11.914815   6.167689  0.161325            3   \n",
       "212  115.000000  114.557144  11.958870   3.427224  0.061974            3   \n",
       "217  115.000000  114.265701  11.964808   3.701931  0.110746            3   \n",
       "222  115.000000  115.057648  11.989979   3.859405  0.103454            3   \n",
       "227  115.000000  114.839996  12.025646   3.801479  0.075383            3   \n",
       "232  115.000000  113.221054  12.011677   4.182622  0.099346            3   \n",
       "237  115.000000  113.433044  12.021233   4.515227  0.113484            3   \n",
       "242  115.000000  112.844131  12.045506   5.360334  0.116838            3   \n",
       "247  115.000000  112.930862  12.058600   6.132016  0.109892            3   \n",
       "252  115.000000  115.014084  12.045326   5.789332  0.112206            3   \n",
       "257  115.000000  113.206757  12.011470   5.972569  0.149788            3   \n",
       "262  115.000000  112.310974  12.070026  10.376028  0.246358            3   \n",
       "267  115.000000  110.062836  12.073728   8.936421  0.211475            3   \n",
       "272  115.000000  113.332977  12.012821   9.960308  0.130131            3   \n",
       "277  115.000000  112.888695  12.025820   8.568312  0.148652            3   \n",
       "282  115.000000  111.348114  12.010796   4.903602  0.147237            3   \n",
       "287  113.789474  112.610657  12.010576  10.513342  0.138003            3   \n",
       "292  107.736842  111.546944  12.028042   7.161444  0.109312            3   \n",
       "297  101.684211  112.413437  12.030827   5.333494  0.184381            3   \n",
       "302   95.631579  110.046791  12.015167   7.478857  0.159679            3   \n",
       "307   89.578947  109.429886  11.940804   9.435449  0.335336            3   \n",
       "312   83.526316  109.089012  11.661603  13.095302  0.473534            3   \n",
       "317   77.473684   96.611526  11.454237  16.112570  0.590051            3   \n",
       "322   71.421053   97.847626  11.555367  15.529298  0.470532            3   \n",
       "327   65.368421   79.076614  10.493383  19.387094  0.688720            3   \n",
       "332   59.315789   79.719978  10.690526  19.218607  0.659128            3   \n",
       "337   53.263158   69.660126  10.179806  12.694256  0.354437            3   \n",
       "342   47.210526   60.134460  10.073124  12.042787  0.366043            3   \n",
       "347   41.157895   52.297539   9.596240  12.566921  0.471729            3   \n",
       "352   35.105263   44.196129   9.594196  11.951842  0.678166            3   \n",
       "357   29.052632   35.218464   9.033352  10.501806  0.636808            3   \n",
       "362   23.000000   23.201355   7.821784   7.254826  0.871455            3   \n",
       "367   16.947368   18.961445   7.042039   7.267354  1.454972            3   \n",
       "372   10.894737   11.621338   4.898211   5.650729  1.423831            3   \n",
       "377    4.842105    4.636366   2.564380   3.396004  1.729467            3   \n",
       "\n",
       "     time  predicted_mu  \n",
       "192     0    151.118887  \n",
       "197     5    108.654025  \n",
       "202    10    108.940130  \n",
       "207    15    110.320436  \n",
       "212    20    109.764386  \n",
       "217    25    109.487169  \n",
       "222    30    110.254657  \n",
       "227    35    110.058287  \n",
       "232    40    108.502052  \n",
       "237    45    108.708431  \n",
       "242    50    108.152173  \n",
       "247    55    108.239673  \n",
       "252    60    110.231839  \n",
       "257    65    108.488281  \n",
       "262    70    107.649326  \n",
       "267    75    105.495702  \n",
       "272    80    108.609697  \n",
       "277    85    108.188292  \n",
       "282    90    106.706884  \n",
       "287    95    107.916727  \n",
       "292   100    106.903144  \n",
       "297   105    107.734494  \n",
       "302   110    105.461234  \n",
       "307   115    104.845703  \n",
       "312   120    104.425720  \n",
       "317   125     92.418002  \n",
       "322   130     93.632111  \n",
       "327   135     75.380834  \n",
       "332   140     76.051816  \n",
       "337   145     66.320984  \n",
       "342   150     57.226588  \n",
       "347   155     49.665305  \n",
       "352   160     41.971265  \n",
       "357   165     33.356251  \n",
       "362   170     21.825667  \n",
       "367   175     17.742763  \n",
       "372   180     10.657655  \n",
       "377   185      4.116430  "
      ]
     },
     "execution_count": 198,
     "metadata": {},
     "output_type": "execute_result"
    }
   ],
   "source": [
    "s"
   ]
  },
  {
   "cell_type": "code",
   "execution_count": 199,
   "metadata": {},
   "outputs": [],
   "source": [
    "def plot_weibull_variance(results_df):\n",
    "\n",
    "    plt.figure(figsize=(30,20))\n",
    "    palette = sns.color_palette(\"RdBu_r\", results_df.shape[0] + 1)\n",
    "    color_dict = dict(enumerate(palette))\n",
    "\n",
    "    for i, row in enumerate(results_df.iterrows()):\n",
    "            alpha=row[1]['mean_alpha']\n",
    "            beta = row[1]['mean_beta']\n",
    "            color = color_dict[i]\n",
    "            variance = weibull_variance(alpha, beta)\n",
    "\n",
    "            plt.scatter(i, variance, color=color)\n",
    "            plt.text(i, variance+0.5, i*5)\n",
    "            plt.title('Weibull distributions variance')\n",
    "            # plt.legend()\n"
   ]
  },
  {
   "cell_type": "code",
   "execution_count": 200,
   "metadata": {},
   "outputs": [],
   "source": [
    "def plot_weibull_predictions(results_df):\n",
    "\n",
    "    fig, axarr = plt.subplots(1, figsize=(30,20))\n",
    "\n",
    "    t=np.arange(0,400)\n",
    "\n",
    "    palette = sns.color_palette(\"RdBu_r\", results_df.shape[0] + 1)\n",
    "    color_dict = dict(enumerate(palette))\n",
    "\n",
    "    for i, row in enumerate(results_df.iterrows()):\n",
    "            alpha=row[1]['mean_alpha']\n",
    "            beta = row[1]['mean_beta']\n",
    "            T = row[1]['T']\n",
    "            label = 'a={} b={}'.format(alpha, beta)\n",
    "\n",
    "            color = color_dict[i]\n",
    "            ax= axarr  #[0]\n",
    "            mode = weibull_mode(alpha, beta)\n",
    "            y_max = weibull_pdf(alpha, beta, mode)    \n",
    "\n",
    "            ax.plot(t, weibull_pdf(alpha, beta, t), color=color)  # label=label\n",
    "            ax.scatter(T, weibull_pdf(alpha,beta, T), color=color, s=100)\n",
    "            ax.vlines(mode, ymin=0, ymax=y_max, colors=color, linestyles='--')\n",
    "            ax.text(mode, y_max, i*5)\n",
    "\n",
    "            ax.set_title('Weibull distributions')\n",
    "            # ax.legend()\n",
    "    \n",
    "    # ax=axarr[1]\n",
    "    \n",
    "    # median_predictions = weibull_median(results_df['alpha'], results_df['beta'])\n",
    "    # mean_predictions = results_df[['alpha', 'beta']].apply(lambda row: weibull_mean(row[0], row[1]), axis=1)\n",
    "    # mode_predictions = weibull_mode(results_df['alpha'], results_df['beta'])\n",
    "#     x = results_df['time']\n",
    "    \n",
    "#     ax.scatter(x, results_df['T'], label='survival_time', color='black')\n",
    "\n",
    "#     ax.scatter(results_df['T'], median_predictions, label='median_prediction')\n",
    "#     ax.scatter(results_df['T'], mean_predictions, label='mean_prediction')\n",
    "    # ax.scatter(results_df['T'], mode_predictions, label='m_prediction')\n",
    "    # ax.set_title('MAP prediction Vs. true')\n",
    "    \n",
    "\n",
    "    # ax.legend()\n",
    "    \n",
    "    # ax=axarr[2]\n",
    "    # sns.distplot(results_df['T'] - mode_predictions, ax=ax)\n",
    "    # ax.set_title('Error')\n",
    "\n",
    "#     ax.plot(x, results_df['alpha'], label='alpha')\n",
    "#     ax.legend()\n",
    "    \n",
    "#     ax = axarr[3]\n",
    "#     ax.plot(x, results_df['beta'], label='beta')\n",
    "#     ax.legend()\n",
    "    \n",
    "#     ax.legend(loc='center left', bbox_to_anchor=(1, 0.5))\n",
    "#     fig.suptitle(title)\n",
    "    plt.show()\n"
   ]
  },
  {
   "cell_type": "code",
   "execution_count": 201,
   "metadata": {},
   "outputs": [
    {
     "data": {
      "image/png": "[encoded data removed]",
      "text/plain": [
       "<Figure size 2160x1440 with 1 Axes>"
      ]
     },
     "metadata": {
      "needs_background": "light"
     },
     "output_type": "display_data"
    }
   ],
   "source": [
    "plot_weibull_predictions(s)"
   ]
  },
  {
   "cell_type": "code",
   "execution_count": 202,
   "metadata": {},
   "outputs": [
    {
     "data": {
      "image/png": "[encoded data removed]",
      "text/plain": [
       "<Figure size 2160x1440 with 1 Axes>"
      ]
     },
     "metadata": {
      "needs_background": "light"
     },
     "output_type": "display_data"
    }
   ],
   "source": [
    "plot_weibull_variance(s)"
   ]
  },
  {
   "cell_type": "code",
   "execution_count": 115,
   "metadata": {},
   "outputs": [],
   "source": [
    "a = np.array([[1,2,3,4],[5,6,7,8], [9,10,11,12]])"
   ]
  },
  {
   "cell_type": "code",
   "execution_count": 121,
   "metadata": {},
   "outputs": [
    {
     "data": {
      "text/plain": [
       "array([[ 1,  2,  3,  4],\n",
       "       [ 5,  6,  7,  8],\n",
       "       [ 9, 10, 11, 12]])"
      ]
     },
     "execution_count": 121,
     "metadata": {},
     "output_type": "execute_result"
    }
   ],
   "source": [
    "a"
   ]
  },
  {
   "cell_type": "code",
   "execution_count": 125,
   "metadata": {},
   "outputs": [
    {
     "data": {
      "text/plain": [
       "array([ 3.5,  7.5, 11.5])"
      ]
     },
     "execution_count": 125,
     "metadata": {},
     "output_type": "execute_result"
    }
   ],
   "source": [
    "np.mean(a[:,2:], axis=1)"
   ]
  },
  {
   "cell_type": "code",
   "execution_count": null,
   "metadata": {},
   "outputs": [],
   "source": [
    "net_cfg = {\"num_rec\": 2, \"max_time\": 25, \"neuron_0\": 74, \"neuron_1\": 71, \"neuron_2\": 78, \"neuron_3\": 68,\n",
    "     \"activation_0\": \"tanh\", \"activation_1\": \"sigmoid\", \"activation_2\": \"sigmoid\", \"activation_3\": \"tanh\",\n",
    "      \"dropout_0\": 0.04198965650706104, \"dropout_1\": 0.6518949855946009, \"dropout_2\": 0.5134433415117658,\n",
    "       \"dropout_3\": 0.44181882048621723, \"recurrent_dropout_0\": 0.011379281378212352, \"recurrent_dropout_1\": 0.07877843876273939,\n",
    "        \"recurrent_dropout_2\": 0.25685072170110057, \"recurrent_dropout_3\": 0.16640448683710898, \"final_activation_0\": \"softplus\",\n",
    "         \"final_activation_1\": \"softplus\", \"percentage\": 63, \"rul\": 125, \"rul_style\": \"nonlinear\", \"lr\": 0.021745779733326226, \"batch\": \"256\"}"
   ]
  },
  {
   "cell_type": "code",
   "execution_count": null,
   "metadata": {},
   "outputs": [],
   "source": [
    "id_col = 'unit_number'\n",
    "time_col = 'time'\n",
    "max_time = 32\n",
    "mask_value = -99\n",
    "\n",
    "feature_cols = ['op_setting_1', 'op_setting_2', 'op_setting_3'] + ['sensor_measurement_{}'.format(x) for x in\n",
    "                                                                    range(1, 22)]\n",
    "column_names = [id_col, time_col] + feature_cols\n",
    "test_or = test_x_orig.copy()\n",
    "test_or = np.concatenate([test_or[['unit_number', 'time']], scaler.transform(test_or[feature_cols])], axis=1)\n",
    "\n",
    "\n",
    "# Preparing data for the RNN (numpy arrays)\n",
    "test_or, _ = build_data(units=test_or[:, 0], time=test_or[:, 1], x=test_or[:, 2:], max_time=net_cfg['max_time'],\n",
    "                                is_test=True, mask_value=-99,\n",
    "                                original_data=np.repeat(200, test_or.shape[0]), net_cfg = net_cfg, label=net_cfg['rul_style'])\n"
   ]
  },
  {
   "cell_type": "code",
   "execution_count": null,
   "metadata": {},
   "outputs": [],
   "source": [
    "reps = 30\n",
    "test_predict_1_or = []\n",
    "test_predict_2_or = []\n",
    "for _ in range(reps):\n",
    "    test_predict_or = model(test_or, training=True).numpy()\n",
    "#     print(test_predict_or.shape)\n",
    "#     break\n",
    "    test_predict_1_or.append(test_predict_or[:,0].reshape(test_predict_or[:,0].shape[0], 1))\n",
    "    test_predict_2_or.append(test_predict_or[:,1].reshape(test_predict_or[:,1].shape[0], 1))\n",
    "\n",
    "test_predict_1_mean_or = np.average(np.hstack(test_predict_1_or), axis=1)\n",
    "test_predict_2_mean_or = np.average(np.hstack(test_predict_2_or), axis=1)\n",
    "test_predict_1_mean_or = test_predict_1_mean_or.reshape(test_predict_1_mean_or.shape[0],1)\n",
    "test_predict_2_mean_or = test_predict_2_mean_or.reshape(test_predict_2_mean_or.shape[0],1)\n",
    "test_predict_1_std_or = np.std(np.hstack(test_predict_1_or), axis=1)\n",
    "test_predict_2_std_or = np.std(np.hstack(test_predict_2_or), axis=1)\n",
    "test_predict_1_std_or = test_predict_1_std_or.reshape(test_predict_1_std_or.shape[0],1)\n",
    "test_predict_2_std_or = test_predict_2_std_or.reshape(test_predict_2_std_or.shape[0],1)\n",
    "\n",
    "\n",
    "test_predict_or = np.hstack([test_predict_1_mean_or, test_predict_2_mean_or, \n",
    "                           test_predict_1_std_or, test_predict_2_std_or])    \n",
    "\n",
    "test_predict_or = np.resize(test_predict_or, (test_or.shape[0], 4))  # changed from 2 to 4\n",
    "test_result_or = np.concatenate((test_y_orig, test_predict_or), axis=1)\n",
    "test_results_df_or = pd.DataFrame(test_result_or, columns=['T',   'mean_alpha', 'mean_beta', 'std_alpha', 'std_beta']) # (add 'E' for event)\n",
    "#     test_results_df['unit_number'] = train_x_orig.iloc[test_index]['unit_number'].to_numpy() # Note the train_x_orig\n",
    "#     test_results_df['time'] = train_x_orig.iloc[test_index]['time'].to_numpy()\n",
    "\n",
    "test_results_df_or['predicted_mu'] = test_results_df_or[['mean_alpha', 'mean_beta']].apply(lambda row: weibull_mean(row[0], row[1]), axis=1)\n",
    "test_results_df_or['predicted_std+'] = test_results_df_or[['mean_alpha', 'mean_beta', 'std_alpha', \n",
    "                                                       'std_beta']].apply(lambda row: weibull_mean(row[0]+1.96*row[2]/np.sqrt(reps), \n",
    "                                                                                                   row[1]+1.96*row[3]/np.sqrt(reps)), axis=1)\n",
    "test_results_df_or['predicted_std-'] = test_results_df_or[['mean_alpha', 'mean_beta', 'std_alpha', \n",
    "                                                           'std_beta']].apply(lambda row: weibull_mean(row[0]-1.96*row[2]/np.sqrt(reps),\n",
    "                                                                                                       row[1]-1.96*row[3]/np.sqrt(reps)), axis=1)\n",
    "\n",
    "\n",
    "\n",
    "\n",
    "# Old way\n",
    "# test_predict_or = model(test_or, training=True).numpy()  # equivalent to model.predict(test_or) but with training=False\n",
    "# test_predict_or = np.resize(test_predict_or, (test_or.shape[0], 2))\n",
    "# test_result_or = np.concatenate((test_y_orig, test_predict_or), axis=1)\n",
    "# test_results_df_or = pd.DataFrame(test_result_or, columns=['T', 'alpha', 'beta'])\n",
    "# test_results_df_or['unit_number'] = np.arange(1, test_results_df_or.shape[0]+1)\n",
    "\n",
    "# test_results_df_or['predicted_mu'] = test_results_df_or[['alpha', 'beta']].apply(lambda row: weibull_mean(row[0], row[1]), axis=1)"
   ]
  },
  {
   "cell_type": "code",
   "execution_count": null,
   "metadata": {},
   "outputs": [],
   "source": [
    "test_results_df_or"
   ]
  },
  {
   "cell_type": "code",
   "execution_count": null,
   "metadata": {},
   "outputs": [],
   "source": [
    "#1 - 10 epochs\n",
    "np.sqrt(mean_squared_error(test_results_df_or['predicted_mu'], test_results_df_or['T']))"
   ]
  },
  {
   "cell_type": "code",
   "execution_count": null,
   "metadata": {},
   "outputs": [],
   "source": [
    "#1 - 50 epochs\n",
    "np.sqrt(mean_squared_error(test_results_df_or['predicted_mu'], test_results_df_or['T']))"
   ]
  },
  {
   "cell_type": "code",
   "execution_count": null,
   "metadata": {},
   "outputs": [],
   "source": [
    "#2 - 21/50 epochs\n",
    "np.sqrt(mean_squared_error(test_results_df_or['predicted_mu'], test_results_df_or['T']))"
   ]
  },
  {
   "cell_type": "code",
   "execution_count": null,
   "metadata": {},
   "outputs": [],
   "source": [
    "for unit_number, grp in train_results_df.groupby('unit_number'):\n",
    "    plot_weibull_predictions(grp, unit_number)\n",
    "    break"
   ]
  },
  {
   "cell_type": "code",
   "execution_count": null,
   "metadata": {},
   "outputs": [],
   "source": [
    "for unit_number, grp in test_results_df.groupby('unit_number'):\n",
    "    plot_weibull_predictions(grp, unit_number)\n",
    "    break"
   ]
  },
  {
   "cell_type": "markdown",
   "metadata": {},
   "source": [
    "# Training full model on the best HP"
   ]
  },
  {
   "cell_type": "code",
   "execution_count": 203,
   "metadata": {},
   "outputs": [],
   "source": [
    "import os\n",
    "os.environ[\"CUDA_DEVICE_ORDER\"]=\"PCI_BUS_ID\"\n",
    "os.environ[\"CUDA_VISIBLE_DEVICES\"]=\"1,2,3,4,5\"  # uncomment in case running ONLY on CPU is required\n",
    "\n",
    "import tensorflow as tf\n",
    "tf.random.set_seed(42)\n",
    "from tensorflow.keras import backend as k\n",
    "from tensorflow.keras import callbacks\n",
    "from tensorflow.keras.callbacks import History\n",
    "from tensorflow import keras\n",
    "from tensorflow.keras.optimizers import Adam\n",
    "\n",
    "from activations import Activate\n",
    "from losses import CustomLoss\n",
    "from preprocessing import build_data\n",
    "\n",
    "import numpy as np\n",
    "import pandas as pd\n",
    "import math\n",
    "from datetime import datetime\n",
    "\n",
    "from sklearn import pipeline\n",
    "from sklearn.feature_selection import VarianceThreshold\n",
    "from sklearn.metrics import mean_squared_error, mean_absolute_error, r2_score\n",
    "from sklearn.model_selection import KFold\n",
    "from sklearn.preprocessing import MinMaxScaler"
   ]
  },
  {
   "cell_type": "code",
   "execution_count": 217,
   "metadata": {},
   "outputs": [],
   "source": [
    "net_cfg = {\"num_rec\": 2, \"max_time\": 22, \"neuron_0\": 78, \"neuron_1\": 71, \"neuron_2\": 87, \"neuron_3\": 96, \"activation_0\": \"sigmoid\", \n",
    "\"activation_1\": \"tanh\", \"activation_2\": \"sigmoid\", \"activation_3\": \"sigmoid\", \"dropout_0\": 0.18803475666664804, \"dropout_1\": 0.6040324537064773, \n",
    "\"dropout_2\": 0.3227885166987346, \"dropout_3\": 0.2287547425262742, \"recurrent_dropout_0\": 0.4464387484895227, \"recurrent_dropout_1\": 0.6236043939191586, \n",
    "\"recurrent_dropout_2\": 0.3135094606418331, \"recurrent_dropout_3\": 0.842983970188618, \"final_activation_0\": \"softplus\", \"final_activation_1\": \"softplus\", \n",
    "\"percentage\": 67, \"rul\": 127, \"rul_style\": \"nonlinear\", \n",
    "\"lr\": \"1e-3\", \"batch\": \"128\"}\n"
   ]
  },
  {
   "cell_type": "code",
   "execution_count": 218,
   "metadata": {},
   "outputs": [],
   "source": [
    "cfg = {'cv': 10, 'shuffle': True,\n",
    "'random_state': 21,\n",
    "'mask_value': -99,\n",
    "'reps': 30,\n",
    "'epochs': 100,\n",
    "'batches': 64}"
   ]
  },
  {
   "cell_type": "code",
   "execution_count": null,
   "metadata": {},
   "outputs": [],
   "source": [
    "def weibull_mean(alpha, beta):\n",
    "    return alpha * math.gamma(1 + 1/beta)"
   ]
  },
  {
   "cell_type": "code",
   "execution_count": 219,
   "metadata": {},
   "outputs": [],
   "source": [
    "def network(train_X, train_y, net_cfg, cfg):\n",
    "    k.set_epsilon(1e-10)\n",
    "    history = History()\n",
    "    nan_terminator = callbacks.TerminateOnNaN()\n",
    "    reduce_lr = callbacks.ReduceLROnPlateau(monitor='loss')\n",
    "    early_stopping = callbacks.EarlyStopping(monitor='loss', patience=5)\n",
    "    checkpoint_filepath = './saved_models/cp-{epoch:04d}.ckpt'\n",
    "    checkpoint = callbacks.ModelCheckpoint(filepath=checkpoint_filepath, monitor='loss', verbose=1)\n",
    "    logdir=\"logs/test1\" #+ datetime.now().strftime(\"%Y%m%d-%H%M%S\")\n",
    "    tensorboard = callbacks.TensorBoard(log_dir=logdir)\n",
    "\n",
    "    window = train_X.shape[1]\n",
    "    n_features = train_X.shape[2]\n",
    "\n",
    "    inputs = keras.Input(shape=(window, n_features))\n",
    "    masking_layer = keras.layers.Masking(mask_value=cfg['mask_value'])(inputs)\n",
    "\n",
    "    # recurrent layers\n",
    "    if net_cfg['num_rec'] > 1:\n",
    "        for i in np.arange(net_cfg['num_rec']-1):\n",
    "            masking_layer = keras.layers.GRU(net_cfg['neuron_'+str(i)], activation=net_cfg['activation_'+str(i)],\n",
    "                                    dropout=net_cfg['dropout_'+str(i)],\n",
    "                                    recurrent_dropout=net_cfg['recurrent_dropout_'+str(i)],\n",
    "                                    return_sequences=True)(masking_layer)\n",
    "    last = i + 1\n",
    "    gru_last = keras.layers.GRU(net_cfg['neuron_'+str(last)], activation=net_cfg['activation_'+str(last)],\n",
    "                                dropout=net_cfg['dropout_'+str(last)],\n",
    "                                recurrent_dropout=net_cfg['recurrent_dropout_'+str(last)],\n",
    "                                return_sequences=False)(masking_layer)\n",
    "\n",
    "    dense_1 = keras.layers.Dense(2)(gru_last)\n",
    "    custom_activation = Activate(net_cfg=net_cfg)\n",
    "    outputs = keras.layers.Activation(custom_activation)(dense_1)\n",
    "\n",
    "    model = keras.Model(inputs=inputs, outputs=outputs, name=\"weibull_params\")\n",
    "\n",
    "    # rmse = tf.keras.metrics.RootMeanSquaredError()\n",
    "    model.compile(loss=CustomLoss(kind='continuous', reduce_loss=True), optimizer=Adam(lr=net_cfg['lr'],\n",
    "                                                                                       clipvalue=0.5))\n",
    "    model.summary()  # uncomment for debugging\n",
    "\n",
    "    batch_size=eval(net_cfg['batch'])\n",
    "    model.fit(train_X, train_y,\n",
    "              epochs=cfg['epochs'],\n",
    "              batch_size=eval(net_cfg['batch']),\n",
    "              verbose=1,\n",
    "              callbacks=[nan_terminator, history, reduce_lr, early_stopping, checkpoint],#, tensorboard],  # , tensorboard\n",
    "              workers=32)\n",
    "\n",
    "    return model, history\n",
    "\n"
   ]
  },
  {
   "cell_type": "code",
   "execution_count": null,
   "metadata": {},
   "outputs": [],
   "source": [
    "# %load_ext tensorboard\n"
   ]
  },
  {
   "cell_type": "code",
   "execution_count": null,
   "metadata": {},
   "outputs": [],
   "source": [
    "# %tensorboard --logdir=logdir --port 8889\n"
   ]
  },
  {
   "cell_type": "code",
   "execution_count": 220,
   "metadata": {},
   "outputs": [],
   "source": [
    "def load_data():\n",
    "\n",
    "    np.random.seed(42)\n",
    "\n",
    "    id_col = 'unit_number'\n",
    "    time_col = 'time'\n",
    "    feature_cols = ['op_setting_1', 'op_setting_2', 'op_setting_3'] + ['sensor_measurement_{}'.format(x) for x in\n",
    "                                                                       range(1, 22)]\n",
    "    column_names = [id_col, time_col] + feature_cols\n",
    "\n",
    "    train_x_orig = pd.read_csv('./DataSets/CMAPSS/train_FD001.csv', header=None, sep='\\s+', decimal=\".\")\n",
    "    train_x_orig.columns = column_names\n",
    "\n",
    "    test_x_orig = pd.read_csv('./DataSets/CMAPSS/test_FD001.csv', header=None, sep='\\s+', decimal=\".\")\n",
    "    test_x_orig.columns = column_names\n",
    "\n",
    "    test_y_orig = pd.read_csv('./DataSets/CMAPSS/RUL_FD001.csv', header=None, names=['T'])\n",
    "\n",
    "    # Make engine numbers and days zero-indexed\n",
    "    train_x_orig.iloc[:, 0:2] -= 1\n",
    "    test_x_orig.iloc[:, 0:2] -= 1\n",
    "\n",
    "    # Pre-processing data\n",
    "    scaler = pipeline.Pipeline(steps=[\n",
    "        ('minmax', MinMaxScaler(feature_range=(-1, 1))),\n",
    "        ('remove_constant', VarianceThreshold())])\n",
    "\n",
    "    train = train_x_orig.copy()\n",
    "    train = np.concatenate([train[['unit_number', 'time']], scaler.fit_transform(train[feature_cols])], axis=1)\n",
    "\n",
    "    train_x, train_y = build_data(units=train[:, 0], time=train[:, 1], x=train[:, 2:], max_time=net_cfg['max_time'],\n",
    "                                    is_test=False, mask_value=cfg['mask_value'],\n",
    "                                    original_data=None, net_cfg = net_cfg, label=net_cfg['rul_style'])\n",
    "\n",
    "    test_or = test_x_orig.copy()\n",
    "    test_or = np.concatenate([test_or[['unit_number', 'time']], scaler.transform(test_or[feature_cols])], axis=1)\n",
    "\n",
    "\n",
    "    # Preparing data for the RNN (numpy arrays)\n",
    "    test_or, _ = build_data(units=test_or[:, 0], time=test_or[:, 1], x=test_or[:, 2:], max_time=net_cfg['max_time'],\n",
    "                                    is_test=True, mask_value=-99,\n",
    "                                    original_data=np.repeat(200, test_or.shape[0]), net_cfg = net_cfg, label=net_cfg['rul_style'])\n",
    "\n",
    "    \n",
    "\n",
    "    return train_x, train_y, test_or, test_y_orig, train_x_orig\n"
   ]
  },
  {
   "cell_type": "code",
   "execution_count": 221,
   "metadata": {},
   "outputs": [
    {
     "name": "stderr",
     "output_type": "stream",
     "text": [
      "100%|██████████| 100/100 [00:02<00:00, 38.67it/s]\n",
      "100%|██████████| 100/100 [00:00<00:00, 7198.54it/s]\n"
     ]
    }
   ],
   "source": [
    "train_x, train_y, test_x, test_y, train_x_orig = load_data()\n"
   ]
  },
  {
   "cell_type": "code",
   "execution_count": 222,
   "metadata": {},
   "outputs": [
    {
     "name": "stdout",
     "output_type": "stream",
     "text": [
      "train_x (20631, 22, 17) train_y (20631, 1) test_x (100, 22, 17) test_y (100, 1)\n"
     ]
    }
   ],
   "source": [
    "print('train_x', train_x.shape, 'train_y', train_y.shape, 'test_x', test_x.shape, 'test_y', test_y.shape)\n"
   ]
  },
  {
   "cell_type": "code",
   "execution_count": null,
   "metadata": {},
   "outputs": [],
   "source": [
    "k.clear_session()\n",
    "try:\n",
    "    del model\n",
    "except:\n",
    "    pass\n",
    "\n",
    "model, history = network(train_x, train_y, net_cfg, cfg)"
   ]
  },
  {
   "cell_type": "code",
   "execution_count": 208,
   "metadata": {},
   "outputs": [],
   "source": [
    "model = tf.keras.models.load_model('./saved_models_3_12/cp-0100.ckpt/', custom_objects={\"CustomLoss\": CustomLoss, \"Activate\": Activate})"
   ]
  },
  {
   "cell_type": "code",
   "execution_count": 223,
   "metadata": {},
   "outputs": [
    {
     "name": "stdout",
     "output_type": "stream",
     "text": [
      "Model: \"weibull_params\"\n",
      "_________________________________________________________________\n",
      "Layer (type)                 Output Shape              Param #   \n",
      "=================================================================\n",
      "input_1 (InputLayer)         [(None, 22, 17)]          0         \n",
      "_________________________________________________________________\n",
      "masking (Masking)            (None, 22, 17)            0         \n",
      "_________________________________________________________________\n",
      "gru (GRU)                    (None, 22, 78)            22698     \n",
      "_________________________________________________________________\n",
      "gru_1 (GRU)                  (None, 71)                32163     \n",
      "_________________________________________________________________\n",
      "dense (Dense)                (None, 2)                 144       \n",
      "_________________________________________________________________\n",
      "activation (Activation)      (None, 2)                 0         \n",
      "=================================================================\n",
      "Total params: 55,005\n",
      "Trainable params: 55,005\n",
      "Non-trainable params: 0\n",
      "_________________________________________________________________\n"
     ]
    }
   ],
   "source": [
    "model.summary()"
   ]
  },
  {
   "cell_type": "code",
   "execution_count": null,
   "metadata": {},
   "outputs": [],
   "source": [
    "model.evaluate(train_x, train_y)"
   ]
  },
  {
   "cell_type": "code",
   "execution_count": null,
   "metadata": {},
   "outputs": [],
   "source": [
    "model.evaluate(test_x, test_y)"
   ]
  },
  {
   "cell_type": "code",
   "execution_count": null,
   "metadata": {},
   "outputs": [],
   "source": [
    "import matplotlib.pyplot as plt"
   ]
  },
  {
   "cell_type": "code",
   "execution_count": null,
   "metadata": {},
   "outputs": [],
   "source": [
    "plt.plot(model.history.history['loss'],    label='training')\n",
    "plt.title('loss')\n",
    "plt.legend()"
   ]
  },
  {
   "cell_type": "code",
   "execution_count": 224,
   "metadata": {},
   "outputs": [],
   "source": [
    "reps = 30\n",
    "test_predict_1_or = []\n",
    "test_predict_2_or = []\n",
    "for _ in range(reps):\n",
    "    test_predict_or = model(test_x, training=True).numpy()\n",
    "#     print(test_predict_or.shape)\n",
    "#     break\n",
    "    test_predict_1_or.append(test_predict_or[:,0].reshape(test_predict_or[:,0].shape[0], 1))\n",
    "    test_predict_2_or.append(test_predict_or[:,1].reshape(test_predict_or[:,1].shape[0], 1))\n",
    "\n",
    "test_predict_1_mean_or = np.median(np.hstack(test_predict_1_or), axis=1)\n",
    "test_predict_2_mean_or = np.median(np.hstack(test_predict_2_or), axis=1)\n",
    "test_predict_1_mean_or = test_predict_1_mean_or.reshape(test_predict_1_mean_or.shape[0],1)\n",
    "test_predict_2_mean_or = test_predict_2_mean_or.reshape(test_predict_2_mean_or.shape[0],1)\n",
    "test_predict_1_std_or = np.std(np.hstack(test_predict_1_or), axis=1)\n",
    "test_predict_2_std_or = np.std(np.hstack(test_predict_2_or), axis=1)\n",
    "test_predict_1_std_or = test_predict_1_std_or.reshape(test_predict_1_std_or.shape[0],1)\n",
    "test_predict_2_std_or = test_predict_2_std_or.reshape(test_predict_2_std_or.shape[0],1)\n",
    "\n",
    "\n",
    "test_predict_or = np.hstack([test_predict_1_mean_or, test_predict_2_mean_or, \n",
    "                           test_predict_1_std_or, test_predict_2_std_or])    \n",
    "\n",
    "test_predict_or = np.resize(test_predict_or, (test_x.shape[0], 4))  # changed from 2 to 4\n",
    "test_result_or = np.concatenate((test_y, test_predict_or), axis=1)\n",
    "test_results_df_or = pd.DataFrame(test_result_or, columns=['T',   'mean_alpha', 'mean_beta', 'std_alpha', 'std_beta']) # (add 'E' for event)\n",
    "#     test_results_df['unit_number'] = train_x_orig.iloc[test_index]['unit_number'].to_numpy() # Note the train_x_orig\n",
    "#     test_results_df['time'] = train_x_orig.iloc[test_index]['time'].to_numpy()\n",
    "\n",
    "test_results_df_or['predicted_mu'] = test_results_df_or[['mean_alpha', 'mean_beta']].apply(lambda row: weibull_mean(row[0], row[1]), axis=1)\n",
    "# test_results_df_or['predicted_std+'] = test_results_df_or[['mean_alpha', 'mean_beta', 'std_alpha', \n",
    "#                                                        'std_beta']].apply(lambda row: weibull_mean(row[0]+1.96*row[2]/np.sqrt(reps), \n",
    "#                                                                                                    row[1]+1.96*row[3]/np.sqrt(reps)), axis=1)\n",
    "# test_results_df_or['predicted_std-'] = test_results_df_or[['mean_alpha', 'mean_beta', 'std_alpha', \n",
    "#                                                            'std_beta']].apply(lambda row: weibull_mean(row[0]-1.96*row[2]/np.sqrt(reps),\n",
    "#                                                                                                        row[1]-1.96*row[3]/np.sqrt(reps)), axis=1)\n",
    "\n",
    "\n",
    "\n",
    "\n",
    "# Old way\n",
    "# test_predict_or = model(test_or, training=True).numpy()  # equivalent to model.predict(test_or) but with training=False\n",
    "# test_predict_or = np.resize(test_predict_or, (test_or.shape[0], 2))\n",
    "# test_result_or = np.concatenate((test_y_orig, test_predict_or), axis=1)\n",
    "# test_results_df_or = pd.DataFrame(test_result_or, columns=['T', 'alpha', 'beta'])\n",
    "# test_results_df_or['unit_number'] = np.arange(1, test_results_df_or.shape[0]+1)\n",
    "\n",
    "# test_results_df_or['predicted_mu'] = test_results_df_or[['alpha', 'beta']].apply(lambda row: weibull_mean(row[0], row[1]), axis=1)"
   ]
  },
  {
   "cell_type": "code",
   "execution_count": 225,
   "metadata": {},
   "outputs": [
    {
     "data": {
      "text/html": [
       "<div>\n",
       "<style scoped>\n",
       "    .dataframe tbody tr th:only-of-type {\n",
       "        vertical-align: middle;\n",
       "    }\n",
       "\n",
       "    .dataframe tbody tr th {\n",
       "        vertical-align: top;\n",
       "    }\n",
       "\n",
       "    .dataframe thead th {\n",
       "        text-align: right;\n",
       "    }\n",
       "</style>\n",
       "<table border=\"1\" class=\"dataframe\">\n",
       "  <thead>\n",
       "    <tr style=\"text-align: right;\">\n",
       "      <th></th>\n",
       "      <th>T</th>\n",
       "      <th>mean_alpha</th>\n",
       "      <th>mean_beta</th>\n",
       "      <th>std_alpha</th>\n",
       "      <th>std_beta</th>\n",
       "      <th>predicted_mu</th>\n",
       "    </tr>\n",
       "  </thead>\n",
       "  <tbody>\n",
       "    <tr>\n",
       "      <th>0</th>\n",
       "      <td>112.0</td>\n",
       "      <td>127.000496</td>\n",
       "      <td>139.777527</td>\n",
       "      <td>0.175419</td>\n",
       "      <td>17.800121</td>\n",
       "      <td>126.482431</td>\n",
       "    </tr>\n",
       "    <tr>\n",
       "      <th>1</th>\n",
       "      <td>98.0</td>\n",
       "      <td>127.000580</td>\n",
       "      <td>139.676544</td>\n",
       "      <td>0.187293</td>\n",
       "      <td>20.484858</td>\n",
       "      <td>126.482144</td>\n",
       "    </tr>\n",
       "    <tr>\n",
       "      <th>2</th>\n",
       "      <td>69.0</td>\n",
       "      <td>114.325890</td>\n",
       "      <td>8.575016</td>\n",
       "      <td>18.087215</td>\n",
       "      <td>4.658646</td>\n",
       "      <td>108.022032</td>\n",
       "    </tr>\n",
       "    <tr>\n",
       "      <th>3</th>\n",
       "      <td>82.0</td>\n",
       "      <td>126.920700</td>\n",
       "      <td>114.726791</td>\n",
       "      <td>5.694047</td>\n",
       "      <td>56.967266</td>\n",
       "      <td>126.291596</td>\n",
       "    </tr>\n",
       "    <tr>\n",
       "      <th>4</th>\n",
       "      <td>91.0</td>\n",
       "      <td>125.552719</td>\n",
       "      <td>23.376440</td>\n",
       "      <td>12.753175</td>\n",
       "      <td>61.303551</td>\n",
       "      <td>122.671266</td>\n",
       "    </tr>\n",
       "    <tr>\n",
       "      <th>...</th>\n",
       "      <td>...</td>\n",
       "      <td>...</td>\n",
       "      <td>...</td>\n",
       "      <td>...</td>\n",
       "      <td>...</td>\n",
       "      <td>...</td>\n",
       "    </tr>\n",
       "    <tr>\n",
       "      <th>95</th>\n",
       "      <td>137.0</td>\n",
       "      <td>127.000122</td>\n",
       "      <td>139.778549</td>\n",
       "      <td>0.705115</td>\n",
       "      <td>24.290260</td>\n",
       "      <td>126.482062</td>\n",
       "    </tr>\n",
       "    <tr>\n",
       "      <th>96</th>\n",
       "      <td>82.0</td>\n",
       "      <td>126.908508</td>\n",
       "      <td>75.807785</td>\n",
       "      <td>6.880072</td>\n",
       "      <td>50.361259</td>\n",
       "      <td>125.963782</td>\n",
       "    </tr>\n",
       "    <tr>\n",
       "      <th>97</th>\n",
       "      <td>59.0</td>\n",
       "      <td>121.887703</td>\n",
       "      <td>13.260256</td>\n",
       "      <td>14.639907</td>\n",
       "      <td>34.812073</td>\n",
       "      <td>117.223730</td>\n",
       "    </tr>\n",
       "    <tr>\n",
       "      <th>98</th>\n",
       "      <td>117.0</td>\n",
       "      <td>127.000519</td>\n",
       "      <td>139.781921</td>\n",
       "      <td>0.022679</td>\n",
       "      <td>0.910391</td>\n",
       "      <td>126.482470</td>\n",
       "    </tr>\n",
       "    <tr>\n",
       "      <th>99</th>\n",
       "      <td>20.0</td>\n",
       "      <td>42.734818</td>\n",
       "      <td>8.847282</td>\n",
       "      <td>7.799819</td>\n",
       "      <td>2.064098</td>\n",
       "      <td>40.436846</td>\n",
       "    </tr>\n",
       "  </tbody>\n",
       "</table>\n",
       "<p>100 rows × 6 columns</p>\n",
       "</div>"
      ],
      "text/plain": [
       "        T  mean_alpha   mean_beta  std_alpha   std_beta  predicted_mu\n",
       "0   112.0  127.000496  139.777527   0.175419  17.800121    126.482431\n",
       "1    98.0  127.000580  139.676544   0.187293  20.484858    126.482144\n",
       "2    69.0  114.325890    8.575016  18.087215   4.658646    108.022032\n",
       "3    82.0  126.920700  114.726791   5.694047  56.967266    126.291596\n",
       "4    91.0  125.552719   23.376440  12.753175  61.303551    122.671266\n",
       "..    ...         ...         ...        ...        ...           ...\n",
       "95  137.0  127.000122  139.778549   0.705115  24.290260    126.482062\n",
       "96   82.0  126.908508   75.807785   6.880072  50.361259    125.963782\n",
       "97   59.0  121.887703   13.260256  14.639907  34.812073    117.223730\n",
       "98  117.0  127.000519  139.781921   0.022679   0.910391    126.482470\n",
       "99   20.0   42.734818    8.847282   7.799819   2.064098     40.436846\n",
       "\n",
       "[100 rows x 6 columns]"
      ]
     },
     "execution_count": 225,
     "metadata": {},
     "output_type": "execute_result"
    }
   ],
   "source": [
    "test_results_df_or"
   ]
  },
  {
   "cell_type": "code",
   "execution_count": 226,
   "metadata": {},
   "outputs": [],
   "source": [
    "train_predict_1 = []\n",
    "train_predict_2 = []\n",
    "\n",
    "success = True\n",
    "\n",
    "for i in range(cfg['reps']):\n",
    "    tf.random.set_seed(i)\n",
    "    train_predict = model(train_x, training=True).numpy()\n",
    "    train_predict_1.append(train_predict[:, 0].reshape(train_predict[:, 0].shape[0], 1))\n",
    "    train_predict_2.append(train_predict[:, 1].reshape(train_predict[:, 1].shape[0], 1))\n",
    "\n",
    "train_predict_1_mean = np.mean(np.hstack(train_predict_1), axis=1)\n",
    "train_predict_2_mean = np.mean(np.hstack(train_predict_2), axis=1)\n",
    "train_predict_1_mean = train_predict_1_mean.reshape(train_predict_1_mean.shape[0], 1)\n",
    "train_predict_2_mean = train_predict_2_mean.reshape(train_predict_2_mean.shape[0], 1)\n",
    "train_predict_1_std = np.std(np.hstack(train_predict_1), axis=1)\n",
    "train_predict_2_std = np.std(np.hstack(train_predict_2), axis=1)\n",
    "train_predict_1_std = train_predict_1_std.reshape(train_predict_1_std.shape[0], 1)\n",
    "train_predict_2_std = train_predict_2_std.reshape(train_predict_2_std.shape[0], 1)\n",
    "\n",
    "train_predict = np.hstack([train_predict_1_mean, train_predict_2_mean,\n",
    "                            train_predict_1_std, train_predict_2_std])\n",
    "\n",
    "train_predict = np.resize(train_predict, (train_x.shape[0], 4))  # changed from 2 to 4\n",
    "train_result = np.concatenate((train_y, train_predict), axis=1)\n",
    "train_results_df = pd.DataFrame(train_result, columns=['T', 'mean_alpha', 'mean_beta', 'std_alpha',\n",
    "                                                        'std_beta'])  # (add 'E' for event)\n",
    "train_results_df['unit_number'] = train_x_orig['unit_number'].to_numpy()\n",
    "train_results_df['time'] = train_x_orig['time'].to_numpy()\n",
    "\n",
    "train_results_df['predicted_mu'] = train_results_df[['mean_alpha', 'mean_beta']].apply(\n",
    "    lambda row: weibull_mean(row[0], row[1]), axis=1)\n",
    "# train_results_df['predicted_std+'] = train_results_df[['mean_alpha', 'mean_beta', 'std_alpha',\n",
    "#                                                         'std_beta']].apply(\n",
    "#     lambda row: weibull_mean(row[0] + 1.96 * row[2] / np.sqrt(cfg['reps']),\n",
    "#                                 row[1] + 1.96 * row[3] / np.sqrt(cfg['reps'])), axis=1)\n",
    "# train_results_df['predicted_std-'] = train_results_df[['mean_alpha', 'mean_beta', 'std_alpha',\n",
    "#                                                         'std_beta']].apply(\n",
    "#     lambda row: weibull_mean(row[0] - 1.96 * row[2] / np.sqrt(cfg['reps']),\n",
    "#                                 row[1] - 1.96 * row[3] / np.sqrt(cfg['reps'])), axis=1)"
   ]
  },
  {
   "cell_type": "code",
   "execution_count": 227,
   "metadata": {},
   "outputs": [
    {
     "data": {
      "text/html": [
       "<div>\n",
       "<style scoped>\n",
       "    .dataframe tbody tr th:only-of-type {\n",
       "        vertical-align: middle;\n",
       "    }\n",
       "\n",
       "    .dataframe tbody tr th {\n",
       "        vertical-align: top;\n",
       "    }\n",
       "\n",
       "    .dataframe thead th {\n",
       "        text-align: right;\n",
       "    }\n",
       "</style>\n",
       "<table border=\"1\" class=\"dataframe\">\n",
       "  <thead>\n",
       "    <tr style=\"text-align: right;\">\n",
       "      <th></th>\n",
       "      <th>T</th>\n",
       "      <th>mean_alpha</th>\n",
       "      <th>mean_beta</th>\n",
       "      <th>std_alpha</th>\n",
       "      <th>std_beta</th>\n",
       "      <th>unit_number</th>\n",
       "      <th>time</th>\n",
       "      <th>predicted_mu</th>\n",
       "    </tr>\n",
       "  </thead>\n",
       "  <tbody>\n",
       "    <tr>\n",
       "      <th>0</th>\n",
       "      <td>127.000000</td>\n",
       "      <td>95.165878</td>\n",
       "      <td>2.823542</td>\n",
       "      <td>3.282336</td>\n",
       "      <td>0.853987</td>\n",
       "      <td>0</td>\n",
       "      <td>0</td>\n",
       "      <td>84.767768</td>\n",
       "    </tr>\n",
       "    <tr>\n",
       "      <th>1</th>\n",
       "      <td>127.000000</td>\n",
       "      <td>126.865738</td>\n",
       "      <td>133.436966</td>\n",
       "      <td>1.001118</td>\n",
       "      <td>3.733579</td>\n",
       "      <td>0</td>\n",
       "      <td>1</td>\n",
       "      <td>126.323947</td>\n",
       "    </tr>\n",
       "    <tr>\n",
       "      <th>2</th>\n",
       "      <td>127.000000</td>\n",
       "      <td>126.886314</td>\n",
       "      <td>138.390182</td>\n",
       "      <td>0.254850</td>\n",
       "      <td>1.542951</td>\n",
       "      <td>0</td>\n",
       "      <td>2</td>\n",
       "      <td>126.363590</td>\n",
       "    </tr>\n",
       "    <tr>\n",
       "      <th>3</th>\n",
       "      <td>127.000000</td>\n",
       "      <td>126.921738</td>\n",
       "      <td>139.317123</td>\n",
       "      <td>0.131177</td>\n",
       "      <td>0.812679</td>\n",
       "      <td>0</td>\n",
       "      <td>3</td>\n",
       "      <td>126.402304</td>\n",
       "    </tr>\n",
       "    <tr>\n",
       "      <th>4</th>\n",
       "      <td>127.000000</td>\n",
       "      <td>126.914185</td>\n",
       "      <td>139.033203</td>\n",
       "      <td>0.124674</td>\n",
       "      <td>1.277238</td>\n",
       "      <td>0</td>\n",
       "      <td>4</td>\n",
       "      <td>126.393734</td>\n",
       "    </tr>\n",
       "    <tr>\n",
       "      <th>...</th>\n",
       "      <td>...</td>\n",
       "      <td>...</td>\n",
       "      <td>...</td>\n",
       "      <td>...</td>\n",
       "      <td>...</td>\n",
       "      <td>...</td>\n",
       "      <td>...</td>\n",
       "      <td>...</td>\n",
       "    </tr>\n",
       "    <tr>\n",
       "      <th>20626</th>\n",
       "      <td>9.621212</td>\n",
       "      <td>12.479185</td>\n",
       "      <td>2.703338</td>\n",
       "      <td>7.278916</td>\n",
       "      <td>1.495592</td>\n",
       "      <td>99</td>\n",
       "      <td>195</td>\n",
       "      <td>11.097997</td>\n",
       "    </tr>\n",
       "    <tr>\n",
       "      <th>20627</th>\n",
       "      <td>7.696970</td>\n",
       "      <td>14.656072</td>\n",
       "      <td>3.003326</td>\n",
       "      <td>7.381813</td>\n",
       "      <td>1.466886</td>\n",
       "      <td>99</td>\n",
       "      <td>196</td>\n",
       "      <td>13.088211</td>\n",
       "    </tr>\n",
       "    <tr>\n",
       "      <th>20628</th>\n",
       "      <td>5.772727</td>\n",
       "      <td>13.578466</td>\n",
       "      <td>2.882572</td>\n",
       "      <td>9.032871</td>\n",
       "      <td>1.195122</td>\n",
       "      <td>99</td>\n",
       "      <td>197</td>\n",
       "      <td>12.104789</td>\n",
       "    </tr>\n",
       "    <tr>\n",
       "      <th>20629</th>\n",
       "      <td>3.848485</td>\n",
       "      <td>12.180607</td>\n",
       "      <td>2.793478</td>\n",
       "      <td>7.626794</td>\n",
       "      <td>1.277995</td>\n",
       "      <td>99</td>\n",
       "      <td>198</td>\n",
       "      <td>10.845276</td>\n",
       "    </tr>\n",
       "    <tr>\n",
       "      <th>20630</th>\n",
       "      <td>1.924242</td>\n",
       "      <td>11.344297</td>\n",
       "      <td>2.955189</td>\n",
       "      <td>9.449210</td>\n",
       "      <td>1.669188</td>\n",
       "      <td>99</td>\n",
       "      <td>199</td>\n",
       "      <td>10.123608</td>\n",
       "    </tr>\n",
       "  </tbody>\n",
       "</table>\n",
       "<p>20631 rows × 8 columns</p>\n",
       "</div>"
      ],
      "text/plain": [
       "                T  mean_alpha   mean_beta  std_alpha  std_beta  unit_number  \\\n",
       "0      127.000000   95.165878    2.823542   3.282336  0.853987            0   \n",
       "1      127.000000  126.865738  133.436966   1.001118  3.733579            0   \n",
       "2      127.000000  126.886314  138.390182   0.254850  1.542951            0   \n",
       "3      127.000000  126.921738  139.317123   0.131177  0.812679            0   \n",
       "4      127.000000  126.914185  139.033203   0.124674  1.277238            0   \n",
       "...           ...         ...         ...        ...       ...          ...   \n",
       "20626    9.621212   12.479185    2.703338   7.278916  1.495592           99   \n",
       "20627    7.696970   14.656072    3.003326   7.381813  1.466886           99   \n",
       "20628    5.772727   13.578466    2.882572   9.032871  1.195122           99   \n",
       "20629    3.848485   12.180607    2.793478   7.626794  1.277995           99   \n",
       "20630    1.924242   11.344297    2.955189   9.449210  1.669188           99   \n",
       "\n",
       "       time  predicted_mu  \n",
       "0         0     84.767768  \n",
       "1         1    126.323947  \n",
       "2         2    126.363590  \n",
       "3         3    126.402304  \n",
       "4         4    126.393734  \n",
       "...     ...           ...  \n",
       "20626   195     11.097997  \n",
       "20627   196     13.088211  \n",
       "20628   197     12.104789  \n",
       "20629   198     10.845276  \n",
       "20630   199     10.123608  \n",
       "\n",
       "[20631 rows x 8 columns]"
      ]
     },
     "execution_count": 227,
     "metadata": {},
     "output_type": "execute_result"
    }
   ],
   "source": [
    "train_results_df"
   ]
  },
  {
   "cell_type": "code",
   "execution_count": 228,
   "metadata": {},
   "outputs": [
    {
     "data": {
      "text/plain": [
       "8.927994332301353"
      ]
     },
     "execution_count": 228,
     "metadata": {},
     "output_type": "execute_result"
    }
   ],
   "source": [
    "np.sqrt(mean_squared_error(train_results_df['predicted_mu'], train_results_df['T']))"
   ]
  },
  {
   "cell_type": "code",
   "execution_count": 229,
   "metadata": {},
   "outputs": [
    {
     "data": {
      "text/plain": [
       "0.9250968510791565"
      ]
     },
     "execution_count": 229,
     "metadata": {},
     "output_type": "execute_result"
    }
   ],
   "source": [
    "r2_score(train_results_df['predicted_mu'], train_results_df['T'])"
   ]
  },
  {
   "cell_type": "code",
   "execution_count": 230,
   "metadata": {},
   "outputs": [
    {
     "data": {
      "text/plain": [
       "33.74795638871993"
      ]
     },
     "execution_count": 230,
     "metadata": {},
     "output_type": "execute_result"
    }
   ],
   "source": [
    "np.sqrt(mean_squared_error(test_results_df_or['predicted_mu'], test_results_df_or['T']))"
   ]
  },
  {
   "cell_type": "code",
   "execution_count": 231,
   "metadata": {},
   "outputs": [
    {
     "data": {
      "text/plain": [
       "0.07469041440966029"
      ]
     },
     "execution_count": 231,
     "metadata": {},
     "output_type": "execute_result"
    }
   ],
   "source": [
    "r2_score(test_results_df_or['predicted_mu'], test_results_df_or['T'])"
   ]
  },
  {
   "cell_type": "code",
   "execution_count": null,
   "metadata": {},
   "outputs": [],
   "source": []
  }
 ],
 "metadata": {
  "interpreter": {
   "hash": "4000a7a6ee44f5e9ad604830731b987d83f87e046c93fb1fca3b0779acf4e02a"
  },
  "kernelspec": {
   "display_name": "Python 3.8.8 64-bit ('rul_nn': virtualenv)",
   "name": "python3"
  },
  "language_info": {
   "codemirror_mode": {
    "name": "ipython",
    "version": 3
   },
   "file_extension": ".py",
   "mimetype": "text/x-python",
   "name": "python",
   "nbconvert_exporter": "python",
   "pygments_lexer": "ipython3",
   "version": "3.8.8"
  },
  "orig_nbformat": 4
 },
 "nbformat": 4,
 "nbformat_minor": 2
}
