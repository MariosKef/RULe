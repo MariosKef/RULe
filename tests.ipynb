{
 "cells": [
  {
   "cell_type": "markdown",
   "source": [],
   "metadata": {}
  },
  {
   "cell_type": "code",
   "execution_count": 1,
   "source": [
    "import numpy as np\n",
    "import pandas as pd\n",
    "from tslearn.utils import to_time_series, to_time_series_dataset\n",
    "from tslearn.neighbors import KNeighborsTimeSeries"
   ],
   "outputs": [],
   "metadata": {}
  },
  {
   "cell_type": "code",
   "execution_count": 107,
   "source": [
    "nN = 3\n",
    "init = 10\n",
    "\n",
    "data = [np.random.rand(10,2) for _ in range(init)]\n",
    "labels = np.array([list((np.random.randn(1,2)+2)[0]) for _ in range(init)])"
   ],
   "outputs": [],
   "metadata": {}
  },
  {
   "cell_type": "code",
   "execution_count": 108,
   "source": [
    "labels"
   ],
   "outputs": [
    {
     "output_type": "execute_result",
     "data": {
      "text/plain": [
       "array([[1.99088763, 1.16207404],\n",
       "       [2.04798152, 1.40914503],\n",
       "       [2.01163066, 2.86785545],\n",
       "       [2.23389638, 1.65304167],\n",
       "       [1.92323022, 2.07622326],\n",
       "       [2.48041188, 0.93185335],\n",
       "       [2.21019571, 0.97786993],\n",
       "       [1.85989428, 0.18480523],\n",
       "       [2.37482813, 1.21235608],\n",
       "       [0.93202132, 0.56580436]])"
      ]
     },
     "metadata": {},
     "execution_count": 108
    }
   ],
   "metadata": {}
  },
  {
   "cell_type": "markdown",
   "source": [
    "Transforming data to tslearn format"
   ],
   "metadata": {}
  },
  {
   "cell_type": "code",
   "execution_count": 40,
   "source": [
    "time_series = to_time_series_dataset(data)\n",
    "time_series.shape"
   ],
   "outputs": [
    {
     "output_type": "execute_result",
     "data": {
      "text/plain": [
       "(10, 10, 2)"
      ]
     },
     "metadata": {},
     "execution_count": 40
    }
   ],
   "metadata": {}
  },
  {
   "cell_type": "markdown",
   "source": [
    "Unknown points"
   ],
   "metadata": {}
  },
  {
   "cell_type": "code",
   "execution_count": 172,
   "source": [
    "# test = data[0] # same as first known point\n",
    "\n",
    "test = np.random.rand(10,2)\n",
    "\n",
    "test_time_series = to_time_series([test])\n",
    "\n",
    "pred = np.random.randn(1,2)*0.1\n",
    "\n",
    "print(test_time_series)\n",
    "print(pred)"
   ],
   "outputs": [
    {
     "output_type": "stream",
     "name": "stdout",
     "text": [
      "[[[0.28766568 0.74972362]\n",
      "  [0.09265501 0.66445195]\n",
      "  [0.95137828 0.48255004]\n",
      "  [0.85371681 0.64787023]\n",
      "  [0.1547664  0.30347417]\n",
      "  [0.35675285 0.20136441]\n",
      "  [0.94817253 0.59363076]\n",
      "  [0.81994574 0.37974197]\n",
      "  [0.83295767 0.99526968]\n",
      "  [0.99352032 0.60333072]]]\n",
      "[[-0.08453228  0.02624039]]\n"
     ]
    }
   ],
   "metadata": {}
  },
  {
   "cell_type": "code",
   "execution_count": 43,
   "source": [
    "knn = KNeighborsTimeSeries(n_neighbors=nN).fit(time_series)"
   ],
   "outputs": [],
   "metadata": {}
  },
  {
   "cell_type": "code",
   "execution_count": 174,
   "source": [
    "labels"
   ],
   "outputs": [
    {
     "output_type": "execute_result",
     "data": {
      "text/plain": [
       "array([[1.99088763, 1.16207404],\n",
       "       [2.04798152, 1.40914503],\n",
       "       [2.01163066, 2.86785545],\n",
       "       [2.23389638, 1.65304167],\n",
       "       [1.92323022, 2.07622326],\n",
       "       [2.48041188, 0.93185335],\n",
       "       [2.21019571, 0.97786993],\n",
       "       [1.85989428, 0.18480523],\n",
       "       [2.37482813, 1.21235608],\n",
       "       [0.93202132, 0.56580436]])"
      ]
     },
     "metadata": {},
     "execution_count": 174
    }
   ],
   "metadata": {}
  },
  {
   "cell_type": "code",
   "execution_count": 175,
   "source": [
    "def knnUncertainty(nN,pred, test_time_series,labels,knn):\n",
    "\n",
    "    pred = labels\n",
    "    sigma = []\n",
    "    distances, indices = knn.kneighbors(test_time_series,nN, return_distance=True)\n",
    "    \n",
    "    for i in range(len(test_time_series)):\n",
    "        # print(i)\n",
    "        dist = distances[i]\n",
    "        print(dist)\n",
    "        ind = (indices[i])\n",
    "        print(ind)\n",
    "        #calculate the nearest point error\n",
    "        pred_near = pred[i]\n",
    "        # print(pred_near)\n",
    "        # print(ind)\n",
    "\n",
    "        abs_err = np.abs(pred_near - labels[ind])\n",
    "        print(abs_err)\n",
    "        weights = 1 - (dist / dist.sum())\n",
    "        print(weights)\n",
    "        weighted_err = np.mean(np.average(abs_err, axis=0, weights=weights**nN) )\n",
    "\n",
    "        nbrs_y = list(labels[ind])\n",
    "        nbrs_y.append(pred[i])\n",
    "        nbrs_var = np.std(nbrs_y)\n",
    "\n",
    "        min_dist = np.min(dist)\n",
    "        pred_var = weighted_err + min_dist * nbrs_var\n",
    "        sigma.append(pred_var)\n",
    "    sigma = np.array(sigma)\n",
    "    return sigma"
   ],
   "outputs": [],
   "metadata": {}
  },
  {
   "cell_type": "code",
   "execution_count": 177,
   "source": [
    "knnUncertainty(nN, pred, test_time_series,labels,knn)"
   ],
   "outputs": [
    {
     "output_type": "stream",
     "name": "stdout",
     "text": [
      "[1.18175037 1.48318867 1.49557113]\n",
      "[6 7 5]\n",
      "[[0.21930808 0.18420411]\n",
      " [0.13099335 0.97726882]\n",
      " [0.48952425 0.23022069]]\n",
      "[0.71596023 0.64350798 0.64053179]\n"
     ]
    },
    {
     "output_type": "execute_result",
     "data": {
      "text/plain": [
       "array([1.21628249])"
      ]
     },
     "metadata": {},
     "execution_count": 177
    }
   ],
   "metadata": {}
  },
  {
   "cell_type": "code",
   "execution_count": 166,
   "source": [
    "a = np.array([[0,         0],\n",
    " [0.05709389, 0.24707099],\n",
    " [0.48952425, 0.23022069]])"
   ],
   "outputs": [],
   "metadata": {}
  },
  {
   "cell_type": "code",
   "execution_count": 134,
   "source": [
    "a"
   ],
   "outputs": [
    {
     "output_type": "execute_result",
     "data": {
      "text/plain": [
       "array([[0.        , 0.        ],\n",
       "       [0.05709389, 0.24707099],\n",
       "       [0.48952425, 0.23022069]])"
      ]
     },
     "metadata": {},
     "execution_count": 134
    }
   ],
   "metadata": {}
  },
  {
   "cell_type": "code",
   "execution_count": 137,
   "source": [
    "weights = np.array([1, 0.51519018, 0.48480982])\n",
    "weights"
   ],
   "outputs": [
    {
     "output_type": "execute_result",
     "data": {
      "text/plain": [
       "array([1.        , 0.51519018, 0.48480982])"
      ]
     },
     "metadata": {},
     "execution_count": 137
    }
   ],
   "metadata": {}
  },
  {
   "cell_type": "code",
   "execution_count": 153,
   "source": [
    "weights2 = np.concatenate([weights, weights]).reshape(2,3).transpose()"
   ],
   "outputs": [],
   "metadata": {}
  },
  {
   "cell_type": "code",
   "execution_count": 136,
   "source": [
    "np.mean(np.average(a, axis=0, weights=weights))"
   ],
   "outputs": [
    {
     "output_type": "execute_result",
     "data": {
      "text/plain": [
       "0.1264105435210473"
      ]
     },
     "metadata": {},
     "execution_count": 136
    }
   ],
   "metadata": {}
  },
  {
   "cell_type": "code",
   "execution_count": 155,
   "source": [
    "np.average(a, weights=weights2)"
   ],
   "outputs": [
    {
     "output_type": "execute_result",
     "data": {
      "text/plain": [
       "0.1264105435210473"
      ]
     },
     "metadata": {},
     "execution_count": 155
    }
   ],
   "metadata": {}
  },
  {
   "cell_type": "code",
   "execution_count": null,
   "source": [],
   "outputs": [],
   "metadata": {}
  }
 ],
 "metadata": {
  "orig_nbformat": 4,
  "language_info": {
   "name": "python",
   "version": "3.8.8",
   "mimetype": "text/x-python",
   "codemirror_mode": {
    "name": "ipython",
    "version": 3
   },
   "pygments_lexer": "ipython3",
   "nbconvert_exporter": "python",
   "file_extension": ".py"
  },
  "kernelspec": {
   "name": "python3",
   "display_name": "Python 3.8.8 64-bit ('rul_nn': virtualenv)"
  },
  "interpreter": {
   "hash": "4000a7a6ee44f5e9ad604830731b987d83f87e046c93fb1fca3b0779acf4e02a"
  }
 },
 "nbformat": 4,
 "nbformat_minor": 2
}