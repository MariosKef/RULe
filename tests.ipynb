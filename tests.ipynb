{
 "cells": [
  {
   "cell_type": "markdown",
   "source": [],
   "metadata": {}
  },
  {
   "cell_type": "code",
   "execution_count": 256,
   "source": [
    "import numpy as np\n",
    "import pandas as pd\n",
    "from tslearn.utils import to_time_series, to_time_series_dataset\n",
    "from tslearn.neighbors import KNeighborsTimeSeries"
   ],
   "outputs": [],
   "metadata": {}
  },
  {
   "cell_type": "code",
   "execution_count": 269,
   "source": [
    "nN = 3\n",
    "init = 100\n",
    "test_points = 10\n",
    "out_dim = 2\n",
    "\n",
    "data = [np.random.rand(10,21) for _ in range(init)]\n",
    "labels = np.array([list((np.random.randn(1,out_dim)+2)[0]) for _ in range(init)])"
   ],
   "outputs": [],
   "metadata": {}
  },
  {
   "cell_type": "markdown",
   "source": [
    "Transforming data to tslearn format"
   ],
   "metadata": {}
  },
  {
   "cell_type": "code",
   "execution_count": 270,
   "source": [
    "time_series = to_time_series_dataset(data)\n",
    "time_series.shape"
   ],
   "outputs": [
    {
     "output_type": "execute_result",
     "data": {
      "text/plain": [
       "(100, 10, 21)"
      ]
     },
     "metadata": {},
     "execution_count": 270
    }
   ],
   "metadata": {}
  },
  {
   "cell_type": "markdown",
   "source": [
    "Unknown points"
   ],
   "metadata": {}
  },
  {
   "cell_type": "code",
   "execution_count": 271,
   "source": [
    "# test = data[0] # same as first known point\n",
    "\n",
    "test = [np.random.rand(10,21) for _ in range(test_points)]\n",
    "labels_test = np.array([list((np.random.randn(1,out_dim)+4)[0]) for _ in range(test_points)])\n",
    "\n",
    "test_time_series = to_time_series_dataset(test)\n",
    "\n",
    "print(test_time_series.shape)\n",
    "# print(pred)"
   ],
   "outputs": [
    {
     "output_type": "stream",
     "name": "stdout",
     "text": [
      "(10, 10, 21)\n"
     ]
    }
   ],
   "metadata": {}
  },
  {
   "cell_type": "code",
   "execution_count": 272,
   "source": [
    "knn = KNeighborsTimeSeries(n_neighbors=nN).fit(time_series)"
   ],
   "outputs": [],
   "metadata": {}
  },
  {
   "cell_type": "code",
   "execution_count": 273,
   "source": [
    "def knnUncertainty(nN,pred, test_time_series,labels,knn):\n",
    "\n",
    "    pred = labels\n",
    "    sigma = []\n",
    "    distances, indices = knn.kneighbors(test_time_series,nN, return_distance=True)\n",
    "    \n",
    "    for i in range(len(test_time_series)):\n",
    "        # print(i)\n",
    "        dist = distances[i]\n",
    "        print(dist)\n",
    "        ind = (indices[i])\n",
    "        print(ind)\n",
    "        #calculate the nearest point error\n",
    "        pred_near = pred[i]\n",
    "        # print(pred_near)\n",
    "        # print(ind)\n",
    "\n",
    "        abs_err = np.abs(pred_near - labels[ind])\n",
    "        print(abs_err)\n",
    "        weights = 1 - (dist / dist.sum())\n",
    "        print(weights)\n",
    "        print(weights.shape)\n",
    "        weights = np.broadcast_to(weights.reshape(len(ind), 1), (len(ind), out_dim))\n",
    "        print(weights)\n",
    "        weighted_err = np.mean(np.average(abs_err, weights=weights**nN) )\n",
    "\n",
    "        nbrs_y = list(labels[ind])\n",
    "        nbrs_y.append(pred[i])\n",
    "        nbrs_var = np.std(nbrs_y)\n",
    "\n",
    "        min_dist = np.min(dist)\n",
    "        pred_var = weighted_err + min_dist * nbrs_var\n",
    "        sigma.append(pred_var)\n",
    "    sigma = np.array(sigma)\n",
    "    return sigma"
   ],
   "outputs": [],
   "metadata": {}
  },
  {
   "cell_type": "code",
   "execution_count": 274,
   "source": [
    "knnUncertainty(nN, labels_test, test_time_series,labels,knn)"
   ],
   "outputs": [
    {
     "output_type": "stream",
     "name": "stdout",
     "text": [
      "[5.2643433  5.41558662 5.54684449]\n",
      "[46 34 42]\n",
      "[[0.64592201 1.05109316]\n",
      " [1.43836852 0.81812986]\n",
      " [0.86905284 0.14826472]]\n",
      "[0.67557672 0.66625612 0.65816715]\n",
      "(3,)\n",
      "[[0.67557672 0.67557672]\n",
      " [0.66625612 0.66625612]\n",
      " [0.65816715 0.65816715]]\n",
      "[5.44560712 5.56663624 5.59348647]\n",
      "[58 11 29]\n",
      "[[3.07817542 1.93968735]\n",
      " [0.63568681 1.59110127]\n",
      " [0.04326981 2.54575376]]\n",
      "[0.67206457 0.66477618 0.66315925]\n",
      "(3,)\n",
      "[[0.67206457 0.67206457]\n",
      " [0.66477618 0.66477618]\n",
      " [0.66315925 0.66315925]]\n",
      "[5.02317208 5.33090485 5.35243949]\n",
      "[48 34 49]\n",
      "[[3.11419217 0.72120271]\n",
      " [1.30429846 0.51836893]\n",
      " [0.48447942 0.64837089]]\n",
      "[0.68018548 0.66059279 0.65922173]\n",
      "(3,)\n",
      "[[0.68018548 0.68018548]\n",
      " [0.66059279 0.66059279]\n",
      " [0.65922173 0.65922173]]\n",
      "[5.48248623 5.61529483 5.6346348 ]\n",
      "[45 48 51]\n",
      "[[0.64189294 0.35909883]\n",
      " [2.72662592 1.06899011]\n",
      " [0.83701687 0.65930276]]\n",
      "[0.67234342 0.66440621 0.66325037]\n",
      "(3,)\n",
      "[[0.67234342 0.67234342]\n",
      " [0.66440621 0.66440621]\n",
      " [0.66325037 0.66325037]]\n",
      "[5.23867517 5.35932812 5.36932838]\n",
      "[65 70 86]\n",
      "[[0.1290494  0.0571064 ]\n",
      " [0.08735396 0.92123005]\n",
      " [0.82593329 1.2031982 ]]\n",
      "[0.67191292 0.66435669 0.66373039]\n",
      "(3,)\n",
      "[[0.67191292 0.67191292]\n",
      " [0.66435669 0.66435669]\n",
      " [0.66373039 0.66373039]]\n",
      "[5.36256034 5.39432711 5.42302267]\n",
      "[47 43 96]\n",
      "[[2.32291542 0.77429849]\n",
      " [1.1403427  1.51183053]\n",
      " [1.69076837 0.53547737]]\n",
      "[0.66856674 0.66660339 0.66482986]\n",
      "(3,)\n",
      "[[0.66856674 0.66856674]\n",
      " [0.66660339 0.66660339]\n",
      " [0.66482986 0.66482986]]\n",
      "[5.13749474 5.26509159 5.41227781]\n",
      "[55 17 77]\n",
      "[[0.99248842 0.68425223]\n",
      " [0.84895759 2.35068248]\n",
      " [0.14437556 0.57061222]]\n",
      "[0.67514772 0.66707956 0.65777273]\n",
      "(3,)\n",
      "[[0.67514772 0.67514772]\n",
      " [0.66707956 0.66707956]\n",
      " [0.65777273 0.65777273]]\n",
      "[5.31385979 5.33798413 5.46055817]\n",
      "[17 69 83]\n",
      "[[0.40517529 1.12153811]\n",
      " [0.30190838 1.47171662]\n",
      " [1.78492936 0.58716867]]\n",
      "[0.67020065 0.66870339 0.66109596]\n",
      "(3,)\n",
      "[[0.67020065 0.67020065]\n",
      " [0.66870339 0.66870339]\n",
      " [0.66109596 0.66109596]]\n",
      "[5.31637188 5.33496943 5.36413244]\n",
      "[33 86 55]\n",
      "[[1.60734064 0.20590292]\n",
      " [0.78851536 0.58694623]\n",
      " [0.7525744  0.91484338]]\n",
      "[0.66804779 0.66688657 0.66506564]\n",
      "(3,)\n",
      "[[0.66804779 0.66804779]\n",
      " [0.66688657 0.66688657]\n",
      " [0.66506564 0.66506564]]\n",
      "[5.31579941 5.32860826 5.37312747]\n",
      "[20 79 66]\n",
      "[[1.37112629 0.24169215]\n",
      " [0.81304567 1.9862911 ]\n",
      " [1.32979164 2.0639501 ]]\n",
      "[0.66812625 0.66732658 0.66454717]\n",
      "(3,)\n",
      "[[0.66812625 0.66812625]\n",
      " [0.66732658 0.66732658]\n",
      " [0.66454717 0.66454717]]\n"
     ]
    },
    {
     "output_type": "execute_result",
     "data": {
      "text/plain": [
       "array([3.84825754, 7.70857041, 5.77587514, 6.38531108, 3.09688956,\n",
       "       6.09853551, 5.07023043, 7.57313867, 4.59558623, 5.58583906])"
      ]
     },
     "metadata": {},
     "execution_count": 274
    }
   ],
   "metadata": {}
  },
  {
   "cell_type": "code",
   "execution_count": null,
   "source": [
    "array([4.1884983 , 1.53541475, 1.5085826 , 2.83379748, 2.94832207,\n",
    "       1.98689609, 1.92418307, 2.25995833, 2.40071495, 2.42274423])"
   ],
   "outputs": [],
   "metadata": {}
  },
  {
   "cell_type": "code",
   "execution_count": 234,
   "source": [
    "a = np.array([[0,         0],\n",
    " [0.05709389, 0.24707099],\n",
    " [0.48952425, 0.23022069]])"
   ],
   "outputs": [],
   "metadata": {}
  },
  {
   "cell_type": "code",
   "execution_count": 134,
   "source": [
    "a"
   ],
   "outputs": [
    {
     "output_type": "execute_result",
     "data": {
      "text/plain": [
       "array([[0.        , 0.        ],\n",
       "       [0.05709389, 0.24707099],\n",
       "       [0.48952425, 0.23022069]])"
      ]
     },
     "metadata": {},
     "execution_count": 134
    }
   ],
   "metadata": {}
  },
  {
   "cell_type": "code",
   "execution_count": 137,
   "source": [
    "weights = np.array([1, 0.51519018, 0.48480982])\n",
    "weights"
   ],
   "outputs": [
    {
     "output_type": "execute_result",
     "data": {
      "text/plain": [
       "array([1.        , 0.51519018, 0.48480982])"
      ]
     },
     "metadata": {},
     "execution_count": 137
    }
   ],
   "metadata": {}
  },
  {
   "cell_type": "code",
   "execution_count": 215,
   "source": [
    "weights.transpose().shape"
   ],
   "outputs": [
    {
     "output_type": "execute_result",
     "data": {
      "text/plain": [
       "(3,)"
      ]
     },
     "metadata": {},
     "execution_count": 215
    }
   ],
   "metadata": {}
  },
  {
   "cell_type": "code",
   "execution_count": 213,
   "source": [
    "weights.shape"
   ],
   "outputs": [
    {
     "output_type": "execute_result",
     "data": {
      "text/plain": [
       "(3,)"
      ]
     },
     "metadata": {},
     "execution_count": 213
    }
   ],
   "metadata": {}
  },
  {
   "cell_type": "code",
   "execution_count": 208,
   "source": [
    "weights2 = np.concatenate([[weights, weights]]).transpose()\n",
    "weights2"
   ],
   "outputs": [
    {
     "output_type": "execute_result",
     "data": {
      "text/plain": [
       "array([[1.        , 1.        ],\n",
       "       [0.51519018, 0.51519018],\n",
       "       [0.48480982, 0.48480982]])"
      ]
     },
     "metadata": {},
     "execution_count": 208
    }
   ],
   "metadata": {}
  },
  {
   "cell_type": "code",
   "execution_count": 210,
   "source": [
    "weights"
   ],
   "outputs": [
    {
     "output_type": "execute_result",
     "data": {
      "text/plain": [
       "array([1.        , 0.51519018, 0.48480982])"
      ]
     },
     "metadata": {},
     "execution_count": 210
    }
   ],
   "metadata": {}
  },
  {
   "cell_type": "code",
   "execution_count": 221,
   "source": [
    "weights.reshape(3,1)"
   ],
   "outputs": [
    {
     "output_type": "execute_result",
     "data": {
      "text/plain": [
       "array([[1.        ],\n",
       "       [0.51519018],\n",
       "       [0.48480982]])"
      ]
     },
     "metadata": {},
     "execution_count": 221
    }
   ],
   "metadata": {}
  },
  {
   "cell_type": "code",
   "execution_count": 237,
   "source": [
    "weights2 = np.broadcast_to(weights.reshape(3,1), (3,2))"
   ],
   "outputs": [],
   "metadata": {}
  },
  {
   "cell_type": "code",
   "execution_count": 136,
   "source": [
    "np.mean(np.average(a, axis=0, weights=weights))"
   ],
   "outputs": [
    {
     "output_type": "execute_result",
     "data": {
      "text/plain": [
       "0.1264105435210473"
      ]
     },
     "metadata": {},
     "execution_count": 136
    }
   ],
   "metadata": {}
  },
  {
   "cell_type": "code",
   "execution_count": 238,
   "source": [
    "np.average(a, weights=weights2)"
   ],
   "outputs": [
    {
     "output_type": "execute_result",
     "data": {
      "text/plain": [
       "0.12641054352104727"
      ]
     },
     "metadata": {},
     "execution_count": 238
    }
   ],
   "metadata": {}
  },
  {
   "cell_type": "code",
   "execution_count": null,
   "source": [],
   "outputs": [],
   "metadata": {}
  }
 ],
 "metadata": {
  "orig_nbformat": 4,
  "language_info": {
   "name": "python",
   "version": "3.8.8",
   "mimetype": "text/x-python",
   "codemirror_mode": {
    "name": "ipython",
    "version": 3
   },
   "pygments_lexer": "ipython3",
   "nbconvert_exporter": "python",
   "file_extension": ".py"
  },
  "kernelspec": {
   "name": "python3",
   "display_name": "Python 3.8.8 64-bit ('rul_nn': virtualenv)"
  },
  "interpreter": {
   "hash": "4000a7a6ee44f5e9ad604830731b987d83f87e046c93fb1fca3b0779acf4e02a"
  }
 },
 "nbformat": 4,
 "nbformat_minor": 2
}